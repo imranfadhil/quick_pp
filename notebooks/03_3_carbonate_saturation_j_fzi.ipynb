{
 "cells": [
  {
   "cell_type": "markdown",
   "metadata": {},
   "source": [
    "# quick_pp"
   ]
  },
  {
   "cell_type": "code",
   "execution_count": null,
   "metadata": {},
   "outputs": [],
   "source": [
    "import sys\n",
    "sys.path.append('..')\n",
    "%load_ext autoreload\n",
    "%autoreload 2\n",
    "%matplotlib inline"
   ]
  },
  {
   "cell_type": "code",
   "execution_count": null,
   "metadata": {},
   "outputs": [],
   "source": [
    "import pandas as pd\n",
    "import matplotlib.pyplot as plt\n",
    "import pickle\n",
    "\n",
    "from quick_pp.objects import Project\n",
    "\n",
    "# Load well from saved file\n",
    "project = \"MOCK_carbonate\"\n",
    "project_path = rf\"data\\04_project\\{project}.qppp\"\n",
    "project = Project().load(project_path)\n",
    "project.get_well_names()\n",
    "\n",
    "all_data = project.get_all_data()\n",
    "all_data['CPERM'] = all_data.CORE_PERM\n",
    "all_data['CPORE'] = all_data.CORE_POR / 100\n",
    "\n",
    "focused_well = 'HW-26'\n",
    "well_data = all_data[all_data.WELL_NAME == focused_well].copy()"
   ]
  },
  {
   "cell_type": "markdown",
   "metadata": {},
   "source": [
    "# Water Saturation Estimation"
   ]
  },
  {
   "cell_type": "markdown",
   "metadata": {},
   "source": [
    "Water saturation estimation is crucial in petrophysics for several reasons:\n",
    "\n",
    "1. **Hydrocarbon Volume Calculation**: It helps determine the volume of hydrocarbons in place. Accurate water saturation (Sw) values are essential for calculating the original oil in place (OOIP) and original gas in place (OGIP) volumes¹(https://petroshine.com/fluid-saturation/).\n",
    "2. **Reservoir Characterization**: Understanding the distribution of water saturation helps in characterizing the reservoir, which is vital for planning production strategies and enhancing recovery¹(https://petroshine.com/fluid-saturation/).\n",
    "3. **Production Forecasting**: Sw values are used in reservoir models to predict future production and to evaluate the economic viability of the reservoir²(https://www.mdpi.com/2077-1312/9/6/666).\n",
    "\n",
    "### Methods to Estimate Water Saturation\n",
    "\n",
    "1. **Resistivity Logs**: This is the most common method, where water saturation is estimated using resistivity measurements from well logs. The Archie equation is often used for clean sands, while modified versions like the Waxman-Smits model are used for shaly sands³(https://petrowiki.spe.org/Water_saturation_determination).\n",
    "2. **Capillary Pressure Measurements**: Laboratory measurements of capillary pressure and corresponding water saturation provide detailed information about the pore structure and fluid distribution³(https://petrowiki.spe.org/Water_saturation_determination).\n",
    "3. **Core Analysis**: Direct measurement of water saturation from core samples using techniques like the Dean-Stark method³(https://petrowiki.spe.org/Water_saturation_determination).\n",
    "4. **Nuclear Magnetic Resonance (NMR)**: NMR logging tools can provide estimates of water saturation by measuring the response of hydrogen nuclei in the formation fluids³(https://petrowiki.spe.org/Water_saturation_determination).\n",
    "\n",
    "This notebook estimates the water saturation using Archie equation and saturation height function based on the capillary pressure measurement.\n"
   ]
  },
  {
   "cell_type": "markdown",
   "metadata": {},
   "source": [
    "***\n",
    "# Log Derived Water Saturation"
   ]
  },
  {
   "cell_type": "markdown",
   "metadata": {},
   "source": [
    "Estimation of Rw based on formation water salinity, assuming the depths are already in True Vertical Depth Sub Sea (TVDSS).\n",
    "The range of Rw used in the original paper is 0.015 to 0.03 ohm.m\n",
    "\n",
    "Estimation of cementation factor (m) based on pickett plot."
   ]
  },
  {
   "cell_type": "code",
   "execution_count": null,
   "metadata": {},
   "outputs": [],
   "source": [
    "from ipywidgets import widgets, interact\n",
    "\n",
    "from quick_pp.saturation import pickett_plot\n",
    "\n",
    "water_wells = ['HW-5', 'HW-7', 'HW-31']\n",
    "focused_data = all_data[all_data.WELL_NAME.isin(water_wells)].copy()\n",
    "# Use provided PHIE if estimated PHIT not available\n",
    "focused_data['PHIT'] = focused_data['PHIT'].fillna(focused_data['PHIE'])\n",
    "\n",
    "wells = widgets.SelectMultiple(\n",
    "    options=['All'] + list(focused_data['WELL_NAME'].unique()),\n",
    "    value=['All'],\n",
    "    description='Wells:'\n",
    ")\n",
    "m = widgets.FloatSlider(\n",
    "    value=2,\n",
    "    min=1,\n",
    "    max=3,\n",
    "    step=.1,\n",
    "    readout_format='.1f'\n",
    ")\n",
    "min_rw = widgets.FloatSlider(\n",
    "    value=.01,\n",
    "    min=.001,\n",
    "    max=.1,\n",
    "    step=.001,\n",
    "    readout_format='.3f'\n",
    ")\n",
    "min_depth = widgets.FloatSlider(\n",
    "    value=focused_data.DEPTH.min(),\n",
    "    min=focused_data.DEPTH.min(),\n",
    "    max=focused_data.DEPTH.max() - 10,\n",
    "    step=.1,\n",
    "    readout_format='.1f'\n",
    ")\n",
    "max_depth = widgets.FloatSlider(\n",
    "    value=focused_data.DEPTH.max(),\n",
    "    min=focused_data.DEPTH.min() + 10,\n",
    "    max=focused_data.DEPTH.max(),\n",
    "    step=.1,\n",
    "    readout_format='.1f'\n",
    ")\n",
    "\n",
    "@interact(wells=wells, m=m, min_rw=min_rw, min_depth=min_depth, max_depth=max_depth)\n",
    "def param(wells, m, min_rw, min_depth, max_depth):\n",
    "    if 'All' in wells:\n",
    "        data = focused_data[(focused_data.DEPTH >= min_depth) & (focused_data.DEPTH <= max_depth)]\n",
    "    else:\n",
    "        data = focused_data[(focused_data.WELL_NAME.isin(wells)) & (focused_data.DEPTH >= min_depth) & (focused_data.DEPTH <= max_depth)]\n",
    "    pickett_plot(data['RT'], data['PHIT'], m=m, min_rw=min_rw)"
   ]
  },
  {
   "cell_type": "code",
   "execution_count": null,
   "metadata": {},
   "outputs": [],
   "source": [
    "import numpy as np\n",
    "from quick_pp.saturation import estimate_temperature_gradient, estimate_rw_temperature_salinity, archie_saturation\n",
    "\n",
    "hw = all_data[all_data.WELL_NAME == 'HW-31'].copy()\n",
    "\n",
    "# Debug water saturation\n",
    "water_salinity = 160e3\n",
    "m = 2\n",
    "\n",
    "temp_grad = estimate_temperature_gradient(hw['DEPTH'], 'imperial')\n",
    "rw = estimate_rw_temperature_salinity(temp_grad, water_salinity)\n",
    "\n",
    "swt = archie_saturation(hw['RT'], rw, hw['PHIT'], m=m)\n",
    "# swt = swt.clip(0, 1.1)\n",
    "\n",
    "fig, axes = plt.subplots(2, 1, figsize=(15, 3), sharex=True)\n",
    "axes[0].plot(hw['DEPTH'], swt, label='SWT')\n",
    "axes[0].plot(hw['DEPTH'], np.ones_like(swt), label='100%')\n",
    "axes[0].set_ylim(0, 2)\n",
    "\n",
    "axes[1].plot(hw['DEPTH'], rw, label='RW')\n",
    "axes[1].set_yscale('log')\n",
    "axes[1].legend()\n",
    "fig.tight_layout()"
   ]
  },
  {
   "cell_type": "markdown",
   "metadata": {},
   "source": [
    "***\n",
    "# Saturation Height Function"
   ]
  },
  {
   "cell_type": "markdown",
   "metadata": {},
   "source": [
    "## Core Data"
   ]
  },
  {
   "cell_type": "markdown",
   "metadata": {},
   "source": [
    "Explain the data source; measurement techniques\n",
    "\n",
    "### Define Rock Type\n",
    "\n",
    "Define the rock type based on FZI cut-offs from previous notebook\n"
   ]
  },
  {
   "cell_type": "code",
   "execution_count": null,
   "metadata": {},
   "outputs": [],
   "source": [
    "from quick_pp.rock_type import calc_fzi, rock_typing, calc_r35, plot_fzi, plot_winland\n",
    "from quick_pp.core_calibration import fit_j_curve, j_xplot, leverett_j, sw_shf_leverett_j, poroperm_xplot, pc_xplot\n",
    "\n",
    "core_data = pd.read_csv(r'data\\01_raw\\COSTA\\HW_core_data_all.csv')\n",
    "core_data['CPORE'] = core_data['Phi (frac.)']\n",
    "core_data['CPERM'] = core_data['K mD']\n",
    "core_data['PC'] = core_data['O/B Pc (psia)']\n",
    "core_data['PC_RES'] = core_data['O/B Pc (psia)'] * 0.088894  # oil-brine system\n",
    "core_data['SW'] = core_data['Equiv Brine Sat. (Frac.)']\n",
    "core_data['SWN'] = core_data.groupby('Sample')['SW'].transform(lambda x: (x - x.min()) / (1 - x.min()))\n",
    "\n",
    "# Calculate J\n",
    "ift = 32\n",
    "theta = 30\n",
    "\n",
    "core_data['J'] = leverett_j(core_data['PC_RES'], ift, theta, core_data['CPERM'], core_data['CPORE'])\n",
    "\n",
    "# Filter data\n",
    "conditions = (\n",
    "    (core_data['K mD'] > 0)\n",
    "    & (core_data['Class'] == 'Good')\n",
    "    # & (core_data['PC'] <= 40)\n",
    ")\n",
    "core_data = core_data[conditions].copy()\n",
    "core_data.drop_duplicates(subset=['CPORE', 'CPERM', 'SW'], keep='last', inplace=True)\n",
    "\n",
    "# Plot J\n",
    "j_xplot(core_data['SWN'], core_data['J'], core_group=core_data['Sample'], ylim=(0, 15))"
   ]
  },
  {
   "cell_type": "markdown",
   "metadata": {},
   "source": [
    "***\n",
    "## Leverett J Method using FZI Rock Types"
   ]
  },
  {
   "cell_type": "markdown",
   "metadata": {},
   "source": [
    "Define the rock type based on FZI cut-offs from previous notebook"
   ]
  },
  {
   "cell_type": "code",
   "execution_count": null,
   "metadata": {},
   "outputs": [],
   "source": [
    "from quick_pp.rock_type import plot_fzi\n",
    "# FZI\n",
    "fzi = calc_fzi(core_data['CPORE'], core_data['CPERM'])\n",
    "fzi_cut_offs = [\n",
    "    0.296, 0.469, 0.743, 1.05, 1.483, 1.866, 2.404, 3.724\n",
    "]\n",
    "rock_flag = rock_typing(fzi, fzi_cut_offs, higher_is_better=True)\n",
    "core_data['ROCK_FLAG'] = rock_flag\n",
    "\n",
    "plot_fzi(core_data['CPORE'], core_data['CPERM'], rock_type=rock_flag, cut_offs=fzi_cut_offs)\n",
    "print(pd.Series(rock_flag).value_counts().sort_index())"
   ]
  },
  {
   "cell_type": "code",
   "execution_count": null,
   "metadata": {},
   "outputs": [],
   "source": [
    "# Plot PTSD distribution\n",
    "import numpy as np\n",
    "\n",
    "from quick_pp.rock_type import estimate_pore_throat\n",
    "\n",
    "copy_df = core_data.copy()\n",
    "for sample, data in core_data.groupby('Sample'):\n",
    "    r = estimate_pore_throat(data['PC'], 32, 30)\n",
    "    log_r = np.log10(r)\n",
    "    dsw = np.gradient(data['SW'], log_r)\n",
    "    copy_df.loc[data.index, 'R'] = r\n",
    "    copy_df.loc[data.index, 'LOG_R'] = log_r\n",
    "    copy_df.loc[data.index, 'DSW'] = dsw\n",
    "\n",
    "fig, axes = plt.subplots(3, 3, figsize=(15, 13))\n",
    "axes = axes.flatten()\n",
    "i = 0\n",
    "for rock, data in copy_df.groupby('ROCK_FLAG'):\n",
    "    ax = axes[i]\n",
    "    for sample, sample_data in data.groupby('Sample'):\n",
    "        ax.plot(sample_data['LOG_R'], sample_data['DSW'], label=f'Sample {sample}', zorder=-1)\n",
    "        color = ax.lines[-1].get_color()\n",
    "        ax.fill_between(sample_data['LOG_R'], sample_data['DSW'], color=color, alpha=.9)\n",
    "    ax.set_title(f'PRT {int(rock)}')\n",
    "    ax.set_xlabel('Log Pore Throat Radius (microns)')\n",
    "    ax.set_xlim(-2, 2)\n",
    "    ax.set_ylabel('dSw/dLogR')\n",
    "    ax.legend(loc=2, prop={'size': 5})\n",
    "    i += 1\n",
    "fig.set_facecolor('aliceblue')\n",
    "plt.tight_layout()"
   ]
  },
  {
   "cell_type": "code",
   "execution_count": null,
   "metadata": {},
   "outputs": [],
   "source": [
    "import matplotlib.pyplot as plt\n",
    "\n",
    "# Get unique rock flags\n",
    "unique_rock_flags = sorted(core_data['ROCK_FLAG'].unique())\n",
    "\n",
    "# Create subplots\n",
    "fig, axes = plt.subplots(nrows=3, ncols=3, figsize=(15, 15))\n",
    "axes = axes.flatten()\n",
    "\n",
    "# Plot Pc vs SW for each rock flag\n",
    "for i, rock_flag in enumerate(unique_rock_flags):\n",
    "    ax = axes[i]\n",
    "    data = core_data[core_data['ROCK_FLAG'] == rock_flag]\n",
    "    for sample, sample_data in data.groupby('Sample'):\n",
    "        ax.plot(sample_data['SWN'], sample_data['PC_RES'], label=f'Sample {sample}')\n",
    "    ax.set_ylabel('Pc (psia)')\n",
    "    ax.set_xlabel('SW (frac)')\n",
    "    ax.set_ylim(0, 50)\n",
    "    ax.set_xlim(0, 1)\n",
    "    ax.set_title(f'RRT {int(rock_flag)}')\n",
    "    ax.legend()\n",
    "    ax.grid(True)\n",
    "\n",
    "# Hide any unused subplots\n",
    "for j in range(i + 1, len(axes)):\n",
    "    fig.delaxes(axes[j])\n",
    "\n",
    "plt.tight_layout()\n",
    "plt.show()"
   ]
  },
  {
   "cell_type": "code",
   "execution_count": null,
   "metadata": {},
   "outputs": [],
   "source": [
    "from ipywidgets import interact, widgets\n",
    "\n",
    "from quick_pp.core_calibration import pc_xplot, poroperm_xplot\n",
    "\n",
    "rock_flag_widget = widgets.SelectMultiple(\n",
    "    options=['All'] + sorted(list(core_data['ROCK_FLAG'].unique())),\n",
    "    value=['All'],\n",
    "    description='Rock Flag:'\n",
    ")\n",
    "\n",
    "@interact(rock_flag=rock_flag_widget)\n",
    "def param(rock_flag):\n",
    "    # Plot all data on poroperm plot\n",
    "    poroperm_xplot(core_data['CPORE'], core_data['CPERM'])\n",
    "    data = core_data[core_data.ROCK_FLAG.isin(rock_flag)] if any([l for l in rock_flag if l != 'All']) else core_data\n",
    "\n",
    "    # Plot filtered data\n",
    "    poroperm_data = data.drop_duplicates(subset=['CPORE', 'CPERM'], keep='last')\n",
    "    poroperm_xplot(poroperm_data['CPORE'], poroperm_data['CPERM'], core_group=poroperm_data['Sample'])\n",
    "    plt.show()\n",
    "    for label, temp_df in data.groupby('Sample'):\n",
    "        pc_xplot(temp_df['SWN'], temp_df['PC_RES'], label=label, ylim=(0, 40))\n",
    "    plt.show()\n",
    "plt.close('all')"
   ]
  },
  {
   "cell_type": "markdown",
   "metadata": {},
   "source": [
    "#### QC the Pc data\n",
    "\n",
    "The capillary pressure measurements for each Sample are plotted on a log-log plot.\n",
    "The data points should fall on a relatively straight line indicating good data quality.\n",
    "\n",
    "Based \n",
    "select the dataset for each rock type\n",
    "curve fitting"
   ]
  },
  {
   "cell_type": "code",
   "execution_count": null,
   "metadata": {},
   "outputs": [],
   "source": [
    "from ipywidgets import interact, widgets\n",
    "\n",
    "from quick_pp.core_calibration import fit_j_curve\n",
    "\n",
    "sample = widgets.Dropdown(\n",
    "    options=sorted(core_data['Sample'].unique()),\n",
    "    description='Sample:'\n",
    ")\n",
    "\n",
    "conditions = (\n",
    "    (core_data['SWN'] > 0.15)\n",
    "    & (core_data['SWN'] < .8)\n",
    ")\n",
    "filtered_data = core_data[conditions].copy()\n",
    "@interact(sample=sample)\n",
    "def param(sample):\n",
    "    data = filtered_data[filtered_data['Sample'] == sample]\n",
    "    a, b = fit_j_curve(data['SWN'], data['J'])\n",
    "    j_xplot(data['SWN'], data['J'], a=a, b=b, label=f'Sample {sample}: a:{a}, b:{b}',\n",
    "            core_group=data['Sample'], log_log=False, ylim=(0, .5))"
   ]
  },
  {
   "cell_type": "code",
   "execution_count": null,
   "metadata": {},
   "outputs": [],
   "source": [
    "j_params = {}\n",
    "for sample, data in filtered_data.groupby('Sample'):\n",
    "    a, b = fit_j_curve(data['SWN'], data['J'])\n",
    "    j_params[sample] = (a, b)"
   ]
  },
  {
   "cell_type": "code",
   "execution_count": null,
   "metadata": {},
   "outputs": [],
   "source": [
    "# Convert j_params dictionary to DataFrame\n",
    "j_params_df = pd.DataFrame.from_dict(\n",
    "    j_params, orient='index', columns=['a', 'b']).reset_index().rename(columns={'index': 'Sample'})\n",
    "\n",
    "# Merge filtered_data with j_params_df\n",
    "merged_data = j_params_df.merge(\n",
    "    filtered_data[['Sample', 'ROCK_FLAG']].drop_duplicates(), how='left', on='Sample')\n",
    "\n",
    "# Group by ROCK_FLAG and sort by the first value of the parameters\n",
    "sorted_samples = merged_data.groupby('ROCK_FLAG').apply(\n",
    "    lambda x: x.sort_values(by='a')).reset_index(drop=True)\n",
    "\n",
    "# Select samples considering values of 'a'\n",
    "selected_samples = {}\n",
    "used_a_values = set([0])\n",
    "for rock_flag in sorted_samples['ROCK_FLAG'].unique():\n",
    "    for _, row in sorted_samples[sorted_samples['ROCK_FLAG'] == rock_flag].sort_values(by='a').iterrows():\n",
    "        if row['a'] not in used_a_values or all(row['a'] > val for val in used_a_values):\n",
    "            selected_samples[rock_flag] = row\n",
    "            used_a_values.add(row['a'])\n",
    "            break\n",
    "        else:\n",
    "            selected_samples[rock_flag] = row"
   ]
  },
  {
   "cell_type": "code",
   "execution_count": null,
   "metadata": {},
   "outputs": [],
   "source": [
    "import pprint\n",
    "\n",
    "# Map rt_skelt_params with skelt_params key\n",
    "mapped_fzi_params = pd.DataFrame(selected_samples).T.drop(columns=['ROCK_FLAG']).to_dict(orient='index')\n",
    "pp = pprint.PrettyPrinter(indent=4)\n",
    "pp.pprint(mapped_fzi_params)"
   ]
  },
  {
   "cell_type": "code",
   "execution_count": null,
   "metadata": {},
   "outputs": [],
   "source": [
    "from ipywidgets import interact, widgets\n",
    "\n",
    "rt_widget = widgets.Dropdown(\n",
    "    options=sorted(core_data['ROCK_FLAG'].unique()),\n",
    "    description='Rock Type:'\n",
    ")\n",
    "\n",
    "@interact(rt=rt_widget)\n",
    "def param(rt):\n",
    "    a, b = mapped_fzi_params[rt]['a'], mapped_fzi_params[rt]['b']\n",
    "    data = core_data[core_data['ROCK_FLAG'] == rt]\n",
    "    j_xplot(data['SWN'], data['J'], a=a, b=b, core_group=data['Sample'], log_log=False, ylim=(0, 5))"
   ]
  },
  {
   "cell_type": "code",
   "execution_count": null,
   "metadata": {},
   "outputs": [],
   "source": [
    "# Get unique rock flags\n",
    "unique_rock_flags = sorted(core_data['ROCK_FLAG'].unique())\n",
    "\n",
    "# Create subplots\n",
    "fig, axes = plt.subplots(nrows=3, ncols=3, figsize=(15, 15))\n",
    "axes = axes.flatten()\n",
    "\n",
    "# Plot skelt_harrison_xplot for each rock flag\n",
    "for i, rock_flag in enumerate(unique_rock_flags):\n",
    "    ax = axes[i]\n",
    "    data = core_data[core_data['ROCK_FLAG'] == rock_flag]\n",
    "    a, b, = mapped_fzi_params[rock_flag]['a'], mapped_fzi_params[rock_flag]['b']\n",
    "    ax = j_xplot(\n",
    "        data['SWN'], data['J'],\n",
    "        a=a, b=b, core_group=data['Sample'],\n",
    "        label=f'a:{a}\\nb:{b}', ax=ax, ylim=(0, .5))\n",
    "    ax.set_title(f'RRT {int(rock_flag)}')\n",
    "    ax.legend()\n",
    "    ax.grid(True)\n",
    "\n",
    "# Hide any unused subplots\n",
    "for j in range(i + 1, len(axes)):\n",
    "    fig.delaxes(axes[j])\n",
    "\n",
    "plt.tight_layout()\n",
    "plt.show()"
   ]
  },
  {
   "cell_type": "code",
   "execution_count": null,
   "metadata": {},
   "outputs": [],
   "source": [
    "import numpy as np\n",
    "\n",
    "from quick_pp.utils import inv_power_law_func\n",
    "\n",
    "# Plot mapped_fzi_params on the same j_xplot\n",
    "for rock_flag, d in mapped_fzi_params.items():\n",
    "    sample = d['Sample']\n",
    "    a, b = d['a'], d['b']\n",
    "    csw = np.geomspace(0.01, 1.0, 50)\n",
    "    plt.plot(csw, inv_power_law_func(csw, a, b),\n",
    "             label=f'RRT{int(rock_flag)}, Sample {sample}, a:{a}, b:{b}', linestyle='dashed')\n",
    "plt.title('J Curve vs SW')\n",
    "plt.xlabel('SW (v/v)')\n",
    "plt.ylabel('J (unitless)')\n",
    "plt.xlim(0, 1)\n",
    "plt.ylim(0, .2)\n",
    "plt.legend()\n",
    "    "
   ]
  },
  {
   "cell_type": "markdown",
   "metadata": {},
   "source": [
    "#### Estimate Free Water Level (FWL)"
   ]
  },
  {
   "cell_type": "code",
   "execution_count": null,
   "metadata": {},
   "outputs": [],
   "source": [
    "import numpy as np\n",
    "from sklearn.preprocessing import MinMaxScaler\n",
    "from sklearn.impute import SimpleImputer\n",
    "\n",
    "from quick_pp.rock_type import calc_fzi_perm\n",
    "\n",
    "imp_mean = SimpleImputer(missing_values=np.nan, strategy='mean')\n",
    "\n",
    "well_data['LOG_RT'] = np.log10(well_data['RT'])\n",
    "well_data['NDI'] = (2.95 - well_data['RHOB']) / 1.95\n",
    "well_data['GRN'] = MinMaxScaler().fit_transform(well_data[['GR']])\n",
    "\n",
    "# Predict ROCK_FLAG\n",
    "input_features = ['GR', 'NPHI', 'RHOB', 'NDI', 'RT', 'LOG_RT', 'GRN']\n",
    "with open(r'data\\04_project\\MOCK_carbonate\\outputs\\fzi_rt_model.qppm', 'rb') as file:\n",
    "    fzi_rt_model = pickle.load(file)\n",
    "well_data['ROCK_FLAG'] = fzi_rt_model.predict(well_data[input_features])\n",
    "\n",
    "# Predict PERM\n",
    "temp_df = well_data.copy()\n",
    "temp_df['ROCK_PRED'] = well_data['ROCK_FLAG']\n",
    "input_features = ['GR', 'NPHI', 'RHOB', 'NDI', 'RT', 'LOG_RT', 'GRN', 'ROCK_PRED']\n",
    "temp_df[input_features] = imp_mean.fit_transform(temp_df[input_features])\n",
    "with open(r'data\\04_project\\MOCK_carbonate\\outputs\\fzi_model.qppm', 'rb') as file:\n",
    "    fzi_model = pickle.load(file)\n",
    "fzi_ml = 10**(fzi_model.predict(temp_df[input_features]))\n",
    "well_data['PERM'] = calc_fzi_perm(fzi_ml, well_data['PHIT'])\n"
   ]
  },
  {
   "cell_type": "code",
   "execution_count": null,
   "metadata": {},
   "outputs": [],
   "source": [
    "from ipywidgets import interactive\n",
    "from quick_pp.core_calibration import sw_shf_leverett_j\n",
    "\n",
    "ift = 32\n",
    "theta = 30\n",
    "ghc = .837\n",
    "gw = 1.135\n",
    "fwl = 8550\n",
    "\n",
    "fwl = widgets.FloatSlider(\n",
    "    value=fwl,\n",
    "    min=fwl / 1.1,\n",
    "    max=fwl * 1.1,\n",
    "    step=1\n",
    ")\n",
    "\n",
    "def plot(fwl):\n",
    "    a = well_data['ROCK_FLAG'].map(mapped_fzi_params).apply(lambda x: x['a'])\n",
    "    b = well_data['ROCK_FLAG'].map(mapped_fzi_params).apply(lambda x: x['b'])\n",
    "    shf = sw_shf_leverett_j(\n",
    "        well_data['PERM'], well_data['PHIT'], well_data['DEPTH'], gw=gw, ghc=ghc,\n",
    "        fwl=fwl, ift=ift, theta=theta, a=a, b=b)\n",
    "\n",
    "    plt.figure(figsize=(20, 1))\n",
    "    plt.plot(well_data['DEPTH'], swt, label='SWT')\n",
    "    plt.plot(well_data['DEPTH'], shf, label='SHF')\n",
    "    plt.ylim(0, 1.2)\n",
    "    plt.legend()\n",
    "    plt.figure(figsize=(20, 1))\n",
    "    plt.plot(well_data['DEPTH'], well_data['ROCK_FLAG'], label='Rock Flag')\n",
    "    plt.legend()\n",
    "\n",
    "interactive_plot = interactive(plot, fwl=fwl)\n",
    "output = interactive_plot.children[-1]\n",
    "output.layout.height = '350px'\n",
    "interactive_plot"
   ]
  },
  {
   "cell_type": "markdown",
   "metadata": {},
   "source": [
    "***\n",
    "# Plot the results"
   ]
  },
  {
   "cell_type": "code",
   "execution_count": null,
   "metadata": {},
   "outputs": [],
   "source": [
    "from quick_pp.plotter import plotly_log\n",
    "fwl = 8575\n",
    "\n",
    "a = well_data['ROCK_FLAG'].map(mapped_fzi_params).apply(lambda x: x['a'])\n",
    "b = well_data['ROCK_FLAG'].map(mapped_fzi_params).apply(lambda x: x['b'])\n",
    "shf = sw_shf_leverett_j(\n",
    "    well_data['PERM'], well_data['PHIT'], well_data['DEPTH'], gw=gw, ghc=ghc,\n",
    "    fwl=fwl, ift=ift, theta=theta, a=a, b=b\n",
    ")\n",
    "\n",
    "# Plot individual results\n",
    "well_data['SWT'] = swt\n",
    "well_data['SHF'] = shf\n",
    "fig = plotly_log(well_data, 'ft')\n",
    "fig.show(config=dict(scrollZoom=True))"
   ]
  },
  {
   "cell_type": "code",
   "execution_count": null,
   "metadata": {},
   "outputs": [],
   "source": [
    "# # Save the well data\n",
    "# project.update_data(well_data)\n",
    "# project.save()"
   ]
  }
 ],
 "metadata": {
  "kernelspec": {
   "display_name": "venv310",
   "language": "python",
   "name": "python3"
  },
  "language_info": {
   "codemirror_mode": {
    "name": "ipython",
    "version": 3
   },
   "file_extension": ".py",
   "mimetype": "text/x-python",
   "name": "python",
   "nbconvert_exporter": "python",
   "pygments_lexer": "ipython3",
   "version": "3.10.9"
  }
 },
 "nbformat": 4,
 "nbformat_minor": 2
}
