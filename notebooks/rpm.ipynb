{
 "cells": [
  {
   "cell_type": "code",
   "execution_count": null,
   "id": "3de7360e",
   "metadata": {},
   "outputs": [],
   "source": [
    "import sys\n",
    "sys.path.append('..')\n",
    "%load_ext autoreload\n",
    "%autoreload 2"
   ]
  },
  {
   "cell_type": "code",
   "execution_count": null,
   "id": "bfe0316d",
   "metadata": {},
   "outputs": [],
   "source": [
    "import quick_pp.las_handler as las\n",
    "\n",
    "well_name = '15-9-19-SR'\n",
    "with open(rF'data\\01_raw\\VOLVE\\{well_name}.las', 'rb') as f:\n",
    "    df, header = las.read_las_files([f])"
   ]
  },
  {
   "cell_type": "code",
   "execution_count": null,
   "id": "f97b09ae",
   "metadata": {},
   "outputs": [],
   "source": [
    "df.columns"
   ]
  },
  {
   "cell_type": "code",
   "execution_count": null,
   "id": "9473f59d",
   "metadata": {},
   "outputs": [],
   "source": [
    "df_copy.DT.describe()"
   ]
  },
  {
   "cell_type": "code",
   "execution_count": null,
   "id": "f51e848f",
   "metadata": {},
   "outputs": [],
   "source": [
    "df_copy.Vp.describe()"
   ]
  },
  {
   "cell_type": "code",
   "execution_count": null,
   "id": "cd56752e",
   "metadata": {},
   "outputs": [],
   "source": [
    "df_copy.VP.describe()"
   ]
  },
  {
   "cell_type": "code",
   "execution_count": null,
   "id": "704866a8",
   "metadata": {},
   "outputs": [],
   "source": [
    "from quick_pp.rock_physics.geomechanics import *\n",
    "\n",
    "df_copy = df.copy()\n",
    "\n",
    "df_copy['Vp'] = estimate_compressional_velocity(df_copy['RHOB'].clip(1, 3))\n",
    "df_copy['VP'] = 1 / df_copy['DT'] * 3.281 * 1000\n",
    "\n",
    "df_copy.plot(x='DEPTH', y=['Vp', 'VP'])"
   ]
  },
  {
   "cell_type": "code",
   "execution_count": null,
   "id": "550343c9",
   "metadata": {},
   "outputs": [],
   "source": [
    "df_copy.Rhob.describe()"
   ]
  },
  {
   "cell_type": "code",
   "execution_count": null,
   "id": "722972e6",
   "metadata": {},
   "outputs": [],
   "source": [
    "df_copy['Rhob'] = estimate_gardner_density(1 / df_copy['DT'])\n",
    "\n",
    "df_copy.plot(x='DEPTH', y=['RHOB', 'Rhob'], ylim=(0, 3))"
   ]
  }
 ],
 "metadata": {
  "kernelspec": {
   "display_name": "quick_pp",
   "language": "python",
   "name": "python3"
  },
  "language_info": {
   "codemirror_mode": {
    "name": "ipython",
    "version": 3
   },
   "file_extension": ".py",
   "mimetype": "text/x-python",
   "name": "python",
   "nbconvert_exporter": "python",
   "pygments_lexer": "ipython3",
   "version": "3.11.9"
  }
 },
 "nbformat": 4,
 "nbformat_minor": 5
}
