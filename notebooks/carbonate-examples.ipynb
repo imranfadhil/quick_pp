{
 "cells": [
  {
   "cell_type": "code",
   "execution_count": null,
   "metadata": {},
   "outputs": [],
   "source": [
    "import sys\n",
    "sys.path.append('..')\n",
    "%load_ext autoreload\n",
    "%autoreload 2\n",
    "%matplotlib inline"
   ]
  },
  {
   "cell_type": "code",
   "execution_count": null,
   "metadata": {},
   "outputs": [],
   "source": [
    "import pandas as pd\n",
    "from IPython.display import clear_output\n",
    "\n",
    "import quick_pp.las_handler as las\n",
    "from quick_pp.lithology.carbonate import Carbonate\n",
    "from quick_pp.plotter import plotly_log\n",
    "from quick_pp.qaqc import badhole_flag, mask_outside_threshold, neu_den_xplot_hc_correction"
   ]
  },
  {
   "cell_type": "code",
   "execution_count": null,
   "metadata": {},
   "outputs": [],
   "source": [
    "with open('X3.las', 'rb') as f:\n",
    "    df, header, _ = las.read_las_file(f)\n",
    "\n",
    "# Mask outside threshold\n",
    "df = mask_outside_threshold(df, True)\n",
    "\n",
    "# Flag bad hole\n",
    "df = badhole_flag(df) if 'CALI' in df.columns else df\n",
    "clear_output()"
   ]
  },
  {
   "cell_type": "code",
   "execution_count": null,
   "metadata": {},
   "outputs": [],
   "source": [
    "fig = plotly_log(df)\n",
    "fig.show()\n",
    "# fig.write_html('plot.html')"
   ]
  },
  {
   "cell_type": "code",
   "execution_count": null,
   "metadata": {},
   "outputs": [],
   "source": [
    "args = {\n",
    "    # 'dry_clay_point': (0.27, 2.8)\n",
    "    # 'silt_line_angle': 119\n",
    "}\n",
    "carb_model = Carbonate(**args)\n",
    "\n",
    "clean_df = df[['GR', 'NPHI', 'RHOB', 'PEF', 'DEPTH']]  # .dropna()\n",
    "vcld, vcalc, vdolo = carb_model.estimate_lithology(\n",
    "    nphi=clean_df['NPHI'], rhob=clean_df['RHOB'], gr=clean_df['GR'], pef=clean_df['PEF'],\n",
    "    model='single', method='neu_den',  # method='den_pef',  #  carbonate_type='dolomite'\n",
    ")\n",
    "df_carb = pd.DataFrame(\n",
    "    {'VCLW': vcld, 'VCALC': vcalc, 'VDOLO': vdolo},\n",
    "    index=clean_df.DEPTH\n",
    ")\n",
    "df_carb = df.merge(df_carb, how='left', on='DEPTH', suffixes=('_ORI', ''))"
   ]
  },
  {
   "cell_type": "code",
   "execution_count": null,
   "metadata": {},
   "outputs": [],
   "source": [
    "fig = plotly_log(df_carb)\n",
    "fig.show()\n",
    "# fig.write_html('plot.html')"
   ]
  },
  {
   "cell_type": "markdown",
   "metadata": {},
   "source": [
    "## Hydrocarbon Correction"
   ]
  },
  {
   "cell_type": "code",
   "execution_count": null,
   "metadata": {},
   "outputs": [],
   "source": [
    "# Correct NPHI and RHOB for HC\n",
    "df_corr = df.copy()\n",
    "nphihc, rhobhc = neu_den_xplot_hc_correction(df_corr['NPHI'], df_corr['RHOB'], gr=df_corr['GR'],\n",
    "                                             dry_sand_point=(0.0, 2.71),\n",
    "                                             dry_clay_point=(.33, 2.7),\n",
    "                                             corr_angle=50)\n",
    "df_corr[['NPHI', 'RHOB']] = pd.DataFrame({'NPHI': nphihc, 'RHOB': rhobhc}).astype(float)\n",
    "\n",
    "clean_df = df_corr[['DEPTH', 'GR', 'NPHI', 'RHOB', 'PEF']]  # .dropna()\n",
    "vcld, vcalc, vdolo = carb_model.estimate_lithology(\n",
    "    clean_df['NPHI'], clean_df['RHOB'], gr=clean_df['GR'], pef=clean_df['PEF'],\n",
    "    model='double', method='neu_den'  # method='den_pef', # carbonate_type='dolomite'\n",
    ")\n",
    "df_carb = pd.DataFrame(\n",
    "    {'VCLW': vcld, 'VCALC': vcalc, 'VDOLO': vdolo},\n",
    "    index=clean_df.DEPTH\n",
    ")\n",
    "df_carb = df.merge(df_carb, how='left', on='DEPTH', suffixes=('_ORI', ''))"
   ]
  },
  {
   "cell_type": "code",
   "execution_count": null,
   "metadata": {},
   "outputs": [],
   "source": [
    "fig = plotly_log(df_carb)\n",
    "fig.show()\n",
    "# fig.write_html('plot.html')"
   ]
  },
  {
   "cell_type": "markdown",
   "metadata": {},
   "source": [
    "## Porosity"
   ]
  },
  {
   "cell_type": "code",
   "execution_count": null,
   "metadata": {},
   "outputs": [],
   "source": [
    "from quick_pp.porosity import density_porosity, rho_matrix\n",
    "import numpy as np"
   ]
  },
  {
   "cell_type": "code",
   "execution_count": null,
   "metadata": {},
   "outputs": [],
   "source": [
    "# Correct NPHI and RHOB for HC\n",
    "df_corr = df.copy()\n",
    "nphihc, rhobhc = neu_den_xplot_hc_correction(df_corr['NPHI'], df_corr['RHOB'], gr=df_corr['GR'],\n",
    "                                             dry_sand_point=(0.0, 2.71),\n",
    "                                             dry_clay_point=(.33, 2.7),\n",
    "                                             corr_angle=50)\n",
    "df_corr[['NPHI', 'RHOB']] = pd.DataFrame({'NPHI': nphihc, 'RHOB': rhobhc}).astype(float)\n",
    "\n",
    "vcld, vcalc, vdolo = carb_model.estimate_lithology(\n",
    "    df_corr['NPHI'], df_corr['RHOB'], gr=df_corr['GR'], pef=df_corr['PEF'],\n",
    "    model='double', method='neu_den', normalize=False  # method='den_pef', # carbonate_type='dolomite'\n",
    ")\n",
    "df_carb = pd.DataFrame(\n",
    "    {'VCLW': vcld, 'VCALC': vcalc, 'VDOLO': vdolo},\n",
    "    index=clean_df.DEPTH\n",
    ")\n",
    "df_carb = df.merge(df_carb, how='left', on='DEPTH', suffixes=('_ORI', ''))\n",
    "\n",
    "\n",
    "rho_ma = rho_matrix(vcalc=df_carb['VCALC'], vdolo=df_carb['VDOLO'], vclay=df_carb['VCLW'])\n",
    "\n",
    "phid = density_porosity(df_carb['RHOB'], rho_ma)\n",
    "df_carb['PHID'] = np.where((phid > 0) & (phid < 1), phid, np.nan)\n",
    "df_carb.plot(x='DEPTH', y=['PHIT', 'PHID'], figsize=(20, 5))"
   ]
  }
 ],
 "metadata": {
  "kernelspec": {
   "display_name": "venv310",
   "language": "python",
   "name": "python3"
  },
  "language_info": {
   "codemirror_mode": {
    "name": "ipython",
    "version": 3
   },
   "file_extension": ".py",
   "mimetype": "text/x-python",
   "name": "python",
   "nbconvert_exporter": "python",
   "pygments_lexer": "ipython3",
   "version": "3.10.9"
  }
 },
 "nbformat": 4,
 "nbformat_minor": 2
}
