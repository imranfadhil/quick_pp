{
 "cells": [
  {
   "cell_type": "code",
   "execution_count": null,
   "metadata": {},
   "outputs": [],
   "source": [
    "from ydata_profiling import ProfileReport, compare\n",
    "import pandas as pd\n",
    "import seaborn as sns\n",
    "import matplotlib.pyplot as plt\n",
    "import plotly.figure_factory as ff\n",
    "\n",
    "%matplotlib inline"
   ]
  },
  {
   "cell_type": "code",
   "execution_count": null,
   "metadata": {},
   "outputs": [],
   "source": [
    "df = pd.read_parquet(r\"C:\\projects\\quick_pp\\notebooks\\data\\SPAT_CLEAN_1eb901.parquet\")"
   ]
  },
  {
   "cell_type": "code",
   "execution_count": null,
   "metadata": {},
   "outputs": [],
   "source": [
    "profiles = ProfileReport(df, title=\"Profiling Report\")"
   ]
  },
  {
   "cell_type": "markdown",
   "metadata": {},
   "source": [
    "## Overall Profiling Report"
   ]
  },
  {
   "cell_type": "code",
   "execution_count": null,
   "metadata": {},
   "outputs": [],
   "source": [
    "profiles.to_file(r\"C:\\projects\\quick_pp\\notebooks\\outputs\\SPAT_CLEAN_1eb901.html\")"
   ]
  },
  {
   "cell_type": "markdown",
   "metadata": {},
   "source": [
    "## Individual Well Profiling Report"
   ]
  },
  {
   "cell_type": "code",
   "execution_count": null,
   "metadata": {},
   "outputs": [],
   "source": [
    "for well_name, well in df[['WELL_NAME', 'GR', 'RT', 'NPHI', 'RHOB']].groupby(\"WELL_NAME\"):\n",
    "    profile = ProfileReport(well.drop(columns=['WELL_NAME']), title=f\"{well_name} Profiling Report\",\n",
    "                            explorative=True)\n",
    "    profile.to_file(rf\"C:\\projects\\quick_pp\\notebooks\\outputs\\{well_name}_profiling_report.html\")"
   ]
  },
  {
   "cell_type": "markdown",
   "metadata": {},
   "source": [
    "## Compare selected wells with the rest of the wells"
   ]
  },
  {
   "cell_type": "code",
   "execution_count": null,
   "metadata": {},
   "outputs": [],
   "source": [
    "well_name = \"SPAT-A010\"\n",
    "well = df[df[\"WELL_NAME\"] == well_name][['GR', 'RT', 'NPHI', 'RHOB']]\n",
    "profile = ProfileReport(well, title=f\"{well_name} Profiling Report\", explorative=True)\n",
    "\n",
    "others = df[df[\"WELL_NAME\"] != well_name][['GR', 'RT', 'NPHI', 'RHOB']]\n",
    "other_profiles = ProfileReport(others, title=f\"Other Wells Profiling Report\", explorative=True)\n",
    "\n",
    "compare([profile, other_profiles]).to_file(rf\"C:\\projects\\quick_pp\\notebooks\\outputs\\{well_name}_compare.html\")"
   ]
  },
  {
   "cell_type": "markdown",
   "metadata": {},
   "source": [
    "## Compare distribution of selected variables by wells"
   ]
  },
  {
   "cell_type": "code",
   "execution_count": null,
   "metadata": {},
   "outputs": [],
   "source": [
    "# TODO: Statistical distribution comparison of selected features"
   ]
  },
  {
   "cell_type": "code",
   "execution_count": null,
   "metadata": {},
   "outputs": [],
   "source": [
    "vars = ['GR', 'NPHI', 'RHOB']\n",
    "well_names = df.WELL_NAME.unique()\n",
    "bins = {\n",
    "    'GR': 1,\n",
    "    'RT': 1,\n",
    "    'NPHI': 0.005,\n",
    "    'RHOB': 0.01\n",
    "\n",
    "}\n",
    "for var in vars:\n",
    "    hist_data = [df[df[\"WELL_NAME\"] == well_name][var] for well_name in well_names]\n",
    "    fig = ff.create_distplot(hist_data, well_names, show_rug=False, show_curve=False,\n",
    "                             bin_size=bins[var], histnorm='probability density')\n",
    "    fig.show()"
   ]
  },
  {
   "cell_type": "code",
   "execution_count": null,
   "metadata": {},
   "outputs": [],
   "source": [
    "for var in ['GR', 'RT', 'NPHI', 'RHOB']:\n",
    "    sns.kdeplot(data=df, x=var, hue='WELL_NAME', log_scale=True if var == 'RT' else False, fill=True, legend=True)\n",
    "    sns.move_legend(plt.gca(), \"upper left\", bbox_to_anchor=(1, 1))\n",
    "    plt.show()"
   ]
  },
  {
   "cell_type": "code",
   "execution_count": null,
   "metadata": {},
   "outputs": [],
   "source": [
    "# TODO: Data processing"
   ]
  },
  {
   "cell_type": "code",
   "execution_count": null,
   "metadata": {},
   "outputs": [],
   "source": [
    "# TODO: Export processed data to parquet"
   ]
  }
 ],
 "metadata": {
  "kernelspec": {
   "display_name": "Python 3",
   "language": "python",
   "name": "python3"
  },
  "language_info": {
   "codemirror_mode": {
    "name": "ipython",
    "version": 3
   },
   "file_extension": ".py",
   "mimetype": "text/x-python",
   "name": "python",
   "nbconvert_exporter": "python",
   "pygments_lexer": "ipython3",
   "version": "3.10.9"
  }
 },
 "nbformat": 4,
 "nbformat_minor": 4
}
