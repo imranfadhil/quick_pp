{
 "cells": [
  {
   "cell_type": "code",
   "execution_count": null,
   "metadata": {},
   "outputs": [],
   "source": [
    "import sys\n",
    "sys.path.append('..')\n",
    "%load_ext autoreload\n",
    "%autoreload 2\n",
    "%matplotlib inline"
   ]
  },
  {
   "cell_type": "code",
   "execution_count": null,
   "metadata": {},
   "outputs": [],
   "source": [
    "from ydata_profiling import ProfileReport, compare\n",
    "import pandas as pd\n",
    "import os\n",
    "import seaborn as sns\n",
    "import matplotlib.pyplot as plt\n",
    "import plotly.figure_factory as ff\n",
    "from IPython.display import clear_output\n",
    "\n",
    "from quick_pp.database.objects import Project\n",
    "from quick_pp.database.db_connector import DBConnector\n",
    "\n",
    "db_conn = DBConnector()\n",
    "\n",
    "project_name = \"MOCK_carbonate\"\n",
    "with db_conn.get_session() as db_session:\n",
    "    # Load well from saved file\n",
    "    project = Project(db_session, name=project_name)\n",
    "    df = project.get_all_data()\n",
    "    print(project.get_well_names())"
   ]
  },
  {
   "cell_type": "code",
   "execution_count": null,
   "metadata": {},
   "outputs": [],
   "source": [
    "folder = f\"outputs/{project_name}/\"\n",
    "if not os.path.exists(folder):\n",
    "    os.makedirs(folder)"
   ]
  },
  {
   "cell_type": "markdown",
   "metadata": {},
   "source": [
    "## Overall Profiling Report"
   ]
  },
  {
   "cell_type": "code",
   "execution_count": null,
   "metadata": {},
   "outputs": [],
   "source": [
    "profiles = ProfileReport(df, title=\"Profiling Report\")\n",
    "profiles.to_file(rf\"outputs\\{project_name}\\{project_name}_overall_profiling.html\")\n",
    "clear_output()"
   ]
  },
  {
   "cell_type": "markdown",
   "metadata": {},
   "source": [
    "## Individual Well Profiling Report"
   ]
  },
  {
   "cell_type": "code",
   "execution_count": null,
   "metadata": {},
   "outputs": [],
   "source": [
    "for well_name, well in df.groupby(\"WELL_NAME\"):\n",
    "    profile = ProfileReport(well.drop(columns=['WELL_NAME']), title=f\"{well_name} Profiling Report\",\n",
    "                            explorative=True)\n",
    "    print(f\"Generating {well_name} profiling report...\")\n",
    "    profile.to_file(rf\"outputs\\{project_name}\\{well_name.replace('/', '_')}_profiling_report.html\")\n",
    "clear_output()"
   ]
  },
  {
   "cell_type": "markdown",
   "metadata": {},
   "source": [
    "## Compare selected wells with the rest of the wells"
   ]
  },
  {
   "cell_type": "code",
   "execution_count": null,
   "metadata": {},
   "outputs": [],
   "source": [
    "well_name = \"HW-3\"\n",
    "well = df[df[\"WELL_NAME\"] == well_name][['GR', 'RT', 'NPHI', 'RHOB']]\n",
    "profile = ProfileReport(well, title=f\"{well_name} Profiling Report\", explorative=True)\n",
    "\n",
    "others = df[df[\"WELL_NAME\"] != well_name][['GR', 'RT', 'NPHI', 'RHOB']]\n",
    "other_profiles = ProfileReport(others, title=f\"Other Wells Profiling Report\", explorative=True)\n",
    "\n",
    "compare([profile, other_profiles]).to_file(rf\"outputs\\{project_name}\\{well_name}_compare.html\")\n",
    "clear_output()"
   ]
  },
  {
   "cell_type": "markdown",
   "metadata": {},
   "source": [
    "## Compare distribution of selected variables by wells"
   ]
  },
  {
   "cell_type": "code",
   "execution_count": null,
   "metadata": {},
   "outputs": [],
   "source": [
    "for var in ['GR', 'RT', 'NPHI', 'RHOB']:\n",
    "    sns.kdeplot(data=df.dropna(subset=var), x=var, hue='WELL_NAME',\n",
    "                log_scale=True if var == 'RT' else False, fill=True, legend=True)\n",
    "    plt.title(f\"{var} Distribution\")\n",
    "    sns.move_legend(plt.gca(), \"upper left\", bbox_to_anchor=(1, 1))\n",
    "    plt.show()"
   ]
  }
 ],
 "metadata": {
  "kernelspec": {
   "display_name": "venv310",
   "language": "python",
   "name": "python3"
  },
  "language_info": {
   "codemirror_mode": {
    "name": "ipython",
    "version": 3
   },
   "file_extension": ".py",
   "mimetype": "text/x-python",
   "name": "python",
   "nbconvert_exporter": "python",
   "pygments_lexer": "ipython3",
   "version": "3.10.9"
  }
 },
 "nbformat": 4,
 "nbformat_minor": 4
}
