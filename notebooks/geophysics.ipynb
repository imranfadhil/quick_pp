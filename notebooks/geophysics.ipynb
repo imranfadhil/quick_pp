{
 "cells": [
  {
   "cell_type": "code",
   "execution_count": 1,
   "metadata": {},
   "outputs": [],
   "source": [
    "import sys\n",
    "sys.path.append('..')\n",
    "%load_ext autoreload\n",
    "%autoreload 2\n",
    "%matplotlib inline"
   ]
  },
  {
   "cell_type": "code",
   "execution_count": null,
   "metadata": {},
   "outputs": [],
   "source": [
    "from quick_pp.geophysics.segy_diagnostic import SEGYDiagnostic\n",
    "\n",
    "segy_file = r'data\\01_raw\\VOLVE\\seismic\\ST0202ZDC12-PZ-PSDM-KIRCH-MID-D.MIG_FIN.POST_STACK.3D.JS-017534.segy' # Replace with your actual file path\n",
    "segy_obj = SEGYDiagnostic(segy_file)\n",
    "\n",
    "segy_obj.diagnose_file()\n"
   ]
  },
  {
   "cell_type": "code",
   "execution_count": null,
   "metadata": {},
   "outputs": [],
   "source": [
    "segy_obj.plot_geometry_analysis()"
   ]
  }
 ],
 "metadata": {
  "kernelspec": {
   "display_name": ".venv_geophysics",
   "language": "python",
   "name": "python3"
  },
  "language_info": {
   "codemirror_mode": {
    "name": "ipython",
    "version": 3
   },
   "file_extension": ".py",
   "mimetype": "text/x-python",
   "name": "python",
   "nbconvert_exporter": "python",
   "pygments_lexer": "ipython3",
   "version": "3.11.0"
  }
 },
 "nbformat": 4,
 "nbformat_minor": 2
}
