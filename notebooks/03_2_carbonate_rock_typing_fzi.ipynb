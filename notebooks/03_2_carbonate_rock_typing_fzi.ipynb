{
 "cells": [
  {
   "cell_type": "markdown",
   "metadata": {
    "jp-MarkdownHeadingCollapsed": true
   },
   "source": [
    "## quick_pp"
   ]
  },
  {
   "cell_type": "code",
   "execution_count": null,
   "metadata": {},
   "outputs": [],
   "source": [
    "import sys\n",
    "sys.path.append('..')\n",
    "%load_ext autoreload\n",
    "%autoreload 2\n",
    "%matplotlib inline"
   ]
  },
  {
   "cell_type": "code",
   "execution_count": null,
   "metadata": {},
   "outputs": [],
   "source": [
    "import numpy as np\n",
    "import pandas as pd\n",
    "import pickle\n",
    "import matplotlib.pyplot as plt\n",
    "\n",
    "from quick_pp.objects import Project\n",
    "\n",
    "# Load well from saved file\n",
    "project = \"MOCK_carbonate\"\n",
    "project_path = rf\"data\\04_project\\{project}.qppp\"\n",
    "project = Project().load(project_path)\n",
    "project.get_well_names()\n",
    "all_data = project.get_all_data()"
   ]
  },
  {
   "cell_type": "markdown",
   "metadata": {},
   "source": [
    "# Rock Typing"
   ]
  },
  {
   "cell_type": "markdown",
   "metadata": {},
   "source": [
    "The process of rock typing is a multidisciplinary effort that involves close collaboration between geologists, petrophysicists, and reservoir engineers. Each discipline plays a specific role, and the rock typing workflow involves a seamless transition of data, models, and insights across these domains to build a robust understanding of the reservoir. Below is the high-level workflow detailing the steps, key tasks, and handoffs between these professionals\n",
    "\n",
    "Petrophysicists take geological inputs and combine them with well log data and core analysis to define rock types based on petrophysical properties such as porosity, permeability, fluid saturation, and pore geometry.\n",
    "\n",
    "Tasks:\n",
    "- Core Data Integration:\n",
    "    - Perform routine and special core analyses (RCAL, SCAL) to measure porosity, permeability, capillary pressure, and wettability.\n",
    "\n",
    "- Log Interpretation:\n",
    "    - Interpret wireline logs (e.g., density, neutron, resistivity, NMR) to generate continuous petrophysical properties along the wellbore.\n",
    "\n",
    "- Rock Typing Methods:\n",
    "    - Use statistical tools like Flow Zone Indicator (FZI), Pickett plots, and cluster analysis to group rocks with similar flow behavior into petrophysical rock types.\n",
    "\n",
    "- Electrofacies Analysis:\n",
    "    - Identify electrofacies by clustering log responses, especially where core data is limited.\n",
    "\n",
    "The rock typing workflow is a collaborative process where geologists, petrophysicists, and reservoir engineers work together to ensure the reservoir is accurately characterized and modeled. This interdisciplinary approach ensures that both geological and petrophysical complexities are accounted for, resulting in more efficient production strategies and better field development plans"
   ]
  },
  {
   "cell_type": "markdown",
   "metadata": {},
   "source": [
    "## FZI Rock Typing"
   ]
  },
  {
   "cell_type": "markdown",
   "metadata": {},
   "source": [
    "### Identifying the number of rock types"
   ]
  },
  {
   "cell_type": "markdown",
   "metadata": {},
   "source": [
    "Different methods have been discussed by previous works on determining of the number of rock types for a given core data. Among others are Wards Plot, Modified Lorenz Plot and its extensions.\n",
    "\n",
    "1. Flow Zone Index (FZI) Method\n",
    "    - The FZI method classifies rock types based on their flow characteristics. It involves calculating the Flow Zone Index from core data and using it to group similar rock types. This method is particularly effective in heterogeneous reservoirs3.\n",
    "\n",
    "1. Ward’s Method\n",
    "    - Ward’s method is a hierarchical clustering technique that minimizes the total within-cluster variance. It starts with each observation in its own cluster and merges clusters iteratively to minimize the increase in total within-cluster variance1. This method is particularly useful for quantitative variables and can be visualized using a dendrogram, which helps in identifying the optimal number of clusters (rock types).\n",
    "\n",
    "2. Lorenz Method\n",
    "    - The Lorenz method, often used in petrophysical analysis, involves plotting cumulative storage capacity against cumulative flow capacity. This method helps in identifying distinct rock types based on their flow properties. By analyzing the Lorenz plot, you can determine the number of rock types and their respective contributions to storage and flow capacities2.\n",
    "\n",
    "However, since the lithofacies data is not available to calibrate the rock typing, Costa resolved to defining the rock types based on Winland R35 method and resulted in 27 RRTs.\n",
    "\n",
    "For simplicity, this work break the rocks into 4 rock types only based on the Pore Throat Size (PTS) classification below;\n",
    "Rock Type 1: Mega: PTS > 10 microns\n",
    "Rock Type 2: Macro: PTS > 2 microns\n",
    "Rock Type 3: Meso: PTS > 0.5 microns\n",
    "Rock Type 4: Micro: PTS > 0.1 microns"
   ]
  },
  {
   "cell_type": "code",
   "execution_count": null,
   "metadata": {},
   "outputs": [],
   "source": [
    "from quick_pp.rock_type import plot_ward, plot_modified_lorenz\n",
    "\n",
    "core_data = pd.read_csv(r'data\\01_raw\\COSTA\\HW_core_data_all.csv')\n",
    "core_data['CPORE'] = core_data['Phi (frac.)']\n",
    "core_data['CPERM'] = core_data['K mD']\n",
    "core_data['PC'] = core_data['O/B Pc (psia)']\n",
    "core_data['SW'] = core_data['Equiv Brine Sat. (Frac.)']\n",
    "core_data = core_data[core_data['CPERM'] > 0]\n",
    "\n",
    "clean_core_data = core_data.drop_duplicates(subset=['Sample', 'CPORE', 'CPERM'], keep='last')\n",
    "plot_ward(clean_core_data['CPORE'], clean_core_data['CPERM'])\n",
    "plot_modified_lorenz(clean_core_data['CPORE'], clean_core_data['CPERM'])\n",
    "\n",
    "log_fzi_cut_offs = [-.679, -.179, .171, .571, .871]\n",
    "fzi_cut_offs = [round(10**(i), 3) for i in log_fzi_cut_offs]\n",
    "print(fzi_cut_offs)"
   ]
  },
  {
   "cell_type": "markdown",
   "metadata": {},
   "source": [
    "xxx explain the core data xxx\n",
    "\n",
    "Based on the Ward's plot above, it is deduced that the data can be grouped into 4 rock types where the limits of log(FZI) values are -0.679, -0.179, 1.71, 0.571 and 0.871.\n",
    "This translates into FZI values of 0.209, 0.662, 1.483, 3.724, 7.43. Consequently, the rock types are categorized as follows;\n",
    "- Rock Type 1: FZI >= 3.724\n",
    "- Rock Type 2: 1.483 <= FZI < 3.724\n",
    "- Rock Type 3: 0.662 <= FZI < 1.483\n",
    "- Rock Type 4: FZI < 0.662"
   ]
  },
  {
   "cell_type": "code",
   "execution_count": null,
   "metadata": {},
   "outputs": [],
   "source": [
    "from quick_pp.rock_type import plot_fzi, calc_fzi, rock_typing\n",
    "\n",
    "# Estimate rock types\n",
    "fzi = calc_fzi(all_data['CPORE'], all_data['CPERM'])\n",
    "all_data['FZI'] = fzi\n",
    "fzi_cut_offs = [\n",
    "    .1, .2, .4, .6, .8, 1, 1.2, 1.4, 1.6, 1.8, 2, 2.2, 2.4, 2.6, 2.8, 3, 3.2, 3.4, 3.6, 3.8, 4, 4.5, 5, 6\n",
    "]\n",
    "fzi_rock_flag = rock_typing(fzi, fzi_cut_offs, higher_is_better=True)\n",
    "all_data['ROCK_FLAG'] = fzi_rock_flag\n",
    "\n",
    "plot_fzi(all_data['CPORE'], all_data['CPERM'], rock_type=fzi_rock_flag, cut_offs=fzi_cut_offs)\n",
    "print(pd.Series(fzi_rock_flag).value_counts().sort_index())"
   ]
  },
  {
   "cell_type": "markdown",
   "metadata": {},
   "source": [
    "### Develop Machine Learning models to predict ROCK_FLAG and FZI"
   ]
  },
  {
   "cell_type": "code",
   "execution_count": null,
   "metadata": {},
   "outputs": [],
   "source": [
    "from quick_pp.rock_type import train_classification_model, train_regression_model\n",
    "\n",
    "train_data = all_data.copy()  # Filter out low porosity data\n",
    "train_data = train_data[~((train_data.CPORE <= .02) & (train_data.CPERM >= .01))].copy()  # Filter out low porosity data\n",
    "# train_data = train_data[train_data.CPERM > .1]  # Filter out low permeability data\n",
    "# train_data = train_data[train_data.ROCK_FLAG < 5]  # Filter out non-reservoir data\n",
    "\n",
    "train_data['LOG_RT'] = np.log10(train_data['RT'])\n",
    "train_data['NDI'] = (2.95 - train_data['RHOB']) / 1.95\n",
    "# train_data['NDI_V2'] = np.log10((2.95 - train_data['RHOB']) / 1.95)\n",
    "\n",
    "input_features = ['GR', 'NPHI', 'RHOB', 'LOG_RT', 'NDI']\n",
    "train_data = train_data.dropna(subset=input_features + ['ROCK_FLAG', 'FZI'])\n",
    "\n",
    "fzi_rt_model = train_classification_model(\n",
    "    train_data, input_features=input_features, target_feature='ROCK_FLAG', stratifier=train_data['WELL_NAME'])\n",
    "with open(r'data\\04_project\\MOCK_carbonate\\outputs\\fzi_rt_model.qppm', 'wb') as file:\n",
    "    pickle.dump(fzi_rt_model, file)\n",
    "\n",
    "train_data['LOG_FZI'] = np.log10(train_data['FZI'])\n",
    "fzi_model = train_regression_model(\n",
    "    train_data, input_features=input_features, target_feature='LOG_FZI', stratifier=train_data['WELL_NAME'])\n",
    "with open(r'data\\04_project\\MOCK_carbonate\\outputs\\fzi_model.qppm', 'wb') as file:\n",
    "    pickle.dump(fzi_model, file)"
   ]
  },
  {
   "cell_type": "markdown",
   "metadata": {},
   "source": [
    "### Determining the perm transform parameter for each rock type."
   ]
  },
  {
   "cell_type": "code",
   "execution_count": null,
   "metadata": {},
   "outputs": [],
   "source": [
    "from ipywidgets import interact, widgets\n",
    "from quick_pp.core_calibration import poroperm_xplot, fit_poroperm_curve\n",
    "\n",
    "rt = widgets.Dropdown(\n",
    "    options=sorted(all_data['ROCK_FLAG'].dropna().unique()),\n",
    "    value=1,\n",
    "    description='Rock Type:'\n",
    ")\n",
    "\n",
    "@interact(rt=rt)\n",
    "def param(rt):\n",
    "    data = all_data[all_data['ROCK_FLAG'] == rt]\n",
    "    a, b = fit_poroperm_curve(data['CPORE'], data['CPERM'])\n",
    "    poroperm_xplot(data['CPORE'], data['CPERM'], a=a, b=b, label=f'RT{rt}:\\n a={a:.2f},\\n b={b:.2f}')"
   ]
  },
  {
   "cell_type": "code",
   "execution_count": null,
   "metadata": {},
   "outputs": [],
   "source": [
    "import pprint\n",
    "\n",
    "poroperm_params = {}\n",
    "\n",
    "for rt, data in all_data.groupby('ROCK_FLAG'):\n",
    "    a, b = fit_poroperm_curve(data['CPORE'], data['CPERM'])\n",
    "    poroperm_params[rt] = (a, b)\n",
    "\n",
    "pp = pprint.PrettyPrinter(indent=4)\n",
    "pp.pprint(poroperm_params)"
   ]
  },
  {
   "cell_type": "code",
   "execution_count": null,
   "metadata": {},
   "outputs": [],
   "source": [
    "plt.figure(figsize=(12, 8))\n",
    "for rt, data in all_data.groupby('ROCK_FLAG'):\n",
    "    a, b = poroperm_params[rt]\n",
    "    poroperm_xplot(data['CPORE'], data['CPERM'], a=a, b=b, label=f'RT{rt}: a={a:1d}, b={b:.2f}')\n",
    "    "
   ]
  },
  {
   "cell_type": "markdown",
   "metadata": {},
   "source": [
    "### Compare different PERM estimations at well level"
   ]
  },
  {
   "cell_type": "code",
   "execution_count": null,
   "metadata": {},
   "outputs": [],
   "source": [
    "from sklearn.metrics import mean_absolute_percentage_error, r2_score\n",
    "\n",
    "from quick_pp.core_calibration import perm_transform\n",
    "from quick_pp.rock_type import calc_fzi_perm\n",
    "\n",
    "focus_well = 'HW-26'\n",
    "well_data = all_data[all_data.WELL_NAME == focus_well].copy()\n",
    "\n",
    "# Permeability estimation based on core data perm transform\n",
    "a = well_data['ROCK_FLAG'].map(poroperm_params).apply(lambda x: x[0] if type(x) == tuple else np.nan)\n",
    "b = well_data['ROCK_FLAG'].map(poroperm_params).apply(lambda x: x[1] if type(x) == tuple else np.nan)\n",
    "perm_trans = perm_transform(well_data['PHIT'], a=a, b=b)\n",
    "\n",
    "# Permeability estimation based on FZI from core data\n",
    "fzi = calc_fzi(well_data['CPORE'], well_data['CPERM'])\n",
    "perm_fzi = calc_fzi_perm(fzi, well_data['PHIT'])\n",
    "\n",
    "# Permeability prediction based on ROCK_FLAG ML model followed by perm transform\n",
    "well_data['LOG_RT'] = np.log10(well_data['RT'])\n",
    "well_data['NDI'] = (2.95 - well_data['RHOB']) / 1.95\n",
    "# well_data['NDI_V2'] = np.log10((2.95 - well_data['RHOB']) / 1.95)\n",
    "with open(r'data\\04_project\\MOCK_carbonate\\outputs\\fzi_rt_model.qppm', 'rb') as file:\n",
    "    fzi_rt_model = pickle.load(file)\n",
    "rock_flag_ml = fzi_rt_model.predict(well_data[input_features])\n",
    "perm_a_ml = pd.Series(rock_flag_ml).map(poroperm_params).apply(lambda x: x[0] if type(x) == tuple else np.nan)\n",
    "perm_b_ml = pd.Series(rock_flag_ml).map(poroperm_params).apply(lambda x: x[1] if type(x) == tuple else np.nan)\n",
    "perm_ml = perm_transform(well_data['PHIT'], perm_a_ml, perm_b_ml)\n",
    "\n",
    "# Permeability prediction based on FZI ML model followed by back calculate from FZI\n",
    "with open(r'data\\04_project\\MOCK_carbonate\\outputs\\fzi_model.qppm', 'rb') as file:\n",
    "    fzi_model = pickle.load(file)\n",
    "fzi_ml = 10**(fzi_model.predict(well_data[input_features]))\n",
    "perm_fzi_ml = calc_fzi_perm(fzi_ml, well_data['PHIT'])\n",
    "\n",
    "# Plot to compare\n",
    "plt.figure(figsize=(20, 2))\n",
    "plt.plot(well_data.DEPTH, perm_trans, label='Perm Transform')\n",
    "plt.plot(well_data.DEPTH, perm_fzi, label='Perm R35')\n",
    "plt.plot(well_data.DEPTH, perm_ml, label='Perm ML')\n",
    "plt.plot(well_data.DEPTH, perm_fzi_ml, label='Perm R35 ML')\n",
    "plt.scatter(well_data.DEPTH, well_data.CPERM, label='Core Perm', marker='.', c='black')\n",
    "plt.yscale('log')\n",
    "plt.legend()\n",
    "\n",
    "# Print scores\n",
    "score_df = well_data[['DEPTH', 'CPERM']].copy()\n",
    "score_df['PERM'] = perm_fzi_ml\n",
    "score_df.dropna(inplace=True)\n",
    "print(f\"\\n ### PERM MAPE: {mean_absolute_percentage_error(score_df.CPERM, score_df.PERM):.2f}\")\n",
    "print(f\" ### PERM R2: {r2_score(score_df.CPERM, score_df.PERM):.2f}\")"
   ]
  },
  {
   "cell_type": "markdown",
   "metadata": {},
   "source": [
    "### Compare different ROCK_FLAG at well level"
   ]
  },
  {
   "cell_type": "code",
   "execution_count": null,
   "metadata": {},
   "outputs": [],
   "source": [
    "# Compare rock types predicted from rt_model with applied cut-offs on predicted r35\n",
    "rock_flag_fzi_ml = rock_typing(fzi_ml, fzi_cut_offs, higher_is_better=True)\n",
    "\n",
    "plt.figure(figsize=(20, 2))\n",
    "plt.plot(well_data.DEPTH, well_data.ROCK_FLAG, label='Rock Flag Core')\n",
    "plt.plot(well_data.DEPTH, rock_flag_ml, label='Rock Flag ML')\n",
    "plt.plot(well_data.DEPTH, rock_flag_fzi_ml, label='Rock Flag FZI ML')\n",
    "plt.legend()\n"
   ]
  },
  {
   "cell_type": "markdown",
   "metadata": {},
   "source": [
    "## Plotting the Rock Types"
   ]
  },
  {
   "cell_type": "markdown",
   "metadata": {},
   "source": [
    "As a comparison, the rock types being identified using FZI is plotted on Winland R35 and Lucia Rock Fabric Number (RFN) methods.\n",
    "\n",
    "- The plot demonstrates Winland R35 resulted in a more flat permeability estimation while\n",
    "- Lower porosity - high permeability datapoints.\n",
    "    - These points might be indicating fracture kind of rock types\n",
    "    - Both Winland R35 and Lucia RFN does not model the datapoints\n",
    "    - FZI is able to model but indicates too high of a value"
   ]
  },
  {
   "cell_type": "code",
   "execution_count": null,
   "metadata": {},
   "outputs": [],
   "source": [
    "from quick_pp.rock_type import plot_winland, plot_rfn\n",
    "\n",
    "plot_fzi(all_data['CPORE'], all_data['CPERM'], rock_type=fzi_rock_flag)\n",
    "plot_winland(all_data['CPORE'], all_data['CPERM'], rock_type=fzi_rock_flag)\n",
    "plot_rfn(all_data['CPORE'], all_data['CPERM'], rock_type=fzi_rock_flag)"
   ]
  },
  {
   "cell_type": "markdown",
   "metadata": {},
   "source": [
    "# Plotting the result"
   ]
  },
  {
   "cell_type": "code",
   "execution_count": null,
   "metadata": {},
   "outputs": [],
   "source": [
    "from quick_pp.plotter import plotly_log\n",
    "\n",
    "# Plot individual results\n",
    "well_data['PERM'] = perm_fzi_ml\n",
    "fig = plotly_log(well_data, 'ft')\n",
    "fig.show(config=dict(scrollZoom=True))"
   ]
  },
  {
   "cell_type": "code",
   "execution_count": null,
   "metadata": {},
   "outputs": [],
   "source": [
    "# # Save the well data\n",
    "# project.update_data(well_data)\n",
    "# project.save()"
   ]
  }
 ],
 "metadata": {
  "kernelspec": {
   "display_name": "venv310",
   "language": "python",
   "name": "python3"
  },
  "language_info": {
   "codemirror_mode": {
    "name": "ipython",
    "version": 3
   },
   "file_extension": ".py",
   "mimetype": "text/x-python",
   "name": "python",
   "nbconvert_exporter": "python",
   "pygments_lexer": "ipython3",
   "version": "3.10.9"
  }
 },
 "nbformat": 4,
 "nbformat_minor": 4
}
