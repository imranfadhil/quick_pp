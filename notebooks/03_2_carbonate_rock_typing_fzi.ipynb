{
 "cells": [
  {
   "cell_type": "markdown",
   "metadata": {
    "jp-MarkdownHeadingCollapsed": true
   },
   "source": [
    "## quick_pp"
   ]
  },
  {
   "cell_type": "code",
   "execution_count": null,
   "metadata": {},
   "outputs": [],
   "source": [
    "import sys\n",
    "sys.path.append('..')\n",
    "%load_ext autoreload\n",
    "%autoreload 2\n",
    "%matplotlib inline"
   ]
  },
  {
   "cell_type": "code",
   "execution_count": 14,
   "metadata": {},
   "outputs": [],
   "source": [
    "import numpy as np\n",
    "import pandas as pd\n",
    "import pickle\n",
    "import matplotlib.pyplot as plt\n",
    "\n",
    "from quick_pp.objects import Project\n",
    "\n",
    "# Load well from saved file\n",
    "project_name = \"MOCK_carbonate\"\n",
    "project_path = rf\"data\\04_project\\{project_name}.qppp\"\n",
    "project = Project().load(project_path)\n",
    "project.get_well_names()\n",
    "all_data = project.get_all_data()\n",
    "\n",
    "all_data['CPERM'] = all_data.CORE_PERM\n",
    "all_data['CPORE'] = all_data.CORE_POR / 100"
   ]
  },
  {
   "cell_type": "markdown",
   "metadata": {},
   "source": [
    "***\n",
    "# Rock Typing"
   ]
  },
  {
   "cell_type": "markdown",
   "metadata": {},
   "source": [
    "The process of rock typing is a multidisciplinary effort that involves close collaboration between geologists, petrophysicists, and reservoir engineers. Each discipline plays a specific role, and the rock typing workflow involves a seamless transition of data, models, and insights across these domains to build a robust understanding of the reservoir. Below is the high-level workflow detailing the steps, key tasks, and handoffs between these professionals\n",
    "\n",
    "Petrophysicists take geological inputs and combine them with well log data and core analysis to define rock types based on petrophysical properties such as porosity, permeability, fluid saturation, and pore geometry.\n",
    "\n",
    "Tasks:\n",
    "- Core Data Integration:\n",
    "    - Perform routine and special core analyses (RCAL, SCAL) to measure porosity, permeability, capillary pressure, and wettability.\n",
    "\n",
    "- Log Interpretation:\n",
    "    - Interpret wireline logs (e.g., density, neutron, resistivity, NMR) to generate continuous petrophysical properties along the wellbore.\n",
    "\n",
    "- Rock Typing Methods:\n",
    "    - Use statistical tools like Flow Zone Indicator (FZI), Pickett plots, and cluster analysis to group rocks with similar flow behavior into petrophysical rock types.\n",
    "\n",
    "- Electrofacies Analysis:\n",
    "    - Identify electrofacies by clustering log responses, especially where core data is limited.\n",
    "\n",
    "The rock typing workflow is a collaborative process where geologists, petrophysicists, and reservoir engineers work together to ensure the reservoir is accurately characterized and modeled. This interdisciplinary approach ensures that both geological and petrophysical complexities are accounted for, resulting in more efficient production strategies and better field development plans"
   ]
  },
  {
   "cell_type": "markdown",
   "metadata": {},
   "source": [
    "## Some of the different methods in Rock Typing"
   ]
  },
  {
   "cell_type": "markdown",
   "metadata": {},
   "source": [
    "As a comparison, the core porosity and permeability are plotted on Winland R35 and Lucia Rock Fabric Number (RFN) methods.\n",
    "\n",
    "- The plot demonstrates Winland R35 resulted in a less drastic permeability estimation with respect to porosity.\n",
    "- Lower porosity - high permeability datapoints:\n",
    "    - These points might be the result of fractured cores.\n",
    "    - Both Winland R35 and Lucia RFN does not model the datapoints.\n",
    "    - FZI is able to model but indicates too high of a value."
   ]
  },
  {
   "cell_type": "code",
   "execution_count": null,
   "metadata": {},
   "outputs": [],
   "source": [
    "from quick_pp.rock_type import plot_fzi, plot_winland, plot_rfn\n",
    "\n",
    "plot_fzi(all_data['CPORE'], all_data['CPERM'])\n",
    "plot_winland(all_data['CPORE'], all_data['CPERM'])\n",
    "plot_rfn(all_data['CPORE'], all_data['CPERM'])"
   ]
  },
  {
   "cell_type": "markdown",
   "metadata": {},
   "source": [
    "## FZI Rock Typing"
   ]
  },
  {
   "cell_type": "markdown",
   "metadata": {},
   "source": [
    "### Identifying the number of rock types\n",
    "\n",
    "Different methods have been discussed by previous works on determining of the number of rock types for a given core data. Among others are Wards Plot, Modified Lorenz Plot and its extensions.\n",
    "\n",
    "1. Flow Zone Index (FZI) Method\n",
    "    - The FZI method classifies rock types based on their flow characteristics. It involves calculating the Flow Zone Index from core data and using it to group similar rock types. This method is particularly effective in heterogeneous reservoirs3.\n",
    "\n",
    "1. Ward’s Method\n",
    "    - Ward’s method is a hierarchical clustering technique that minimizes the total within-cluster variance. It starts with each observation in its own cluster and merges clusters iteratively to minimize the increase in total within-cluster variance1. This method is particularly useful for quantitative variables and can be visualized using a dendrogram, which helps in identifying the optimal number of clusters (rock types).\n",
    "\n",
    "2. Lorenz Method\n",
    "    - The Lorenz method, often used in petrophysical analysis, involves plotting cumulative storage capacity against cumulative flow capacity. This method helps in identifying distinct rock types based on their flow properties. By analyzing the Lorenz plot, you can determine the number of rock types and their respective contributions to storage and flow capacities2.\n",
    "\n",
    "\n",
    "As an example based on the Ward's plot below, the data can be grouped into 4 rock types where the limits of log(FZI) values are -0.679, -0.179, 1.71, 0.571 and 0.871.\n",
    "This translates into FZI values of 0.209, 0.662, 1.483, 3.724, 7.43. Consequently, the rock types can be categorized as follows;\n",
    "- Rock Type 1: FZI >= 3.724\n",
    "- Rock Type 2: 1.483 <= FZI < 3.724\n",
    "- Rock Type 3: 0.662 <= FZI < 1.483\n",
    "- Rock Type 4: FZI < 0.662"
   ]
  },
  {
   "cell_type": "code",
   "execution_count": null,
   "metadata": {},
   "outputs": [],
   "source": [
    "from quick_pp.rock_type import plot_cumulative_probability, plot_modified_lorenz\n",
    "import json\n",
    "\n",
    "core_data = pd.read_csv(r'data\\01_raw\\COSTA\\HW_core_data_all.csv')\n",
    "core_data['CPORE'] = core_data['Phi (frac.)']\n",
    "core_data['CPERM'] = core_data['K mD']\n",
    "core_data['PC'] = core_data['O/B Pc (psia)']\n",
    "core_data['SW'] = core_data['Equiv Brine Sat. (Frac.)']\n",
    "core_data = core_data[core_data['CPERM'] > 0]\n",
    "\n",
    "clean_core_data = core_data.drop_duplicates(subset=['Sample', 'CPORE', 'CPERM'], keep='last')\n",
    "\n",
    "log_fzi_cutoffs = [-.845, -.679, -.479, -.329, -.135, .048, .271, .399, .585, .771]\n",
    "plot_cumulative_probability(clean_core_data['CPORE'], clean_core_data['CPERM'], cutoffs=log_fzi_cutoffs)\n",
    "plot_modified_lorenz(clean_core_data['CPORE'], clean_core_data['CPERM'])\n",
    "\n",
    "fzi_cutoffs = [round(10**(i), 3) for i in log_fzi_cutoffs]\n",
    "print(fzi_cutoffs)\n",
    "with open(rf'data\\04_project\\{project_name}\\outputs\\fzi_cutoffs.json', 'w') as file:\n",
    "    json.dump(fzi_cutoffs, file)"
   ]
  },
  {
   "cell_type": "markdown",
   "metadata": {},
   "source": [
    "However, since the lithofacies data is not available to calibrate the rock typing, Costa resolved to defining the rock types by arbitrarily binning based on Winland R35 method and resulted in 27 Reservoir Rock Type (RRT)s.\n",
    "\n",
    "This work experiments with the below cutoffs which resulted in 24 RRTs."
   ]
  },
  {
   "cell_type": "code",
   "execution_count": null,
   "metadata": {},
   "outputs": [],
   "source": [
    "from quick_pp.rock_type import plot_fzi, calc_fzi, rock_typing, plot_ward_dendogram\n",
    "\n",
    "# Estimate rock types\n",
    "fzi = calc_fzi(all_data['CPORE'], all_data['CPERM'])\n",
    "all_data['FZI'] = fzi\n",
    "fzi_rock_flag = rock_typing(fzi, fzi_cutoffs, higher_is_better=True)\n",
    "all_data['ROCK_FLAG'] = fzi_rock_flag\n",
    "\n",
    "plot_fzi(all_data['CPORE'], all_data['CPERM'], rock_type=fzi_rock_flag, cut_offs=fzi_cutoffs)\n",
    "plot_ward_dendogram(all_data['FZI'], p=30)\n",
    "print(pd.Series(fzi_rock_flag).value_counts().sort_index())"
   ]
  },
  {
   "cell_type": "markdown",
   "metadata": {},
   "source": [
    "### Develop Machine Learning models to predict ROCK_FLAG and FZI\n",
    "\n",
    "The models will then be used to predict the Rock Type and FZI at non-cored intervals"
   ]
  },
  {
   "cell_type": "code",
   "execution_count": null,
   "metadata": {},
   "outputs": [],
   "source": [
    "from quick_pp.rock_type import train_classification_model, train_regression_model\n",
    "from sklearn.preprocessing import MinMaxScaler\n",
    "\n",
    "train_data = all_data.copy()\n",
    "filters = (\n",
    "    ~(train_data.WELL_NAME.isin(['HW-3']))  # Filter out wells\n",
    "    # & ~((train_data.CPORE < .02) & (train_data.FZI > 3.724))  # Filter out low porosity data with high R35\n",
    "    # & (train_data.CPERM > .05)\n",
    "    # & (train_data.FZI < 10)\n",
    ")\n",
    "train_data = train_data[filters].copy()\n",
    "\n",
    "train_data['LOG_RT'] = np.log10(train_data['RT'])\n",
    "train_data['NDI'] = (2.95 - train_data['RHOB']) / 1.95\n",
    "train_data['GRN'] = train_data.groupby('WELL_NAME')['GR'].transform(\n",
    "    lambda x: MinMaxScaler().fit_transform(x.values.reshape(-1, 1)).flatten())\n",
    "\n",
    "input_features = ['GR', 'NPHI', 'RHOB', 'NDI', 'RT', 'LOG_RT', 'GRN']\n",
    "train_data = train_data.dropna(subset=input_features + ['ROCK_FLAG', 'FZI'])\n",
    "\n",
    "fzi_rt_model = train_classification_model(\n",
    "    train_data, input_features=input_features, target_feature='ROCK_FLAG', stratifier=train_data['ROCK_FLAG'])\n",
    "with open(r'data\\04_project\\MOCK_carbonate\\outputs\\fzi_rt_model.qppm', 'wb') as file:\n",
    "    pickle.dump(fzi_rt_model, file)\n",
    "\n",
    "train_data['ROCK_PRED'] = fzi_rt_model.predict(train_data[input_features])\n",
    "input_features_fzi = ['GR', 'NPHI', 'RHOB', 'NDI', 'RT', 'LOG_RT', 'GRN', 'ROCK_PRED']\n",
    "train_data['LOG_FZI'] = np.log10(train_data['FZI'])\n",
    "fzi_model = train_regression_model(\n",
    "    train_data, input_features=input_features_fzi, target_feature='LOG_FZI', stratifier=train_data['ROCK_PRED'])\n",
    "with open(r'data\\04_project\\MOCK_carbonate\\outputs\\fzi_model.qppm', 'wb') as file:\n",
    "    pickle.dump(fzi_model, file)"
   ]
  },
  {
   "cell_type": "code",
   "execution_count": null,
   "metadata": {},
   "outputs": [],
   "source": [
    "all_data['LOG_RT'] = np.log10(all_data['RT'])\n",
    "all_data['NDI'] = (2.95 - all_data['RHOB']) / 1.95\n",
    "all_data['GRN'] = all_data.groupby('WELL_NAME')['GR'].transform(\n",
    "    lambda x: MinMaxScaler().fit_transform(x.values.reshape(-1, 1)).flatten())\n",
    "\n",
    "predicted_fzi_rt = fzi_rt_model.predict(all_data[input_features])\n",
    "plot_fzi(all_data['CPORE'], all_data['CPERM'], rock_type=predicted_fzi_rt, cut_offs=fzi_cutoffs)"
   ]
  },
  {
   "cell_type": "code",
   "execution_count": null,
   "metadata": {},
   "outputs": [],
   "source": [
    "all_data['LOG_RT'] = np.log10(all_data['RT'])\n",
    "all_data['NDI'] = (2.95 - all_data['RHOB']) / 1.95\n",
    "all_data['GRN'] = all_data.groupby('WELL_NAME')['GR'].transform(\n",
    "    lambda x: MinMaxScaler().fit_transform(x.values.reshape(-1, 1)).flatten())\n",
    "all_data['ROCK_PRED'] = fzi_rt_model.predict(all_data[input_features])\n",
    "\n",
    "pred_data = all_data.dropna(subset=input_features_fzi)\n",
    "input_features_fzi = ['GR', 'NPHI', 'RHOB', 'NDI', 'RT', 'LOG_RT', 'GRN', 'ROCK_PRED']\n",
    "predicted_fzi = 10**(fzi_model.predict(pred_data[input_features_fzi]))\n",
    "predicted_fzi_rt = rock_typing(predicted_fzi, fzi_cutoffs, higher_is_better=True)\n",
    "plot_fzi(pred_data['CPORE'], pred_data['CPERM'], rock_type=predicted_fzi_rt, cut_offs=fzi_cutoffs)"
   ]
  },
  {
   "cell_type": "markdown",
   "metadata": {},
   "source": [
    "***\n",
    "# Permeability Transform"
   ]
  },
  {
   "cell_type": "markdown",
   "metadata": {},
   "source": [
    "### Determining the perm transform parameter for each rock type."
   ]
  },
  {
   "cell_type": "code",
   "execution_count": null,
   "metadata": {},
   "outputs": [],
   "source": [
    "import pprint\n",
    "\n",
    "from quick_pp.core_calibration import poroperm_xplot, fit_poroperm_curve\n",
    "\n",
    "poroperm_params = {}\n",
    "\n",
    "for rt, data in all_data.groupby('ROCK_FLAG'):\n",
    "    a, b = fit_poroperm_curve(data['CPORE'], data['CPERM'])\n",
    "    poroperm_params[rt] = (a, b)\n",
    "\n",
    "pp = pprint.PrettyPrinter(indent=4)\n",
    "pp.pprint(poroperm_params)"
   ]
  },
  {
   "cell_type": "code",
   "execution_count": null,
   "metadata": {},
   "outputs": [],
   "source": [
    "from ipywidgets import interact, widgets\n",
    "\n",
    "rt = widgets.Dropdown(\n",
    "    options=sorted(all_data['ROCK_FLAG'].dropna().unique()),\n",
    "    value=1,\n",
    "    description='Rock Type:'\n",
    ")\n",
    "a = widgets.IntText(value=0, step=5000, description='a:')\n",
    "b = widgets.FloatText(value=0, step=.1, description='b:')\n",
    "\n",
    "@interact(rt=rt, a=a, b=b)\n",
    "def param(rt, a, b):\n",
    "    data = all_data[all_data['ROCK_FLAG'] == rt]\n",
    "    poroperm_xplot(data['CPORE'], data['CPERM'], a=a, b=b, label=f'RT{rt}:\\n a={a:d},\\n b={b:.2f}')"
   ]
  },
  {
   "cell_type": "code",
   "execution_count": null,
   "metadata": {},
   "outputs": [],
   "source": [
    "# Update poroperm_params with user input if needed\n",
    "# poroperm_params[rt.value] = (a.value, b.value)\n",
    "\n",
    "plt.figure(figsize=(12, 8))\n",
    "for rt, data in all_data.groupby('ROCK_FLAG'):\n",
    "    a, b = poroperm_params[rt]\n",
    "    poroperm_xplot(data['CPORE'], data['CPERM'], a=a, b=b, label=f'RT{rt}: a={a:1d}, b={b:.2f}')"
   ]
  },
  {
   "cell_type": "markdown",
   "metadata": {},
   "source": [
    "### Compare different PERM estimations at well level"
   ]
  },
  {
   "cell_type": "code",
   "execution_count": null,
   "metadata": {},
   "outputs": [],
   "source": [
    "from sklearn.metrics import mean_absolute_percentage_error, r2_score\n",
    "from sklearn.preprocessing import MinMaxScaler\n",
    "\n",
    "from quick_pp.core_calibration import perm_transform\n",
    "from quick_pp.rock_type import calc_fzi_perm\n",
    "\n",
    "focus_well = 'HW-10'\n",
    "well_data = all_data[all_data.WELL_NAME == focus_well].copy()\n",
    "\n",
    "# Permeability estimation based on core data perm transform\n",
    "a = well_data['ROCK_FLAG'].map(poroperm_params).apply(lambda x: x[0] if type(x) == tuple else np.nan)\n",
    "b = well_data['ROCK_FLAG'].map(poroperm_params).apply(lambda x: x[1] if type(x) == tuple else np.nan)\n",
    "perm_trans = perm_transform(well_data['PHIT'], a=a, b=b)\n",
    "\n",
    "# Permeability estimation based on FZI from core data\n",
    "fzi = calc_fzi(well_data['CPORE'], well_data['CPERM'])\n",
    "perm_fzi = calc_fzi_perm(fzi, well_data['PHIT'])\n",
    "\n",
    "# Permeability prediction based on ROCK_FLAG ML model followed by perm transform\n",
    "well_data['LOG_RT'] = np.log10(well_data['RT'])\n",
    "well_data['NDI'] = (2.95 - well_data['RHOB']) / 1.95\n",
    "well_data['GRN'] = MinMaxScaler().fit_transform(well_data[['GR']])\n",
    "\n",
    "input_features = ['GR', 'NPHI', 'RHOB', 'NDI', 'RT', 'LOG_RT', 'GRN']\n",
    "with open(r'data\\04_project\\MOCK_carbonate\\outputs\\fzi_rt_model.qppm', 'rb') as file:\n",
    "    fzi_rt_model = pickle.load(file)\n",
    "rock_flag_ml = fzi_rt_model.predict(well_data[input_features])\n",
    "perm_a_ml = pd.Series(rock_flag_ml).map(poroperm_params).apply(lambda x: x[0] if type(x) == tuple else np.nan)\n",
    "perm_b_ml = pd.Series(rock_flag_ml).map(poroperm_params).apply(lambda x: x[1] if type(x) == tuple else np.nan)\n",
    "perm_ml = perm_transform(well_data['PHIT'], perm_a_ml, perm_b_ml)\n",
    "\n",
    "# Permeability prediction based on FZI ML model followed by back calculate from FZI\n",
    "well_data['ROCK_PRED'] = fzi_rt_model.predict(well_data[input_features])\n",
    "input_features_fzi = ['GR', 'NPHI', 'RHOB', 'NDI', 'RT', 'LOG_RT', 'GRN', 'ROCK_PRED']\n",
    "with open(r'data\\04_project\\MOCK_carbonate\\outputs\\fzi_model.qppm', 'rb') as file:\n",
    "    fzi_model = pickle.load(file)\n",
    "fzi_ml = 10**(fzi_model.predict(well_data[input_features_fzi]))\n",
    "perm_fzi_ml = calc_fzi_perm(fzi_ml, well_data['PHIT'])\n",
    "\n",
    "# Plot to compare\n",
    "plt.figure(figsize=(20, 2))\n",
    "plt.plot(well_data.DEPTH, perm_trans, label='Perm Transform')\n",
    "plt.plot(well_data.DEPTH, perm_fzi, label='Perm FZI')\n",
    "plt.plot(well_data.DEPTH, perm_ml, label='Perm ML')\n",
    "plt.plot(well_data.DEPTH, perm_fzi_ml, label='Perm FZI ML')\n",
    "plt.scatter(well_data.DEPTH, well_data.CPERM, label='Core Perm', marker='.', c='black')\n",
    "plt.yscale('log')\n",
    "plt.legend()\n",
    "\n",
    "# Print scores\n",
    "score_df = well_data[['DEPTH', 'CPERM']].copy()\n",
    "score_df['PERM'] = perm_fzi_ml\n",
    "score_df.dropna(inplace=True)\n",
    "print(f\"\\n ### PERM MAPE: {mean_absolute_percentage_error(score_df.CPERM, score_df.PERM):.2f}\")\n",
    "print(f\" ### PERM R2: {r2_score(score_df.CPERM, score_df.PERM):.2f}\")"
   ]
  },
  {
   "cell_type": "markdown",
   "metadata": {},
   "source": [
    "### Compare different ROCK_FLAG at well level"
   ]
  },
  {
   "cell_type": "code",
   "execution_count": null,
   "metadata": {},
   "outputs": [],
   "source": [
    "# Compare rock types predicted from rt_model with applied cut-offs on predicted r35\n",
    "rock_flag_fzi_ml = rock_typing(fzi_ml, fzi_cutoffs, higher_is_better=True)\n",
    "\n",
    "plt.figure(figsize=(20, 2))\n",
    "plt.plot(well_data.DEPTH, well_data.ROCK_FLAG, label='Rock Flag Core')\n",
    "plt.plot(well_data.DEPTH, rock_flag_ml, label='Rock Flag ML')\n",
    "plt.plot(well_data.DEPTH, rock_flag_fzi_ml, label='Rock Flag FZI ML')\n",
    "plt.legend()\n"
   ]
  },
  {
   "cell_type": "markdown",
   "metadata": {},
   "source": [
    "***\n",
    "# Plotting the result"
   ]
  },
  {
   "cell_type": "code",
   "execution_count": null,
   "metadata": {},
   "outputs": [],
   "source": [
    "from quick_pp.plotter import plotly_log\n",
    "\n",
    "# Plot individual results\n",
    "well_data['PERM'] = perm_fzi_ml\n",
    "fig = plotly_log(well_data, 'ft')\n",
    "fig.show(config=dict(scrollZoom=True))"
   ]
  },
  {
   "cell_type": "code",
   "execution_count": 27,
   "metadata": {},
   "outputs": [],
   "source": [
    "# # Save the well data\n",
    "# project.update_data(well_data)\n",
    "# project.save()"
   ]
  }
 ],
 "metadata": {
  "kernelspec": {
   "display_name": "venv310",
   "language": "python",
   "name": "python3"
  },
  "language_info": {
   "codemirror_mode": {
    "name": "ipython",
    "version": 3
   },
   "file_extension": ".py",
   "mimetype": "text/x-python",
   "name": "python",
   "nbconvert_exporter": "python",
   "pygments_lexer": "ipython3",
   "version": "3.10.9"
  }
 },
 "nbformat": 4,
 "nbformat_minor": 4
}
