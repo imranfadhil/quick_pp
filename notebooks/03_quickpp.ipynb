{
 "cells": [
  {
   "cell_type": "code",
   "execution_count": null,
   "metadata": {},
   "outputs": [],
   "source": [
    "import sys\n",
    "sys.path.append('..')\n",
    "%load_ext autoreload\n",
    "%autoreload 2\n",
    "%matplotlib inline"
   ]
  },
  {
   "cell_type": "code",
   "execution_count": null,
   "metadata": {},
   "outputs": [],
   "source": [
    "import pandas as pd\n",
    "from IPython.display import clear_output\n",
    "import os\n",
    "\n",
    "from quick_pp.objects import Project, Well\n",
    "from quick_pp.qaqc import badhole_flag, mask_outside_threshold, neu_den_xplot_hc_correction"
   ]
  },
  {
   "cell_type": "code",
   "execution_count": null,
   "metadata": {},
   "outputs": [],
   "source": [
    "folder = r\"C:\\projects\\quick_pp\\notebooks\\data\\01_raw\"\n",
    "file_names = os.listdir(folder)\n",
    "files = [os.path.join(folder, file) for file in file_names]"
   ]
  },
  {
   "cell_type": "code",
   "execution_count": null,
   "metadata": {},
   "outputs": [],
   "source": [
    "project = Project(\"test\")"
   ]
  },
  {
   "cell_type": "code",
   "execution_count": null,
   "metadata": {},
   "outputs": [],
   "source": [
    "project._read_las(files)"
   ]
  },
  {
   "cell_type": "code",
   "execution_count": null,
   "metadata": {},
   "outputs": [],
   "source": [
    "project._save('test')"
   ]
  },
  {
   "cell_type": "code",
   "execution_count": null,
   "metadata": {},
   "outputs": [],
   "source": [
    "test_load = Project()._load(r\"C:\\projects\\quick_pp\\notebooks\\data\\04_project\\test.qpp\")"
   ]
  },
  {
   "cell_type": "code",
   "execution_count": null,
   "metadata": {},
   "outputs": [],
   "source": [
    "test_load.data['X3'].description"
   ]
  },
  {
   "cell_type": "markdown",
   "metadata": {},
   "source": [
    "# Lithology"
   ]
  },
  {
   "cell_type": "code",
   "execution_count": null,
   "metadata": {},
   "outputs": [],
   "source": [
    "from quick_pp.lithology.sand_silt_clay import SandSiltClay\n",
    "from quick_pp.plotter import plotly_log"
   ]
  },
  {
   "cell_type": "code",
   "execution_count": null,
   "metadata": {},
   "outputs": [],
   "source": [
    "args = {\n",
    "    # 'dry_clay_point': (0.27, 2.8)\n",
    "    'silt_line_angle': 117,\n",
    "    # 'wet_clay_point': (0.45, 2.45),\n",
    "}\n",
    "ssc_model = SandSiltClay(**args)\n",
    "\n",
    "neu_den_df = df[['DEPTH', 'NPHI', 'RHOB']].dropna()\n",
    "vsand, vsilt, vcld, vclb, xplot = ssc_model.estimate_lithology(\n",
    "    neu_den_df['NPHI'], neu_den_df['RHOB'], model='kuttan_modified', xplot=True)\n",
    "    # neu_den_df['NPHI'], neu_den_df['RHOB'], model='kuttan', xplot=True, **args)\n",
    "df_ssc_model = pd.DataFrame(\n",
    "    {'VSAND': vsand, 'VSILT': vsilt, 'VCLW': vcld + vclb, 'VCLB': vclb, 'VCLD': vcld},\n",
    "    index=neu_den_df.DEPTH\n",
    ")\n",
    "df_ssc = df.merge(df_ssc_model, how='left', on='DEPTH', suffixes=('_ORI', ''))"
   ]
  },
  {
   "cell_type": "code",
   "execution_count": null,
   "metadata": {},
   "outputs": [],
   "source": [
    "xplot"
   ]
  },
  {
   "cell_type": "code",
   "execution_count": null,
   "metadata": {},
   "outputs": [],
   "source": [
    "fig = plotly_log(df_ssc)\n",
    "fig.show()\n",
    "# fig.write_html('plot.html')"
   ]
  },
  {
   "cell_type": "markdown",
   "metadata": {},
   "source": [
    "## Hydrocarbon Correction"
   ]
  },
  {
   "cell_type": "code",
   "execution_count": null,
   "metadata": {},
   "outputs": [],
   "source": [
    "# Correct NPHI and RHOB for HC\n",
    "df_corr = df.copy()\n",
    "nphihc, rhobhc = neu_den_xplot_hc_correction(df_corr['NPHI'], df_corr['RHOB'], gr=df_corr['GR'],\n",
    "                                             dry_sand_point=(-.02, 2.65),\n",
    "                                             dry_clay_point=(.33, 2.7),\n",
    "                                             corr_angle=50)\n",
    "df_corr[['NPHI', 'RHOB']] = pd.DataFrame({'NPHI': nphihc, 'RHOB': rhobhc}).astype(float)\n",
    "neu_den_df = df_corr[['DEPTH', 'NPHI', 'RHOB']].dropna()\n",
    "\n",
    "vsand, vsilt, vcld, vclb, xplot = ssc_model.estimate_lithology(\n",
    "    neu_den_df['NPHI'], neu_den_df['RHOB'], model='kuttan_modified', xplot= True, normalize= True)\n",
    "    # neu_den_df['NPHI'], neu_den_df['RHOB'], model='kuttan', xplot=True, normalize= True)\n",
    "df_ssc_model = pd.DataFrame(\n",
    "    {'VSAND': vsand, 'VSILT': vsilt, 'VCLW': vcld + vclb, 'VCLB': vclb, 'VCLD': vcld},\n",
    "    index=neu_den_df.DEPTH\n",
    ")\n",
    "df_ssc_hc = df_corr.merge(df_ssc_model, how='left', on='DEPTH', suffixes=('_ORI', ''))"
   ]
  },
  {
   "cell_type": "code",
   "execution_count": null,
   "metadata": {},
   "outputs": [],
   "source": [
    "xplot"
   ]
  },
  {
   "cell_type": "code",
   "execution_count": null,
   "metadata": {},
   "outputs": [],
   "source": [
    "fig = plotly_log(df_ssc_hc)\n",
    "fig.show()\n",
    "# fig.write_html('plot.html')"
   ]
  },
  {
   "cell_type": "markdown",
   "metadata": {},
   "source": [
    "# Porosity"
   ]
  },
  {
   "cell_type": "code",
   "execution_count": null,
   "metadata": {},
   "outputs": [],
   "source": [
    "from quick_pp.porosity import neu_den_xplot_poro, density_porosity, rho_matrix"
   ]
  },
  {
   "cell_type": "code",
   "execution_count": null,
   "metadata": {},
   "outputs": [],
   "source": [
    "# To compare with actual PHIT\n",
    "df_ssc_hc['PHIT'] = neu_den_xplot_poro(df_ssc_hc['NPHI'], df_ssc_hc['RHOB'], 'ssc', True,\n",
    "                    dry_sand_point=(-.02, 2.65),\n",
    "                    dry_silt_point=(.1, 2.68),\n",
    "                    dry_clay_point=(.27, 2.7))"
   ]
  },
  {
   "cell_type": "code",
   "execution_count": null,
   "metadata": {},
   "outputs": [],
   "source": [
    "# To compare PHID with actual PHIT\n",
    "vsand, vsilt, vcld, vclb, xplot = ssc_model.estimate_lithology(\n",
    "    neu_den_df['NPHI'], neu_den_df['RHOB'], model='kuttan_modified', normalize=False)\n",
    "df_ssc_model = pd.DataFrame(\n",
    "    {'VSAND': vsand, 'VSILT': vsilt, 'VCLW': vcld + vclb, 'VCLB': vclb, 'VCLD': vcld},\n",
    ")\n",
    "rho_ma = rho_matrix(df_ssc_model['VSAND'], df_ssc_model['VSILT'], df_ssc_model['VCLD'])\n",
    "\n",
    "df_ssc_hc['PHID'] = density_porosity(df_ssc_hc['RHOB'], rho_ma)\n",
    "df_ssc_hc.plot(x='DEPTH', y=['PHIT', 'PHID'], figsize=(20, 5))"
   ]
  },
  {
   "cell_type": "markdown",
   "metadata": {},
   "source": [
    "# Water Saturation"
   ]
  },
  {
   "cell_type": "code",
   "execution_count": null,
   "metadata": {},
   "outputs": [],
   "source": [
    "from quick_pp.saturation import *\n",
    "from quick_pp.plotter import *"
   ]
  },
  {
   "cell_type": "code",
   "execution_count": null,
   "metadata": {},
   "outputs": [],
   "source": [
    "# Waxman-Smits method\n",
    "temp_grad = estimate_temperature_gradient(df_ssc_hc['DEPTH'] / 7, 'metric')  # Arbitrarily convert MD to TVD\n",
    "water_salinity = 30000\n",
    "rw = estimate_rw_temperature_salinity(temp_grad, water_salinity)\n",
    "\n",
    "b = estimate_b_waxman_smits(temp_grad, rw)\n",
    "\n",
    "qv = estimate_qv(df_ssc_hc.VCLD, df_ssc_hc.PHIT, cec_clay=.1)\n",
    "# qv = estimate_qv_hill(df_ssc_model['VCLB'], df_ssc_hc.PHIT, water_salinity)\n",
    "# qv = estimate_qv_lavers(df_ssc_hc.PHIT)\n",
    "\n",
    "# m = estimate_m_archie(df_ssc_hc['RT'], rw, df_ssc_hc['PHIT'])\n",
    "# m = estimate_m_indonesian(df_ssc_hc['RT'], rw, df_ssc_hc['PHIT'], df_ssc_hc['VCLD'], 50)\n",
    "m = 2\n",
    "\n",
    "df_ssc_hc['SWT'] = waxman_smits_saturation(df_ssc_hc['RT'], rw, df_ssc_hc['PHIT'], qv, b, m)\n",
    "\n",
    "# Archie method\n",
    "df_ssc_hc['SWT_A'] = archie_saturation(df_ssc_hc['RT'], rw, df_ssc_hc['PHIT'], 1, 2, 2)\n",
    "\n",
    "df_ssc_hc.plot(x='DEPTH', y=['SWT', 'SWT_A'], figsize=(20, 5))"
   ]
  },
  {
   "cell_type": "markdown",
   "metadata": {},
   "source": [
    "# Permeability"
   ]
  },
  {
   "cell_type": "code",
   "execution_count": null,
   "metadata": {},
   "outputs": [],
   "source": [
    "from quick_pp.permeability import *"
   ]
  },
  {
   "cell_type": "code",
   "execution_count": null,
   "metadata": {},
   "outputs": [],
   "source": [
    "constant = df_ssc_hc['VCLB']**1.75\n",
    "Swirr = constant / df_ssc_hc['PHIT']\n",
    "df_ssc_hc['PERM'] = choo_permeability(df_ssc_hc['VCLW'], df_ssc_hc['VSILT'], df_ssc_hc['PHIT'])\n",
    "df_ssc_hc['PERM_KC'] = kozeny_carman_permeability(df_ssc_hc['PHIT'], Swirr)\n",
    "df_ssc_hc['PERM_T'] = timur_permeability(df_ssc_hc['PHIT'], Swirr)\n",
    "df_ssc_hc['PERM_C'] = coates_permeability(df_ssc_hc['PHIT'], Swirr)\n",
    "df_ssc_hc['PERM_TX'] = tixier_permeability(df_ssc_hc['PHIT'], Swirr)\n",
    "df_ssc_hc.plot(x='DEPTH', y=['PERM', 'PERM_KC', 'PERM_T', 'PERM_C', 'PERM_TX'], figsize=(20, 5), logy=True)"
   ]
  },
  {
   "cell_type": "markdown",
   "metadata": {},
   "source": [
    "# Reservoir Summary"
   ]
  },
  {
   "cell_type": "code",
   "execution_count": null,
   "metadata": {},
   "outputs": [],
   "source": [
    "from quick_pp.ressum import *"
   ]
  },
  {
   "cell_type": "code",
   "execution_count": null,
   "metadata": {},
   "outputs": [],
   "source": [
    "df_ssc_hc['ZONES'] = 'ALL'\n",
    "depth = df_ssc_hc.DEPTH\n",
    "vshale = df_ssc_hc.VCLW\n",
    "phit = df_ssc_hc.PHIT\n",
    "swt = df_ssc_hc.SWT\n",
    "perm = df_ssc_hc.PERM\n",
    "zones = df_ssc_hc.ZONES\n",
    "ressum_df = calc_reservoir_summary(depth, vshale, phit, swt, perm, zones, cutoffs=[0.3, 0.1, .75])\n",
    "ressum_df"
   ]
  },
  {
   "cell_type": "code",
   "execution_count": null,
   "metadata": {},
   "outputs": [],
   "source": [
    "fig = plotly_log(df_ssc_hc)\n",
    "fig.show()\n",
    "# fig.write_html('plot.html')"
   ]
  },
  {
   "cell_type": "markdown",
   "metadata": {},
   "source": [
    "# Rock Type"
   ]
  },
  {
   "cell_type": "code",
   "execution_count": null,
   "metadata": {},
   "outputs": [],
   "source": [
    "std = df_ssc_hc['VCLW'].describe()['std']\n",
    "standard_q = [0.05, 0.15, 0.5]\n",
    "proportion = [pct - std for pct in standard_q]\n",
    "proportion = standard_q if any([p < 0.15 for p in proportion]) else proportion\n",
    "q_dict = df_ssc_hc['VCLW'].quantile(proportion).to_dict()\n",
    "q_dict"
   ]
  },
  {
   "cell_type": "code",
   "execution_count": null,
   "metadata": {},
   "outputs": [],
   "source": [
    "df_ssc_hc['ROCK_TYPE'] = np.where(df_ssc_hc['VCLW'] < list(q_dict.values())[0], 1,\n",
    "                               np.where(df_ssc_hc['VCLW'] < list(q_dict.values())[1], 2,\n",
    "                                        np.where(df_ssc_hc['VCLW'] < list(q_dict.values())[2], 3, 4)))"
   ]
  },
  {
   "cell_type": "code",
   "execution_count": null,
   "metadata": {},
   "outputs": [],
   "source": [
    "df_ssc_hc.plot(y='PERM', x='PHIT', logy=True, kind='scatter', figsize=(5, 5), c='ROCK_TYPE', colormap='viridis')"
   ]
  }
 ],
 "metadata": {
  "kernelspec": {
   "display_name": "venv310",
   "language": "python",
   "name": "python3"
  },
  "language_info": {
   "codemirror_mode": {
    "name": "ipython",
    "version": 3
   },
   "file_extension": ".py",
   "mimetype": "text/x-python",
   "name": "python",
   "nbconvert_exporter": "python",
   "pygments_lexer": "ipython3",
   "version": "3.10.9"
  }
 },
 "nbformat": 4,
 "nbformat_minor": 2
}
