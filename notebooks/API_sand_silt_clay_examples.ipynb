{
 "cells": [
  {
   "cell_type": "markdown",
   "metadata": {},
   "source": [
    "Run the following in the command line, before proceeding to the examples\n",
    "> uvicorn api.main:app\n",
    "\n",
    "View the API documentation at localhost:8000/docs or localhost:8000/redoc"
   ]
  },
  {
   "cell_type": "code",
   "execution_count": null,
   "metadata": {},
   "outputs": [],
   "source": [
    "import sys\n",
    "sys.path.append('..')\n",
    "%load_ext autoreload\n",
    "%autoreload 2\n",
    "%matplotlib inline"
   ]
  },
  {
   "cell_type": "code",
   "execution_count": null,
   "metadata": {},
   "outputs": [],
   "source": [
    "import pandas as pd\n",
    "from IPython.display import clear_output\n",
    "import requests\n",
    "\n",
    "import quick_pp.las_handler as las\n",
    "from quick_pp.qaqc import badhole_flag, mask_outside_threshold, neu_den_xplot_hc_correction\n",
    "from quick_pp.plotter import plotly_log"
   ]
  },
  {
   "cell_type": "code",
   "execution_count": null,
   "metadata": {},
   "outputs": [],
   "source": [
    "with open('X10_raw.las', 'rb') as f:\n",
    "    df, header, _ = las.read_las_file(f)\n",
    "\n",
    "# Mask outside threshold\n",
    "df = mask_outside_threshold(df, True)\n",
    "\n",
    "# Flag bad hole\n",
    "df = badhole_flag(df) if 'CALI' in df.columns else df\n",
    "# Prepare the data for the prediction request.\n",
    "df.interpolate(inplace=True)  # Interpolate null values\n",
    "df.dropna(inplace=True)  # Drop remaining null values\n",
    "clear_output()"
   ]
  },
  {
   "cell_type": "code",
   "execution_count": null,
   "metadata": {},
   "outputs": [],
   "source": [
    "def make_api_request(df_dict: dict,\n",
    "                     endpoint: str,\n",
    "                     session: requests.Session = None,\n",
    "                     verify: bool = False) -> list:\n",
    "    \"\"\"\"\"\n",
    "    This method sends a prediction request to the FastAPI Swagger UI. It uses the provided DataFrame\n",
    "    dictionary, field, use case, method, and model to make the request. It also uses the provided session\n",
    "    and verify flag.\n",
    "\n",
    "    Args:\n",
    "        df_dict (dict): The DataFrame dictionary to use for the prediction request.\n",
    "        field (str): The field to use for the prediction request.\n",
    "        use_case (str): The use case to use for the prediction request.\n",
    "        method (str): The method to use for the prediction request.\n",
    "        model (str): The model to use for the prediction request.\n",
    "        session (requests.Session, optional): The session to use for the prediction request.\n",
    "        If not provided, a new session will be created. Defaults to None.\n",
    "        verify (bool, optional): The verify flag to use for the prediction request.\n",
    "        If set to False, the SSL certificate will not be verified. Defaults to False.\n",
    "\n",
    "    Returns:\n",
    "        list: The prediction result if the request is successful.\n",
    "\n",
    "    Raises:\n",
    "        AssertionError: If the first key in the DataFrame dictionary is not \"data\".\n",
    "    \"\"\"\n",
    "    assert \"data\" in df_dict.keys()\n",
    "\n",
    "    # Define model API server to the FastAPI Swagger UI.\n",
    "    model_server = {\n",
    "        \"local\": \"http://localhost:8000\",\n",
    "    }\n",
    "\n",
    "    headers = {\n",
    "        \"Content-Type\": \"application/json\",\n",
    "        \"accept\": \"application/json\",\n",
    "    }\n",
    "\n",
    "    try:\n",
    "        # Create url to access the model API.\n",
    "        url = f\"{model_server['local']}/api/{endpoint}\"\n",
    "        print(f\"Requesting API to {url}\")\n",
    "\n",
    "        # Get the response from the API.\n",
    "        response = session.post(url=url,\n",
    "                                json=df_dict,\n",
    "                                headers=headers,\n",
    "                                verify=verify)\n",
    "        status = response.status_code\n",
    "\n",
    "        if status == 200:\n",
    "            return response.json()\n",
    "        else:\n",
    "            print(f\"[make_api_request] Error | {response.text} \")\n",
    "\n",
    "    except Exception as e:\n",
    "        print(f\"[make_api_request] Error | {e} \")\n",
    "\n",
    "\n",
    "session = requests.Session()"
   ]
  },
  {
   "cell_type": "markdown",
   "metadata": {},
   "source": [
    "# Lithology"
   ]
  },
  {
   "cell_type": "code",
   "execution_count": null,
   "metadata": {},
   "outputs": [],
   "source": [
    "data_dict = {\n",
    "    \"dry_sand_point\": [\n",
    "        -0.02,\n",
    "        2.65\n",
    "    ],\n",
    "    \"dry_silt_point\": [\n",
    "        None,\n",
    "        2.68\n",
    "    ],\n",
    "    \"dry_clay_point\": [\n",
    "        None,\n",
    "        2.7\n",
    "    ],\n",
    "    \"fluid_point\": [\n",
    "        1,\n",
    "        1\n",
    "    ],\n",
    "    \"wet_clay_point\": [\n",
    "        None,\n",
    "        None\n",
    "    ],\n",
    "    \"method\": \"kuttan_modified\",\n",
    "    \"silt_line_angle\": 117,\n",
    "}"
   ]
  },
  {
   "cell_type": "code",
   "execution_count": null,
   "metadata": {},
   "outputs": [],
   "source": [
    "df_dict = pd.DataFrame()\n",
    "df_dict[['nphi', 'rhob']] = df[['NPHI', 'RHOB']]\n",
    "df_dict = {\"data\": df_dict.to_dict(orient=\"records\")}  # Convert data_df to dictionary\n",
    "df_dict.update(data_dict)\n",
    "\n",
    "# Make the prediction request via API.\n",
    "api_data_response = make_api_request(df_dict=df_dict, endpoint='lithology/ssc', session=session)\n",
    "df_ssc = df.copy()\n",
    "df_ssc[['VSAND', 'VSILT', 'VCLW']] = pd.DataFrame(api_data_response)[['VSAND', 'VSILT', 'VCLW']]"
   ]
  },
  {
   "cell_type": "code",
   "execution_count": null,
   "metadata": {},
   "outputs": [],
   "source": [
    "fig = plotly_log(df_ssc)\n",
    "fig.show()\n",
    "# fig.write_html('plot.html')"
   ]
  },
  {
   "cell_type": "markdown",
   "metadata": {},
   "source": [
    "## Hydrocarbon Correction"
   ]
  },
  {
   "cell_type": "code",
   "execution_count": null,
   "metadata": {},
   "outputs": [],
   "source": [
    "df_dict = pd.DataFrame()\n",
    "df_dict[['nphi', 'rhob', 'gr']] = df[['NPHI', 'RHOB', 'GR']]\n",
    "df_dict = {\"data\": df_dict.to_dict(orient=\"records\")}  # Convert data_df to dictionary\n",
    "df_dict.update(data_dict)\n",
    "df_dict.update({'dry_clay_point': (0.33, 2.7), 'corr_angle': 50})\n",
    "\n",
    "# Make the prediction request via API.\n",
    "api_data_response = make_api_request(df_dict=df_dict, endpoint='lithology/hc_corr', session=session)\n",
    "df_corr = df.copy()\n",
    "df_corr[['VSAND', 'VSILT', 'VCLW', 'VCLD', 'VCLB']] = pd.DataFrame(api_data_response)[['VSAND', 'VSILT', 'VCLW', 'VCLD', 'VCLB']]"
   ]
  },
  {
   "cell_type": "code",
   "execution_count": null,
   "metadata": {},
   "outputs": [],
   "source": [
    "fig = plotly_log(df_corr)\n",
    "fig.show()\n",
    "# fig.write_html('plot.html')"
   ]
  },
  {
   "cell_type": "markdown",
   "metadata": {},
   "source": [
    "# Porosity"
   ]
  },
  {
   "cell_type": "code",
   "execution_count": null,
   "metadata": {},
   "outputs": [],
   "source": [
    "# df_dict = pd.DataFrame()\n",
    "# df_dict[['nphi', 'rhob', 'gr']] = df[['NPHI', 'RHOB', 'GR']]\n",
    "# df_dict = {\"data\": df_dict.to_dict(orient=\"records\")}  # Convert data_df to dictionary\n",
    "# df_dict.update(data_dict)\n",
    "# df_dict.update({'dry_clay_point': (0.33, 2.7), 'corr_angle': 50})\n",
    "\n",
    "# Make the prediction request via API.\n",
    "api_data_response = make_api_request(df_dict=df_dict, endpoint='porosity/den', session=session)\n",
    "df_corr['PHID'] = pd.DataFrame(api_data_response)['PHID']"
   ]
  },
  {
   "cell_type": "code",
   "execution_count": null,
   "metadata": {},
   "outputs": [],
   "source": [
    "# Make the prediction request via API.\n",
    "api_data_response = make_api_request(df_dict=df_dict, endpoint='porosity/neu_den', session=session)\n",
    "df_corr['PHIT'] = pd.DataFrame(api_data_response)['PHIT']"
   ]
  },
  {
   "cell_type": "code",
   "execution_count": null,
   "metadata": {},
   "outputs": [],
   "source": [
    "df_corr.plot(x='DEPTH', y=['PHIT', 'PHID'], figsize=(20, 5))"
   ]
  },
  {
   "cell_type": "markdown",
   "metadata": {},
   "source": [
    "# Water Saturation"
   ]
  },
  {
   "cell_type": "code",
   "execution_count": null,
   "metadata": {},
   "outputs": [],
   "source": [
    "# Estimate the temperature gradient\n",
    "\n",
    "df_dict = pd.DataFrame()\n",
    "df_dict[['tvdss']] = df[['DEPTH']]\n",
    "df_dict = {\"data\": df_dict.to_dict(orient=\"records\")}  # Convert data_df to dictionary\n",
    "# df_dict.update(data_dict)\n",
    "# df_dict.update({'dry_clay_point': (0.33, 2.7), 'corr_angle': 50})\n",
    "\n",
    "# Make the prediction request via API.\n",
    "api_data_response = make_api_request(df_dict=df_dict, endpoint='saturation/temp_grad', session=session)\n",
    "df_corr['TEMP_GRAD'] = pd.DataFrame(api_data_response)['TEMP_GRAD']"
   ]
  },
  {
   "cell_type": "code",
   "execution_count": null,
   "metadata": {},
   "outputs": [],
   "source": [
    "# Estimate the formation water resistivity\n",
    "\n",
    "df_dict = pd.DataFrame()\n",
    "df_dict[['temp_grad']] = df_corr[['TEMP_GRAD']].dropna()\n",
    "df_dict = {\"data\": df_dict.to_dict(orient=\"records\")}  # Convert data_df to dictionary\n",
    "# df_dict.update(data_dict)\n",
    "df_dict.update({'water_salinity': 30000})\n",
    "\n",
    "# Make the prediction request via API.\n",
    "api_data_response = make_api_request(df_dict=df_dict, endpoint='saturation/rw', session=session)\n",
    "df_corr['RW'] = pd.DataFrame(api_data_response)['RW']"
   ]
  },
  {
   "cell_type": "code",
   "execution_count": null,
   "metadata": {},
   "outputs": [],
   "source": [
    "# Estimate archie water saturation\n",
    "\n",
    "df_dict = pd.DataFrame()\n",
    "df_dict[['rt', 'rw', 'phit']] = df_corr[['RT', 'RW', 'PHIT']].dropna()\n",
    "df_dict = {\"data\": df_dict.to_dict(orient=\"records\")}  # Convert data_df to dictionary\n",
    "# df_dict.update(data_dict)\n",
    "# df_dict.update({'dry_clay_point': (0.33, 2.7), 'corr_angle': 50})\n",
    "\n",
    "# Make the prediction request via API.\n",
    "api_data_response = make_api_request(df_dict=df_dict, endpoint='saturation/archie', session=session)\n",
    "df_corr['SWT_A'] = pd.DataFrame(api_data_response)['SWT']"
   ]
  },
  {
   "cell_type": "code",
   "execution_count": null,
   "metadata": {},
   "outputs": [],
   "source": [
    "# Estimate the conductivity factor, b\n",
    "\n",
    "df_dict = pd.DataFrame()\n",
    "df_dict[['temp_grad', 'rw']] = df_corr[['TEMP_GRAD', 'RW']].dropna()\n",
    "df_dict = {\"data\": df_dict.to_dict(orient=\"records\")}  # Convert data_df to dictionary\n",
    "# df_dict.update(data_dict)\n",
    "\n",
    "# Make the prediction request via API.\n",
    "api_data_response = make_api_request(df_dict=df_dict, endpoint='saturation/b_waxman_smits', session=session)\n",
    "df_corr['B'] = pd.DataFrame(api_data_response)['B']"
   ]
  },
  {
   "cell_type": "code",
   "execution_count": null,
   "metadata": {},
   "outputs": [],
   "source": [
    "# Estimate the cation exchange capacity, qv\n",
    "\n",
    "df_dict = pd.DataFrame()\n",
    "df_dict[['vcld', 'phit']] = df_corr[['VCLD', 'PHIT']].dropna()\n",
    "df_dict = {\"data\": df_dict.to_dict(orient=\"records\")}  # Convert data_df to dictionary\n",
    "# df_dict.update(data_dict)\n",
    "df_dict.update({'rho_clay': 2.65, 'cec_clay': 0.062})\n",
    "\n",
    "# Make the prediction request via API.\n",
    "api_data_response = make_api_request(df_dict=df_dict, endpoint='saturation/estimate_qv', session=session)\n",
    "df_corr['QV'] = pd.DataFrame(api_data_response)['QV']"
   ]
  },
  {
   "cell_type": "code",
   "execution_count": null,
   "metadata": {},
   "outputs": [],
   "source": [
    "# Estimate waxman-smits water saturation\n",
    "df_corr['M'] = 2\n",
    "df_dict = pd.DataFrame()\n",
    "df_dict[['rt', 'rw', 'phit', 'b', 'qv', 'm']] = df_corr[['RT', 'RW', 'PHIT', 'B', 'QV', 'M']].dropna()\n",
    "df_dict = {\"data\": df_dict.to_dict(orient=\"records\")}  # Convert data_df to dictionary\n",
    "# df_dict.update(data_dict)\n",
    "\n",
    "# Make the prediction request via API.\n",
    "api_data_response = make_api_request(df_dict=df_dict, endpoint='saturation/waxman_smits', session=session)\n",
    "df_corr['SWT'] = pd.DataFrame(api_data_response)['SWT']"
   ]
  },
  {
   "cell_type": "code",
   "execution_count": null,
   "metadata": {},
   "outputs": [],
   "source": [
    "df_corr.plot(x='DEPTH', y=['SWT', 'SWT_A'], figsize=(20, 5))"
   ]
  },
  {
   "cell_type": "markdown",
   "metadata": {},
   "source": [
    "# Permeability"
   ]
  },
  {
   "cell_type": "code",
   "execution_count": null,
   "metadata": {},
   "outputs": [],
   "source": [
    "constant = df_corr['VCLB']**1.75\n",
    "df_corr['SWIRR'] = constant / df_corr['PHIT']\n",
    "temp = df_corr[['PHIT', 'SWIRR']].dropna().round(3).sample(10)\n",
    "temp.columns = temp.columns.str.lower()\n",
    "\n",
    "temp.to_dict(orient='records')"
   ]
  },
  {
   "cell_type": "code",
   "execution_count": null,
   "metadata": {},
   "outputs": [],
   "source": [
    "# Estimate Choo's permeability\n",
    "\n",
    "df_dict = pd.DataFrame()\n",
    "df_dict[['vclw', 'vsilt', 'phit']] = df_corr[['VCLW', 'VSILT', 'PHIT']].dropna()\n",
    "df_dict = {\"data\": df_dict.to_dict(orient=\"records\")}  # Convert data_df to dictionary\n",
    "# df_dict.update(data_dict)\n",
    "\n",
    "# Make the prediction request via API.\n",
    "api_data_response = make_api_request(df_dict=df_dict, endpoint='permeability/choo', session=session)\n",
    "df_corr['PERM_CH'] = pd.DataFrame(api_data_response)['PERM']"
   ]
  },
  {
   "cell_type": "code",
   "execution_count": null,
   "metadata": {},
   "outputs": [],
   "source": [
    "# Estimate other's permeability\n",
    "constant = df_corr['VCLB']**1.75\n",
    "df_corr['SWIRR'] = constant / df_corr['PHIT']\n",
    "df_dict = pd.DataFrame()\n",
    "df_dict[['phit', 'swirr']] = df_corr[['PHIT', 'SWIRR']].dropna()\n",
    "df_dict = {\"data\": df_dict.to_dict(orient=\"records\")}  # Convert data_df to dictionary\n",
    "# df_dict.update(data_dict)\n",
    "\n",
    "# Make the prediction request via API.\n",
    "api_data_response = make_api_request(df_dict=df_dict, endpoint='permeability/timur', session=session)\n",
    "df_corr['PERM_T'] = pd.DataFrame(api_data_response)['PERM']\n",
    "\n",
    "# Make the prediction request via API.\n",
    "api_data_response = make_api_request(df_dict=df_dict, endpoint='permeability/tixier', session=session)\n",
    "df_corr['PERM_TX'] = pd.DataFrame(api_data_response)['PERM']\n",
    "\n",
    "# Make the prediction request via API.\n",
    "api_data_response = make_api_request(df_dict=df_dict, endpoint='permeability/coates', session=session)\n",
    "df_corr['PERM_C'] = pd.DataFrame(api_data_response)['PERM']\n",
    "\n",
    "# Make the prediction request via API.\n",
    "api_data_response = make_api_request(df_dict=df_dict, endpoint='permeability/kozeny_carman', session=session)\n",
    "df_corr['PERM_KC'] = pd.DataFrame(api_data_response)['PERM']"
   ]
  },
  {
   "cell_type": "code",
   "execution_count": null,
   "metadata": {},
   "outputs": [],
   "source": [
    "df_corr.plot(x='DEPTH', y=['PERM', 'PERM_KC', 'PERM_T', 'PERM_C', 'PERM_TX'], figsize=(20, 5), logy=True)"
   ]
  },
  {
   "cell_type": "markdown",
   "metadata": {},
   "source": [
    "# Reservoir Summary"
   ]
  },
  {
   "cell_type": "code",
   "execution_count": null,
   "metadata": {},
   "outputs": [],
   "source": [
    "# Calculate reservoir summary\n",
    "df_corr['ZONES'] = 'ALL'\n",
    "df_dict = pd.DataFrame()\n",
    "df_dict[['depth', 'vclw', 'phit', 'swt', 'perm', 'zones']] = df_corr[\n",
    "    ['DEPTH', 'VCLW', 'PHIT', 'SWT', 'PERM', 'ZONES']].dropna()\n",
    "df_dict = {\"data\": df_dict.to_dict(orient=\"records\")}  # Convert data_df to dictionary\n",
    "# df_dict.update(data_dict)\n",
    "df_dict.update({'cut_offs': [0.4, .05, .8]})\n",
    "\n",
    "# Make the prediction request via API.\n",
    "api_data_response = make_api_request(df_dict=df_dict, endpoint='ressum', session=session)\n",
    "ressum_df = pd.DataFrame(api_data_response)"
   ]
  },
  {
   "cell_type": "code",
   "execution_count": null,
   "metadata": {},
   "outputs": [],
   "source": [
    "ressum_df"
   ]
  },
  {
   "cell_type": "markdown",
   "metadata": {},
   "source": [
    "# Rock Type"
   ]
  },
  {
   "cell_type": "code",
   "execution_count": null,
   "metadata": {},
   "outputs": [],
   "source": [
    "std = df_ssc_hc['VCLW'].describe()['std']\n",
    "standard_q = [0.05, 0.15, 0.5]\n",
    "proportion = [pct - std for pct in standard_q]\n",
    "proportion = standard_q if any([p < 0.15 for p in proportion]) else proportion\n",
    "q_dict = df_ssc_hc['VCLW'].quantile(proportion).to_dict()\n",
    "q_dict"
   ]
  },
  {
   "cell_type": "code",
   "execution_count": null,
   "metadata": {},
   "outputs": [],
   "source": [
    "df_ssc_hc['ROCK_TYPE'] = np.where(df_ssc_hc['VCLW'] < list(q_dict.values())[0], 1,\n",
    "                               np.where(df_ssc_hc['VCLW'] < list(q_dict.values())[1], 2,\n",
    "                                        np.where(df_ssc_hc['VCLW'] < list(q_dict.values())[2], 3, 4)))"
   ]
  },
  {
   "cell_type": "code",
   "execution_count": null,
   "metadata": {},
   "outputs": [],
   "source": [
    "df_ssc_hc.plot(y='PERM', x='PHIT', logy=True, kind='scatter', figsize=(5, 5), c='ROCK_TYPE', colormap='viridis')"
   ]
  }
 ],
 "metadata": {
  "kernelspec": {
   "display_name": "venv310",
   "language": "python",
   "name": "python3"
  },
  "language_info": {
   "codemirror_mode": {
    "name": "ipython",
    "version": 3
   },
   "file_extension": ".py",
   "mimetype": "text/x-python",
   "name": "python",
   "nbconvert_exporter": "python",
   "pygments_lexer": "ipython3",
   "version": "3.10.9"
  }
 },
 "nbformat": 4,
 "nbformat_minor": 2
}
