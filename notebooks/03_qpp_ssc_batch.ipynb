{
 "cells": [
  {
   "cell_type": "code",
   "execution_count": null,
   "metadata": {},
   "outputs": [],
   "source": [
    "import sys\n",
    "sys.path.append('..')\n",
    "%load_ext autoreload\n",
    "%autoreload 2\n",
    "%matplotlib inline"
   ]
  },
  {
   "cell_type": "code",
   "execution_count": null,
   "metadata": {},
   "outputs": [],
   "source": [
    "import pandas as pd\n",
    "from IPython.display import clear_output\n",
    "import os\n",
    "\n",
    "from quick_pp.objects import Project, Well"
   ]
  },
  {
   "cell_type": "code",
   "execution_count": null,
   "metadata": {},
   "outputs": [],
   "source": [
    "folder = r\"C:\\projects\\quick_pp\\notebooks\\data\\01_raw\"\n",
    "file_names = os.listdir(folder)\n",
    "files = [os.path.join(folder, file) for file in file_names]"
   ]
  },
  {
   "cell_type": "code",
   "execution_count": null,
   "metadata": {},
   "outputs": [],
   "source": [
    "project = Project(\"Mock\")\n",
    "project.read_las(files)\n",
    "clear_output()"
   ]
  },
  {
   "cell_type": "code",
   "execution_count": null,
   "metadata": {},
   "outputs": [],
   "source": [
    "# # Load project from saved file\n",
    "# project = Project().load(r\"C:\\projects\\quick_pp\\notebooks\\data\\04_project\\test.qpp\")"
   ]
  },
  {
   "cell_type": "markdown",
   "metadata": {},
   "source": [
    "# Quick PP Interpretation"
   ]
  },
  {
   "cell_type": "code",
   "execution_count": null,
   "metadata": {},
   "outputs": [],
   "source": [
    "from quick_pp.lithology.sand_silt_clay import SandSiltClay\n",
    "from quick_pp.porosity import neu_den_xplot_poro, density_porosity, rho_matrix\n",
    "from quick_pp.qaqc import badhole_flag, mask_outside_threshold, neu_den_xplot_hc_correction\n",
    "from quick_pp.saturation import *\n",
    "from quick_pp.plotter import *\n",
    "from quick_pp.permeability import *\n",
    "from quick_pp.ressum import *\n",
    "from quick_pp.rock_type import rock_type\n",
    "from quick_pp.plotter import plotly_log"
   ]
  },
  {
   "cell_type": "code",
   "execution_count": null,
   "metadata": {},
   "outputs": [],
   "source": [
    "df = project.get_all_data()\n",
    "for well_name, well_data in df.groupby('WELL_NAME'):\n",
    "    # Implement hydrocarbon correction\n",
    "    nphihc, rhobhc, hc_flag = neu_den_xplot_hc_correction(\n",
    "        well_data['NPHI'], well_data['RHOB'], gr=well_data['GR'],\n",
    "        dry_sand_point=(-.02, 2.65),\n",
    "        dry_clay_point=(.33, 2.7),\n",
    "        corr_angle=50\n",
    "    )\n",
    "\n",
    "    # Estimate lithology\n",
    "    args = {\n",
    "        # 'dry_clay_point': (0.27, 2.8)\n",
    "        'silt_line_angle': 117,\n",
    "        # 'wet_clay_point': (0.45, 2.45),\n",
    "    }\n",
    "    ssc_model = SandSiltClay(**args)\n",
    "    vsand, vsilt, vcld, vclb, _ = ssc_model.estimate_lithology(\n",
    "        nphihc, rhobhc, model='kuttan_modified', xplot=False, normalize= True\n",
    "    )\n",
    "    vclw = vcld + vclb\n",
    "\n",
    "    # Estimate porosity\n",
    "    phit = neu_den_xplot_poro(nphihc, rhobhc, model='ssc', reservoir=True,\n",
    "                    dry_sand_point=(-.02, 2.65),\n",
    "                    dry_silt_point=(.1, 2.68),\n",
    "                    dry_clay_point=(.27, 2.7))\n",
    "\n",
    "    rho_ma = rho_matrix(vsand, vsilt, vcld)\n",
    "    phid = density_porosity(rhobhc, rho_ma)\n",
    "\n",
    "    # Estimate water saturation\n",
    "    temp_grad = estimate_temperature_gradient(well_data['DEPTH'] / 7, 'metric')  # Arbitrarily convert MD to TVD\n",
    "    water_salinity = 30000\n",
    "    rw = estimate_rw_temperature_salinity(temp_grad, water_salinity)\n",
    "    b = estimate_b_waxman_smits(temp_grad, rw)\n",
    "    qv = estimate_qv(vcld, phit, cec_clay=.1)\n",
    "    # TODO: Implement m estimation/ based on zonation\n",
    "    m = 2\n",
    "\n",
    "    swt = waxman_smits_saturation(well_data['RT'], rw, phit, qv, b, m)\n",
    "    swt_a = archie_saturation(well_data['RT'], rw, phit, 1, 2, 2)\n",
    "\n",
    "    # Estimate permeability\n",
    "    constant = vclb**1.75\n",
    "    Swirr = constant / phit\n",
    "    perm = choo_permeability(vclw, vsilt, phit)\n",
    "    perm_kc = kozeny_carman_permeability(phit, Swirr)\n",
    "    perm_t = timur_permeability(phit, Swirr)\n",
    "    perm_c = coates_permeability(phit, Swirr)\n",
    "    perm_tx = tixier_permeability(phit, Swirr)\n",
    "\n",
    "    # Estimate rock types\n",
    "    rock_flag = rock_type(vclw)\n",
    "\n",
    "    # Estimate reservoir summary\n",
    "    zones = well_data['ZONES'] = 'ALL' \n",
    "    ressum_df = calc_reservoir_summary(well_data.DEPTH, vclw, phit, swt, perm, zones, cutoffs=[0.3, 0.1, .75])\n",
    "\n",
    "    # Update data in the project\n",
    "    well_data['NPHI_HC'] = nphihc\n",
    "    well_data['RHOB_HC'] = rhobhc\n",
    "    well_data['VSAND'] = vsand\n",
    "    well_data['VSILT'] = vsilt\n",
    "    well_data['VCLD'] = vcld\n",
    "    well_data['VCLW'] = vclw\n",
    "    well_data['PHIT'] = phit\n",
    "    well_data['PHID'] = phid\n",
    "    well_data['SWT'] = swt\n",
    "    well_data['PERM'] = perm\n",
    "    well_data['ROCK_FLAG'] = rock_flag\n",
    "    project.update_well_data(well_name, well_data)\n",
    "    project.update_well_ressum(well_name, ressum_df)\n"
   ]
  },
  {
   "cell_type": "code",
   "execution_count": null,
   "metadata": {},
   "outputs": [],
   "source": [
    "# Plot the results\n",
    "well_name = 'X10_raw'\n",
    "well_data = project.get_well_data(well_name)\n",
    "\n",
    "fig = plotly_log(well_data)\n",
    "fig.show()"
   ]
  },
  {
   "cell_type": "code",
   "execution_count": null,
   "metadata": {},
   "outputs": [],
   "source": [
    "project.save('mock')"
   ]
  }
 ],
 "metadata": {
  "kernelspec": {
   "display_name": "venv310",
   "language": "python",
   "name": "python3"
  },
  "language_info": {
   "codemirror_mode": {
    "name": "ipython",
    "version": 3
   },
   "file_extension": ".py",
   "mimetype": "text/x-python",
   "name": "python",
   "nbconvert_exporter": "python",
   "pygments_lexer": "ipython3",
   "version": "3.10.9"
  }
 },
 "nbformat": 4,
 "nbformat_minor": 2
}
