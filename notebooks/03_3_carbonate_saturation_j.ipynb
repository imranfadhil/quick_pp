{
 "cells": [
  {
   "cell_type": "markdown",
   "metadata": {},
   "source": [
    "# quick_pp"
   ]
  },
  {
   "cell_type": "code",
   "execution_count": null,
   "metadata": {},
   "outputs": [],
   "source": [
    "import sys\n",
    "sys.path.append('..')\n",
    "%load_ext autoreload\n",
    "%autoreload 2\n",
    "%matplotlib inline"
   ]
  },
  {
   "cell_type": "code",
   "execution_count": null,
   "metadata": {},
   "outputs": [],
   "source": [
    "import pandas as pd\n",
    "import matplotlib.pyplot as plt\n",
    "import pickle\n",
    "\n",
    "from quick_pp.objects import Project\n",
    "from quick_pp.rock_type import calc_r35_perm\n",
    "\n",
    "# Load well from saved file\n",
    "project = \"MOCK_carbonate\"\n",
    "project_path = rf\"data\\04_project\\{project}.qppp\"\n",
    "project = Project().load(project_path)\n",
    "project.get_well_names()\n",
    "\n",
    "all_data = project.get_all_data()\n",
    "\n",
    "focused_well = 'HW-26'\n",
    "well_data = all_data[all_data.WELL_NAME == focused_well].copy()"
   ]
  },
  {
   "cell_type": "markdown",
   "metadata": {},
   "source": [
    "# Water Saturation Estimation"
   ]
  },
  {
   "cell_type": "markdown",
   "metadata": {},
   "source": [
    "Water saturation estimation is crucial in petrophysics for several reasons:\n",
    "\n",
    "1. **Hydrocarbon Volume Calculation**: It helps determine the volume of hydrocarbons in place. Accurate water saturation (Sw) values are essential for calculating the original oil in place (OOIP) and original gas in place (OGIP) volumes¹(https://petroshine.com/fluid-saturation/).\n",
    "2. **Reservoir Characterization**: Understanding the distribution of water saturation helps in characterizing the reservoir, which is vital for planning production strategies and enhancing recovery¹(https://petroshine.com/fluid-saturation/).\n",
    "3. **Production Forecasting**: Sw values are used in reservoir models to predict future production and to evaluate the economic viability of the reservoir²(https://www.mdpi.com/2077-1312/9/6/666).\n",
    "\n",
    "### Methods to Estimate Water Saturation\n",
    "\n",
    "1. **Resistivity Logs**: This is the most common method, where water saturation is estimated using resistivity measurements from well logs. The Archie equation is often used for clean sands, while modified versions like the Waxman-Smits model are used for shaly sands³(https://petrowiki.spe.org/Water_saturation_determination).\n",
    "2. **Capillary Pressure Measurements**: Laboratory measurements of capillary pressure and corresponding water saturation provide detailed information about the pore structure and fluid distribution³(https://petrowiki.spe.org/Water_saturation_determination).\n",
    "3. **Core Analysis**: Direct measurement of water saturation from core samples using techniques like the Dean-Stark method³(https://petrowiki.spe.org/Water_saturation_determination).\n",
    "4. **Nuclear Magnetic Resonance (NMR)**: NMR logging tools can provide estimates of water saturation by measuring the response of hydrogen nuclei in the formation fluids³(https://petrowiki.spe.org/Water_saturation_determination).\n",
    "\n",
    "This notebook estimates the water saturation using Archie equation and saturation height function based on the capillary pressure measurement.\n"
   ]
  },
  {
   "cell_type": "markdown",
   "metadata": {},
   "source": [
    "***\n",
    "# Log Derived Water Saturation"
   ]
  },
  {
   "cell_type": "markdown",
   "metadata": {},
   "source": [
    "Estimation of Rw based on formation water salinity, assuming the depths are already in True Vertical Depth Sub Sea (TVDSS).\n",
    "The range of Rw used in the original paper is 0.015 to 0.03 ohm.m\n",
    "\n",
    "Estimation of cementation factor (m) based on pickett plot."
   ]
  },
  {
   "cell_type": "code",
   "execution_count": null,
   "metadata": {},
   "outputs": [],
   "source": [
    "from ipywidgets import widgets, interact\n",
    "\n",
    "from quick_pp.saturation import pickett_plot\n",
    "\n",
    "water_wells = ['HW-5', 'HW-7', 'HW-31']\n",
    "focused_data = all_data[all_data.WELL_NAME.isin(water_wells)].copy()\n",
    "# Use provided PHIE if estimated PHIT not available\n",
    "focused_data['PHIT'] = focused_data['PHIT'].fillna(focused_data['PHIE'])\n",
    "\n",
    "wells = widgets.SelectMultiple(\n",
    "    options=['All'] + list(focused_data['WELL_NAME'].unique()),\n",
    "    value=['All'],\n",
    "    description='Wells:'\n",
    ")\n",
    "m = widgets.FloatSlider(\n",
    "    value=2,\n",
    "    min=1,\n",
    "    max=3,\n",
    "    step=.1,\n",
    "    readout_format='.1f'\n",
    ")\n",
    "min_rw = widgets.FloatSlider(\n",
    "    value=.01,\n",
    "    min=.001,\n",
    "    max=.1,\n",
    "    step=.001,\n",
    "    readout_format='.3f'\n",
    ")\n",
    "min_depth = widgets.FloatSlider(\n",
    "    value=focused_data.DEPTH.min(),\n",
    "    min=focused_data.DEPTH.min(),\n",
    "    max=focused_data.DEPTH.max() - 10,\n",
    "    step=.1,\n",
    "    readout_format='.1f'\n",
    ")\n",
    "max_depth = widgets.FloatSlider(\n",
    "    value=focused_data.DEPTH.max(),\n",
    "    min=focused_data.DEPTH.min() + 10,\n",
    "    max=focused_data.DEPTH.max(),\n",
    "    step=.1,\n",
    "    readout_format='.1f'\n",
    ")\n",
    "\n",
    "@interact(wells=wells, m=m, min_rw=min_rw, min_depth=min_depth, max_depth=max_depth)\n",
    "def param(wells, m, min_rw, min_depth, max_depth):\n",
    "    if 'All' in wells:\n",
    "        data = focused_data[(focused_data.DEPTH >= min_depth) & (focused_data.DEPTH <= max_depth)]\n",
    "    else:\n",
    "        data = focused_data[(focused_data.WELL_NAME.isin(wells)) & (focused_data.DEPTH >= min_depth) & (focused_data.DEPTH <= max_depth)]\n",
    "    pickett_plot(data['RT'], data['PHIT'], m=m, min_rw=min_rw)"
   ]
  },
  {
   "cell_type": "code",
   "execution_count": null,
   "metadata": {},
   "outputs": [],
   "source": [
    "from quick_pp.saturation import estimate_temperature_gradient, estimate_rw_temperature_salinity, archie_saturation\n",
    "\n",
    "# Debug water saturation\n",
    "water_salinity = 2e5\n",
    "m = 2.2\n",
    "\n",
    "temp_grad = estimate_temperature_gradient(well_data['DEPTH'], 'imperial')\n",
    "rw = estimate_rw_temperature_salinity(temp_grad, water_salinity)\n",
    "\n",
    "swt = archie_saturation(well_data['RT'], rw, well_data['PHIT'], m=m)\n",
    "swt = swt.clip(0, 1)\n",
    "\n",
    "plt.figure(figsize=(15, 1.5))\n",
    "plt.plot(well_data['DEPTH'], swt)\n",
    "plt.ylim(0, 1.5)\n",
    "plt.figure(figsize=(15, 1.5))\n",
    "plt.plot(well_data['DEPTH'], rw, label='RW')\n",
    "plt.yscale('log')\n",
    "plt.legend()\n",
    "plt.tight_layout()"
   ]
  },
  {
   "cell_type": "markdown",
   "metadata": {},
   "source": [
    "***\n",
    "# Saturation Height Function"
   ]
  },
  {
   "cell_type": "markdown",
   "metadata": {},
   "source": [
    "## Core Data"
   ]
  },
  {
   "cell_type": "markdown",
   "metadata": {},
   "source": [
    "Explain the data source; measurement techniques\n",
    "\n",
    "### Define Rock Type\n",
    "\n",
    "Define the rock type based on FZI cut-offs from previous notebook\n"
   ]
  },
  {
   "cell_type": "code",
   "execution_count": null,
   "metadata": {},
   "outputs": [],
   "source": [
    "from quick_pp.rock_type import calc_fzi, rock_typing, calc_r35, plot_fzi\n",
    "from quick_pp.core_calibration import fit_j_curve, j_xplot, leverett_j, sw_shf_leverett_j, poroperm_xplot, pc_xplot\n",
    "\n",
    "core_data = pd.read_csv(r'data\\01_raw\\COSTA\\HW_core_data_all.csv')\n",
    "core_data['CPORE'] = core_data['Phi (frac.)']\n",
    "core_data['CPERM'] = core_data['K mD']\n",
    "core_data['PC'] = core_data['O/B Pc (psia)']\n",
    "core_data['PC_RES'] = core_data['O/B Pc (psia)'] * 0.088894  # oil-brine system\n",
    "core_data['SW'] = core_data['Equiv Brine Sat. (Frac.)']\n",
    "core_data['SWN'] = core_data.groupby('Sample')['SW'].transform(lambda x: (x - x.min()) / (1 - x.min()))\n",
    "\n",
    "# Calculate J\n",
    "ift = 32\n",
    "theta = 30\n",
    "\n",
    "core_data['J'] = leverett_j(core_data['PC_RES'], ift, theta, core_data['CPERM'], core_data['CPORE'])\n",
    "\n",
    "# Filter data\n",
    "conditions = (\n",
    "    (core_data['K mD'] > 0)\n",
    "    & (core_data['Class'] == 'Good')\n",
    "    # & (core_data['PC'] <= 40)\n",
    ")\n",
    "ori_core_data = core_data[conditions].copy()\n",
    "core_data = core_data[conditions].copy()\n",
    "# core_data.drop_duplicates(subset=['CPORE', 'CPERM', 'SW'], keep='last', inplace=True)\n",
    "\n",
    "# Plot J\n",
    "j_xplot(core_data['SW'], core_data['J'], core_group=core_data['Sample'])"
   ]
  },
  {
   "cell_type": "markdown",
   "metadata": {},
   "source": [
    "## Leverett J Method using Winland R35 Rock Types"
   ]
  },
  {
   "cell_type": "markdown",
   "metadata": {},
   "source": [
    "Define the rock type based on Winland R35 cut-offs from previous notebook"
   ]
  },
  {
   "cell_type": "code",
   "execution_count": null,
   "metadata": {},
   "outputs": [],
   "source": [
    "core_data = ori_core_data.copy()\n",
    "# Estimate rock types\n",
    "r35 = calc_r35(core_data['CPORE'], core_data['CPERM'])\n",
    "core_data['R35'] = r35\n",
    "r35_cut_offs = [\n",
    "    .1, .15, .2, .25, .3, .35, .4, .5, .6, .7, .8, .9, 1, 1.25, 1.5, 2, 2.5, 3, 4, 5, 7, 10,\n",
    "]\n",
    "rock_flag = rock_typing(r35, higher_is_better=True, cut_offs=r35_cut_offs)\n",
    "core_data['ROCK_FLAG'] = rock_flag"
   ]
  },
  {
   "cell_type": "code",
   "execution_count": null,
   "metadata": {},
   "outputs": [],
   "source": [
    "from ipywidgets import interact, widgets\n",
    "\n",
    "from quick_pp.core_calibration import pc_xplot, poroperm_xplot\n",
    "\n",
    "rock_flag = widgets.SelectMultiple(\n",
    "    options=['All'] + sorted(list(core_data['ROCK_FLAG'].unique())),\n",
    "    value=['All'],\n",
    "    description='Rock Flag:'\n",
    ")\n",
    "\n",
    "@interact(rock_flag=rock_flag)\n",
    "def param(rock_flag):\n",
    "    # Plot all data on poroperm plot\n",
    "    poroperm_xplot(core_data['CPORE'], core_data['CPERM'])\n",
    "    data = core_data[core_data.ROCK_FLAG.isin(rock_flag)] if any([l for l in rock_flag if l != 'All']) else core_data\n",
    "\n",
    "    # Plot filtered data\n",
    "    poroperm_xplot(data['CPORE'], data['CPERM'], core_group=data['Sample'])\n",
    "    plt.show()\n",
    "    for label, temp_df in data.groupby('Sample'):\n",
    "        pc_xplot(temp_df['SW'], temp_df['PC'], label=label, ylim=(0, 40))\n",
    "    plt.show()\n",
    "plt.close('all')"
   ]
  },
  {
   "cell_type": "markdown",
   "metadata": {},
   "source": [
    "#### QC the Pc data\n",
    "\n",
    "The capillary pressure measurements for each Sample are plotted on a log-log plot.\n",
    "The data points should fall on a relatively straight line indicating good data quality.\n",
    "\n",
    "Selecting a representative capillary pressure dataset for each rock type."
   ]
  },
  {
   "cell_type": "code",
   "execution_count": null,
   "metadata": {},
   "outputs": [],
   "source": [
    "from ipywidgets import interact, widgets\n",
    "\n",
    "from quick_pp.core_calibration import fit_j_curve\n",
    "\n",
    "sample = widgets.Dropdown(\n",
    "    options=sorted(core_data['Sample'].unique()),\n",
    "    description='Sample:'\n",
    ")\n",
    "conditions = (\n",
    "    (core_data['SWN'] < .99)\n",
    "    & (core_data['SWN'] > .05)\n",
    ")\n",
    "filtered_data = core_data[conditions].copy()\n",
    "@interact(sample=sample)\n",
    "def param(sample):\n",
    "    data = filtered_data[filtered_data['Sample'] == sample]\n",
    "    a, b = fit_j_curve(data['SW'], data['J'])\n",
    "    j_xplot(data['SW'], data['J'], a=a, b=b, label=f'Sample {sample}: a:{a}, b:{b}',\n",
    "            core_group=data['Sample'], log_log=False)"
   ]
  },
  {
   "cell_type": "code",
   "execution_count": null,
   "metadata": {},
   "outputs": [],
   "source": [
    "j_params = {}\n",
    "for sample, data in filtered_data.groupby('Sample'):\n",
    "    a, b = fit_j_curve(data['SW'], data['J'])\n",
    "    j_params[sample] = (a, b)\n",
    "\n",
    "# Assign core sample to each rock type for mapping\n",
    "r35_j_params = {\n",
    "    1: 83,\n",
    "    2: 72,\n",
    "    3: 70,\n",
    "    4: 84,\n",
    "    5: 67,\n",
    "    6: 64,\n",
    "    7: 61,\n",
    "    8: 63,\n",
    "    9: 52,\n",
    "    10: 56,\n",
    "    11: 51,\n",
    "    12: 42,\n",
    "    13: 43,\n",
    "    14: 35,\n",
    "    15: 36,\n",
    "    16: 32,\n",
    "    17: 23,\n",
    "    18: 20,\n",
    "    19: 21,\n",
    "    20: 15,\n",
    "    21: 8,\n",
    "    22: 2,\n",
    "    23: 3,\n",
    "}"
   ]
  },
  {
   "cell_type": "code",
   "execution_count": null,
   "metadata": {},
   "outputs": [],
   "source": [
    "import pprint\n",
    "\n",
    "# Map rt_skelt_params with skelt_params key\n",
    "mapped_r35_j_params = {rt: j_params.get(key) for rt, key in r35_j_params.items()}\n",
    "pp = pprint.PrettyPrinter(indent=4)\n",
    "pp.pprint(mapped_r35_j_params)"
   ]
  },
  {
   "cell_type": "code",
   "execution_count": null,
   "metadata": {},
   "outputs": [],
   "source": [
    "from ipywidgets import interact, widgets\n",
    "\n",
    "rt = widgets.Dropdown(\n",
    "    options=core_data['ROCK_FLAG'].unique(),\n",
    "    value=1,\n",
    "    description='Rock Type:'\n",
    ")\n",
    "\n",
    "@interact(rt=rt)\n",
    "def param(rt):\n",
    "    a, b = mapped_r35_j_params[rt]\n",
    "    data = core_data[core_data['ROCK_FLAG'] == rt]\n",
    "    j_xplot(data['SWN'], data['J'], a=a, b=b, core_group=data['Sample'], log_log=False)"
   ]
  },
  {
   "cell_type": "code",
   "execution_count": null,
   "metadata": {},
   "outputs": [],
   "source": [
    "for rt, param in mapped_r35_j_params.items():\n",
    "    a, b = param\n",
    "    rock_data = core_data[core_data['ROCK_FLAG'] == rt]\n",
    "    j_xplot(rock_data['SWN'], rock_data['J'], a=a, b=b,  # core_group=rock_data['Sample'],\n",
    "            label=f'{rt}: a:{a}, b:{b}', log_log=False)"
   ]
  },
  {
   "cell_type": "markdown",
   "metadata": {},
   "source": [
    "#### Estimate Free Water Level (FWL)"
   ]
  },
  {
   "cell_type": "code",
   "execution_count": null,
   "metadata": {},
   "outputs": [],
   "source": [
    "import numpy as np\n",
    "\n",
    "well_data['LOG_RT'] = np.log10(well_data['RT'])\n",
    "well_data['NDI'] = (2.95 - well_data['RHOB']) / 1.95\n",
    "# well_data['NDI_V2'] = np.log10((2.95 - well_data['RHOB']) / 1.95)\n",
    "\n",
    "input_features = ['GR', 'NPHI', 'RHOB', 'LOG_RT', 'NDI']\n",
    "\n",
    "# Predict PERM\n",
    "with open(r'data\\04_project\\MOCK_carbonate\\outputs\\r35_model.qppm', 'rb') as file:\n",
    "    r35_model = pickle.load(file)\n",
    "r35_ml = 10**(r35_model.predict(well_data[input_features]))\n",
    "well_data['PERM'] = calc_r35_perm(r35_ml, well_data['PHIT'])\n",
    "well_data['ROCK_FLAG'] = rock_typing(r35_ml, higher_is_better=True, cut_offs=r35_cut_offs)"
   ]
  },
  {
   "cell_type": "code",
   "execution_count": null,
   "metadata": {},
   "outputs": [],
   "source": [
    "from ipywidgets import interactive\n",
    "from quick_pp.core_calibration import sw_shf_leverett_j\n",
    "\n",
    "ift = 32\n",
    "theta = 30\n",
    "ghc = .837\n",
    "gw = 1.135\n",
    "fwl = 8550\n",
    "\n",
    "fwl = widgets.FloatSlider(\n",
    "    value=fwl,\n",
    "    min=fwl / 1.1,\n",
    "    max=fwl * 1.1,\n",
    "    step=1\n",
    ")\n",
    "\n",
    "def plot(fwl):\n",
    "    a = well_data['ROCK_FLAG'].map(mapped_r35_j_params).apply(lambda x: x[0])\n",
    "    b = well_data['ROCK_FLAG'].map(mapped_r35_j_params).apply(lambda x: x[1])\n",
    "    shf = sw_shf_leverett_j(\n",
    "        well_data['PERM'], well_data['PHIT'], well_data['DEPTH'], gw=gw, ghc=ghc,\n",
    "        fwl=fwl, ift=ift, theta=theta, a=a, b=b)\n",
    "\n",
    "    plt.figure(figsize=(20, 2))\n",
    "    plt.plot(well_data['DEPTH'], swt, label='SWT')\n",
    "    plt.plot(well_data['DEPTH'], shf, label='SHF')\n",
    "    plt.ylim(0, 1.5)\n",
    "    plt.figure(figsize=(20, 1))\n",
    "    plt.plot(well_data['DEPTH'], well_data['ROCK_FLAG'])\n",
    "    plt.legend()\n",
    "\n",
    "interactive_plot = interactive(plot, fwl=fwl)\n",
    "output = interactive_plot.children[-1]\n",
    "output.layout.height = '200px'\n",
    "interactive_plot"
   ]
  },
  {
   "cell_type": "markdown",
   "metadata": {},
   "source": [
    "## Leverett J Method using FZI Rock Types"
   ]
  },
  {
   "cell_type": "markdown",
   "metadata": {},
   "source": [
    "Define the rock type based on FZI cut-offs from previous notebook"
   ]
  },
  {
   "cell_type": "code",
   "execution_count": null,
   "metadata": {},
   "outputs": [],
   "source": [
    "from quick_pp.rock_type import plot_fzi\n",
    "# FZI\n",
    "core_data = ori_core_data.copy()\n",
    "fzi = calc_fzi(core_data['CPORE'], core_data['CPERM'])\n",
    "fzi_cut_offs = [\n",
    "    .1, .2, .4, .6, .8, 1, 1.2, 1.4, 1.6, 1.8, 2, 2.2, 2.4, 2.6, 2.8, 3, 3.2, 3.4, 3.6, 3.8, 4, 4.5, 5, 6\n",
    "]\n",
    "rock_flag = rock_typing(fzi, fzi_cut_offs, higher_is_better=True)\n",
    "core_data['ROCK_FLAG'] = rock_flag\n",
    "\n",
    "plot_fzi(core_data['CPORE'], core_data['CPERM'], rock_type=rock_flag, cut_offs=fzi_cut_offs)\n",
    "print(pd.Series(rock_flag).value_counts().sort_index())"
   ]
  },
  {
   "cell_type": "code",
   "execution_count": null,
   "metadata": {},
   "outputs": [],
   "source": [
    "from ipywidgets import interact, widgets\n",
    "\n",
    "from quick_pp.core_calibration import pc_xplot, poroperm_xplot\n",
    "\n",
    "rock_flag_widget = widgets.SelectMultiple(\n",
    "    options=['All'] + sorted(list(core_data['ROCK_FLAG'].unique())),\n",
    "    value=['All'],\n",
    "    description='Rock Flag:'\n",
    ")\n",
    "\n",
    "@interact(rock_flag=rock_flag_widget)\n",
    "def param(rock_flag):\n",
    "    # Plot all data on poroperm plot\n",
    "    poroperm_xplot(core_data['CPORE'], core_data['CPERM'])\n",
    "    data = core_data[core_data.ROCK_FLAG.isin(rock_flag)] if any([l for l in rock_flag if l != 'All']) else core_data\n",
    "\n",
    "    # Plot filtered data\n",
    "    poroperm_xplot(data['CPORE'], data['CPERM'], core_group=data['Sample'])\n",
    "    plt.show()\n",
    "    for label, temp_df in data.groupby('Sample'):\n",
    "        pc_xplot(temp_df['SW'], temp_df['PC'], label=label, ylim=(0, 40))\n",
    "    plt.show()\n",
    "plt.close('all')"
   ]
  },
  {
   "cell_type": "markdown",
   "metadata": {},
   "source": [
    "#### QC the Pc data\n",
    "\n",
    "The capillary pressure measurements for each Sample are plotted on a log-log plot.\n",
    "The data points should fall on a relatively straight line indicating good data quality.\n",
    "\n",
    "Based \n",
    "select the dataset for each rock type\n",
    "curve fitting"
   ]
  },
  {
   "cell_type": "code",
   "execution_count": null,
   "metadata": {},
   "outputs": [],
   "source": [
    "from ipywidgets import interact, widgets\n",
    "\n",
    "from quick_pp.core_calibration import fit_j_curve\n",
    "\n",
    "sample = widgets.Dropdown(\n",
    "    options=sorted(core_data['Sample'].unique()),\n",
    "    description='Sample:'\n",
    ")\n",
    "conditions = (\n",
    "    (core_data['SWN'] < .9)\n",
    "    & (core_data['SWN'] > .1)\n",
    ")\n",
    "filtered_data = core_data[conditions].copy()\n",
    "@interact(sample=sample)\n",
    "def param(sample):\n",
    "    data = filtered_data[filtered_data['Sample'] == sample]\n",
    "    a, b = fit_j_curve(data['SW'], data['J'])\n",
    "    j_xplot(data['SW'], data['J'], a=a, b=b, label=f'Sample {sample}: a:{a}, b:{b}',\n",
    "            core_group=data['Sample'], log_log=False)"
   ]
  },
  {
   "cell_type": "code",
   "execution_count": null,
   "metadata": {},
   "outputs": [],
   "source": [
    "j_params = {}\n",
    "for sample, data in filtered_data.groupby('Sample'):\n",
    "    a, b = fit_j_curve(data['SW'], data['J'])\n",
    "    j_params[sample] = (a, b)\n",
    "\n",
    "# Assign core sample to each rock type for mapping\n",
    "fzi_params = {\n",
    "    1: 83,\n",
    "    2: 68,\n",
    "    3: 72,\n",
    "    4: 77,\n",
    "    5: 75,\n",
    "    6: 26,\n",
    "    7: 55,\n",
    "    8: 79,\n",
    "    9: 78,\n",
    "    10: 74,\n",
    "    11: 64,\n",
    "    12: 69,\n",
    "    13: 63,\n",
    "    14: 49,\n",
    "    15: 50,\n",
    "    16: 44,\n",
    "    17: 36,\n",
    "    18: 29,\n",
    "    19: 22,\n",
    "    20: 27,\n",
    "    21: 23,\n",
    "    22: 14,\n",
    "    23: 10,\n",
    "    24: 5\n",
    "}"
   ]
  },
  {
   "cell_type": "code",
   "execution_count": null,
   "metadata": {},
   "outputs": [],
   "source": [
    "import pprint\n",
    "\n",
    "# Map rt_skelt_params with skelt_params key\n",
    "mapped_fzi_params = {rt: j_params.get(key) for rt, key in fzi_params.items()}\n",
    "pp = pprint.PrettyPrinter(indent=4)\n",
    "pp.pprint(mapped_fzi_params)"
   ]
  },
  {
   "cell_type": "code",
   "execution_count": null,
   "metadata": {},
   "outputs": [],
   "source": [
    "from ipywidgets import interact, widgets\n",
    "\n",
    "rt_widget = widgets.Dropdown(\n",
    "    options=sorted(core_data['ROCK_FLAG'].unique()),\n",
    "    description='Rock Type:'\n",
    ")\n",
    "\n",
    "@interact(rt=rt_widget)\n",
    "def param(rt):\n",
    "    a, b = mapped_fzi_params[rt]\n",
    "    data = core_data[core_data['ROCK_FLAG'] == rt]\n",
    "    j_xplot(data['SWN'], data['J'], a=a, b=b, core_group=data['Sample'], log_log=False)"
   ]
  },
  {
   "cell_type": "code",
   "execution_count": null,
   "metadata": {},
   "outputs": [],
   "source": [
    "for rt, param in mapped_fzi_params.items():\n",
    "    a, b = param\n",
    "    rock_data = core_data[core_data['ROCK_FLAG'] == rt]\n",
    "    j_xplot(rock_data['SWN'], rock_data['J'], a=a, b=b,  # core_group=rock_data['Sample'],\n",
    "            label=f'{rt}: a:{a}, b:{b}', log_log=False)"
   ]
  },
  {
   "cell_type": "markdown",
   "metadata": {},
   "source": [
    "#### Estimate Free Water Level (FWL)"
   ]
  },
  {
   "cell_type": "code",
   "execution_count": null,
   "metadata": {},
   "outputs": [],
   "source": [
    "import numpy as np\n",
    "\n",
    "from quick_pp.rock_type import calc_fzi_perm\n",
    "\n",
    "well_data['LOG_RT'] = np.log10(well_data['RT'])\n",
    "well_data['NDI'] = (2.95 - well_data['RHOB']) / 1.95\n",
    "# well_data['NDI_V2'] = np.log10((2.95 - well_data['RHOB']) / 1.95)\n",
    "\n",
    "input_features = ['GR', 'NPHI', 'RHOB', 'LOG_RT', 'NDI']\n",
    "# Predict PERM\n",
    "with open(r'data\\04_project\\MOCK_carbonate\\outputs\\fzi_model.qppm', 'rb') as file:\n",
    "    fzi_model = pickle.load(file)\n",
    "fzi_ml = 10**(fzi_model.predict(well_data[input_features]))\n",
    "well_data['PERM'] = calc_fzi_perm(fzi_ml, well_data['PHIT'])\n",
    "well_data['ROCK_FLAG'] = rock_typing(fzi_ml, higher_is_better=True, cut_offs=fzi_cut_offs)"
   ]
  },
  {
   "cell_type": "code",
   "execution_count": null,
   "metadata": {},
   "outputs": [],
   "source": [
    "from ipywidgets import interactive\n",
    "from quick_pp.core_calibration import sw_shf_leverett_j\n",
    "\n",
    "ift = 32\n",
    "theta = 30\n",
    "ghc = .837\n",
    "gw = 1.135\n",
    "fwl = 8550\n",
    "\n",
    "fwl = widgets.FloatSlider(\n",
    "    value=fwl,\n",
    "    min=fwl / 1.1,\n",
    "    max=fwl * 1.1,\n",
    "    step=1\n",
    ")\n",
    "\n",
    "def plot(fwl):\n",
    "    a = well_data['ROCK_FLAG'].map(mapped_fzi_params).apply(lambda x: x[0])\n",
    "    b = well_data['ROCK_FLAG'].map(mapped_fzi_params).apply(lambda x: x[1])\n",
    "    shf = sw_shf_leverett_j(\n",
    "        well_data['PERM'], well_data['PHIT'], well_data['DEPTH'], gw=gw, ghc=ghc,\n",
    "        fwl=fwl, ift=ift, theta=theta, a=a, b=b)\n",
    "\n",
    "    plt.figure(figsize=(20, 1))\n",
    "    plt.plot(well_data['DEPTH'], swt, label='SWT')\n",
    "    plt.plot(well_data['DEPTH'], shf, label='SHF')\n",
    "    plt.ylim(0, 1.2)\n",
    "    plt.legend()\n",
    "    plt.figure(figsize=(20, 1))\n",
    "    plt.plot(well_data['DEPTH'], well_data['ROCK_FLAG'], label='Rock Flag')\n",
    "    plt.legend()\n",
    "\n",
    "interactive_plot = interactive(plot, fwl=fwl)\n",
    "output = interactive_plot.children[-1]\n",
    "output.layout.height = '200px'\n",
    "interactive_plot"
   ]
  },
  {
   "cell_type": "markdown",
   "metadata": {},
   "source": [
    "***\n",
    "# Plot the results"
   ]
  },
  {
   "cell_type": "code",
   "execution_count": null,
   "metadata": {},
   "outputs": [],
   "source": [
    "from quick_pp.plotter import plotly_log\n",
    "fwl = 8575\n",
    "\n",
    "a = well_data['ROCK_FLAG'].map(mapped_fzi_params).apply(lambda x: x[0])\n",
    "b = well_data['ROCK_FLAG'].map(mapped_fzi_params).apply(lambda x: x[1])\n",
    "shf = sw_shf_leverett_j(\n",
    "    well_data['PERM'], well_data['PHIT'], well_data['DEPTH'], gw=gw, ghc=ghc,\n",
    "    fwl=fwl, ift=ift, theta=theta, a=a, b=b\n",
    ")\n",
    "\n",
    "# Plot individual results\n",
    "well_data['SWT'] = swt\n",
    "well_data['SHF'] = shf\n",
    "fig = plotly_log(well_data, 'ft')\n",
    "fig.show(config=dict(scrollZoom=True))"
   ]
  },
  {
   "cell_type": "code",
   "execution_count": null,
   "metadata": {},
   "outputs": [],
   "source": [
    "# # Save the well data\n",
    "# project.update_data(well_data)\n",
    "# project.save()"
   ]
  }
 ],
 "metadata": {
  "kernelspec": {
   "display_name": "venv310",
   "language": "python",
   "name": "python3"
  },
  "language_info": {
   "codemirror_mode": {
    "name": "ipython",
    "version": 3
   },
   "file_extension": ".py",
   "mimetype": "text/x-python",
   "name": "python",
   "nbconvert_exporter": "python",
   "pygments_lexer": "ipython3",
   "version": "3.10.9"
  }
 },
 "nbformat": 4,
 "nbformat_minor": 2
}
