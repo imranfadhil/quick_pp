{
 "cells": [
  {
   "cell_type": "code",
   "execution_count": 1,
   "metadata": {},
   "outputs": [],
   "source": [
    "import sys\n",
    "sys.path.append('..')\n",
    "%load_ext autoreload\n",
    "%autoreload 2\n",
    "%matplotlib inline"
   ]
  },
  {
   "cell_type": "code",
   "execution_count": null,
   "metadata": {},
   "outputs": [],
   "source": [
    "from quick_pp.objects import Project\n",
    "\n",
    "# Load well from saved file\n",
    "project = \"MOCK_carbonate\"\n",
    "project_path = rf\"data\\04_project\\{project}.qppp\"\n",
    "project = Project().load(project_path)\n",
    "project.get_well_names()"
   ]
  },
  {
   "cell_type": "markdown",
   "metadata": {},
   "source": [
    "## Determining the rock type boundaries"
   ]
  },
  {
   "cell_type": "code",
   "execution_count": null,
   "metadata": {},
   "outputs": [],
   "source": [
    "import pandas as pd\n",
    "from quick_pp.rock_type import plot_ward, plot_lorenz\n",
    "\n",
    "core_data = pd.read_csv(r'data\\01_raw\\HW_core_data_all.csv')\n",
    "core_data['CPORE'] = core_data['Phi (frac.)']\n",
    "core_data['CPERM'] = core_data['K mD']\n",
    "\n",
    "clean_core_data = core_data.drop_duplicates(subset=['Sample', 'Class', 'Phi (frac.)', 'K mD'], keep='last')\n",
    "plot_ward(clean_core_data['CPORE'], clean_core_data['CPERM'])\n",
    "plot_lorenz(core_data['CPORE'], core_data['CPERM'])"
   ]
  },
  {
   "cell_type": "markdown",
   "metadata": {},
   "source": [
    "## Plotting the Rock Types"
   ]
  },
  {
   "cell_type": "code",
   "execution_count": null,
   "metadata": {},
   "outputs": [],
   "source": [
    "from quick_pp.rock_type import plot_ward, plot_fzi, plot_rfn, plot_lorenz, calc_fzi, rock_typing\n",
    "\n",
    "log_fzi_cut_offs = [-.88, -.479, -.179, .146, .571, 1.35]\n",
    "fzi_cut_offs = [round(10**(i), 3) for i in log_fzi_cut_offs]\n",
    "\n",
    "all_data = project.get_all_data()\n",
    "all_data['CPERM'] = all_data.CORE_PERM\n",
    "all_data['CPORE'] = all_data.CORE_POR / 100\n",
    "\n",
    "# Estimate rock types\n",
    "fzi = calc_fzi(all_data['CPERM'], all_data['CPORE'])\n",
    "all_data['FZI'] = fzi\n",
    "rock_flag = rock_typing(fzi, higher_is_better=True, cut_offs=fzi_cut_offs)\n",
    "all_data['ROCK_FLAG'] = rock_flag\n",
    "\n",
    "plot_rfn(all_data['CPORE'], all_data['CPERM'], rock_type=rock_flag)\n",
    "plot_fzi(all_data['CPORE'], all_data['CPERM'], fzi=fzi_cut_offs, rock_type=rock_flag)\n",
    "\n",
    "print(fzi_cut_offs)\n",
    "print(pd.Series(rock_flag).value_counts())"
   ]
  },
  {
   "cell_type": "markdown",
   "metadata": {},
   "source": [
    "## Building Rock Type and FZI model to propagate to non-cored intervals"
   ]
  },
  {
   "cell_type": "code",
   "execution_count": null,
   "metadata": {},
   "outputs": [],
   "source": [
    "import pickle\n",
    "from quick_pp.rock_type import train_rock_type, train_fzi\n",
    "\n",
    "train_data = all_data.dropna(subset=['GR', 'NPHI', 'RHOB', 'ROCK_FLAG'])\n",
    "rt_model = train_rock_type(train_data[['GR', 'NPHI', 'RHOB']], train_data['ROCK_FLAG'])\n",
    "with open(r'data\\04_project\\MOCK_carbonate\\outputs\\rt_model.qppm', 'wb') as file:\n",
    "    pickle.dump(rt_model, file)\n",
    "\n",
    "\n",
    "train_data = all_data.dropna(subset=['GR', 'NPHI', 'RHOB', 'FZI'])\n",
    "fzi_model = train_fzi(train_data[['GR', 'NPHI', 'RHOB']], train_data['FZI'], train_data['ROCK_FLAG'])\n",
    "with open(r'data\\04_project\\MOCK_carbonate\\outputs\\fzi_model.qppm', 'wb') as file:\n",
    "    pickle.dump(fzi_model, file)"
   ]
  },
  {
   "cell_type": "markdown",
   "metadata": {},
   "source": [
    "## Predict PERM and plot the results"
   ]
  },
  {
   "cell_type": "code",
   "execution_count": null,
   "metadata": {},
   "outputs": [],
   "source": [
    "from quick_pp.plotter import plotly_log\n",
    "from quick_pp.rock_type import calc_fzi_perm\n",
    "\n",
    "# Plot individual results\n",
    "well_data = all_data[all_data.WELL_NAME == 'HW-29'].copy()\n",
    "well_data['ROCK_FLAG'] = rt_model.predict(well_data[['GR', 'NPHI', 'RHOB']])\n",
    "well_data['FZI'] = fzi_model.predict(well_data[['GR', 'NPHI', 'RHOB']])\n",
    "well_data['PERM'] = well_data.apply(lambda row: calc_fzi_perm(row['FZI'], row['PHIE']), axis=1)\n",
    "fig = plotly_log(well_data, '')\n",
    "fig.show(config=dict(scrollZoom=True))"
   ]
  }
 ],
 "metadata": {
  "kernelspec": {
   "display_name": "venv310",
   "language": "python",
   "name": "python3"
  },
  "language_info": {
   "codemirror_mode": {
    "name": "ipython",
    "version": 3
   },
   "file_extension": ".py",
   "mimetype": "text/x-python",
   "name": "python",
   "nbconvert_exporter": "python",
   "pygments_lexer": "ipython3",
   "version": "3.10.9"
  }
 },
 "nbformat": 4,
 "nbformat_minor": 2
}
