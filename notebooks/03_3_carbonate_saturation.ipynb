{
 "cells": [
  {
   "cell_type": "code",
   "execution_count": 1,
   "metadata": {},
   "outputs": [],
   "source": [
    "import sys\n",
    "sys.path.append('..')\n",
    "%load_ext autoreload\n",
    "%autoreload 2\n",
    "%matplotlib inline"
   ]
  },
  {
   "cell_type": "markdown",
   "metadata": {},
   "source": [
    "## Determining the rock type boundaries"
   ]
  },
  {
   "cell_type": "code",
   "execution_count": 2,
   "metadata": {},
   "outputs": [],
   "source": [
    "import pandas as pd\n",
    "import matplotlib.pyplot as plt\n",
    "\n",
    "from quick_pp.plotter import plotly_log\n",
    "from quick_pp.rock_type import calc_fzi, rock_typing\n",
    "from quick_pp.core_calibration import fit_j_curve, j_xplot, leverett_j, sw_shf_leverett_j\n",
    "\n",
    "core_data = pd.read_csv(r'data\\01_raw\\HW_core_data_all.csv')\n",
    "# core_data.drop(columns=['RRT'], inplace=True)\n",
    "core_data['CPORE'] = core_data['Phi (frac.)']\n",
    "core_data['CPERM'] = core_data['K mD']\n",
    "core_data['PC'] = core_data['O/B Pc (psia)']\n",
    "core_data['SW'] = core_data['Equiv Brine Sat. (Frac.)']\n",
    "\n",
    "core_data = core_data[core_data['K mD'] > 0]\n",
    "core_data.drop_duplicates(subset=['CPORE', 'CPERM', 'SW'], keep='last', inplace=True)\n",
    "core_data['FZI'] = calc_fzi(core_data['CPERM'], core_data['CPORE'])\n",
    "core_data.dropna(inplace=True)\n",
    "\n",
    "fzi_cutoffs = [0.209, 0.662, 1.483, 3.724]\n",
    "core_data['ROCK_FLAG'] = rock_typing(core_data['FZI'], fzi_cutoffs)"
   ]
  },
  {
   "cell_type": "markdown",
   "metadata": {},
   "source": [
    "## Calculate J"
   ]
  },
  {
   "cell_type": "code",
   "execution_count": null,
   "metadata": {},
   "outputs": [],
   "source": [
    "ift = 485\n",
    "theta = 140\n",
    "\n",
    "core_data['J'] = leverett_j(core_data['PC'], ift, theta, core_data['CPERM'], core_data['CPORE'])\n",
    "j_xplot(core_data['SW'], core_data['J'], core_group=core_data['ROCK_FLAG'])\n"
   ]
  },
  {
   "cell_type": "code",
   "execution_count": null,
   "metadata": {},
   "outputs": [],
   "source": [
    "for rt, data in core_data.groupby(['ROCK_FLAG', 'Sample']):\n",
    "    data = data[(data['SW'] < 0.95) & (data['SW'] > .0)]\n",
    "    a, b = fit_j_curve(data['SW'], data['J'])\n",
    "    j_xplot(data['SW'], data['J'], a=a, b=b,\n",
    "            label=f'{rt}: a:{a}, b:{b}', log_log=True)\n",
    "    plt.show()"
   ]
  },
  {
   "cell_type": "code",
   "execution_count": null,
   "metadata": {},
   "outputs": [],
   "source": [
    "for rt, data in core_data.groupby('ROCK_FLAG'):\n",
    "    data = data[(data['SW'] < 0.95) & (data['SW'] > .0)]\n",
    "    a, b = fit_j_curve(data['SW'], data['J'])\n",
    "    j_xplot(data['SW'], data['J'], a=a, b=b, core_group=data['ROCK_FLAG'],\n",
    "            label=f'{rt}: a:{a}, b:{b}', log_log=False)"
   ]
  },
  {
   "cell_type": "code",
   "execution_count": null,
   "metadata": {},
   "outputs": [],
   "source": [
    "params = {\n",
    "    1: (.01, 1.1),\n",
    "    2: (.02, 1.2),\n",
    "    3: (.03, 1.3),\n",
    "    4: (.04, 1.4),\n",
    "    5: (.05, 1.5)\n",
    "}\n",
    "\n",
    "temp_data = core_data[core_data['SW'] < .9]\n",
    "plt.figure(figsize=(10, 8))\n",
    "for rt, param in params.items():\n",
    "    a, b = param\n",
    "    j_xplot(core_data['SW'], core_data['J'], a=a, b=b, core_group=core_data['ROCK_FLAG'],\n",
    "            label=f'{rt}: a:{a}, b:{b}', log_log=False)"
   ]
  },
  {
   "cell_type": "markdown",
   "metadata": {},
   "source": [
    "## Estimate SHF"
   ]
  },
  {
   "cell_type": "code",
   "execution_count": 7,
   "metadata": {},
   "outputs": [],
   "source": [
    "from quick_pp.objects import Project\n",
    "\n",
    "# Load well from saved file\n",
    "project = \"MOCK_carbonate\"\n",
    "project_path = rf\"data\\04_project\\{project}.qppp\"\n",
    "project = Project().load(project_path)\n",
    "project.get_well_names()\n",
    "\n",
    "all_data = project.get_all_data()"
   ]
  },
  {
   "cell_type": "code",
   "execution_count": null,
   "metadata": {},
   "outputs": [],
   "source": [
    "params = {\n",
    "    1: (.01, 1.1),\n",
    "    2: (.02, 1.2),\n",
    "    3: (.03, 1.3),\n",
    "    4: (.04, 1.4),\n",
    "    5: (.05, 1.5)\n",
    "}\n",
    "\n",
    "ift = 485\n",
    "theta = 130\n",
    "ghc = .837\n",
    "gw = 1.0\n",
    "fwl=8380\n",
    "\n",
    "well_data = all_data[all_data.WELL_NAME == 'HW-29'].copy()\n",
    "\n",
    "well_data['a'] = .01  # well_data['ROCK_FLAG'].map(params).apply(lambda x: x[0])\n",
    "well_data['b'] = 1.1  # well_data['ROCK_FLAG'].map(params).apply(lambda x: x[1])\n",
    "shf = sw_shf_leverett_j(\n",
    "    well_data['PERM'], well_data['PHIT'], well_data['DEPTH'], gw=gw, ghc=ghc,\n",
    "    fwl=fwl, ift=ift, theta=theta, a=well_data['a'], b=well_data['b'])\n"
   ]
  },
  {
   "cell_type": "markdown",
   "metadata": {},
   "source": [
    "## Estimate Water Saturation"
   ]
  },
  {
   "cell_type": "code",
   "execution_count": null,
   "metadata": {},
   "outputs": [],
   "source": [
    "from quick_pp.saturation import estimate_temperature_gradient, estimate_rw_temperature_salinity, archie_saturation\n",
    "\n",
    "# Debug water saturation\n",
    "water_salinity = 2e5\n",
    "m = 2\n",
    "\n",
    "temp_grad = estimate_temperature_gradient(well_data['DEPTH'], 'imperial')\n",
    "rw = estimate_rw_temperature_salinity(temp_grad, water_salinity)\n",
    "\n",
    "swt = archie_saturation(well_data['RT'], rw, well_data['PHIT'], m=m)\n",
    "\n",
    "# Plotting\n",
    "fig, (ax2, ax3) = plt.subplots(nrows=2, sharex=True, figsize=(20, 4))\n",
    "\n",
    "ax2.plot(well_data.DEPTH, well_data['RT'], label='RT')\n",
    "ax2.plot(well_data.DEPTH, rw, label='rw_salinity')\n",
    "ax2.plot(well_data.DEPTH, rw, label='rw')\n",
    "ax2.set_yscale('log')\n",
    "ax2.legend()\n",
    "\n",
    "ax3.plot(well_data.DEPTH, swt, label='SWT')\n",
    "ax3.plot(well_data.DEPTH, shf, label='SHF')\n",
    "ax3.legend()\n",
    "\n",
    "fig.tight_layout()"
   ]
  },
  {
   "cell_type": "markdown",
   "metadata": {},
   "source": [
    "## Predict SWT and SHF and plot the results"
   ]
  },
  {
   "cell_type": "code",
   "execution_count": null,
   "metadata": {},
   "outputs": [],
   "source": [
    "# Plot individual results\n",
    "well_data['SWT'] = swt\n",
    "well_data['SHF'] = shf\n",
    "fig = plotly_log(well_data, '')\n",
    "fig.show(config=dict(scrollZoom=True))"
   ]
  },
  {
   "cell_type": "code",
   "execution_count": 12,
   "metadata": {},
   "outputs": [],
   "source": [
    "# Save the well data\n",
    "project.update_data(well_data)\n",
    "project.save()"
   ]
  }
 ],
 "metadata": {
  "kernelspec": {
   "display_name": "venv310",
   "language": "python",
   "name": "python3"
  },
  "language_info": {
   "codemirror_mode": {
    "name": "ipython",
    "version": 3
   },
   "file_extension": ".py",
   "mimetype": "text/x-python",
   "name": "python",
   "nbconvert_exporter": "python",
   "pygments_lexer": "ipython3",
   "version": "3.10.9"
  }
 },
 "nbformat": 4,
 "nbformat_minor": 2
}
