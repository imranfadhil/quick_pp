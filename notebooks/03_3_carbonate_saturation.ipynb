{
 "cells": [
  {
   "cell_type": "code",
   "execution_count": null,
   "metadata": {},
   "outputs": [],
   "source": [
    "import sys\n",
    "sys.path.append('..')\n",
    "%load_ext autoreload\n",
    "%autoreload 2\n",
    "\n",
    "%matplotlib inline"
   ]
  },
  {
   "cell_type": "markdown",
   "metadata": {},
   "source": [
    "# Water Saturation Estimation\n",
    "\n",
    "Water saturation estimation is crucial in petrophysics for several reasons:\n",
    "\n",
    "1. **Hydrocarbon Volume Calculation**: It helps determine the volume of hydrocarbons in place. Accurate water saturation (Sw) values are essential for calculating the original oil in place (OOIP) and original gas in place (OGIP) volumes¹(https://petroshine.com/fluid-saturation/).\n",
    "2. **Reservoir Characterization**: Understanding the distribution of water saturation helps in characterizing the reservoir, which is vital for planning production strategies and enhancing recovery¹(https://petroshine.com/fluid-saturation/).\n",
    "3. **Production Forecasting**: Sw values are used in reservoir models to predict future production and to evaluate the economic viability of the reservoir²(https://www.mdpi.com/2077-1312/9/6/666).\n",
    "\n",
    "### Methods to Estimate Water Saturation\n",
    "\n",
    "1. **Resistivity Logs**: This is the most common method, where water saturation is estimated using resistivity measurements from well logs. The Archie equation is often used for clean sands, while modified versions like the Waxman-Smits model are used for shaly sands³(https://petrowiki.spe.org/Water_saturation_determination).\n",
    "2. **Capillary Pressure Measurements**: Laboratory measurements of capillary pressure and corresponding water saturation provide detailed information about the pore structure and fluid distribution³(https://petrowiki.spe.org/Water_saturation_determination).\n",
    "3. **Core Analysis**: Direct measurement of water saturation from core samples using techniques like the Dean-Stark method³(https://petrowiki.spe.org/Water_saturation_determination).\n",
    "4. **Nuclear Magnetic Resonance (NMR)**: NMR logging tools can provide estimates of water saturation by measuring the response of hydrogen nuclei in the formation fluids³(https://petrowiki.spe.org/Water_saturation_determination).\n",
    "\n",
    "This notebook estimates the water saturation using Archie equation and saturation height function based on the capillary pressure measurement.\n"
   ]
  },
  {
   "cell_type": "markdown",
   "metadata": {},
   "source": [
    "## Log Derived Water Saturation"
   ]
  },
  {
   "cell_type": "code",
   "execution_count": null,
   "metadata": {},
   "outputs": [],
   "source": [
    "import pandas as pd\n",
    "import matplotlib.pyplot as plt\n",
    "\n",
    "from quick_pp.objects import Project\n",
    "\n",
    "# Load well from saved file\n",
    "project = \"MOCK_carbonate\"\n",
    "project_path = rf\"data\\04_project\\{project}.qppp\"\n",
    "project = Project().load(project_path)\n",
    "project.get_well_names()\n",
    "\n",
    "all_data = project.get_all_data()\n",
    "\n",
    "focused_well = 'HW-29'\n",
    "well_data = all_data[all_data.WELL_NAME == focused_well].copy()"
   ]
  },
  {
   "cell_type": "code",
   "execution_count": null,
   "metadata": {},
   "outputs": [],
   "source": [
    "from quick_pp.saturation import estimate_temperature_gradient, estimate_rw_temperature_salinity, archie_saturation\n",
    "\n",
    "# Debug water saturation\n",
    "water_salinity = 2e5\n",
    "m = 2\n",
    "\n",
    "temp_grad = estimate_temperature_gradient(well_data['DEPTH'], 'imperial')\n",
    "rw = estimate_rw_temperature_salinity(temp_grad, water_salinity)\n",
    "\n",
    "swt = archie_saturation(well_data['RT'], rw, well_data['PHIT'], m=m)\n",
    "\n",
    "plt.figure(figsize=(10, 2))\n",
    "plt.plot(well_data['DEPTH'], swt)\n",
    "plt.ylim(0, 1)\n"
   ]
  },
  {
   "cell_type": "markdown",
   "metadata": {},
   "source": [
    "## Saturation Height Function\n",
    "\n",
    "### Core Data\n",
    "\n",
    "Explain the data source,\n",
    "- measurement techniques\n",
    "- data qc is discussed in the next section\n",
    "\n",
    "### Define Rock Type\n",
    "\n",
    "Define the rock type based on FZI cut-offs from previous notebook\n",
    "\n"
   ]
  },
  {
   "cell_type": "code",
   "execution_count": null,
   "metadata": {},
   "outputs": [],
   "source": [
    "from quick_pp.rock_type import calc_fzi, rock_typing, calc_r35\n",
    "from quick_pp.core_calibration import fit_j_curve, j_xplot, leverett_j, sw_shf_leverett_j, poroperm_xplot, pc_xplot\n",
    "\n",
    "core_data = pd.read_csv(r'data\\01_raw\\HW_core_data_all.csv')\n",
    "core_data['CPORE'] = core_data['Phi (frac.)']\n",
    "core_data['CPERM'] = core_data['K mD']\n",
    "core_data['PC'] = core_data['O/B Pc (psia)']\n",
    "core_data['PC_RES'] = core_data['O/B Pc (psia)'] * 0.088894  # oil-brine system\n",
    "core_data['SW'] = core_data['Equiv Brine Sat. (Frac.)']\n",
    "core_data['SWN'] = core_data.groupby('Sample')['SW'].transform(lambda x: (x - x.min()) / (1 - x.min()))\n",
    "\n",
    "# Filter data\n",
    "conditions = (\n",
    "    (core_data['K mD'] > 0)\n",
    "    & (core_data['Class'] == 'Good')\n",
    "    # & (core_data['PC'] <= 40)\n",
    ")\n",
    "core_data = core_data[conditions].copy()\n",
    "\n",
    "core_data.drop_duplicates(subset=['CPORE', 'CPERM', 'SW'], keep='last', inplace=True)\n",
    "\n",
    "# Estimate rock types\n",
    "r35 = calc_r35(core_data['CPORE'], core_data['CPERM'])\n",
    "core_data['R35'] = r35\n",
    "r35_cut_offs = [.1, .5, 2, 10, 100]\n",
    "rock_flag = rock_typing(r35, higher_is_better=True, cut_offs=r35_cut_offs)\n",
    "core_data['ROCK_FLAG'] = rock_flag\n",
    "\n",
    "# Plot Pc curve for each sample\n",
    "for sample, data in core_data.groupby('Sample'):\n",
    "    pc_xplot(data['SW'], data['PC'], label=sample)"
   ]
  },
  {
   "cell_type": "markdown",
   "metadata": {},
   "source": [
    "## Leverett J\n",
    "\n",
    "Explain Leverett J technique\n",
    "\n",
    "### Calculate J"
   ]
  },
  {
   "cell_type": "code",
   "execution_count": null,
   "metadata": {},
   "outputs": [],
   "source": [
    "ift = 32\n",
    "theta = 30\n",
    "\n",
    "core_data['J'] = leverett_j(core_data['PC_RES'], ift, theta, core_data['CPERM'], core_data['CPORE'])\n",
    "j_xplot(core_data['SW'], core_data['J'], core_group=core_data['ROCK_FLAG'])"
   ]
  },
  {
   "cell_type": "code",
   "execution_count": null,
   "metadata": {},
   "outputs": [],
   "source": [
    "j_xplot(core_data['SWN'], core_data['J'], core_group=core_data['ROCK_FLAG'])"
   ]
  },
  {
   "cell_type": "markdown",
   "metadata": {},
   "source": [
    "## QC the Pc data\n",
    "\n",
    "The capillary pressure measurements for each Sample are plotted on a log-log plot.\n",
    "The data points should fall on a relatively straight line indicating good data quality.\n",
    "\n",
    "Based \n",
    "select the dataset for each rock type\n",
    "curve fitting"
   ]
  },
  {
   "cell_type": "code",
   "execution_count": null,
   "metadata": {},
   "outputs": [],
   "source": [
    "from ipywidgets import interact, widgets\n",
    "\n",
    "rt = widgets.Dropdown(\n",
    "    options=core_data['ROCK_FLAG'].unique(),\n",
    "    value=1,\n",
    "    description='Rock Type:'\n",
    ")\n",
    "a = widgets.FloatSlider(\n",
    "    value=.01,\n",
    "    min=.001,\n",
    "    max=.1,\n",
    "    step=.001,\n",
    "    readout_format='.3f'\n",
    ")\n",
    "b = widgets.FloatSlider(\n",
    "    value=.5,\n",
    "    min=.1,\n",
    "    max=3,\n",
    "    step=.1,\n",
    "    readout_format='.1f'\n",
    ")\n",
    "\n",
    "@interact(rt=rt, a=a, b=b)\n",
    "def param(rt, a, b):\n",
    "    data = core_data[core_data['ROCK_FLAG'] == rt]\n",
    "    j_xplot(data['SWN'], data['J'], a=a, b=b, core_group=data['Sample'], log_log=False)"
   ]
  },
  {
   "cell_type": "code",
   "execution_count": null,
   "metadata": {},
   "outputs": [],
   "source": [
    "params = {\n",
    "    1: (.007, 1.2),\n",
    "    2: (.009, 1.25),\n",
    "    3: (.011, 1.26),\n",
    "    4: (.015, 1.27),\n",
    "}\n",
    "\n",
    "for rt, param in params.items():\n",
    "    a, b = param\n",
    "    rock_data = core_data[core_data['ROCK_FLAG'] == rt]\n",
    "    j_xplot(rock_data['SWN'], rock_data['J'], a=a, b=b, core_group=rock_data['Sample'],\n",
    "            label=f'{rt}: a:{a}, b:{b}', log_log=False)\n",
    "    plt.show()"
   ]
  },
  {
   "cell_type": "markdown",
   "metadata": {},
   "source": [
    "## Estimate SHF"
   ]
  },
  {
   "cell_type": "code",
   "execution_count": null,
   "metadata": {},
   "outputs": [],
   "source": [
    "params = {\n",
    "    1: (.007, 1.2),\n",
    "    2: (.009, 1.25),\n",
    "    3: (.011, 1.26),\n",
    "    4: (.015, 1.27),\n",
    "}\n",
    "\n",
    "ift = 32\n",
    "theta = 30\n",
    "ghc = .837\n",
    "gw = 1.0\n",
    "fwl = 8380\n",
    "\n",
    "fwl = widgets.FloatSlider(\n",
    "    value=fwl,\n",
    "    min=fwl / 2,\n",
    "    max=fwl * 2,\n",
    "    step=5\n",
    ")\n",
    "\n",
    "@interact(fwl=fwl)\n",
    "def plot(fwl):\n",
    "    well_data['a'] = well_data['ROCK_FLAG'].map(params).apply(lambda x: x[0])\n",
    "    well_data['b'] = well_data['ROCK_FLAG'].map(params).apply(lambda x: x[1])\n",
    "    shf = sw_shf_leverett_j(\n",
    "        well_data['PERM'], well_data['PHIT'], well_data['DEPTH'], gw=gw, ghc=ghc,\n",
    "        fwl=fwl, ift=ift, theta=theta, a=well_data['a'], b=well_data['b'])\n",
    "\n",
    "    plt.figure(figsize=(10, 2))\n",
    "    plt.plot(well_data['DEPTH'], swt, label='SWT')\n",
    "    plt.plot(well_data['DEPTH'], shf, label='SHF')\n",
    "    plt.ylim(0, 1)\n",
    "    plt.legend()"
   ]
  },
  {
   "cell_type": "markdown",
   "metadata": {},
   "source": [
    "## Plot the results"
   ]
  },
  {
   "cell_type": "code",
   "execution_count": null,
   "metadata": {},
   "outputs": [],
   "source": [
    "from quick_pp.plotter import plotly_log\n",
    "fwl = 8380\n",
    "shf = sw_shf_leverett_j(\n",
    "    well_data['PERM'], well_data['PHIT'], well_data['DEPTH'], gw=gw, ghc=ghc,\n",
    "    fwl=fwl, ift=ift, theta=theta, a=well_data['a'], b=well_data['b']\n",
    ")\n",
    "# Plot individual results\n",
    "well_data['SWT'] = swt\n",
    "well_data['SHF'] = shf\n",
    "fig = plotly_log(well_data, '')\n",
    "fig.show(config=dict(scrollZoom=True))"
   ]
  },
  {
   "cell_type": "code",
   "execution_count": null,
   "metadata": {},
   "outputs": [],
   "source": [
    "# # Save the well data\n",
    "# project.update_data(well_data)\n",
    "# project.save()"
   ]
  }
 ],
 "metadata": {
  "kernelspec": {
   "display_name": "venv310",
   "language": "python",
   "name": "python3"
  },
  "language_info": {
   "codemirror_mode": {
    "name": "ipython",
    "version": 3
   },
   "file_extension": ".py",
   "mimetype": "text/x-python",
   "name": "python",
   "nbconvert_exporter": "python",
   "pygments_lexer": "ipython3",
   "version": "3.10.9"
  }
 },
 "nbformat": 4,
 "nbformat_minor": 2
}
