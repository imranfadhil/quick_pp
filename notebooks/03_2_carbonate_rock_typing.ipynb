{
 "cells": [
  {
   "cell_type": "code",
   "execution_count": null,
   "metadata": {},
   "outputs": [],
   "source": [
    "import sys\n",
    "sys.path.append('..')\n",
    "%load_ext autoreload\n",
    "%autoreload 2\n",
    "%matplotlib inline"
   ]
  },
  {
   "cell_type": "code",
   "execution_count": null,
   "metadata": {},
   "outputs": [],
   "source": [
    "from quick_pp.objects import Project\n",
    "\n",
    "# Load well from saved file\n",
    "project = \"MOCK_carbonate\"\n",
    "project_path = rf\"data\\04_project\\{project}.qppp\"\n",
    "project = Project().load(project_path)\n",
    "project.get_well_names()\n",
    "all_data = project.get_all_data()"
   ]
  },
  {
   "cell_type": "markdown",
   "metadata": {},
   "source": [
    "# Rock Typing"
   ]
  },
  {
   "cell_type": "markdown",
   "metadata": {},
   "source": [
    "The process of rock typing is a multidisciplinary effort that involves close collaboration between geologists, petrophysicists, and reservoir engineers. Each discipline plays a specific role, and the rock typing workflow involves a seamless transition of data, models, and insights across these domains to build a robust understanding of the reservoir. Below is the high-level workflow detailing the steps, key tasks, and handoffs between these professionals\n",
    "\n",
    "Petrophysicists take geological inputs and combine them with well log data and core analysis to define rock types based on petrophysical properties such as porosity, permeability, fluid saturation, and pore geometry.\n",
    "\n",
    "Tasks:\n",
    "- Core Data Integration:\n",
    "    - Perform routine and special core analyses (RCAL, SCAL) to measure porosity, permeability, capillary pressure, and wettability.\n",
    "\n",
    "- Log Interpretation:\n",
    "    - Interpret wireline logs (e.g., density, neutron, resistivity, NMR) to generate continuous petrophysical properties along the wellbore.\n",
    "\n",
    "- Rock Typing Methods:\n",
    "    - Use statistical tools like Flow Zone Indicator (FZI), Pickett plots, and cluster analysis to group rocks with similar flow behavior into petrophysical rock types.\n",
    "\n",
    "- Electrofacies Analysis:\n",
    "    - Identify electrofacies by clustering log responses, especially where core data is limited.\n",
    "\n",
    "The rock typing workflow is a collaborative process where geologists, petrophysicists, and reservoir engineers work together to ensure the reservoir is accurately characterized and modeled. This interdisciplinary approach ensures that both geological and petrophysical complexities are accounted for, resulting in more efficient production strategies and better field development plans"
   ]
  },
  {
   "cell_type": "markdown",
   "metadata": {},
   "source": [
    "## Identifying the number of rock types"
   ]
  },
  {
   "cell_type": "markdown",
   "metadata": {},
   "source": [
    "Different methods have been discussed by previous works on determining of the number of rock types for a given core data. Among others are Wards Plot, Modified Lorenz Plot and its extensions.\n",
    "\n",
    "1. Flow Zone Index (FZI) Method\n",
    "    - The FZI method classifies rock types based on their flow characteristics. It involves calculating the Flow Zone Index from core data and using it to group similar rock types. This method is particularly effective in heterogeneous reservoirs3.\n",
    "\n",
    "1. Ward’s Method\n",
    "    - Ward’s method is a hierarchical clustering technique that minimizes the total within-cluster variance. It starts with each observation in its own cluster and merges clusters iteratively to minimize the increase in total within-cluster variance1. This method is particularly useful for quantitative variables and can be visualized using a dendrogram, which helps in identifying the optimal number of clusters (rock types).\n",
    "\n",
    "2. Lorenz Method\n",
    "    - The Lorenz method, often used in petrophysical analysis, involves plotting cumulative storage capacity against cumulative flow capacity. This method helps in identifying distinct rock types based on their flow properties. By analyzing the Lorenz plot, you can determine the number of rock types and their respective contributions to storage and flow capacities2.\n",
    "\n",
    "However, since the lithofacies data is not available to calibrate the rock typing, Costa resolved to defining the rock types based on Winland R35 method and resulted in 27 RRTs.\n",
    "\n",
    "For simplicity, this work break the rocks into 4 rock types only based on the Pore Throat Size (PTS) classification below;\n",
    "Rock Type 1: Mega: PTS > 10 microns\n",
    "Rock Type 2: Macro: PTS > 2 microns\n",
    "Rock Type 3: Meso: PTS > 0.5 microns\n",
    "Rock Type 4: Micro: PTS > 0.1 microns"
   ]
  },
  {
   "cell_type": "code",
   "execution_count": null,
   "metadata": {},
   "outputs": [],
   "source": [
    "import pandas as pd\n",
    "import numpy as np\n",
    "from quick_pp.rock_type import plot_ward, plot_modified_lorenz\n",
    "\n",
    "core_data = pd.read_csv(r'data\\01_raw\\HW_core_data_all.csv')\n",
    "core_data['CPORE'] = core_data['Phi (frac.)']\n",
    "core_data['CPERM'] = core_data['K mD']\n",
    "core_data['PC'] = core_data['O/B Pc (psia)']\n",
    "core_data['SW'] = core_data['Equiv Brine Sat. (Frac.)']\n",
    "core_data = core_data[core_data['CPERM'] > 0]\n",
    "\n",
    "clean_core_data = core_data.drop_duplicates(subset=['Sample', 'CPORE', 'CPERM'], keep='last')\n",
    "plot_ward(clean_core_data['CPORE'], clean_core_data['CPERM'])\n",
    "plot_modified_lorenz(clean_core_data['CPORE'], clean_core_data['CPERM'])\n",
    "\n",
    "log_fzi_cut_offs = [-.679, -.179, .171, .571, .871]\n",
    "fzi_cut_offs = [round(10**(i), 3) for i in log_fzi_cut_offs]\n",
    "print(fzi_cut_offs)"
   ]
  },
  {
   "cell_type": "markdown",
   "metadata": {},
   "source": [
    "xxx explain the core data xxx\n",
    "\n",
    "Based on the Ward's plot above, it is deduced that the data can be grouped into 4 rock types where the limits of log(FZI) values are -0.679, -0.179, 1.71, 0.571 and 0.871.\n",
    "This translates into FZI values of 0.209, 0.662, 1.483, 3.724, 7.43. Consequently, the rock types are categorized as follows;\n",
    "- Rock Type 1: FZI >= 3.724\n",
    "- Rock Type 2: 1.483 <= FZI < 3.724\n",
    "- Rock Type 3: 0.662 <= FZI < 1.483\n",
    "- Rock Type 4: FZI < 0.662"
   ]
  },
  {
   "cell_type": "markdown",
   "metadata": {},
   "source": [
    "## Plotting the Rock Types"
   ]
  },
  {
   "cell_type": "code",
   "execution_count": null,
   "metadata": {},
   "outputs": [],
   "source": [
    "from quick_pp.rock_type import plot_fzi, plot_rfn, plot_winland, calc_fzi, rock_typing\n",
    "from quick_pp.rock_type import calc_r35, rock_typing, plot_winland\n",
    "\n",
    "all_data['CPERM'] = all_data.CORE_PERM\n",
    "all_data['CPORE'] = all_data.CORE_POR / 100\n",
    "# all_data['CPERM'] = np.where(all_data.CPERM < .01, np.nan, all_data.CPERM)\n",
    "# all_data['CPORE'] = np.where(all_data.CPORE < .01, np.nan, all_data.CPORE)\n",
    "\n",
    "# Estimate rock types\n",
    "r35 = calc_r35(all_data['CPORE'], all_data['CPERM'])\n",
    "all_data['R35'] = r35\n",
    "r35_cut_offs = [.1, .5, 2, 10, 100]\n",
    "rock_flag = rock_typing(r35, higher_is_better=True, cut_offs=r35_cut_offs)\n",
    "all_data['ROCK_FLAG'] = rock_flag\n",
    "\n",
    "print('The data has been classified into the following rock types:')\n",
    "print(all_data['ROCK_FLAG'].value_counts())"
   ]
  },
  {
   "cell_type": "markdown",
   "metadata": {},
   "source": [
    "As a comparison, the rock types being identified using FZI is plotted on Winland R35 and Lucia Rock Fabric Number (RFN) methods.\n",
    "\n",
    "- The plot demonstrates Winland R35 resulted in a more flat permeability estimation while\n",
    "- Lower porosity - high permeability datapoints.\n",
    "    - These points might be indicating fracture kind of rock types\n",
    "    - Both Winland R35 and Lucia RFN does not model the datapoints\n",
    "    - FZI is able to model but indicates too high of a value"
   ]
  },
  {
   "cell_type": "code",
   "execution_count": null,
   "metadata": {},
   "outputs": [],
   "source": [
    "plot_fzi(all_data['CPORE'], all_data['CPERM'], rock_type=rock_flag)\n",
    "plot_winland(all_data['CPORE'], all_data['CPERM'], rock_type=rock_flag)\n",
    "plot_rfn(all_data['CPORE'], all_data['CPERM'], rock_type=rock_flag)"
   ]
  },
  {
   "cell_type": "markdown",
   "metadata": {},
   "source": [
    "Determining the perm transform parameter for each rock type."
   ]
  },
  {
   "cell_type": "code",
   "execution_count": null,
   "metadata": {},
   "outputs": [],
   "source": [
    "from ipywidgets import interact, widgets\n",
    "from quick_pp.core_calibration import poroperm_xplot\n",
    "\n",
    "rt = widgets.Dropdown(\n",
    "    options=all_data['ROCK_FLAG'].dropna().unique(),\n",
    "    value=1,\n",
    "    description='Rock Type:'\n",
    ")\n",
    "a = widgets.FloatSlider(\n",
    "    value=1000,\n",
    "    min=.1,\n",
    "    max=10000,\n",
    "    step=1,\n",
    "    readout_format='d'\n",
    ")\n",
    "b = widgets.FloatSlider(\n",
    "    value=2,\n",
    "    min=.1,\n",
    "    max=3,\n",
    "    step=.1,\n",
    "    readout_format='.1f'\n",
    ")\n",
    "\n",
    "@interact(rt=rt, a=a, b=b)\n",
    "def param(rt, a, b):\n",
    "    data = all_data[all_data['ROCK_FLAG'] == rt]\n",
    "    poroperm_xplot(data['CPORE'], data['CPERM'], a=a, b=b, log_log=False)"
   ]
  },
  {
   "cell_type": "markdown",
   "metadata": {},
   "source": [
    "### Compare different PERM estimations"
   ]
  },
  {
   "cell_type": "code",
   "execution_count": null,
   "metadata": {},
   "outputs": [],
   "source": [
    "import pickle\n",
    "from quick_pp.rock_type import train_rock_type, train_fzi\n",
    "\n",
    "train_data = all_data.copy()  # Filter out low porosity data\n",
    "# train_data = train_data[train_data.CPORE >= .02].copy()  # Filter out low porosity data\n",
    "# train_data = train_data[train_data.CPERM > .1]  # Filter out low permeability data\n",
    "train_data = train_data[train_data.ROCK_FLAG < 5]  # Filter out non-reservoir data\n",
    "\n",
    "train_data = train_data.dropna(subset=['GR', 'NPHI', 'RHOB', 'ROCK_FLAG'])\n",
    "rt_model = train_rock_type(train_data[['GR', 'NPHI', 'RHOB']], train_data['ROCK_FLAG'])\n",
    "with open(r'data\\04_project\\MOCK_carbonate\\outputs\\rt_model.qppm', 'wb') as file:\n",
    "    pickle.dump(rt_model, file)\n",
    "\n",
    "# train_data = train_data.dropna(subset=['GR', 'NPHI', 'RHOB', 'FZI'])\n",
    "# fzi_model = train_fzi(train_data[['GR', 'NPHI', 'RHOB']], train_data['FZI'], train_data['ROCK_FLAG'])\n",
    "# with open(r'data\\04_project\\MOCK_carbonate\\outputs\\fzi_model.qppm', 'wb') as file:\n",
    "#     pickle.dump(fzi_model, file)\n",
    "\n",
    "train_data = train_data.dropna(subset=['GR', 'NPHI', 'RHOB', 'R35'])\n",
    "r35_model = train_fzi(train_data[['GR', 'NPHI', 'RHOB']], train_data['R35'], train_data['ROCK_FLAG'])\n",
    "with open(r'data\\04_project\\MOCK_carbonate\\outputs\\r35_model.qppm', 'wb') as file:\n",
    "    pickle.dump(r35_model, file)"
   ]
  },
  {
   "cell_type": "code",
   "execution_count": null,
   "metadata": {},
   "outputs": [],
   "source": [
    "import matplotlib.pyplot as plt\n",
    "from quick_pp.core_calibration import perm_transform\n",
    "from quick_pp.rock_type import calc_r35_perm\n",
    "\n",
    "well_data = all_data[all_data.WELL_NAME == 'HW-29'].copy()\n",
    "\n",
    "params = {\n",
    "    1: (6800, 1.9),\n",
    "    2: (1400, 2.0),\n",
    "    3: (110, 2.0),\n",
    "    4: (17, 2.0)\n",
    "}\n",
    "\n",
    "well_data['perm_a'] = well_data['ROCK_FLAG'].map(params).apply(lambda x: x[0] if type(x) == tuple else np.nan)\n",
    "well_data['perm_b'] = well_data['ROCK_FLAG'].map(params).apply(lambda x: x[1] if type(x) == tuple else np.nan)\n",
    "perm_trans = perm_transform(well_data['PHIT'], well_data['perm_a'], well_data['perm_b'])\n",
    "perm_r35 = calc_r35_perm(well_data['R35'], well_data['PHIT'])\n",
    "\n",
    "rock_flag_ml = rt_model.predict(well_data[['GR', 'NPHI', 'RHOB']])\n",
    "perm_a_ml = pd.Series(rock_flag_ml).map(params).apply(lambda x: x[0] if type(x) == tuple else np.nan)\n",
    "perm_b_ml = pd.Series(rock_flag_ml).map(params).apply(lambda x: x[1] if type(x) == tuple else np.nan)\n",
    "perm_ml = perm_transform(well_data['PHIT'], perm_a_ml, perm_b_ml)\n",
    "\n",
    "r35_ml = r35_model.predict(well_data[['GR', 'NPHI', 'RHOB']])\n",
    "perm_r35_ml = calc_r35_perm(r35_ml, well_data['PHIT'])\n",
    "\n",
    "plt.figure(figsize=(15, 2))\n",
    "plt.plot(well_data.DEPTH, perm_trans, label='Perm Transform')\n",
    "plt.plot(well_data.DEPTH, perm_r35, label='Perm R35')\n",
    "plt.plot(well_data.DEPTH, perm_ml, label='Perm ML')\n",
    "plt.plot(well_data.DEPTH, perm_r35_ml, label='Perm R35 ML')\n",
    "plt.scatter(well_data.DEPTH, well_data.CPERM, label='Core Perm', marker='.', c='black')\n",
    "plt.yscale('log')\n",
    "plt.legend()"
   ]
  },
  {
   "cell_type": "markdown",
   "metadata": {},
   "source": [
    "## Predict ROCK_FLAG, R35 and PERM"
   ]
  },
  {
   "cell_type": "markdown",
   "metadata": {},
   "source": [
    "The plotted predicted permeability seems aligned with the core permeability."
   ]
  },
  {
   "cell_type": "code",
   "execution_count": null,
   "metadata": {},
   "outputs": [],
   "source": [
    "from quick_pp.plotter import plotly_log\n",
    "\n",
    "# Plot individual results\n",
    "well_data['PERM'] = perm_r35_ml\n",
    "fig = plotly_log(well_data, '')\n",
    "fig.show(config=dict(scrollZoom=True))"
   ]
  },
  {
   "cell_type": "code",
   "execution_count": null,
   "metadata": {},
   "outputs": [],
   "source": [
    "# # Save the well data\n",
    "# project.update_data(well_data)\n",
    "# project.save()"
   ]
  }
 ],
 "metadata": {
  "kernelspec": {
   "display_name": "venv310",
   "language": "python",
   "name": "python3"
  },
  "language_info": {
   "codemirror_mode": {
    "name": "ipython",
    "version": 3
   },
   "file_extension": ".py",
   "mimetype": "text/x-python",
   "name": "python",
   "nbconvert_exporter": "python",
   "pygments_lexer": "ipython3",
   "version": "3.10.9"
  }
 },
 "nbformat": 4,
 "nbformat_minor": 4
}
