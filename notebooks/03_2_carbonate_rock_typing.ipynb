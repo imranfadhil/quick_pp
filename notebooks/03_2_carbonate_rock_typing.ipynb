{
 "cells": [
  {
   "cell_type": "code",
   "execution_count": 1,
   "metadata": {},
   "outputs": [],
   "source": [
    "import sys\n",
    "sys.path.append('..')\n",
    "%load_ext autoreload\n",
    "%autoreload 2\n",
    "%matplotlib inline"
   ]
  },
  {
   "cell_type": "code",
   "execution_count": 2,
   "metadata": {},
   "outputs": [],
   "source": [
    "from quick_pp.objects import Project\n",
    "\n",
    "# Load well from saved file\n",
    "project = \"MOCK_carbonate\"\n",
    "project_path = rf\"data\\04_project\\{project}.qppp\"\n",
    "project = Project().load(project_path)\n",
    "project.get_well_names()\n",
    "all_data = project.get_all_data()"
   ]
  },
  {
   "cell_type": "markdown",
   "metadata": {},
   "source": [
    "# Rock Typing"
   ]
  },
  {
   "cell_type": "markdown",
   "metadata": {},
   "source": [
    "The process of rock typing is a multidisciplinary effort that involves close collaboration between geologists, petrophysicists, and reservoir engineers. Each discipline plays a specific role, and the rock typing workflow involves a seamless transition of data, models, and insights across these domains to build a robust understanding of the reservoir. Below is the high-level workflow detailing the steps, key tasks, and handoffs between these professionals\n",
    "\n",
    "Petrophysicists take geological inputs and combine them with well log data and core analysis to define rock types based on petrophysical properties such as porosity, permeability, fluid saturation, and pore geometry.\n",
    "\n",
    "Tasks:\n",
    "- Core Data Integration:\n",
    "    - Perform routine and special core analyses (RCAL, SCAL) to measure porosity, permeability, capillary pressure, and wettability.\n",
    "\n",
    "- Log Interpretation:\n",
    "    - Interpret wireline logs (e.g., density, neutron, resistivity, NMR) to generate continuous petrophysical properties along the wellbore.\n",
    "\n",
    "- Rock Typing Methods:\n",
    "    - Use statistical tools like Flow Zone Indicator (FZI), Pickett plots, and cluster analysis to group rocks with similar flow behavior into petrophysical rock types.\n",
    "\n",
    "- Electrofacies Analysis:\n",
    "    - Identify electrofacies by clustering log responses, especially where core data is limited.\n",
    "\n",
    "The rock typing workflow is a collaborative process where geologists, petrophysicists, and reservoir engineers work together to ensure the reservoir is accurately characterized and modeled. This interdisciplinary approach ensures that both geological and petrophysical complexities are accounted for, resulting in more efficient production strategies and better field development plans"
   ]
  },
  {
   "cell_type": "markdown",
   "metadata": {},
   "source": [
    "## Identifying the number of rock types"
   ]
  },
  {
   "cell_type": "markdown",
   "metadata": {},
   "source": [
    "Different methods have been discussed by previous works on determining of the number of rock types for a given core data. Among others are Wards Plot, Modified Lorenz Plot and its extensions.\n",
    "\n",
    "1. Flow Zone Index (FZI) Method\n",
    "    - The FZI method classifies rock types based on their flow characteristics. It involves calculating the Flow Zone Index from core data and using it to group similar rock types. This method is particularly effective in heterogeneous reservoirs3.\n",
    "\n",
    "1. Ward’s Method\n",
    "    - Ward’s method is a hierarchical clustering technique that minimizes the total within-cluster variance. It starts with each observation in its own cluster and merges clusters iteratively to minimize the increase in total within-cluster variance1. This method is particularly useful for quantitative variables and can be visualized using a dendrogram, which helps in identifying the optimal number of clusters (rock types).\n",
    "\n",
    "2. Lorenz Method\n",
    "    - The Lorenz method, often used in petrophysical analysis, involves plotting cumulative storage capacity against cumulative flow capacity. This method helps in identifying distinct rock types based on their flow properties. By analyzing the Lorenz plot, you can determine the number of rock types and their respective contributions to storage and flow capacities2."
   ]
  },
  {
   "cell_type": "code",
   "execution_count": null,
   "metadata": {},
   "outputs": [],
   "source": [
    "import pandas as pd\n",
    "import numpy as np\n",
    "from quick_pp.rock_type import plot_ward, plot_modified_lorenz\n",
    "\n",
    "core_data = pd.read_csv(r'data\\01_raw\\HW_core_data_all.csv')\n",
    "core_data['CPORE'] = core_data['Phi (frac.)']\n",
    "core_data['CPERM'] = core_data['K mD']\n",
    "core_data['PC'] = core_data['O/B Pc (psia)']\n",
    "core_data['SW'] = core_data['Equiv Brine Sat. (Frac.)']\n",
    "core_data = core_data[core_data['CPERM'] > 0]\n",
    "\n",
    "clean_core_data = core_data.drop_duplicates(subset=['Sample', 'CPORE', 'CPERM'], keep='last')\n",
    "plot_ward(clean_core_data['CPORE'], clean_core_data['CPERM'])\n",
    "plot_modified_lorenz(clean_core_data['CPORE'], clean_core_data['CPERM'])\n",
    "\n",
    "log_fzi_cut_offs = [-.679, -.179, .171, .571, .871]\n",
    "fzi_cut_offs = [round(10**(i), 3) for i in log_fzi_cut_offs]\n",
    "print(fzi_cut_offs)"
   ]
  },
  {
   "cell_type": "markdown",
   "metadata": {},
   "source": [
    "xxx explain the core data xxx\n",
    "\n",
    "Based on the Ward's plot above, it is deduced that the data can be grouped into 4 rock types where the limits of log(FZI) values are -0.679, -0.179, 1.71, 0.571 and 0.871.\n",
    "This translates into FZI values of 0.209, 0.662, 1.483, 3.724, 7.43. Consequently, the rock types are categorized as follows;\n",
    "- Rock Type 1: FZI >= 3.724\n",
    "- Rock Type 2: 1.483 <= FZI < 3.724\n",
    "- Rock Type 3: 0.662 <= FZI < 1.483\n",
    "- Rock Type 4: FZI < 0.662"
   ]
  },
  {
   "cell_type": "markdown",
   "metadata": {},
   "source": [
    "## Plotting the Rock Types"
   ]
  },
  {
   "cell_type": "code",
   "execution_count": null,
   "metadata": {},
   "outputs": [],
   "source": [
    "from quick_pp.rock_type import plot_fzi, plot_rfn, plot_winland, calc_fzi, rock_typing\n",
    "\n",
    "all_data['CPERM'] = all_data.CORE_PERM\n",
    "all_data['CPORE'] = all_data.CORE_POR / 100\n",
    "# all_data['CPERM'] = np.where(all_data.CPERM < .01, np.nan, all_data.CPERM)\n",
    "# all_data['CPORE'] = np.where(all_data.CPORE < .01, np.nan, all_data.CPORE)\n",
    "\n",
    "# Estimate rock types\n",
    "fzi = calc_fzi(all_data['CPERM'], all_data['CPORE'])\n",
    "# fzi = np.where(fzi > 6, 0, fzi)\n",
    "all_data['FZI'] = fzi\n",
    "rock_flag = rock_typing(fzi, higher_is_better=True, cut_offs=fzi_cut_offs)\n",
    "all_data['ROCK_FLAG'] = rock_flag\n",
    "\n",
    "print('The data has been classified into the following rock types:')\n",
    "print(pd.Series(rock_flag).value_counts())"
   ]
  },
  {
   "cell_type": "markdown",
   "metadata": {},
   "source": [
    "As a comparison, the rock types being identified using FZI is plotted on Winland R35 and Lucia Rock Fabric Number (RFN) methods.\n",
    "\n",
    "- The plot demonstrates Winland R35 resulted in a more flat permeability estimation while\n",
    "- Lower porosity - high permeability datapoints.\n",
    "    - These points might be indicating fracture kind of rock types\n",
    "    - Both Winland R35 and Lucia RFN does not model the datapoints\n",
    "    - FZI is able to model but indicates too high of a value"
   ]
  },
  {
   "cell_type": "code",
   "execution_count": null,
   "metadata": {},
   "outputs": [],
   "source": [
    "plot_fzi(all_data['CPORE'], all_data['CPERM'], fzi=fzi_cut_offs, rock_type=rock_flag)\n",
    "plot_winland(all_data['CPORE'], all_data['CPERM'], rock_type=rock_flag)\n",
    "plot_rfn(all_data['CPORE'], all_data['CPERM'], rock_type=rock_flag)"
   ]
  },
  {
   "cell_type": "markdown",
   "metadata": {},
   "source": [
    "## Building Rock Type and FZI model to propagate to non-cored intervals"
   ]
  },
  {
   "cell_type": "code",
   "execution_count": null,
   "metadata": {},
   "outputs": [],
   "source": [
    "import pickle\n",
    "from quick_pp.rock_type import train_rock_type, train_fzi\n",
    "\n",
    "train_data = all_data.dropna(subset=['NPHI', 'RHOB', 'PHIT', 'VCLW', 'ROCK_FLAG'])\n",
    "rt_model = train_rock_type(train_data[['NPHI', 'RHOB', 'PHIT', 'VCLW']], train_data['ROCK_FLAG'])\n",
    "with open(r'data\\04_project\\MOCK_carbonate\\outputs\\rt_model.qppm', 'wb') as file:\n",
    "    pickle.dump(rt_model, file)\n",
    "\n",
    "\n",
    "train_data = all_data.dropna(subset=['GR', 'NPHI', 'RHOB', 'FZI'])\n",
    "fzi_model = train_fzi(train_data[['NPHI', 'RHOB','PHIT', 'VCLW']], train_data['FZI'], train_data['ROCK_FLAG'])\n",
    "with open(r'data\\04_project\\MOCK_carbonate\\outputs\\fzi_model.qppm', 'wb') as file:\n",
    "    pickle.dump(fzi_model, file)"
   ]
  },
  {
   "cell_type": "markdown",
   "metadata": {},
   "source": [
    "## Predict PERM and FZI"
   ]
  },
  {
   "cell_type": "markdown",
   "metadata": {},
   "source": [
    "The plotted predicted permeability seems aligned with the core permeability."
   ]
  },
  {
   "cell_type": "code",
   "execution_count": null,
   "metadata": {},
   "outputs": [],
   "source": [
    "from quick_pp.plotter import plotly_log\n",
    "from quick_pp.rock_type import calc_fzi_perm\n",
    "\n",
    "# Plot individual results\n",
    "well_data = all_data[all_data.WELL_NAME == 'HW-29'].copy()\n",
    "well_data['ROCK_FLAG'] = rt_model.predict(well_data[['NPHI', 'RHOB','PHIT', 'VCLW']])\n",
    "well_data['FZI'] = fzi_model.predict(well_data[['NPHI', 'RHOB','PHIT', 'VCLW']])\n",
    "well_data['PERM'] = well_data.apply(lambda row: calc_fzi_perm(row['FZI'], row['PHIE']), axis=1)\n",
    "fig = plotly_log(well_data, '')\n",
    "fig.show(config=dict(scrollZoom=True))"
   ]
  }
 ],
 "metadata": {
  "kernelspec": {
   "display_name": "venv310",
   "language": "python",
   "name": "python3"
  },
  "language_info": {
   "codemirror_mode": {
    "name": "ipython",
    "version": 3
   },
   "file_extension": ".py",
   "mimetype": "text/x-python",
   "name": "python",
   "nbconvert_exporter": "python",
   "pygments_lexer": "ipython3",
   "version": "3.10.9"
  }
 },
 "nbformat": 4,
 "nbformat_minor": 2
}
