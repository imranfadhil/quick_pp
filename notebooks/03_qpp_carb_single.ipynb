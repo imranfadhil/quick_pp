{
 "cells": [
  {
   "cell_type": "code",
   "execution_count": null,
   "metadata": {},
   "outputs": [],
   "source": [
    "import sys\n",
    "sys.path.append('..')\n",
    "%load_ext autoreload\n",
    "%autoreload 2\n",
    "%matplotlib inline"
   ]
  },
  {
   "cell_type": "code",
   "execution_count": null,
   "metadata": {},
   "outputs": [],
   "source": [
    "from quick_pp.objects import Project\n",
    "\n",
    "# Load well from saved file\n",
    "project = \"MOCK_carbonate\"\n",
    "project_path = rf\"data\\04_project\\{project}.qppp\"\n",
    "project = Project().load(project_path)\n",
    "project.get_well_names()"
   ]
  },
  {
   "cell_type": "code",
   "execution_count": 40,
   "metadata": {},
   "outputs": [],
   "source": [
    "# Load data\n",
    "well_name = 'M3'\n",
    "well = project.get_well(well_name)\n",
    "well_data = well.data.copy()\n",
    "well_data.dropna(subset=['NPHI', 'RHOB', 'RT', 'GR'], inplace=True)"
   ]
  },
  {
   "cell_type": "markdown",
   "metadata": {},
   "source": [
    "# Quick PP Interpretation"
   ]
  },
  {
   "cell_type": "code",
   "execution_count": 41,
   "metadata": {},
   "outputs": [],
   "source": [
    "from quick_pp.lithology.carbonate import Carbonate\n",
    "from quick_pp.porosity import neu_den_xplot_poro, density_porosity, rho_matrix\n",
    "from quick_pp.qaqc import badhole_flagging, mask_outside_threshold, neu_den_xplot_hc_correction\n",
    "from quick_pp.saturation import *\n",
    "from quick_pp.plotter import *\n",
    "from quick_pp.permeability import *\n",
    "from quick_pp.ressum import *\n",
    "from quick_pp.rock_type import rock_typing, estimate_vsh_gr\n",
    "from quick_pp.plotter import plotly_log\n",
    "from quick_pp.utils import zone_flagging, min_max_line"
   ]
  },
  {
   "cell_type": "markdown",
   "metadata": {},
   "source": [
    "## Estimate Litholoy"
   ]
  },
  {
   "cell_type": "code",
   "execution_count": 43,
   "metadata": {},
   "outputs": [],
   "source": [
    "carbonate_type =  'limestone'  # 'dolostone'  #\n",
    "model = 'single'  # 'double'  #\n",
    "method = 'neu_den'  # 'pef_den'  #\n",
    "\n",
    "# Clean up data\n",
    "well_data = badhole_flagging(well_data)\n",
    "# well_data = mask_outside_threshold(well_data, fill=True)\n",
    "\n",
    "# Initialize lithology model\n",
    "args = {\n",
    "    'litho_model': 'carb',\n",
    "    'dry_sand_point': (.0, 2.71) if carbonate_type == 'limestone' else (.0, 2.81),  # Dry calcite point\n",
    "    'dry_clay_point': (.3, 2.7),\n",
    "    'silt_line_angle': 116,\n",
    "    'wet_clay_point': (0.43, 2.6),\n",
    "    'sw_water_salinity': 5000,\n",
    "    'sw_m': 1.8,\n",
    "    'sw_n': 2,\n",
    "    'hc_corr_angle': 50,\n",
    "    'hc_buffer': 0.1,\n",
    "    'ressum_cutoffs': dict(\n",
    "        VSHALE=.5,\n",
    "        PHIT=0,\n",
    "        SWT=1\n",
    "    ),\n",
    "}\n",
    "vsh_gr = estimate_vsh_gr(well_data['GR'], min_gr=0, max_gr=50)\n",
    "carb_model = Carbonate(**args)\n",
    "vclw, vcalc, vdolo = carb_model.estimate_lithology(\n",
    "    well_data['NPHI'], well_data['RHOB'], gr=well_data['GR'], vsh_gr=vsh_gr,  # pef=well_data['PEF'],\n",
    "    model=model, method=method, normalize= True, carbonate_type=carbonate_type\n",
    ")\n",
    "args.update(carb_model.__dict__)\n",
    "well.update_config(args)  # Save lithology model to well\n",
    "\n",
    "# Implement hydrocarbon correction\n",
    "nphihc, rhobhc, hc_flag = neu_den_xplot_hc_correction(\n",
    "    well_data['NPHI'], well_data['RHOB'], gr=well_data['GR'], vsh_gr=vsh_gr,\n",
    "    dry_sand_point=args['dry_sand_point'],\n",
    "    dry_clay_point=args['dry_clay_point'],\n",
    "    corr_angle=args['hc_corr_angle'], buffer=args['hc_buffer']\n",
    ")\n",
    "\n",
    "# Estimate lithology\n",
    "carb_model = Carbonate(**args)\n",
    "vclw, vcalc, vdolo = carb_model.estimate_lithology(\n",
    "    nphihc, rhobhc,  gr=well_data['GR'], vsh_gr=vsh_gr,  # pef=well_data['PEF'], \n",
    "    model=model, method=method, normalize= True, carbonate_type=carbonate_type\n",
    ")\n",
    "\n",
    "# Estimate rock types\n",
    "rock_flag = rock_typing(vclw, higher_is_better=False)\n",
    "\n",
    "# Update ZONES\n",
    "well_data = zone_flagging(well_data)\n",
    "zones = well_data.ZONES"
   ]
  },
  {
   "cell_type": "code",
   "execution_count": null,
   "metadata": {},
   "outputs": [],
   "source": [
    "copy_args = args.copy()\n",
    "copy_args.pop('silt_line_angle')\n",
    "copy_args['dry_silt_point'] = (0.2, 2.65)\n",
    "print(copy_args)\n",
    "neutron_density_xplot(well_data['NPHI'], well_data['RHOB'], **copy_args)"
   ]
  },
  {
   "cell_type": "code",
   "execution_count": null,
   "metadata": {},
   "outputs": [],
   "source": [
    "neutron_density_xplot(nphihc, rhobhc, **copy_args)"
   ]
  },
  {
   "cell_type": "code",
   "execution_count": null,
   "metadata": {},
   "outputs": [],
   "source": [
    "from quick_pp.rock_type import estimate_vsh_gr\n",
    "\n",
    "vsh_gr = estimate_vsh_gr(well_data['GR'], alpha=0.1)\n",
    "vsh_gr2 = estimate_vsh_gr(well_data['GR'], min_gr=0, max_gr=50)\n",
    "\n",
    "fig, axs = plt.subplots(2, 1, figsize=(20, 3), sharex=True)\n",
    "\n",
    "axs[0].plot(well_data.DEPTH, vsh_gr, label='vsh_gr')\n",
    "axs[0].plot(well_data.DEPTH, vsh_gr2, label='vsh_gr2')\n",
    "axs[0].set_ylim(0, 1)\n",
    "axs[0].legend()\n",
    "\n",
    "axs[1].plot(well_data.DEPTH, well_data['GR'], label='GR')\n",
    "axs[1].legend()"
   ]
  },
  {
   "cell_type": "code",
   "execution_count": 48,
   "metadata": {},
   "outputs": [],
   "source": [
    "# Specify depth of interest\n",
    "min_depth = well_data.DEPTH.min()\n",
    "max_depth = well_data.DEPTH.max()"
   ]
  },
  {
   "cell_type": "markdown",
   "metadata": {},
   "source": [
    "## Estimate Porosity"
   ]
  },
  {
   "cell_type": "code",
   "execution_count": null,
   "metadata": {},
   "outputs": [],
   "source": [
    "# PHID needs unnormalized lithology\n",
    "vclw_un, vcalc_un, vdolo_un = Carbonate(**args).estimate_lithology(\n",
    "    nphihc, rhobhc, gr=well_data['GR'], pef=well_data['PEF'],\n",
    "    model=model, method=method, normalize= False, carbonate_type=carbonate_type\n",
    ")\n",
    "rho_ma = rho_matrix(vclay=vclw_un, vcalc=vcalc_un, vdolo=vdolo_un)\n",
    "phid = phit = density_porosity(rhobhc, rho_ma)\n",
    "\n",
    "plt.figure(figsize=(20, 2))\n",
    "plt.plot(phid, label='PHID')"
   ]
  },
  {
   "cell_type": "markdown",
   "metadata": {},
   "source": [
    "## Estimate Permeability"
   ]
  },
  {
   "cell_type": "code",
   "execution_count": null,
   "metadata": {},
   "outputs": [],
   "source": [
    "import matplotlib.ticker as ticker\n",
    "\n",
    "# Estimate permeability\n",
    "perm = choo_permeability(vclw, 0, phit,  B=6, A=5e6)\n",
    "Swirr = np.where(\n",
    "    rock_flag == 1, 0.005, np.where(\n",
    "        rock_flag == 2, 0.2, np.where(\n",
    "            rock_flag == 3, 0.3, 1\n",
    "        )\n",
    "    )\n",
    ")\n",
    "perm_kc = kozeny_carman_permeability(phit, S=.5)\n",
    "perm_t = timur_permeability(phit, Swirr)\n",
    "perm_c = coates_permeability(phit, Swirr, a=.5)\n",
    "perm_tx = tixier_permeability(phit, Swirr)\n",
    "\n",
    "# Plotting\n",
    "fig, ax = plt.subplots(figsize=(20, 3))\n",
    "ax.plot(well_data.DEPTH, perm, label='Choo')\n",
    "ax.plot(well_data.DEPTH, perm_kc, label='KC')\n",
    "ax.plot(well_data.DEPTH, perm_t, label='Timur')\n",
    "ax.plot(well_data.DEPTH, perm_c, label='Coates')\n",
    "ax.plot(well_data.DEPTH, perm_tx, label='Tixier')\n",
    "ax.set_frame_on(False)\n",
    "ax.set_yscale('log')\n",
    "ax.set_ylim(1e-2, 1e5)\n",
    "ax.yaxis.set_major_formatter(ticker.FuncFormatter(\n",
    "    lambda x, pos: ('{{:.{:1d}f}}'.format(int(np.maximum(-np.log10(x), 0)))).format(x)))\n",
    "ax.set_xlim(min_depth, max_depth)\n",
    "ax.legend(bbox_to_anchor=(1.04, 1), loc=\"upper left\")"
   ]
  },
  {
   "cell_type": "markdown",
   "metadata": {},
   "source": [
    "## Estimate Water Saturation"
   ]
  },
  {
   "cell_type": "code",
   "execution_count": null,
   "metadata": {},
   "outputs": [],
   "source": [
    "# Debug water saturation\n",
    "water_salinity = 5000\n",
    "m = args['sw_m']\n",
    "\n",
    "temp_grad = estimate_temperature_gradient(well_data['DEPTH'], 'imperial')\n",
    "rw = estimate_rw_temperature_salinity(temp_grad, water_salinity)\n",
    "qv = estimate_qv(vclw, phit, cec_clay=.1)\n",
    "\n",
    "swt = waxman_smits_saturation(well_data['RT'], rw, phit, qv)\n",
    "\n",
    "# Plotting\n",
    "fig, (ax1, ax2, ax3) = plt.subplots(nrows=3, sharex=True, figsize=(20, 4))\n",
    "\n",
    "ax1.plot(well_data.DEPTH, qv, label='Qv')\n",
    "ax1.set_ylim(-1, 10)\n",
    "ax1.legend()\n",
    "\n",
    "ax2.plot(well_data.DEPTH, well_data['RT'], label='RT')\n",
    "ax2.plot(well_data.DEPTH, rw, label='rw_salinity')\n",
    "ax2.plot(well_data.DEPTH, rw, label='rw')\n",
    "ax2.set_yscale('log')\n",
    "ax2.legend()\n",
    "\n",
    "ax3.plot(well_data.DEPTH, swt, label='SWT')\n",
    "ax3.legend()\n",
    "\n",
    "fig.tight_layout()"
   ]
  },
  {
   "cell_type": "markdown",
   "metadata": {},
   "source": [
    "## Update Data"
   ]
  },
  {
   "cell_type": "code",
   "execution_count": 52,
   "metadata": {},
   "outputs": [],
   "source": [
    "# Update data in the project\n",
    "well_data['NPHI_HC'] = nphihc\n",
    "well_data['RHOB_HC'] = rhobhc\n",
    "well_data['HC_FLAG'] = hc_flag\n",
    "well_data['VCALC'] = vcalc\n",
    "well_data['VDOLO'] = vdolo\n",
    "well_data['VCLW'] = vclw\n",
    "well_data['PHIT'] = phit\n",
    "well_data['PHID'] = phid\n",
    "well_data['RW'] = rw\n",
    "well_data['Qv'] = qv\n",
    "well_data['M'] = m\n",
    "well_data['SWT'] = swt\n",
    "well_data['PERM'] = perm\n",
    "well_data['ROCK_FLAG'] = rock_flag\n",
    "well_data['VHC'] = phit * (1 - swt)"
   ]
  },
  {
   "cell_type": "code",
   "execution_count": 53,
   "metadata": {},
   "outputs": [],
   "source": [
    "# Estimate reservoir summary\n",
    "ressum_df = calc_reservoir_summary(well_data.DEPTH, vclw, phit, swt, perm, zones, cutoffs=args['ressum_cutoffs'])"
   ]
  },
  {
   "cell_type": "code",
   "execution_count": null,
   "metadata": {},
   "outputs": [],
   "source": [
    "# Plot the results\n",
    "well_data.drop(columns=['VOIL', 'VGAS'], errors='ignore', inplace=True)\n",
    "fig = plotly_log(well_data, depth_uom=well.depth_uom)\n",
    "fig.show(config=dict(scrollZoom=True))\n",
    "# fig.write_html(rf\"{well_name}_log.html\", config=dict(scrollZoom=True))"
   ]
  },
  {
   "cell_type": "markdown",
   "metadata": {},
   "source": [
    "## Multimineral"
   ]
  },
  {
   "cell_type": "code",
   "execution_count": null,
   "metadata": {},
   "outputs": [],
   "source": [
    "from quick_pp.lithology.multi_mineral import MultiMineral\n",
    "\n",
    "vol_quartz, vol_calcite, vol_dolomite, vol_shale, vol_mud = MultiMineral().estimate_lithology(\n",
    "    well_data['GR'], well_data['NPHI_HC'], well_data['RHOB_HC'], well_data['PEF'], well_data['DTC'])\n",
    "\n",
    "multimin = pd.DataFrame(\n",
    "    {'VSAND': vol_quartz, 'VCLW': vol_shale, 'VDOLO': vol_dolomite, 'VCALC': vol_calcite},\n",
    "    index=well_data.DEPTH\n",
    ")\n",
    "multimin = well_data.merge(multimin, how='left', on='DEPTH', suffixes=('_ORI', ''))"
   ]
  },
  {
   "cell_type": "code",
   "execution_count": null,
   "metadata": {},
   "outputs": [],
   "source": [
    "fig, axs = plt.subplots(nrows=3, sharex=True, figsize=(20, 7))\n",
    "axs[0].plot(multimin.DEPTH, multimin['GR'], label='GR')\n",
    "axs[0].legend()\n",
    "axs[1].plot(multimin.DEPTH, multimin['DTC'], label='DTC')\n",
    "axs[1].legend()\n",
    "axs[2].plot(multimin.DEPTH, multimin['PEF'], label='PEF')\n",
    "axs[2].legend()\n"
   ]
  },
  {
   "cell_type": "code",
   "execution_count": null,
   "metadata": {},
   "outputs": [],
   "source": [
    "# Plot the results\n",
    "multimin.drop(columns=['VOIL', 'VGAS'], errors='ignore', inplace=True)\n",
    "fig = plotly_log(multimin, depth_uom=well.depth_uom)\n",
    "fig.show(config=dict(scrollZoom=True))\n",
    "# fig.write_html(rf\"{well_name}_log.html\", config=dict(scrollZoom=True))"
   ]
  },
  {
   "cell_type": "code",
   "execution_count": null,
   "metadata": {},
   "outputs": [],
   "source": [
    "from quick_pp.qaqc import quick_qc\n",
    "\n",
    "test, summary_df, dist_fig, depth_fig = quick_qc(well_data)\n",
    "\n",
    "dist_fig.show()\n",
    "depth_fig.show()"
   ]
  },
  {
   "cell_type": "code",
   "execution_count": 59,
   "metadata": {},
   "outputs": [],
   "source": [
    "# # Save the results to the well\n",
    "# well.update_data(well_data)\n",
    "# well.update_ressum(ressum_df)\n",
    "# project.save_well(well)"
   ]
  },
  {
   "cell_type": "code",
   "execution_count": 60,
   "metadata": {},
   "outputs": [],
   "source": [
    "# project.save()"
   ]
  }
 ],
 "metadata": {
  "kernelspec": {
   "display_name": "venv310",
   "language": "python",
   "name": "python3"
  },
  "language_info": {
   "codemirror_mode": {
    "name": "ipython",
    "version": 3
   },
   "file_extension": ".py",
   "mimetype": "text/x-python",
   "name": "python",
   "nbconvert_exporter": "python",
   "pygments_lexer": "ipython3",
   "version": "3.10.9"
  }
 },
 "nbformat": 4,
 "nbformat_minor": 2
}
