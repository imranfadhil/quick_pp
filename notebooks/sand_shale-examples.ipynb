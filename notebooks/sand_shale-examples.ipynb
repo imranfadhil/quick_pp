{
 "cells": [
  {
   "cell_type": "code",
   "execution_count": null,
   "metadata": {},
   "outputs": [],
   "source": [
    "import sys\n",
    "sys.path.append('..')\n",
    "%load_ext autoreload\n",
    "%autoreload 2\n",
    "%matplotlib inline"
   ]
  },
  {
   "cell_type": "code",
   "execution_count": null,
   "metadata": {},
   "outputs": [],
   "source": [
    "import pandas as pd\n",
    "from IPython.display import clear_output\n",
    "\n",
    "import quick_pp.utils.las_handler as las\n",
    "from quick_pp.lithology import sand_shale_model\n",
    "from quick_pp.plotter import plotly_log\n",
    "from quick_pp.qaqc import badhole_flag, mask_outside_threshold, neu_den_xplot_hc_correction"
   ]
  },
  {
   "cell_type": "code",
   "execution_count": null,
   "metadata": {},
   "outputs": [],
   "source": [
    "with open('X10_raw.las', 'rb') as f:\n",
    "    df, header, _ = las.read_las_file(f)\n",
    "\n",
    "# Mask outside threshold\n",
    "df = mask_outside_threshold(df, True)\n",
    "\n",
    "# Flag bad hole\n",
    "df = badhole_flag(df) if 'CALI' in df.columns else df\n",
    "\n",
    "clear_output()"
   ]
  },
  {
   "cell_type": "code",
   "execution_count": null,
   "metadata": {},
   "outputs": [],
   "source": [
    "args = {\n",
    "    # 'dry_clay_point': (0.27, 2.8)\n",
    "    # 'silt_line_angle': 119\n",
    "}\n",
    "\n",
    "neu_den_df = df[['DEPTH', 'NPHI', 'RHOB']].dropna()\n",
    "vsand, vcld, xplot = sand_shale_model(\n",
    "    neu_den_df['NPHI'], neu_den_df['RHOB'], xplot=True, **args)\n",
    "df_ss_model = pd.DataFrame(\n",
    "    {'VSAND': vsand, 'VCLW': vcld},\n",
    "    index=neu_den_df.DEPTH\n",
    ")\n",
    "df_ssc = df.merge(df_ss_model, how='left', on='DEPTH', suffixes=('_ORI', ''))"
   ]
  },
  {
   "cell_type": "code",
   "execution_count": null,
   "metadata": {},
   "outputs": [],
   "source": [
    "xplot"
   ]
  },
  {
   "cell_type": "code",
   "execution_count": null,
   "metadata": {},
   "outputs": [],
   "source": [
    "fig = plotly_log(df_ssc)\n",
    "fig.show()\n",
    "# fig.write_html('plot.html')"
   ]
  },
  {
   "cell_type": "markdown",
   "metadata": {},
   "source": [
    "## Hydrocarbon Correction"
   ]
  },
  {
   "cell_type": "code",
   "execution_count": null,
   "metadata": {},
   "outputs": [],
   "source": [
    "# Correct NPHI and RHOB for HC\n",
    "df_corr = df.copy()\n",
    "nphihc, rhobhc = neu_den_xplot_hc_correction(df_corr['NPHI'], df_corr['RHOB'], gr=df_corr['GR'],\n",
    "                                             dry_sand_point=(-.02, 2.65),\n",
    "                                             dry_clay_point=(.33, 2.7),\n",
    "                                             corr_degree=50)\n",
    "df_corr[['NPHI', 'RHOB']] = pd.DataFrame({'NPHI': nphihc, 'RHOB': rhobhc}).astype(float)\n",
    "\n",
    "args = {\n",
    "    # 'dry_clay_point': (0.27, 2.8)\n",
    "    # 'silt_line_angle': 119\n",
    "}\n",
    "\n",
    "neu_den_df = df_corr[['DEPTH', 'NPHI', 'RHOB']].dropna()\n",
    "vsand, vcld, xplot = sand_shale_model(\n",
    "    neu_den_df['NPHI'], neu_den_df['RHOB'], xplot=True, **args)\n",
    "df_ss_model = pd.DataFrame(\n",
    "    {'VSAND': vsand, 'VCLW': vcld},\n",
    "    index=neu_den_df.DEPTH\n",
    ")\n",
    "df_ssc_hc = df_corr.merge(df_ss_model, how='left', on='DEPTH', suffixes=('_ORI', ''))"
   ]
  },
  {
   "cell_type": "code",
   "execution_count": null,
   "metadata": {},
   "outputs": [],
   "source": [
    "xplot"
   ]
  },
  {
   "cell_type": "code",
   "execution_count": null,
   "metadata": {},
   "outputs": [],
   "source": [
    "fig = plotly_log(df_ssc_hc)\n",
    "fig.show()\n",
    "# fig.write_html('plot.html')"
   ]
  }
 ],
 "metadata": {
  "kernelspec": {
   "display_name": "venv310",
   "language": "python",
   "name": "python3"
  },
  "language_info": {
   "codemirror_mode": {
    "name": "ipython",
    "version": 3
   },
   "file_extension": ".py",
   "mimetype": "text/x-python",
   "name": "python",
   "nbconvert_exporter": "python",
   "pygments_lexer": "ipython3",
   "version": "3.10.9"
  }
 },
 "nbformat": 4,
 "nbformat_minor": 2
}
