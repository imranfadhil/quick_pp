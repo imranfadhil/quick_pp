{
 "cells": [
  {
   "cell_type": "code",
   "execution_count": null,
   "metadata": {},
   "outputs": [],
   "source": [
    "import sys\n",
    "sys.path.append('..')\n",
    "%load_ext autoreload\n",
    "%autoreload 2\n",
    "%matplotlib inline"
   ]
  },
  {
   "cell_type": "code",
   "execution_count": null,
   "metadata": {},
   "outputs": [],
   "source": [
    "import numpy as np\n",
    "import pandas as pd\n",
    "\n",
    "from quick_pp.database.objects import Project\n",
    "from quick_pp.database.db_connector import DBConnector\n",
    "\n",
    "# Load well from saved file\n",
    "project_name = \"MOCK_clastic\"\n",
    "db_conn = DBConnector()\n",
    "with db_conn.get_session() as db_session:\n",
    "    project = Project(db_session, name=project_name)\n",
    "    df = project.get_all_data()\n",
    "    print(project.get_well_names())\n",
    "\n",
    "merged_df = pd.DataFrame()\n",
    "for well_name, well_data in df.groupby('WELL_NAME'):\n",
    "    if well_name in ['15-9-19-A', '15-9-19-BT2']:\n",
    "        core_data = pd.read_excel(rf\"data\\01_raw\\VOLVE\\{well_name}_RCA.xls\", skiprows=3).iloc[1:]\n",
    "        core_data['DEPTH'] = pd.to_numeric(core_data['Depth'], errors='coerce')\n",
    "        core_data['CPORE'] = pd.to_numeric(core_data['Por., hor.'], errors='coerce') / 100\n",
    "        core_data['CPERM'] = pd.to_numeric(core_data['Kl, hor'], errors='coerce')\n",
    "        temp_df = pd.merge_asof(well_data, core_data[['DEPTH', 'CPORE', 'CPERM']],\n",
    "                                direction='nearest', on='DEPTH', tolerance=0.1524 / 2)\n",
    "        merged_df = pd.concat([merged_df, temp_df])"
   ]
  },
  {
   "cell_type": "code",
   "execution_count": null,
   "metadata": {},
   "outputs": [],
   "source": [
    "# Load data\n",
    "well_name = '15-9-19-A'\n",
    "well_data = merged_df[merged_df.WELL_NAME == well_name]"
   ]
  },
  {
   "cell_type": "markdown",
   "metadata": {},
   "source": [
    "# Quick PP Interpretation"
   ]
  },
  {
   "cell_type": "code",
   "execution_count": null,
   "metadata": {},
   "outputs": [],
   "source": [
    "from quick_pp.lithology.sand_shale import SandShale\n",
    "from quick_pp.porosity import neu_den_xplot_poro, density_porosity, rho_matrix, normalize_volumetric, estimate_shale_porosity_trend\n",
    "from quick_pp.qaqc import *\n",
    "from quick_pp.saturation import *\n",
    "from quick_pp.plotter.plotter import *\n",
    "from quick_pp.permeability import *\n",
    "from quick_pp.ressum import *\n",
    "from quick_pp.rock_type import rock_typing, estimate_vsh_gr\n",
    "from quick_pp.plotter.plotter import plotly_log\n",
    "from quick_pp.utils import *"
   ]
  },
  {
   "cell_type": "markdown",
   "metadata": {},
   "source": [
    "## Estimate Litholoy"
   ]
  },
  {
   "cell_type": "code",
   "execution_count": null,
   "metadata": {},
   "outputs": [],
   "source": [
    "# Clean up data\n",
    "well_data = badhole_flagging(well_data)\n",
    "# well_data = handle_outer_limit(well_data, fill=True)\n",
    "\n",
    "for col in ['GR', 'RT', 'NPHI', 'RHOB']:\n",
    "    well_data.loc[:, col] = remove_straights(well_data[col])\n",
    "\n",
    "# Initialize lithology model\n",
    "args = {\n",
    "    'litho_model': 'ss',\n",
    "    # 'dry_clay_point': (.3, 2.7),\n",
    "    'wet_clay_point': (0.45, 2.45),\n",
    "    'sw_water_salinity': 15000,\n",
    "    'sw_m': 1.85,\n",
    "    'sw_n': 1.85,\n",
    "    'hc_corr_angle': neu_den_xplot_hc_correction_angle(rho_water=1.0, rho_hc=0.8, HI_hc=0.9),\n",
    "    'hc_buffer': 0.01,\n",
    "    'ressum_cutoffs': dict(\n",
    "        VSHALE=.5,\n",
    "        PHIT=0,\n",
    "        SWT=1\n",
    "    ),\n",
    "}\n",
    "ss_model = SandShale(**args)\n",
    "vsand, vcld, _ = ss_model.estimate_lithology(\n",
    "    nphi=well_data['NPHI'], rhob=well_data['RHOB']\n",
    ")\n",
    "args.update(ss_model.__dict__)\n",
    "\n",
    "# Implement hydrocarbon correction\n",
    "vsh_gr = estimate_vsh_gr(well_data['GR'])\n",
    "nphihc, rhobhc, hc_flag = neu_den_xplot_hc_correction(\n",
    "    well_data['NPHI'], well_data['RHOB'], vsh_gr=vsh_gr,\n",
    "    dry_min1_point=args['dry_sand_point'],\n",
    "    dry_clay_point=args['dry_clay_point'],\n",
    "    corr_angle=args['hc_corr_angle'], buffer=args['hc_buffer']\n",
    ")\n",
    "\n",
    "# Correct density log\n",
    "rhob_corr = den_correction(nphihc, well_data['GR'], vsh_gr=vsh_gr, alpha=0.1)\n",
    "badhole_flag =  np.where(abs(well_data['RHOB'] - rhob_corr) > 0.2, 1, 0)\n",
    "rhob_corr = np.where((badhole_flag == 1) & (hc_flag == 0), rhob_corr, rhobhc)\n",
    "\n",
    "# Estimate lithology\n",
    "ss_model = SandShale(**args)\n",
    "vsand, vcld, (nphi_max_line, rhob_max_line) = ss_model.estimate_lithology(\n",
    "    nphi=nphihc, rhob=rhob_corr,\n",
    ")\n",
    "\n",
    "# Update ZONES\n",
    "well_data = zone_flagging(well_data)\n",
    "zones = well_data.ZONES"
   ]
  },
  {
   "cell_type": "code",
   "execution_count": null,
   "metadata": {},
   "outputs": [],
   "source": [
    "neutron_density_xplot(well_data['NPHI'], well_data['RHOB'], dry_min1_point=args['dry_sand_point'], **args)"
   ]
  },
  {
   "cell_type": "code",
   "execution_count": null,
   "metadata": {},
   "outputs": [],
   "source": [
    "args['hc_corr_angle']"
   ]
  },
  {
   "cell_type": "code",
   "execution_count": null,
   "metadata": {},
   "outputs": [],
   "source": [
    "neutron_density_xplot(nphihc, rhobhc, dry_min1_point=args['dry_sand_point'], **args)"
   ]
  },
  {
   "cell_type": "code",
   "execution_count": null,
   "metadata": {},
   "outputs": [],
   "source": [
    "# Specify depth of interest\n",
    "min_depth = well_data.DEPTH.min()\n",
    "max_depth = well_data.DEPTH.max()"
   ]
  },
  {
   "cell_type": "code",
   "execution_count": null,
   "metadata": {},
   "outputs": [],
   "source": [
    "# Density correction based on VSH_GR\n",
    "\n",
    "plt.figure(figsize=(20, 2))\n",
    "plt.plot(well_data.DEPTH, rhob_corr, label='rhob_corr')\n",
    "plt.plot(well_data.DEPTH, well_data['RHOB'], label='RHOB')\n",
    "plt.plot(well_data.DEPTH, rhobhc, label='RHOB_HC')\n",
    "plt.legend(bbox_to_anchor=(1.04, 1), loc=\"upper left\")\n",
    "plt.ylim(1.5, 3)\n",
    "plt.xlim(min_depth, max_depth)\n",
    "\n",
    "plt.figure(figsize=(20, 2))\n",
    "plt.plot(well_data.DEPTH, well_data['NPHI'], label='NPHI')\n",
    "plt.plot(well_data.DEPTH, nphihc, label='NPHI_HC')\n",
    "plt.legend(bbox_to_anchor=(1.04, 1), loc=\"upper left\")\n",
    "plt.ylim(0, .5)\n",
    "plt.xlim(min_depth, max_depth)\n",
    "\n",
    "plt.figure(figsize=(20, 2))\n",
    "plt.plot(well_data.DEPTH, badhole_flag, label='badhole_flag')\n",
    "plt.legend(bbox_to_anchor=(1.04, 1), loc=\"upper left\")\n",
    "plt.xlim(min_depth, max_depth)"
   ]
  },
  {
   "cell_type": "markdown",
   "metadata": {},
   "source": [
    "## Estimate Porosity"
   ]
  },
  {
   "cell_type": "code",
   "execution_count": null,
   "metadata": {},
   "outputs": [],
   "source": [
    "args"
   ]
  },
  {
   "cell_type": "code",
   "execution_count": null,
   "metadata": {},
   "outputs": [],
   "source": [
    "# Estimate porosity\n",
    "phit = neu_den_xplot_poro(\n",
    "    nphihc, rhob_corr, model='ss',\n",
    "    dry_min1_point=args['dry_sand_point'],\n",
    "    dry_clay_point=args['dry_clay_point'],\n",
    ")\n",
    "\n",
    "rho_ma = rho_matrix(vsand, vcld)\n",
    "phid = density_porosity(rhob_corr, rho_ma)\n",
    "\n",
    "# Normalize lithology\n",
    "volumes = dict(vcld=vcld, vsand=vsand)\n",
    "volumes = normalize_volumetric(phit, **volumes)\n",
    "vcld, vsand = volumes['vcld'], volumes['vsand']\n",
    "\n",
    "# Calculate vclb: volume of clay bound water and phie\n",
    "clay_phit = estimate_shale_porosity_trend(rhob_corr, args['dry_clay_point'][1])\n",
    "vclb = vcld * clay_phit\n",
    "vclay = vcld + vclb\n",
    "\n",
    "phie = phit - vclb\n",
    "\n",
    "# Estimate rock types\n",
    "rock_flag = rock_typing(vclay, higher_is_better=False)"
   ]
  },
  {
   "cell_type": "code",
   "execution_count": null,
   "metadata": {},
   "outputs": [],
   "source": [
    "from quick_pp.rock_type import estimate_vsh_gr\n",
    "vsh_gr_1 = estimate_vsh_gr(well_data['GR'])\n",
    "\n",
    "fig, axs = plt.subplots(2, 1, figsize=(20, 3), sharex=True)\n",
    "axs[0].plot(well_data.DEPTH, vsh_gr_1, label='vsh_gr_1')\n",
    "axs[0].plot(well_data.DEPTH, vclay, label='vclay')\n",
    "axs[0].plot(well_data.DEPTH, vcld, label='vcld')\n",
    "axs[0].set_ylim(-.1, 1.1)\n",
    "axs[0].legend()\n",
    "\n",
    "axs[1].plot(well_data.DEPTH, well_data['GR'], label='GR')\n",
    "axs[1].set_ylim(0, 200)\n",
    "axs[1].legend()"
   ]
  },
  {
   "cell_type": "code",
   "execution_count": null,
   "metadata": {},
   "outputs": [],
   "source": [
    "plt.figure(figsize=(20, 2))\n",
    "plt.plot(well_data.DEPTH, phit, label='PHIT')\n",
    "plt.plot(well_data.DEPTH, phid, label='PHID')\n",
    "plt.plot(well_data.DEPTH, phie, label='PHIE')\n",
    "plt.legend(bbox_to_anchor=(1.04, 1), loc=\"upper left\")\n",
    "plt.xlim(min_depth, max_depth)\n",
    "plt.ylim(0, 0.5)"
   ]
  },
  {
   "cell_type": "markdown",
   "metadata": {},
   "source": [
    "## Estimate Permeability"
   ]
  },
  {
   "cell_type": "code",
   "execution_count": null,
   "metadata": {},
   "outputs": [],
   "source": [
    "import matplotlib.ticker as ticker\n",
    "\n",
    "# Estimate permeability\n",
    "Swirr = 1e-3 / phit**.9\n",
    "perm = coates_permeability(phit, Swirr, a=.2)\n",
    "perm_kc = kozeny_carman_permeability(phit, S=1e-3)\n",
    "perm_t = timur_permeability(phit, Swirr)\n",
    "perm_tx = tixier_permeability(phit, Swirr)\n",
    "\n",
    "# Plotting\n",
    "perm_min_depth = 3830\n",
    "perm_max_depth = 3980\n",
    "fig, ax = plt.subplots(figsize=(20, 2))\n",
    "ax.scatter(well_data.DEPTH, well_data.CPERM, marker='X', color='red', label='CPERM')\n",
    "ax.plot(well_data.DEPTH, perm, label='Coates')\n",
    "ax.plot(well_data.DEPTH, perm_kc, ':', label='KC')\n",
    "ax.plot(well_data.DEPTH, perm_t, '.-', label='Timur')\n",
    "ax.plot(well_data.DEPTH, perm_tx, '--', label='Tixier',)\n",
    "ax.set_frame_on(False)\n",
    "ax.set_yscale('log')\n",
    "ax.set_ylim(1e-2, 1e5)\n",
    "ax.yaxis.set_major_formatter(ticker.FuncFormatter(\n",
    "    lambda x, pos: ('{{:.{:1d}f}}'.format(int(np.maximum(-np.log10(x), 0)))).format(x)))\n",
    "ax.set_xlim(perm_min_depth, perm_max_depth)\n",
    "ax.legend(bbox_to_anchor=(1.04, 1), loc=\"upper left\")"
   ]
  },
  {
   "cell_type": "code",
   "execution_count": null,
   "metadata": {},
   "outputs": [],
   "source": [
    "from quick_pp.core_calibration import *\n",
    "\n",
    "poroperm_xplot(well_data.CPORE, well_data.CPERM)"
   ]
  },
  {
   "cell_type": "markdown",
   "metadata": {},
   "source": [
    "## Estimate Water Saturation"
   ]
  },
  {
   "cell_type": "code",
   "execution_count": null,
   "metadata": {},
   "outputs": [],
   "source": [
    "well_data.columns"
   ]
  },
  {
   "cell_type": "code",
   "execution_count": null,
   "metadata": {},
   "outputs": [],
   "source": [
    "from quick_pp.saturation import *\n",
    "from quick_pp.porosity import *\n",
    "\n",
    "# Debug water saturation\n",
    "water_salinity = 3.7e4\n",
    "m = 1.9\n",
    "\n",
    "phit_clay = estimate_shale_porosity(nphihc, phit)\n",
    "# _, rhob_trend = min_max_line(well_data.RHOB)\n",
    "# phit_clay = estimate_shale_porosity_trend(rhob_trend)\n",
    "\n",
    "temp_grad = estimate_temperature_gradient(well_data['DEPTH'], 'metric')\n",
    "rw_archie = estimate_rw_archie(phit, well_data['RT'], m=m)\n",
    "rw = estimate_rw_temperature_salinity(temp_grad, water_salinity)\n",
    "rw_from_surface = estimate_rw_surface(temp_grad, 0.07, 20)\n",
    "rw_shale = estimate_rw_from_shale_trend(well_data.RT, phit_clay, vcld, well_data.DEPTH)\n",
    "rt_shale = estimate_rt_shale(well_data.RT, vclay)\n",
    "\n",
    "b_archie = estimate_b_waxman_smits(temp_grad, rw_archie)\n",
    "b = estimate_b_waxman_smits(temp_grad, rw)\n",
    "\n",
    "qv = estimate_qv(vcld, phit, cec_clay=.1)\n",
    "qvn = estimate_qvn(vclay, phit, phit_clay)\n",
    "\n",
    "swt_nws = normalized_waxman_smits_saturation(well_data.RT, rw, phit, vclay, phit_clay, rt_shale, m=m)\n",
    "swt_archie = archie_saturation(well_data.RT, rw, phit, m=m)\n",
    "swt_ws = waxman_smits_saturation(well_data['RT'], rw, phit, Qv=qvn, B=b, m=m)\n",
    "sw_connectivity = connectivity_saturation(well_data['RT'], rw, phit, mu=1.6, chi_w=0.02).clip(0, 2.0)\n",
    "\n",
    "swb = .005\n",
    "rwb = .005\n",
    "sw_dual = dual_water_saturation(well_data['RT'], rw, phit, 1, m, 2, swb, rwb)\n",
    "\n",
    "# Plotting\n",
    "fig, (ax1, ax2, ax3, ax4) = plt.subplots(nrows=4, sharex=True, figsize=(20, 7))\n",
    "\n",
    "ax1.plot(well_data.DEPTH, qv, label='Qv')\n",
    "ax1.plot(well_data.DEPTH, qvn, label='Qvn')\n",
    "ax1.set_ylim(-.1, 10)\n",
    "ax1.legend()\n",
    "\n",
    "ax2.plot(well_data.DEPTH, b, label='b')\n",
    "ax2.plot(well_data.DEPTH, b_archie, label='b_archie')\n",
    "ax2.legend()\n",
    "\n",
    "ax3.plot(well_data.DEPTH, well_data['RT'], label='RT')\n",
    "ax3.plot(well_data.DEPTH, rw, label='rw')\n",
    "ax3.plot(well_data.DEPTH, rw_shale, label='rw_shale')\n",
    "ax3.plot(well_data.DEPTH, rt_shale, label='RT shale')\n",
    "ax3.plot(well_data.DEPTH, rw_from_surface, label='rw_from_surface')\n",
    "ax3.set_yscale('log')\n",
    "ax3.legend()\n",
    "\n",
    "# ax4.plot(well_data.DEPTH, qvn, 'r:', label='Qvn')\n",
    "ax4.plot(well_data.DEPTH, swt_ws, label='SWT WS')\n",
    "ax4.plot(well_data.DEPTH, swt_nws, label='SWT Normzalied WS')\n",
    "# ax4.plot(well_data.DEPTH, sw_connectivity, label='SW_connectivity')\n",
    "# ax4.plot(well_data.DEPTH, sw_dual, label='SW_dual_water_model')\n",
    "ax4.plot(well_data.DEPTH, swt_archie, label='SWT Archie', linestyle='--')\n",
    "ax4.plot(well_data.DEPTH, np.ones(len(sw_dual)), 'black', linestyle='--')\n",
    "ax4.set_ylim(-.1, 2)\n",
    "ax4.legend()\n",
    "\n",
    "# ax4.set_xlim(3700, 4200)\n",
    "fig.tight_layout()"
   ]
  },
  {
   "cell_type": "code",
   "execution_count": null,
   "metadata": {},
   "outputs": [],
   "source": [
    "from quick_pp.saturation import pickett_plot\n",
    "\n",
    "# Pickett plot\n",
    "water_zone = well_data.copy()\n",
    "water_zone['PHIT'] = phit\n",
    "water_zone = water_zone[(water_zone.DEPTH > 3440) & (water_zone.DEPTH < 3460)]\n",
    "if not water_zone.empty:\n",
    "    fig = pickett_plot(water_zone.RT, water_zone.PHIT, m=1.85, min_rw=.035)"
   ]
  },
  {
   "cell_type": "markdown",
   "metadata": {},
   "source": [
    "## QAQC Result"
   ]
  },
  {
   "cell_type": "code",
   "execution_count": null,
   "metadata": {},
   "outputs": [],
   "source": [
    "# Update data in the project\n",
    "well_data['NPHI_HC'] = nphihc\n",
    "well_data['RHOB_HC'] = rhobhc\n",
    "well_data['RHOB_CORR'] = rhob_corr\n",
    "well_data['HC_FLAG'] = hc_flag\n",
    "well_data['VSAND'] = vsand\n",
    "well_data['VCLAY'] = vclay\n",
    "well_data['PHIT'] = phit\n",
    "well_data['PHIE'] = phie\n",
    "well_data['PHID'] = phid\n",
    "well_data['RW'] = rw\n",
    "well_data['B'] = b\n",
    "well_data['Qv'] = qv\n",
    "well_data['M'] = args['sw_m']\n",
    "well_data['SWT'] = swt_nws.clip(0, 1)\n",
    "# well_data['SWE'] = swe\n",
    "well_data['BVW'] = swt_nws.clip(0, 1) * phie\n",
    "well_data['PERM'] = perm\n",
    "# well_data['CPERM'] = perm\n",
    "well_data['ROCK_FLAG'] = rock_flag\n",
    "well_data['VHC'] = (phit * (1 - swt_nws)).clip(0, 1)\n",
    "well_data['BADHOLE'] = badhole_flag\n",
    "well_data['VSH_GR'] = vsh_gr"
   ]
  },
  {
   "cell_type": "code",
   "execution_count": null,
   "metadata": {},
   "outputs": [],
   "source": [
    "from quick_pp.porosity import *\n",
    "\n",
    "phit_shale = estimate_shale_porosity(well_data.NPHI_HC, well_data.PHIT)\n",
    "\n",
    "plt.figure(figsize=(20, 3))\n",
    "plt.plot(well_data.DEPTH, phit_shale, label='PHIT Shale')\n",
    "plt.plot(well_data.DEPTH, phit_clay, label='PHIT Clay')\n",
    "plt.plot(well_data.DEPTH, well_data.PHIT, label='PHIT')\n",
    "plt.plot(well_data.DEPTH, well_data.NPHI, label='NPHI')\n",
    "plt.plot(well_data.DEPTH, well_data.NPHI_HC, label='NPHI_HC')\n",
    "plt.ylim(-.2, 1)\n",
    "plt.legend()"
   ]
  },
  {
   "cell_type": "code",
   "execution_count": null,
   "metadata": {},
   "outputs": [],
   "source": [
    "from quick_pp.saturation import *\n",
    "\n",
    "min_depth = 4050\n",
    "max_depth = 4060\n",
    "\n",
    "copy_df = well_data[(well_data.DEPTH > min_depth) & (well_data.DEPTH < max_depth)].copy()\n",
    "\n",
    "qv_phit_xplot(copy_df.PHIT, copy_df.Qv)"
   ]
  },
  {
   "cell_type": "code",
   "execution_count": null,
   "metadata": {},
   "outputs": [],
   "source": [
    "from quick_pp.saturation import *\n",
    "\n",
    "min_depth = 3900\n",
    "max_depth = 4130\n",
    "\n",
    "copy_df = well_data[(well_data.DEPTH > min_depth) & (well_data.DEPTH < max_depth)].reset_index(drop=True)\n",
    "fig = rt_phit_xplot(copy_df.RT, copy_df.PHIT, m=2.6, rw=.01)"
   ]
  },
  {
   "cell_type": "code",
   "execution_count": null,
   "metadata": {},
   "outputs": [],
   "source": [
    "from quick_pp.saturation import *\n",
    "from quick_pp.porosity import *\n",
    "\n",
    "min_depth = 3900\n",
    "max_depth = 4130\n",
    "\n",
    "copy_df = well_data[(well_data.DEPTH > min_depth) & (well_data.DEPTH < max_depth)].reset_index(drop=True)\n",
    "phit_clay = estimate_shale_porosity(copy_df.NPHI_HC, copy_df.PHIT)\n",
    "qvn = estimate_qvn(copy_df.VCLAY, copy_df.PHIT, phit_clay)\n",
    "fig = cwa_qvn_xplot(copy_df.RT, copy_df.PHIT, qvn, m=1.9, rw=.02, slope=80)"
   ]
  },
  {
   "cell_type": "code",
   "execution_count": null,
   "metadata": {},
   "outputs": [],
   "source": [
    "# Estimate reservoir summary\n",
    "ressum_df = calc_reservoir_summary(well_data.DEPTH, vclay, phit, swt_nws, perm, zones, cutoffs=args['ressum_cutoffs'])"
   ]
  },
  {
   "cell_type": "code",
   "execution_count": null,
   "metadata": {},
   "outputs": [],
   "source": [
    "from quick_pp.qaqc import quick_qc\n",
    "\n",
    "test, summary_df, dist_fig, depth_fig = quick_qc(well_data, return_fig=True)\n",
    "\n",
    "dist_fig.show()\n",
    "depth_fig.show()"
   ]
  },
  {
   "cell_type": "markdown",
   "metadata": {},
   "source": [
    "## Final Result"
   ]
  },
  {
   "cell_type": "code",
   "execution_count": null,
   "metadata": {},
   "outputs": [],
   "source": [
    "# Plot the results\n",
    "from quick_pp.machine_learning.feature_engineering import tight_streak_flagging\n",
    "well_data['TIGHT_FLAG'] = tight_streak_flagging(well_data.RHOB, well_data.RT)\n",
    "print(well_data.TIGHT_FLAG.value_counts())\n",
    "# well_data.drop(columns=['VOIL', 'VGAS'], errors='ignore', inplace=True)\n",
    "fig = plotly_log(well_data, well_name=well_name, column_widths=[1, 1, 1, 1, 1, 1, .3, 1, 1])\n",
    "fig.show(config=dict(scrollZoom=True))\n",
    "# fig.write_html(rf\"{well_name}_log.html\", config=dict(scrollZoom=True))"
   ]
  },
  {
   "cell_type": "code",
   "execution_count": null,
   "metadata": {},
   "outputs": [],
   "source": [
    "# Save result to database\n",
    "with db_conn.get_session() as db_session:\n",
    "    project = Project(db_session, name=project_name)\n",
    "    project.update_data(well_data, well_configs={well_name: args})\n",
    "    project.save()"
   ]
  }
 ],
 "metadata": {
  "kernelspec": {
   "display_name": "quick_pp",
   "language": "python",
   "name": "python3"
  },
  "language_info": {
   "codemirror_mode": {
    "name": "ipython",
    "version": 3
   },
   "file_extension": ".py",
   "mimetype": "text/x-python",
   "name": "python",
   "nbconvert_exporter": "python",
   "pygments_lexer": "ipython3",
   "version": "3.11.0"
  }
 },
 "nbformat": 4,
 "nbformat_minor": 2
}
