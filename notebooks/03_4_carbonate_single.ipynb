{
 "cells": [
  {
   "cell_type": "code",
   "execution_count": null,
   "metadata": {},
   "outputs": [],
   "source": [
    "import sys\n",
    "sys.path.append('..')\n",
    "%load_ext autoreload\n",
    "%autoreload 2\n",
    "%matplotlib inline"
   ]
  },
  {
   "cell_type": "code",
   "execution_count": null,
   "metadata": {},
   "outputs": [],
   "source": [
    "from quick_pp.objects import Project\n",
    "\n",
    "# Load well from saved file\n",
    "project = \"MOCK_carbonate\"\n",
    "project_path = rf\"data\\04_project\\{project}.qppp\"\n",
    "project = Project().load(project_path)\n",
    "project.get_well_names()"
   ]
  },
  {
   "cell_type": "code",
   "execution_count": null,
   "metadata": {},
   "outputs": [],
   "source": [
    "# Load data\n",
    "well_name = 'HW-25'\n",
    "well = project.get_well(well_name)\n",
    "well_data = well.data.copy()\n",
    "well_data['CPORE'] = well_data['CORE_POR'] / 100\n",
    "well_data['CPERM'] = well_data['CORE_PERM']\n",
    "well_data.dropna(subset=['NPHI', 'RHOB', 'RT', 'GR'], inplace=True)"
   ]
  },
  {
   "cell_type": "markdown",
   "metadata": {},
   "source": [
    "# Quick PP - Single Well Interpretation"
   ]
  },
  {
   "cell_type": "code",
   "execution_count": null,
   "metadata": {},
   "outputs": [],
   "source": [
    "import pandas as pd\n",
    "import numpy as np\n",
    "import matplotlib.pyplot as plt\n",
    "\n",
    "from quick_pp.lithology.carbonate import Carbonate\n",
    "from quick_pp.porosity import neu_den_xplot_poro, density_porosity, rho_matrix\n",
    "from quick_pp.qaqc import badhole_flagging, mask_outside_threshold, neu_den_xplot_hc_correction\n",
    "from quick_pp.rock_type import rock_typing, estimate_vsh_gr\n",
    "from quick_pp.plotter import plotly_log, neutron_density_xplot\n",
    "from quick_pp.utils import zone_flagging, min_max_line"
   ]
  },
  {
   "cell_type": "markdown",
   "metadata": {},
   "source": [
    "## Estimate Litholoy"
   ]
  },
  {
   "cell_type": "code",
   "execution_count": null,
   "metadata": {},
   "outputs": [],
   "source": [
    "# Define parameters\n",
    "args = {\n",
    "    'litho_model': 'carb',\n",
    "    'dry_calc_point': (.0, 2.71),\n",
    "    # 'dry_dolo_point': (.0, 2.81),\n",
    "    'dry_clay_point': (.3, 2.7),\n",
    "    'silt_line_angle': 116,\n",
    "    'wet_clay_point': (0.43, 2.6),\n",
    "    'sw_water_salinity': 2e5,\n",
    "    'sw_m': 2.2,\n",
    "    'sw_n': 2,\n",
    "    'hc_corr_angle': 50,\n",
    "    'hc_buffer': 0.1,\n",
    "    'ressum_cutoffs': dict(\n",
    "        VSHALE=.5,\n",
    "        PHIT=0,\n",
    "        SWT=1\n",
    "    ),\n",
    "}"
   ]
  },
  {
   "cell_type": "code",
   "execution_count": null,
   "metadata": {},
   "outputs": [],
   "source": [
    "carbonate_type =  'limestone'  # 'dolostone'  #\n",
    "model = 'single'  # 'double'  #\n",
    "method = 'neu_den'  # 'pef_den'  #\n",
    "\n",
    "# Clean up data\n",
    "well_data = badhole_flagging(well_data)\n",
    "# well_data = mask_outside_threshold(well_data, fill=True)\n",
    "\n",
    "vsh_gr = estimate_vsh_gr(well_data['GR'], min_gr=0, max_gr=150)\n",
    "carb_model = Carbonate(**args)\n",
    "vclw, vcalc, vdolo = carb_model.estimate_lithology(\n",
    "    well_data['NPHI'], well_data['RHOB'], gr=well_data['GR'], vsh_gr=vsh_gr,  # pef=well_data['PEF'],\n",
    "    model=model, method=method, normalize= True, carbonate_type=carbonate_type\n",
    ")\n",
    "args.update(carb_model.__dict__)\n",
    "well.update_config(args)  # Save lithology model to well\n",
    "\n",
    "# Set skip HC correction or not\n",
    "skip_hc_correction = False\n",
    "if skip_hc_correction:\n",
    "    nphihc, rhobhc = well_data['NPHI'], well_data['RHOB']\n",
    "else:\n",
    "    # Implement hydrocarbon correction\n",
    "    nphihc, rhobhc, hc_flag = neu_den_xplot_hc_correction(\n",
    "        well_data['NPHI'], well_data['RHOB'], gr=well_data['GR'], vsh_gr=vsh_gr,\n",
    "        dry_min1_point=args['dry_calc_point'],\n",
    "        dry_clay_point=args['dry_clay_point'],\n",
    "        corr_angle=args['hc_corr_angle'], buffer=args['hc_buffer']\n",
    "    )\n",
    "    # Estimate lithology\n",
    "    carb_model = Carbonate(**args)\n",
    "    vclw, vcalc, vdolo = carb_model.estimate_lithology(\n",
    "        nphihc, rhobhc,  gr=well_data['GR'], vsh_gr=vsh_gr,  # pef=well_data['PEF'], \n",
    "        model=model, method=method, normalize= True, carbonate_type=carbonate_type\n",
    "    )"
   ]
  },
  {
   "cell_type": "code",
   "execution_count": null,
   "metadata": {},
   "outputs": [],
   "source": [
    "neutron_density_xplot(well_data['NPHI'], well_data['RHOB'], dry_min1_point=args['dry_calc_point'], **args)"
   ]
  },
  {
   "cell_type": "code",
   "execution_count": null,
   "metadata": {},
   "outputs": [],
   "source": [
    "neutron_density_xplot(nphihc, rhobhc, dry_min1_point=args['dry_calc_point'], **args)"
   ]
  },
  {
   "cell_type": "markdown",
   "metadata": {},
   "source": [
    "## Estimate Porosity"
   ]
  },
  {
   "cell_type": "code",
   "execution_count": null,
   "metadata": {},
   "outputs": [],
   "source": [
    "# Estimate porosity\n",
    "phit = neu_den_xplot_poro(\n",
    "    nphihc, rhobhc, model='carb',\n",
    "    dry_min1_point=args['dry_calc_point'],\n",
    "    dry_clay_point=args['dry_clay_point'],\n",
    ")\n",
    "\n",
    "# PHID needs unnormalized lithology\n",
    "vclw_un, vcalc_un, vdolo_un = Carbonate(**args).estimate_lithology(\n",
    "    nphihc, rhobhc, gr=well_data['GR'], vsh_gr=vsh_gr,  # pef=well_data['PEF'],\n",
    "    model=model, method=method, normalize= False, carbonate_type=carbonate_type\n",
    ")\n",
    "rho_ma = rho_matrix(vclay=vclw_un, vcalc=vcalc_un, vdolo=vdolo_un)\n",
    "phid = density_porosity(rhobhc, rho_ma)\n",
    "\n",
    "plt.figure(figsize=(20, 2))\n",
    "plt.plot(phit, label='PHIT')\n",
    "plt.plot(phid, label='PHID')\n",
    "plt.legend()"
   ]
  },
  {
   "cell_type": "markdown",
   "metadata": {},
   "source": [
    "## Predict Permeability and Rock Typing"
   ]
  },
  {
   "cell_type": "code",
   "execution_count": null,
   "metadata": {},
   "outputs": [],
   "source": [
    "import pickle\n",
    "from quick_pp.rock_type import calc_r35_perm\n",
    "from quick_pp.core_calibration import perm_transform\n",
    "\n",
    "poroperm_params = {\n",
    "    1: (6800, 1.9),\n",
    "    2: (1400, 2.0),\n",
    "    3: (110, 2.0),\n",
    "    4: (17, 2.0)\n",
    "}\n",
    "\n",
    "input_features = ['GR', 'NPHI', 'RHOB', 'RT']\n",
    "# Predict ROCK_FLAG\n",
    "with open(r'data\\04_project\\MOCK_carbonate\\outputs\\rt_model.qppm', 'rb') as file:\n",
    "    rt_model = pickle.load(file)\n",
    "rock_flag_ml = rt_model.predict(well_data[input_features])\n",
    "\n",
    "# Predict PERM based on predicted rock type\n",
    "perm_a_ml = pd.Series(rock_flag_ml).map(poroperm_params).apply(lambda x: x[0] if type(x) == tuple else np.nan)\n",
    "perm_b_ml = pd.Series(rock_flag_ml).map(poroperm_params).apply(lambda x: x[1] if type(x) == tuple else np.nan)\n",
    "perm_ml = perm_transform(phit, perm_a_ml, perm_b_ml)\n",
    "\n",
    "# Predict PERM based on R35 model\n",
    "with open(r'data\\04_project\\MOCK_carbonate\\outputs\\r35_model.qppm', 'rb') as file:\n",
    "    r35_model = pickle.load(file)\n",
    "\n",
    "r35_ml = 10**(r35_model.predict(well_data[input_features]))\n",
    "perm_r35_ml = calc_r35_perm(r35_ml, phit)\n",
    "\n",
    "plt.figure(figsize=(20, 2))\n",
    "plt.plot(well_data.DEPTH, perm_ml, label='Perm ML')\n",
    "plt.plot(well_data.DEPTH, perm_r35_ml, label='Perm R35 ML')\n",
    "plt.scatter(well_data.DEPTH, well_data.CPERM, label='Core Perm', marker='.', c='black')\n",
    "plt.yscale('log')\n",
    "plt.legend()"
   ]
  },
  {
   "cell_type": "markdown",
   "metadata": {},
   "source": [
    "## Estimate Water Saturation"
   ]
  },
  {
   "cell_type": "code",
   "execution_count": null,
   "metadata": {},
   "outputs": [],
   "source": [
    "from quick_pp.saturation import estimate_rw_temperature_salinity, archie_saturation, estimate_temperature_gradient\n",
    "from quick_pp.core_calibration import sw_shf_leverett_j\n",
    "\n",
    "# Estimate log derived water saturation\n",
    "water_salinity = args['sw_water_salinity']\n",
    "m = args['sw_m']\n",
    "temp_grad = estimate_temperature_gradient(well_data['DEPTH'], 'imperial')\n",
    "rw = estimate_rw_temperature_salinity(temp_grad, water_salinity)\n",
    "swt = archie_saturation(well_data['RT'], rw, phit, m=m)\n",
    "swt = swt.clip(0, 1)\n",
    "\n",
    "# Estimate SHF\n",
    "shf_params = {\n",
    "    1: (.007, 1.2),\n",
    "    2: (.012, 1.29),\n",
    "    3: (.017, 1.34),\n",
    "    4: (.018, 1.13),\n",
    "    5: (.016, 1.27),\n",
    "    6: (.022, 1.15),\n",
    "    7: (.036, .49),\n",
    "    8: (.015, 1.13),\n",
    "    9: (0, .1)\n",
    "}\n",
    "\n",
    "ift = 32\n",
    "theta = 30\n",
    "ghc = .837\n",
    "gw = 1.0\n",
    "\n",
    "fwl = 8380\n",
    "\n",
    "a = pd.Series(rock_flag_ml).map(shf_params).apply(lambda x: x[0])\n",
    "b = pd.Series(rock_flag_ml).map(shf_params).apply(lambda x: x[1])\n",
    "shf = sw_shf_leverett_j(\n",
    "    perm_r35_ml, phit, well_data['DEPTH'], gw=gw, ghc=ghc,\n",
    "    fwl=fwl, ift=ift, theta=theta, a=a, b=b\n",
    ")\n",
    "\n",
    "plt.figure(figsize=(15, 1.5))\n",
    "plt.plot(well_data['DEPTH'], swt, label='SWT')\n",
    "plt.plot(well_data['DEPTH'], shf, label='SHF')\n",
    "plt.ylim(0, 1)\n",
    "plt.figure(figsize=(15, 1.5))\n",
    "plt.plot(well_data['DEPTH'], rw, label='RW')\n",
    "plt.yscale('log')\n",
    "plt.legend()"
   ]
  },
  {
   "cell_type": "markdown",
   "metadata": {},
   "source": [
    "## Update Data"
   ]
  },
  {
   "cell_type": "code",
   "execution_count": null,
   "metadata": {},
   "outputs": [],
   "source": [
    "# Update data in the project\n",
    "well_data['NPHI_HC'] = nphihc\n",
    "well_data['RHOB_HC'] = rhobhc\n",
    "well_data['VCALC'] = vcalc\n",
    "well_data['VDOLO'] = vdolo\n",
    "well_data['VCLW'] = vclw\n",
    "well_data['PHID'] = phid\n",
    "well_data['RW'] = rw\n",
    "well_data['M'] = m\n",
    "well_data['SWT'] = swt\n",
    "well_data['SHF'] = shf\n",
    "well_data['PERM'] = perm_r35_ml\n",
    "well_data['VHC'] = phit * (1 - swt)"
   ]
  },
  {
   "cell_type": "code",
   "execution_count": null,
   "metadata": {},
   "outputs": [],
   "source": [
    "from quick_pp.ressum import calc_reservoir_summary\n",
    "\n",
    "# Estimate reservoir summary\n",
    "well_data['ZONES'] = 'ALL'\n",
    "ressum_df = calc_reservoir_summary(\n",
    "    well_data.DEPTH, vclw, phit, swt, perm_r35_ml,\n",
    "    zones=well_data['ZONES'], cutoffs=args['ressum_cutoffs'])"
   ]
  },
  {
   "cell_type": "code",
   "execution_count": null,
   "metadata": {},
   "outputs": [],
   "source": [
    "# Plot the results\n",
    "fig = plotly_log(well_data, depth_uom=well.depth_uom)\n",
    "fig.show(config=dict(scrollZoom=True))\n",
    "# fig.write_html(rf\"{well_name}_log.html\", config=dict(scrollZoom=True))"
   ]
  }
 ],
 "metadata": {
  "kernelspec": {
   "display_name": "venv310",
   "language": "python",
   "name": "python3"
  },
  "language_info": {
   "codemirror_mode": {
    "name": "ipython",
    "version": 3
   },
   "file_extension": ".py",
   "mimetype": "text/x-python",
   "name": "python",
   "nbconvert_exporter": "python",
   "pygments_lexer": "ipython3",
   "version": "3.10.9"
  }
 },
 "nbformat": 4,
 "nbformat_minor": 2
}
