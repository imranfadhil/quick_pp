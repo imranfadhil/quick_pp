{
 "cells": [
  {
   "cell_type": "code",
   "execution_count": null,
   "metadata": {},
   "outputs": [],
   "source": [
    "import sys\n",
    "sys.path.append('..')\n",
    "%load_ext autoreload\n",
    "%autoreload 2\n",
    "%matplotlib inline"
   ]
  },
  {
   "cell_type": "code",
   "execution_count": null,
   "metadata": {},
   "outputs": [],
   "source": [
    "from quick_pp.objects import Project\n",
    "\n",
    "# Load well from saved file\n",
    "project = \"MOCK_carbonate\"\n",
    "project_path = rf\"data\\04_project\\{project}.qppp\"\n",
    "project = Project().load(project_path)\n",
    "project.get_well_names()"
   ]
  },
  {
   "cell_type": "code",
   "execution_count": null,
   "metadata": {},
   "outputs": [],
   "source": [
    "# Load data\n",
    "well_name = 'HW-24'\n",
    "well = project.get_well(well_name)\n",
    "well_data = well.data.copy()\n",
    "well_data['CPORE'] = well_data['CORE_POR'] / 100\n",
    "well_data['CPERM'] = well_data['CORE_PERM']\n",
    "# well_data.dropna(subset=['NPHI', 'RHOB', 'RT', 'GR'], inplace=True)"
   ]
  },
  {
   "cell_type": "markdown",
   "metadata": {},
   "source": [
    "# Quick PP - Single Well Interpretation"
   ]
  },
  {
   "cell_type": "code",
   "execution_count": 68,
   "metadata": {},
   "outputs": [],
   "source": [
    "import pandas as pd\n",
    "import numpy as np\n",
    "import matplotlib.pyplot as plt\n",
    "\n",
    "from quick_pp.lithology.carbonate import Carbonate\n",
    "from quick_pp.porosity import neu_den_xplot_poro, density_porosity, rho_matrix\n",
    "from quick_pp.qaqc import badhole_flagging, mask_outside_threshold, neu_den_xplot_hc_correction\n",
    "from quick_pp.rock_type import rock_typing, estimate_vsh_gr\n",
    "from quick_pp.plotter.plotter import plotly_log, neutron_density_xplot"
   ]
  },
  {
   "cell_type": "markdown",
   "metadata": {},
   "source": [
    "## Estimate Litholoy"
   ]
  },
  {
   "cell_type": "code",
   "execution_count": 69,
   "metadata": {},
   "outputs": [],
   "source": [
    "# Define parameters\n",
    "args = {\n",
    "    'litho_model': 'carb',\n",
    "    'dry_calc_point': (.0, 2.71),\n",
    "    'fluid_point': (1.0, 1.0),\n",
    "    # 'dry_dolo_point': (.0, 2.81),\n",
    "    'dry_clay_point': (.3, 2.7),\n",
    "    'silt_line_angle': 116,\n",
    "    'wet_clay_point': (0.43, 2.6),\n",
    "    'sw_water_salinity': 2e5,\n",
    "    'sw_m': 2.2,\n",
    "    'sw_n': 2,\n",
    "    'hc_corr_angle': 50,\n",
    "    'hc_buffer': 0.1,\n",
    "    'ressum_cutoffs': dict(\n",
    "        VSHALE=.5,\n",
    "        PHIT=0,\n",
    "        SWT=1\n",
    "    ),\n",
    "}"
   ]
  },
  {
   "cell_type": "code",
   "execution_count": null,
   "metadata": {},
   "outputs": [],
   "source": [
    "carbonate_type =  'limestone'  # 'dolostone'  #\n",
    "model = 'single'  # 'double'  #\n",
    "method = 'neu_den'  # 'pef_den'  #\n",
    "\n",
    "# Clean up data\n",
    "well_data = badhole_flagging(well_data)\n",
    "# well_data = mask_outside_threshold(well_data, fill=True)\n",
    "\n",
    "vsh_gr = estimate_vsh_gr(well_data['GR'], min_gr=0, max_gr=150)\n",
    "carb_model = Carbonate(**args)\n",
    "vclay, vcalc, vdolo = carb_model.estimate_lithology(\n",
    "    well_data['NPHI'], well_data['RHOB'], vsh_gr=vsh_gr,  # pef=well_data['PEF'],\n",
    "    model=model, method=method, carbonate_type=carbonate_type\n",
    ")\n",
    "args.update(carb_model.__dict__)\n",
    "well.update_config(args)  # Save lithology model to well\n",
    "\n",
    "# Set skip HC correction or not\n",
    "skip_hc_correction = False\n",
    "if skip_hc_correction:\n",
    "    nphihc, rhobhc = well_data['NPHI'], well_data['RHOB']\n",
    "else:\n",
    "    # Implement hydrocarbon correction\n",
    "    nphihc, rhobhc, hc_flag = neu_den_xplot_hc_correction(\n",
    "        well_data['NPHI'], well_data['RHOB'], vsh_gr=vsh_gr,\n",
    "        dry_min1_point=args['dry_calc_point'],\n",
    "        dry_clay_point=args['dry_clay_point'],\n",
    "        corr_angle=args['hc_corr_angle'], buffer=args['hc_buffer']\n",
    "    )\n",
    "    # Estimate lithology\n",
    "    carb_model = Carbonate(**args)\n",
    "    vclay, vcalc, vdolo = carb_model.estimate_lithology(\n",
    "        nphihc, rhobhc,  vsh_gr=vsh_gr,  # pef=well_data['PEF'], \n",
    "        model=model, method=method, carbonate_type=carbonate_type\n",
    "    )"
   ]
  },
  {
   "cell_type": "code",
   "execution_count": null,
   "metadata": {},
   "outputs": [],
   "source": [
    "neutron_density_xplot(well_data['NPHI'], well_data['RHOB'], dry_min1_point=args['dry_calc_point'], **args)"
   ]
  },
  {
   "cell_type": "code",
   "execution_count": null,
   "metadata": {},
   "outputs": [],
   "source": [
    "neutron_density_xplot(nphihc, rhobhc, dry_min1_point=args['dry_calc_point'], **args)"
   ]
  },
  {
   "cell_type": "markdown",
   "metadata": {},
   "source": [
    "## Estimate Porosity"
   ]
  },
  {
   "cell_type": "code",
   "execution_count": null,
   "metadata": {},
   "outputs": [],
   "source": [
    "# Estimate porosity\n",
    "phit = neu_den_xplot_poro(\n",
    "    nphihc, rhobhc, model='carb',\n",
    "    dry_min1_point=args['dry_calc_point'],\n",
    "    dry_clay_point=args['dry_clay_point'],\n",
    ")\n",
    "\n",
    "# PHID needs unnormalized lithology\n",
    "vclw_un, vcalc_un, vdolo_un = Carbonate(**args).estimate_lithology(\n",
    "    nphihc, rhobhc, vsh_gr=vsh_gr,  # pef=well_data['PEF'],\n",
    "    model=model, method=method, carbonate_type=carbonate_type\n",
    ")\n",
    "rho_ma = rho_matrix(vclay=vclw_un, vcalc=vcalc_un, vdolo=vdolo_un)\n",
    "phid = density_porosity(rhobhc, rho_ma)\n",
    "\n",
    "plt.figure(figsize=(20, 2))\n",
    "plt.plot(phit, label='PHIT')\n",
    "plt.plot(phid, label='PHID')\n",
    "plt.legend()"
   ]
  },
  {
   "cell_type": "markdown",
   "metadata": {},
   "source": [
    "## Predict Permeability and Rock Typing"
   ]
  },
  {
   "cell_type": "code",
   "execution_count": null,
   "metadata": {},
   "outputs": [],
   "source": [
    "import pickle\n",
    "from sklearn.preprocessing import MinMaxScaler\n",
    "from quick_pp.rock_type import calc_r35_perm, calc_fzi_perm\n",
    "from quick_pp.core_calibration import perm_transform\n",
    "\n",
    "poroperm_params = {\n",
    "    1: (6800, 1.9),\n",
    "    2: (1400, 2.0),\n",
    "    3: (110, 2.0),\n",
    "    4: (17, 2.0)\n",
    "}\n",
    "\n",
    "well_data['LOG_RT'] = np.log10(well_data['RT'])\n",
    "well_data['NDI'] = (2.95 - well_data['RHOB']) / 1.95\n",
    "well_data['GRN'] = MinMaxScaler().fit_transform(well_data[['GR']])\n",
    "input_features = ['GR', 'NPHI', 'RHOB', 'NDI', 'RT', 'LOG_RT', 'GRN']\n",
    "\n",
    "# Predict ROCK_FLAG\n",
    "with open(r'data\\04_project\\MOCK_carbonate\\outputs\\fzi_rt_model.qppm', 'rb') as file:\n",
    "    rt_model = pickle.load(file)\n",
    "rock_flag_ml = rt_model.predict(well_data[input_features])\n",
    "\n",
    "# Predict PERM based on predicted rock type\n",
    "perm_a_ml = pd.Series(rock_flag_ml).map(poroperm_params).apply(lambda x: x[0] if type(x) == tuple else np.nan)\n",
    "perm_b_ml = pd.Series(rock_flag_ml).map(poroperm_params).apply(lambda x: x[1] if type(x) == tuple else np.nan)\n",
    "perm_rt_ml = perm_transform(phit, perm_a_ml, perm_b_ml)\n",
    "\n",
    "use_r35 = False\n",
    "if use_r35:\n",
    "    # Predict permeability\n",
    "    # Load R35 model\n",
    "    with open(r'data\\04_project\\MOCK_carbonate\\outputs\\r35_model.qppm', 'rb') as file:\n",
    "        r35_model = pickle.load(file)\n",
    "    r35_ml = 10**(r35_model.predict(well_data[input_features]))\n",
    "    perm_ml = calc_r35_perm(r35_ml, phit)\n",
    "\n",
    "    # Determine rock type based on perm_r35_ml\n",
    "    r35_cut_offs = [\n",
    "        0.15, .2, .3, .4, .5, .6, .7, .8, .9, 1, 1.25, 1.5, 2, 2.5, 3, 4, 5, 7, 10,\n",
    "    ]\n",
    "    rock_flag_r35 = rock_typing(r35_ml, higher_is_better=True, cut_offs=r35_cut_offs)\n",
    "    well_data['ROCK_FLAG'] = rock_flag_r35\n",
    "    shf_params = {   \n",
    "        1: (0.006, 1.212),\n",
    "        2: (0.004, 1.733),\n",
    "        3: (0.008, 1.465),\n",
    "        4: (0.012, 1.513),\n",
    "        5: (0.005, 1.6),\n",
    "        6: (0.015, 0.688),\n",
    "        7: (0.016, 0.932),\n",
    "        8: (0.024, 0.585),\n",
    "        9: (0.002, 2.136),\n",
    "        10: (0.015, 1.052),\n",
    "        11: (0.013, 0.819),\n",
    "        12: (0.006, 2.057),\n",
    "        13: (0.012, 0.861),\n",
    "        14: (0.012, 0.797),\n",
    "        15: (0.018, 1.457),\n",
    "        16: (0.007, 1.21),\n",
    "        17: (0.026, 0.773),\n",
    "        18: (0.018, 0.927),\n",
    "        19: (0.021, 0.649),\n",
    "        20: (0.026, 1.033),\n",
    "        21: (0.023, 0.922),\n",
    "        22: (0.008, 1.279),\n",
    "        23: (0.025, 0.581)\n",
    "    }\n",
    "else:\n",
    "    # Predict permeability\n",
    "    # Load FZI model\n",
    "    with open(r'data\\04_project\\MOCK_carbonate\\outputs\\fzi_model.qppm', 'rb') as file:\n",
    "        fzi_model = pickle.load(file)\n",
    "    well_data['ROCK_PRED'] = rock_flag_ml\n",
    "    input_features = ['GR', 'NPHI', 'RHOB', 'NDI', 'RT', 'LOG_RT', 'GRN', 'ROCK_PRED']\n",
    "    fzi_ml = 10**(fzi_model.predict(well_data[input_features]))\n",
    "    perm_ml = calc_fzi_perm(fzi_ml, phit)\n",
    "\n",
    "    # Determine rock type based on perm_fzi_ml\n",
    "    fzi_cut_offs = [\n",
    "        .15, .2, .25, .3, .35, .4, .45, .5, .6, .7, .8, .9, 1.1, 1.3, 1.5, 2, 2.5, 3, 4, 5, 7, 10\n",
    "    ]\n",
    "    rock_flag_fzi = rock_typing(fzi_ml, higher_is_better=False, cut_offs=fzi_cut_offs)\n",
    "    well_data['ROCK_FLAG'] = rock_flag_fzi\n",
    "    shf_params = {   \n",
    "        1: (0.009, 1.033),\n",
    "        2: (0.026, 0.978),\n",
    "        3: (0.006, 1.578),\n",
    "        4: (0.022, 0.566),\n",
    "        5: (0.032, 0.387),\n",
    "        6: (0.022, 0.513),\n",
    "        7: (0.015, 0.659),\n",
    "        8: (0.018, 0.728),\n",
    "        9: (0.02, 0.85),\n",
    "        10: (0.033, 0.572),\n",
    "        11: (0.03, 0.52),\n",
    "        12: (0.024, 0.761),\n",
    "        13: (0.025, 0.658),\n",
    "        14: (0.028, 0.513),\n",
    "        15: (0.028, 0.579),\n",
    "        16: (0.008, 1.615),\n",
    "        17: (0.012, 1.136),\n",
    "        18: (0.009, 1.494),\n",
    "        19: (0.021, 0.944),\n",
    "        20: (0.036, 0.493),\n",
    "        21: (0.013, 0.853),\n",
    "        22: (0.013, 1.121),\n",
    "        23: (0.012, 1.341)\n",
    "    }\n",
    "\n",
    "\n",
    "\n",
    "plt.figure(figsize=(20, 2))\n",
    "plt.plot(well_data.DEPTH, perm_rt_ml, label='Perm Rock Flag ML')\n",
    "plt.plot(well_data.DEPTH, perm_ml, label='Perm R35 ML')\n",
    "plt.scatter(well_data.DEPTH, well_data.CPERM, label='Core Perm', marker='.', c='black')\n",
    "plt.yscale('log')\n",
    "plt.legend()"
   ]
  },
  {
   "cell_type": "code",
   "execution_count": null,
   "metadata": {},
   "outputs": [],
   "source": [
    "\n",
    "rock_test = rock_typing(fzi_ml, higher_is_better=True, cut_offs=fzi_cut_offs)\n",
    "plt.figure(figsize=(20, 1))\n",
    "plt.plot(well_data.DEPTH, rock_flag_ml, label='Rock Flag ML')\n",
    "plt.plot(well_data.DEPTH, rock_test, label='Rock Flag Test')\n",
    "plt.legend()\n",
    "plt.figure(figsize=(20, 1))\n",
    "plt.plot(well_data.DEPTH, fzi_ml, label='FZI ML')\n",
    "plt.ylim(0, 10)\n",
    "plt.legend()\n",
    "plt.figure(figsize=(20, 1))\n",
    "plt.plot(well_data.DEPTH, well_data.GR, label='GR')"
   ]
  },
  {
   "cell_type": "markdown",
   "metadata": {},
   "source": [
    "## Estimate Water Saturation"
   ]
  },
  {
   "cell_type": "code",
   "execution_count": 76,
   "metadata": {},
   "outputs": [],
   "source": [
    "from quick_pp.saturation import estimate_rw_temperature_salinity, archie_saturation, estimate_temperature_gradient\n",
    "\n",
    "# Estimate log derived water saturation\n",
    "water_salinity = args['sw_water_salinity']\n",
    "m = args['sw_m']\n",
    "temp_grad = estimate_temperature_gradient(well_data['DEPTH'], 'imperial')\n",
    "rw = estimate_rw_temperature_salinity(temp_grad, water_salinity)\n",
    "swt = archie_saturation(well_data['RT'], rw, phit, m=m)\n",
    "swt = swt.clip(0, 1)"
   ]
  },
  {
   "cell_type": "code",
   "execution_count": null,
   "metadata": {},
   "outputs": [],
   "source": [
    "from ipywidgets import interact, widgets\n",
    "\n",
    "from quick_pp.core_calibration import sw_shf_leverett_j\n",
    "\n",
    "# Estimate SHF\n",
    "shf_params = {   \n",
    "    1: (0.009, 1.033),\n",
    "    2: (0.026, 0.978),\n",
    "    3: (0.006, 1.578),\n",
    "    4: (0.022, 0.566),\n",
    "    5: (0.032, 0.387),\n",
    "    6: (0.022, 0.513),\n",
    "    7: (0.015, 0.659),\n",
    "    8: (0.018, 0.728),\n",
    "    9: (0.02, 0.85),\n",
    "    10: (0.033, 0.572),\n",
    "    11: (0.03, 0.52),\n",
    "    12: (0.024, 0.761),\n",
    "    13: (0.025, 0.658),\n",
    "    14: (0.028, 0.513),\n",
    "    15: (0.028, 0.579),\n",
    "    16: (0.008, 1.615),\n",
    "    17: (0.012, 1.136),\n",
    "    18: (0.009, 1.494),\n",
    "    19: (0.021, 0.944),\n",
    "    20: (0.036, 0.493),\n",
    "    21: (0.013, 0.853),\n",
    "    22: (0.013, 1.121),\n",
    "    23: (0.012, 1.341)\n",
    "}\n",
    "\n",
    "ift = 32\n",
    "theta = 30\n",
    "ghc = .837\n",
    "gw = 1.135\n",
    "fwl = 8550\n",
    "\n",
    "fwl = widgets.FloatSlider(\n",
    "    value=fwl,\n",
    "    min=fwl / 1.1,\n",
    "    max=fwl * 1.1,\n",
    "    step=1\n",
    ")\n",
    "\n",
    "@interact(fwl=fwl)\n",
    "def plot(fwl):\n",
    "    a = well_data['ROCK_FLAG'].map(shf_params).apply(lambda x: x[0])\n",
    "    b = well_data['ROCK_FLAG'].map(shf_params).apply(lambda x: x[1])\n",
    "    shf = sw_shf_leverett_j(\n",
    "        well_data['PERM'], well_data['PHIT'], well_data['DEPTH'], gw=gw, ghc=ghc,\n",
    "        fwl=fwl, ift=ift, theta=theta, a=a, b=b)\n",
    "\n",
    "    plt.figure(figsize=(20, 1))\n",
    "    plt.plot(well_data['DEPTH'], swt, label='SWT')\n",
    "    plt.plot(well_data['DEPTH'], shf, label='SHF')\n",
    "    plt.ylim(0, 1.2)\n",
    "    plt.legend()\n",
    "    plt.figure(figsize=(20, 1))\n",
    "    plt.plot(well_data['DEPTH'], well_data['ROCK_FLAG'], label='Rock Flag')\n",
    "    plt.legend()"
   ]
  },
  {
   "cell_type": "code",
   "execution_count": 78,
   "metadata": {},
   "outputs": [],
   "source": [
    "fwl = 8562\n",
    "\n",
    "a = pd.Series(rock_flag_ml).map(shf_params).apply(lambda x: x[0])\n",
    "b = pd.Series(rock_flag_ml).map(shf_params).apply(lambda x: x[1])\n",
    "shf = sw_shf_leverett_j(\n",
    "    perm_ml, phit, well_data['DEPTH'], gw=gw, ghc=ghc,\n",
    "    fwl=fwl, ift=ift, theta=theta, a=a, b=b\n",
    ")"
   ]
  },
  {
   "cell_type": "markdown",
   "metadata": {},
   "source": [
    "## Update Data"
   ]
  },
  {
   "cell_type": "code",
   "execution_count": 79,
   "metadata": {},
   "outputs": [],
   "source": [
    "# Update data in the project\n",
    "well_data['NPHI_HC'] = nphihc\n",
    "well_data['RHOB_HC'] = rhobhc\n",
    "well_data['VCALC'] = vcalc\n",
    "well_data['VDOLO'] = vdolo\n",
    "well_data['VCLAY'] = vclay\n",
    "well_data['PHID'] = phid\n",
    "well_data['RW'] = rw\n",
    "well_data['M'] = m\n",
    "well_data['SWT'] = swt\n",
    "well_data['SHF'] = shf\n",
    "well_data['PERM'] = perm_ml\n",
    "well_data['VHC'] = phit * (1 - swt)"
   ]
  },
  {
   "cell_type": "code",
   "execution_count": 80,
   "metadata": {},
   "outputs": [],
   "source": [
    "from quick_pp.ressum import calc_reservoir_summary\n",
    "\n",
    "# Estimate reservoir summary\n",
    "well_data['ZONES'] = 'ALL'\n",
    "ressum_df = calc_reservoir_summary(\n",
    "    well_data.DEPTH, vclay, phit, swt, perm_ml,\n",
    "    zones=well_data['ZONES'], cutoffs=args['ressum_cutoffs'])"
   ]
  },
  {
   "cell_type": "code",
   "execution_count": null,
   "metadata": {},
   "outputs": [],
   "source": [
    "well_data.ROCK_FLAG.unique()"
   ]
  },
  {
   "cell_type": "code",
   "execution_count": null,
   "metadata": {},
   "outputs": [],
   "source": [
    "# Plot the results\n",
    "fig = plotly_log(well_data, depth_uom=well.depth_uom)\n",
    "fig.show(config=dict(scrollZoom=True))\n",
    "# fig.write_html(rf\"{well_name}_log.html\", config=dict(scrollZoom=True))"
   ]
  }
 ],
 "metadata": {
  "kernelspec": {
   "display_name": "venv311",
   "language": "python",
   "name": "python3"
  },
  "language_info": {
   "codemirror_mode": {
    "name": "ipython",
    "version": 3
   },
   "file_extension": ".py",
   "mimetype": "text/x-python",
   "name": "python",
   "nbconvert_exporter": "python",
   "pygments_lexer": "ipython3",
   "version": "3.11.0"
  }
 },
 "nbformat": 4,
 "nbformat_minor": 2
}
