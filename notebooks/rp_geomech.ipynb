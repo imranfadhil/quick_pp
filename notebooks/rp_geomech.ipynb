{
 "cells": [
  {
   "cell_type": "code",
   "execution_count": null,
   "id": "3de7360e",
   "metadata": {},
   "outputs": [],
   "source": [
    "import sys\n",
    "sys.path.append('..')\n",
    "%load_ext autoreload\n",
    "%autoreload 2"
   ]
  },
  {
   "cell_type": "code",
   "execution_count": null,
   "id": "91d8bd1a",
   "metadata": {},
   "outputs": [],
   "source": [
    "from quick_pp.rock_physics.geomechanics import *\n",
    "\n",
    "sigma1 = [30, 40, 50, 60]\n",
    "sigma3 = [5, 10, 15, 20]\n",
    "\n",
    "\n",
    "axs = plot_mohrs_circle(sigma1, sigma3)"
   ]
  }
 ],
 "metadata": {
  "kernelspec": {
   "display_name": "quick_pp",
   "language": "python",
   "name": "python3"
  },
  "language_info": {
   "codemirror_mode": {
    "name": "ipython",
    "version": 3
   },
   "file_extension": ".py",
   "mimetype": "text/x-python",
   "name": "python",
   "nbconvert_exporter": "python",
   "pygments_lexer": "ipython3",
   "version": "3.11.0"
  }
 },
 "nbformat": 4,
 "nbformat_minor": 5
}
