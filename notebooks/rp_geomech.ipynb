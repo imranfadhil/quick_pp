{
 "cells": [
  {
   "cell_type": "code",
   "execution_count": null,
   "id": "3de7360e",
   "metadata": {},
   "outputs": [],
   "source": [
    "import sys\n",
    "sys.path.append('..')\n",
    "%load_ext autoreload\n",
    "%autoreload 2"
   ]
  },
  {
   "cell_type": "code",
   "execution_count": null,
   "id": "91d8bd1a",
   "metadata": {},
   "outputs": [],
   "source": [
    "from quick_pp.rock_physics.geomechanics import *\n",
    "\n",
    "sigma1 = [30, 40, 50, 60]\n",
    "sigma3 = [5, 10, 15, 20]\n",
    "\n",
    "\n",
    "axs = plot_mohrs_circle(sigma1, sigma3)"
   ]
  },
  {
   "cell_type": "code",
   "execution_count": null,
   "id": "d4fdaa68",
   "metadata": {},
   "outputs": [],
   "source": [
    "from quick_pp.rock_physics.geomechanics import *\n",
    "\n",
    "sigma1 = [30, 40, 50, 60]\n",
    "sigma3 = [5, 10, 15, 20]\n",
    "\n",
    "cohesion, theta, ucs = estimate_rock_strength(sigma1, sigma3)"
   ]
  },
  {
   "cell_type": "code",
   "execution_count": null,
   "id": "05a13fe0",
   "metadata": {},
   "outputs": [],
   "source": [
    "from quick_pp.rock_physics.geomechanics import *\n",
    "\n",
    "sigma1 = [93, 116, 155, 246]\n",
    "sigma3 = [5, 10, 20, 50]\n",
    "\n",
    "cohesion, theta, ucs = estimate_rock_strength(sigma1, sigma3)"
   ]
  },
  {
   "cell_type": "code",
   "execution_count": null,
   "id": "51042803",
   "metadata": {},
   "outputs": [],
   "source": [
    "Estat = .032 * 21.15**1.623\n",
    "UCS = 4.242*Estat\n",
    "fric_angle = 40 - .1875*(122-13.33)\n",
    "tensile = 1/10*UCS\n",
    "\n",
    "print(f'Youngs Modules: {Estat}')\n",
    "\n",
    "print(f'UCS: {UCS}')\n",
    "\n",
    "print(f'Fric angle: {fric_angle}')\n",
    "\n",
    "print(f'tensile: {tensile}')\n"
   ]
  },
  {
   "cell_type": "code",
   "execution_count": null,
   "id": "e162d90f",
   "metadata": {},
   "outputs": [],
   "source": [
    "N = 3\n",
    "UCS = 5000\n",
    "PP = 5000\n",
    "\n",
    "shmax = 10000\n",
    "shmin = 8000\n",
    "\n",
    "Pw_breakout = (3*shmax - shmin - UCS + PP * (N - 1)) / (N + 1)\n",
    "Pw_ind_frac = (3*shmin - shmax - PP)\n",
    "\n",
    "print('Pw > ', Pw_breakout)  # 6750\n",
    "print('PW < ', Pw_ind_frac) # 9000"
   ]
  },
  {
   "cell_type": "code",
   "execution_count": null,
   "id": "aad16a47",
   "metadata": {},
   "outputs": [],
   "source": [
    "import quick_pp.las_handler as las\n",
    "\n",
    "well_name = '15-9-F-11-T2'\n",
    "with open(rf'data\\01_raw\\VOLVE\\{well_name}.las', 'rb') as f:\n",
    "    df, header = las.read_las_files([f])\n",
    "\n",
    "df['PERM'] = df.KLOGH\n",
    "df['PHIT'] = df.PHIF\n",
    "df['SWT'] = df.SW\n",
    "df['VCLD'] = df.VSH * (1 - df.PHIT)\n",
    "df['VSAND'] = (1 - df.VSH) * (1 - df.PHIT)\n",
    "df['VHC'] = df.PHIT * (1 - df.SWT)\n",
    "df['DTC'] = df.DT"
   ]
  },
  {
   "cell_type": "code",
   "execution_count": null,
   "id": "8f6a8a44",
   "metadata": {},
   "outputs": [],
   "source": [
    "from quick_pp.rock_physics import *\n",
    "\n",
    "dtc_shale = estimate_normal_compaction_trend_dt(df.DTC, df.VCLD, df.DEPTH, .2)"
   ]
  }
 ],
 "metadata": {
  "kernelspec": {
   "display_name": "quick_pp",
   "language": "python",
   "name": "python3"
  },
  "language_info": {
   "codemirror_mode": {
    "name": "ipython",
    "version": 3
   },
   "file_extension": ".py",
   "mimetype": "text/x-python",
   "name": "python",
   "nbconvert_exporter": "python",
   "pygments_lexer": "ipython3",
   "version": "3.11.0"
  }
 },
 "nbformat": 4,
 "nbformat_minor": 5
}
