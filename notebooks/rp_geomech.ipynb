{
 "cells": [
  {
   "cell_type": "code",
   "execution_count": null,
   "id": "3de7360e",
   "metadata": {},
   "outputs": [],
   "source": [
    "import sys\n",
    "sys.path.append('..')\n",
    "%load_ext autoreload\n",
    "%autoreload 2"
   ]
  },
  {
   "cell_type": "code",
   "execution_count": null,
   "id": "91d8bd1a",
   "metadata": {},
   "outputs": [],
   "source": [
    "from quick_pp.rock_physics.geomechanics import *\n",
    "\n",
    "sigma1 = [30, 40, 50, 60]\n",
    "sigma3 = [5, 10, 15, 20]\n",
    "\n",
    "\n",
    "axs = plot_mohrs_circle(sigma1, sigma3)"
   ]
  },
  {
   "cell_type": "code",
   "execution_count": null,
   "id": "822eef13",
   "metadata": {},
   "outputs": [],
   "source": [
    "import matplotlib.pyplot as plt\n",
    "import math\n",
    "\n",
    "pc = np.array([5, 10, 20, 50])\n",
    "peak_stress = np.array([93, 116, 155, 246])\n",
    "\n",
    "coefficients = np.polyfit(pc, peak_stress, 1)\n",
    "\n",
    "# The result 'coefficients' is an array where the first element is the slope (m)\n",
    "# and the second element is the y-intercept (c).\n",
    "slope, intercept = coefficients\n",
    "\n",
    "N = slope\n",
    "print(N)\n",
    "\n",
    "sin_theta = math.asin((N-1) / (N+1))\n",
    "print(sin_theta)\n",
    "theta = math.degrees(sin_theta)\n",
    "\n",
    "print(f\"Coefficients: {coefficients}\")\n",
    "print(f\"Slope (m): {slope}\")\n",
    "print(f\"Intercept (c), UCS: {intercept}\")\n",
    "print(f'Internal friction angle {theta}')\n",
    "\n",
    "plt.plot(pc, peak_stress)"
   ]
  }
 ],
 "metadata": {
  "kernelspec": {
   "display_name": ".venv",
   "language": "python",
   "name": "python3"
  },
  "language_info": {
   "codemirror_mode": {
    "name": "ipython",
    "version": 3
   },
   "file_extension": ".py",
   "mimetype": "text/x-python",
   "name": "python",
   "nbconvert_exporter": "python",
   "pygments_lexer": "ipython3",
   "version": "3.11.4"
  }
 },
 "nbformat": 4,
 "nbformat_minor": 5
}
