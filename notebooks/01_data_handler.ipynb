{
 "cells": [
  {
   "cell_type": "code",
   "execution_count": 1,
   "metadata": {},
   "outputs": [],
   "source": [
    "import sys\n",
    "sys.path.append('..')\n",
    "%load_ext autoreload\n",
    "%autoreload 2\n",
    "%matplotlib inline"
   ]
  },
  {
   "cell_type": "code",
   "execution_count": 2,
   "metadata": {},
   "outputs": [],
   "source": [
    "from IPython.display import clear_output\n",
    "from tkinter import Tk, filedialog\n",
    "\n",
    "from quick_pp.objects import Well, Project\n",
    "import quick_pp.las_handler as las"
   ]
  },
  {
   "cell_type": "code",
   "execution_count": 3,
   "metadata": {},
   "outputs": [],
   "source": [
    "root = Tk()\n",
    "file_objects = filedialog.askopenfiles(title='Choose well Log ASCII Standard (LAS) files to be combined',\n",
    "                                        filetype=(('LAS Files', '*.LAS *.las'), ('All Files', '*.*')),\n",
    "                                        multiple=True,\n",
    "                                        mode='rb')\n",
    "root.destroy()\n",
    "if file_objects:\n",
    "    project_name = \"KSW\"    \n",
    "    project = Project(name=project_name)\n",
    "    project.read_las([f.name for f in file_objects])\n",
    "    project.save()\n",
    "\n",
    "clear_output()"
   ]
  },
  {
   "cell_type": "code",
   "execution_count": null,
   "metadata": {},
   "outputs": [],
   "source": [
    "# TODO: Rename and filter columns\n",
    "import pandas as pd\n",
    "\n",
    "df = pd.read_parquet(r\"C:\\projects\\ERMAI\\data\\03_primary\\BEKK_CLEAN_1b8c72.parquet\")\n",
    "# df.sort_values(['WELL_NAME', 'DEPTH'], inplace=True)"
   ]
  },
  {
   "cell_type": "code",
   "execution_count": null,
   "metadata": {},
   "outputs": [],
   "source": [
    "marker_df = pd.read_csv(r\"C:\\projects\\quick_pp\\notebooks\\data\\04_project\\BEKK_MARKER.csv\")\n",
    "\n",
    "marker_df['WELL_NAME'] = marker_df['Well identifier (UWI)']\n",
    "marker_df['DEPTH'] = marker_df['MDDF(ft)']\n",
    "marker_df['ZONES'] = marker_df['Surface']\n",
    "# marker_df.sort_values(['WELL_NAME', 'DEPTH'], inplace=True)"
   ]
  },
  {
   "cell_type": "code",
   "execution_count": null,
   "metadata": {},
   "outputs": [],
   "source": [
    "marker_df[marker_df.WELL_NAME == 'BEKK-005'].tail(20)"
   ]
  },
  {
   "cell_type": "code",
   "execution_count": null,
   "metadata": {},
   "outputs": [],
   "source": [
    "return_df = pd.DataFrame()\n",
    "for well, data in df.drop('ZONES', axis=1).groupby('WELL_NAME'):\n",
    "    temp_df = marker_df[marker_df.WELL_NAME == well][['DEPTH', 'ZONES']].copy().sort_values('DEPTH')\n",
    "    temp_df = pd.merge_asof(\n",
    "        data, temp_df, on='DEPTH', direction='forward', tolerance=50\n",
    "    )\n",
    "    return_df = pd.concat([return_df, temp_df])\n"
   ]
  },
  {
   "cell_type": "code",
   "execution_count": null,
   "metadata": {},
   "outputs": [],
   "source": [
    "project_name = \"BEKK_CLEAN\"    \n",
    "project = Project(name=project_name)\n",
    "project.update_data(return_df)\n",
    "project.save()"
   ]
  },
  {
   "cell_type": "code",
   "execution_count": null,
   "metadata": {},
   "outputs": [],
   "source": [
    "# Loading a dataframe\n",
    "\n",
    "root = Tk()\n",
    "file_objects = filedialog.askopenfiles(title='Choose well Log ASCII Standard (LAS) files to be combined',\n",
    "                                        filetype=(('LAS Files', '*.LAS *.las'), ('All Files', '*.*')),\n",
    "                                        multiple=True,\n",
    "                                        mode='rb')\n",
    "root.destroy()\n",
    "df, _ = las.read_las_files(file_objects)"
   ]
  }
 ],
 "metadata": {
  "kernelspec": {
   "display_name": "venv310",
   "language": "python",
   "name": "python3"
  },
  "language_info": {
   "codemirror_mode": {
    "name": "ipython",
    "version": 3
   },
   "file_extension": ".py",
   "mimetype": "text/x-python",
   "name": "python",
   "nbconvert_exporter": "python",
   "pygments_lexer": "ipython3",
   "version": "3.10.9"
  }
 },
 "nbformat": 4,
 "nbformat_minor": 2
}
