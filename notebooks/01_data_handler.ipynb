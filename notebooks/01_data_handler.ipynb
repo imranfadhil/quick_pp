{
 "cells": [
  {
   "cell_type": "code",
   "execution_count": 1,
   "metadata": {},
   "outputs": [],
   "source": [
    "import sys\n",
    "sys.path.append('..')\n",
    "%load_ext autoreload\n",
    "%autoreload 2\n",
    "%matplotlib inline"
   ]
  },
  {
   "cell_type": "code",
   "execution_count": 2,
   "metadata": {},
   "outputs": [],
   "source": [
    "from IPython.display import clear_output\n",
    "import os\n",
    "\n",
    "from quick_pp.objects import Well, Project\n",
    "import quick_pp.las_handler as las"
   ]
  },
  {
   "cell_type": "markdown",
   "metadata": {},
   "source": [
    "####  Steps to create \"MOCK\" project\n",
    "1. Run the next cell.\n",
    "2. Specify the example either clastic or carbonate.\n",
    "3. MOCK.qppp project will be saved in notebooks\\data\\04_project folder.\n",
    "\n",
    "* Note that the required curves in the LAS files are 'GR', 'RT', 'NPHI', 'RHOB'"
   ]
  },
  {
   "cell_type": "code",
   "execution_count": 3,
   "metadata": {},
   "outputs": [],
   "source": [
    "example = 'carbonate'  # 'clastic'  # \n",
    "wells = ['X10_raw', 'X3', '36_7-3'] if example == 'clastic' else ['HW-6', 'HW-7', 'HW-8', 'HW-9', 'HW-10', 'HW-29']\n",
    "\n",
    "data_path = os.path.join('data', '01_raw')\n",
    "filenames = []\n",
    "for root, dirs, files in os.walk(data_path):\n",
    "    for file in files:\n",
    "        filenames.append(os.path.join(root, file)) if file.split('.las')[0] in wells else None\n",
    "\n",
    "project_name = \"MOCK_\" + example    \n",
    "project = Project(name=project_name)\n",
    "project.read_las(filenames)\n",
    "project.save()\n",
    "\n",
    "clear_output()               "
   ]
  },
  {
   "cell_type": "code",
   "execution_count": 4,
   "metadata": {},
   "outputs": [],
   "source": [
    "# from tkinter import Tk, filedialog\n",
    "\n",
    "# root = Tk()\n",
    "# file_objects = filedialog.askopenfiles(title='Choose well Log ASCII Standard (LAS) files to be combined',\n",
    "#                                         filetype=(('LAS Files', '*.LAS *.las'), ('All Files', '*.*')),\n",
    "#                                         multiple=True,\n",
    "#                                         mode='rb')\n",
    "# root.destroy()\n",
    "# if file_objects:\n",
    "#     project_name = \"MOCK\"    \n",
    "#     project = Project(name=project_name)\n",
    "#     project.read_las([f.name for f in file_objects])\n",
    "#     project.save()\n",
    "\n",
    "# clear_output()"
   ]
  },
  {
   "cell_type": "code",
   "execution_count": 5,
   "metadata": {},
   "outputs": [],
   "source": [
    "# import pandas as pd\n",
    "\n",
    "# df = pd.read_parquet(r\"xxx.parquet\")\n",
    "# marker_df = pd.read_csv(r\"zzz.csv\")\n",
    "# marker_df['WELL_NAME'] = marker_df['Well identifier (UWI)']\n",
    "# marker_df['DEPTH'] = marker_df['MDDF(ft)']\n",
    "# marker_df['ZONES'] = marker_df['Surface']\n",
    "\n",
    "# return_df = pd.DataFrame()\n",
    "# for well, data in df.drop('ZONES', axis=1).groupby('WELL_NAME'):\n",
    "#     temp_df = marker_df[marker_df.WELL_NAME == well][['DEPTH', 'ZONES']].copy().sort_values('DEPTH')\n",
    "#     temp_df = pd.merge_asof(\n",
    "#         data, temp_df, on='DEPTH', direction='forward', tolerance=50\n",
    "#     )\n",
    "#     return_df = pd.concat([return_df, temp_df])\n",
    "\n",
    "# project_name = \"BEKK_CLEAN\"    \n",
    "# project = Project(name=project_name)\n",
    "# project.update_data(return_df)\n",
    "# project.save()"
   ]
  },
  {
   "cell_type": "code",
   "execution_count": 6,
   "metadata": {},
   "outputs": [],
   "source": [
    "# # Loading a dataframe\n",
    "\n",
    "# root = Tk()\n",
    "# file_objects = filedialog.askopenfiles(title='Choose well Log ASCII Standard (LAS) files to be combined',\n",
    "#                                         filetype=(('LAS Files', '*.LAS *.las'), ('All Files', '*.*')),\n",
    "#                                         multiple=True,\n",
    "#                                         mode='rb')\n",
    "# root.destroy()\n",
    "# df, _ = las.read_las_files(file_objects)"
   ]
  }
 ],
 "metadata": {
  "kernelspec": {
   "display_name": "venv310",
   "language": "python",
   "name": "python3"
  },
  "language_info": {
   "codemirror_mode": {
    "name": "ipython",
    "version": 3
   },
   "file_extension": ".py",
   "mimetype": "text/x-python",
   "name": "python",
   "nbconvert_exporter": "python",
   "pygments_lexer": "ipython3",
   "version": "3.10.9"
  }
 },
 "nbformat": 4,
 "nbformat_minor": 2
}
