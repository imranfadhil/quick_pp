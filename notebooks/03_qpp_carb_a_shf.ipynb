{
 "cells": [
  {
   "cell_type": "code",
   "execution_count": 1,
   "metadata": {},
   "outputs": [],
   "source": [
    "import sys\n",
    "sys.path.append('..')\n",
    "%load_ext autoreload\n",
    "%autoreload 2\n",
    "%matplotlib inline"
   ]
  },
  {
   "cell_type": "code",
   "execution_count": null,
   "metadata": {},
   "outputs": [],
   "source": [
    "from quick_pp.objects import Project\n",
    "\n",
    "# Load well from saved file\n",
    "project = \"MOCK_carbonate\"\n",
    "project_path = rf\"data\\04_project\\{project}.qppp\"\n",
    "project = Project().load(project_path)\n",
    "project.get_well_names()"
   ]
  },
  {
   "cell_type": "markdown",
   "metadata": {},
   "source": [
    "## Determining the rock type boundaries"
   ]
  },
  {
   "cell_type": "code",
   "execution_count": 42,
   "metadata": {},
   "outputs": [],
   "source": [
    "import pandas as pd\n",
    "from quick_pp.rock_type import calc_fzi, rock_typing\n",
    "\n",
    "core_data = pd.read_csv(r'data\\01_raw\\HW_core_data_all.csv')\n",
    "# core_data.drop(columns=['RRT'], inplace=True)\n",
    "core_data['CPORE'] = core_data['Phi (frac.)']\n",
    "core_data['CPERM'] = core_data['K mD']\n",
    "core_data['PC'] = core_data['O/B Pc (psia)']\n",
    "core_data['SW'] = core_data['Equiv Brine Sat. (Frac.)']\n",
    "\n",
    "core_data = core_data[core_data['K mD'] > 0]\n",
    "core_data.drop_duplicates(subset=['CPORE', 'CPERM', 'SW'], keep='last', inplace=True)\n",
    "core_data['FZI'] = calc_fzi(core_data['CPERM'], core_data['CPORE'])\n",
    "core_data.dropna(inplace=True)\n",
    "\n",
    "fzi_cutoffs = [0.332, 0.662, 1.4, 3.724]\n",
    "core_data['ROCK_FLAG'] = rock_typing(core_data['FZI'], fzi_cutoffs)"
   ]
  },
  {
   "cell_type": "markdown",
   "metadata": {},
   "source": [
    "## Calculate J"
   ]
  },
  {
   "cell_type": "code",
   "execution_count": null,
   "metadata": {},
   "outputs": [],
   "source": [
    "from quick_pp.core_calibration import leverett_j, poroperm_xplot\n",
    "\n",
    "ift = 485\n",
    "theta = 130\n",
    "\n",
    "core_data['J'] = leverett_j(core_data['PC'], ift, theta, core_data['CPERM'], core_data['CPORE'])\n",
    "poroperm_xplot(core_data.CPORE, core_data.CPERM)"
   ]
  },
  {
   "cell_type": "code",
   "execution_count": null,
   "metadata": {},
   "outputs": [],
   "source": [
    "from quick_pp.core_calibration import fit_j_curve, j_xplot\n",
    "\n",
    "for rt, data in core_data.groupby('Sample'):\n",
    "    # print(rt)\n",
    "    data = data.sort_values(by='J')\n",
    "    a, b = fit_j_curve(data['SW'], data['J'])\n",
    "    j_xplot(data['SW'], data['J'], a=a, b=b)  #, ylim=(0.01, 120))\n",
    "    # break\n",
    "# fit_j_curve(core_data['SW'], core_data['J'])\n",
    "# j_xplot(core_data['SW'], core_data['J'])"
   ]
  },
  {
   "cell_type": "code",
   "execution_count": null,
   "metadata": {},
   "outputs": [],
   "source": [
    "data"
   ]
  },
  {
   "cell_type": "markdown",
   "metadata": {},
   "source": [
    "## Building Rock Type and FZI model to propagate to non-cored intervals"
   ]
  },
  {
   "cell_type": "code",
   "execution_count": null,
   "metadata": {},
   "outputs": [],
   "source": [
    "import pickle\n",
    "from quick_pp.rock_type import train_rock_type, train_fzi\n",
    "\n",
    "train_data = all_data.dropna(subset=['GR', 'NPHI', 'RHOB', 'ROCK_FLAG'])\n",
    "rt_model = train_rock_type(train_data[['GR', 'NPHI', 'RHOB']], train_data['ROCK_FLAG'])\n",
    "with open(r'data\\04_project\\MOCK_carbonate\\outputs\\rt_model.qppm', 'wb') as file:\n",
    "    pickle.dump(rt_model, file)\n",
    "\n",
    "\n",
    "train_data = all_data.dropna(subset=['GR', 'NPHI', 'RHOB', 'FZI'])\n",
    "fzi_model = train_fzi(train_data[['GR', 'NPHI', 'RHOB']], train_data['FZI'], train_data['ROCK_FLAG'])\n",
    "with open(r'data\\04_project\\MOCK_carbonate\\outputs\\fzi_model.qppm', 'wb') as file:\n",
    "    pickle.dump(fzi_model, file)"
   ]
  },
  {
   "cell_type": "markdown",
   "metadata": {},
   "source": [
    "## Predict PERM and plot the results"
   ]
  },
  {
   "cell_type": "code",
   "execution_count": null,
   "metadata": {},
   "outputs": [],
   "source": [
    "from quick_pp.plotter import plotly_log\n",
    "from quick_pp.rock_type import calc_fzi_perm\n",
    "\n",
    "# Plot individual results\n",
    "well_data = all_data[all_data.WELL_NAME == 'HW-29'].copy()\n",
    "well_data['ROCK_FLAG'] = rt_model.predict(well_data[['GR', 'NPHI', 'RHOB']])\n",
    "well_data['FZI'] = fzi_model.predict(well_data[['GR', 'NPHI', 'RHOB']])\n",
    "well_data['PERM'] = well_data.apply(lambda row: calc_fzi_perm(row['FZI'], row['PHIE']), axis=1)\n",
    "fig = plotly_log(well_data, '')\n",
    "fig.show(config=dict(scrollZoom=True))"
   ]
  }
 ],
 "metadata": {
  "kernelspec": {
   "display_name": "venv310",
   "language": "python",
   "name": "python3"
  },
  "language_info": {
   "codemirror_mode": {
    "name": "ipython",
    "version": 3
   },
   "file_extension": ".py",
   "mimetype": "text/x-python",
   "name": "python",
   "nbconvert_exporter": "python",
   "pygments_lexer": "ipython3",
   "version": "3.10.9"
  }
 },
 "nbformat": 4,
 "nbformat_minor": 2
}
