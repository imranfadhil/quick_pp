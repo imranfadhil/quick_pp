{
 "cells": [
  {
   "cell_type": "code",
   "execution_count": null,
   "id": "3de7360e",
   "metadata": {},
   "outputs": [],
   "source": [
    "import sys\n",
    "sys.path.append('..')\n",
    "%load_ext autoreload\n",
    "%autoreload 2"
   ]
  },
  {
   "cell_type": "code",
   "execution_count": null,
   "id": "bfe0316d",
   "metadata": {},
   "outputs": [],
   "source": [
    "import quick_pp.las_handler as las\n",
    "\n",
    "well_name = '15-9-F-11-T2'\n",
    "with open(rf'data\\01_raw\\VOLVE\\{well_name}.las', 'rb') as f:\n",
    "    df, header = las.read_las_files([f])\n",
    "\n",
    "df['PERM'] = df.KLOGH\n",
    "df['PHIT'] = df.PHIF\n",
    "df['SWT'] = df.SW\n",
    "df['VCLD'] = df.VSH * (1 - df.PHIT)\n",
    "df['VSAND'] = (1 - df.VSH) * (1 - df.PHIT)\n",
    "df['VHC'] = df.PHIT * (1 - df.SWT)\n",
    "df['DTC'] = df.DT"
   ]
  },
  {
   "cell_type": "code",
   "execution_count": null,
   "id": "67102dba",
   "metadata": {},
   "outputs": [],
   "source": [
    "from quick_pp.plotter.well_log import plotly_log\n",
    "\n",
    "fig = plotly_log(df, well_name=well_name, depth_uom='m')\n",
    "fig.show(config=dict(scrollZoom=True))"
   ]
  },
  {
   "cell_type": "code",
   "execution_count": null,
   "id": "704866a8",
   "metadata": {},
   "outputs": [],
   "source": [
    "from quick_pp.rock_physics.geomechanics import *\n",
    "\n",
    "df_copy = df.copy()\n",
    "df_copy['RHOB'] = df_copy['RHOB'].clip(1.8, 3)\n",
    "\n",
    "df_copy['Vp'] = estimate_compressional_velocity(df_copy['RHOB'])\n",
    "df_copy['VP'] = 1 / df_copy['DT'] * ( 1e6 / 3.281)\n",
    "\n",
    "df_copy.plot(x='DEPTH', y=['Vp', 'VP'])"
   ]
  },
  {
   "cell_type": "code",
   "execution_count": null,
   "id": "722972e6",
   "metadata": {},
   "outputs": [],
   "source": [
    "df_copy['Rhob'] = estimate_gardner_density(1 / df_copy['DT'] * (1e6 / 3.281))\n",
    "\n",
    "df_copy.plot(x='DEPTH', y=['Rhob', 'RHOB'], ylim=(1.8, 2.85))"
   ]
  },
  {
   "cell_type": "code",
   "execution_count": null,
   "id": "201df63f",
   "metadata": {},
   "outputs": [],
   "source": [
    "from quick_pp.rock_physics.rpm import *\n",
    "\n",
    "vp = 1 / df_copy['DT'] * (1e6 / 3.281)\n",
    "if 'DTS' in df_copy.columns:\n",
    "    vs= 1 / df_copy['DTS'] * (1e6 / 3.281)\n",
    "else:\n",
    "    vs = estimate_shear_velocity(vp)\n",
    "rhob = df_copy['RHOB'].clip(1, 3)\n",
    "fig = qaqc_xplots(rhob, vp, vs)"
   ]
  },
  {
   "cell_type": "code",
   "execution_count": null,
   "id": "022f5d91",
   "metadata": {},
   "outputs": [],
   "source": [
    "fig = fluid_typing_xplots(rhob, vp, vs)"
   ]
  },
  {
   "cell_type": "code",
   "execution_count": null,
   "id": "4f2670df",
   "metadata": {},
   "outputs": [],
   "source": [
    "from quick_pp.rock_physics.rpm import *\n",
    "\n",
    "fig = QI_screening(df_copy['GR'], df_copy['RHOB'], vp)"
   ]
  },
  {
   "cell_type": "code",
   "execution_count": null,
   "id": "5c48eb2e",
   "metadata": {},
   "outputs": [],
   "source": [
    "from quick_pp.rock_physics.rpm import *\n",
    "\n",
    "fig = elastic_bounds_plot(df_copy['RHOB'], vp, vs, df_copy.PHIT)"
   ]
  },
  {
   "cell_type": "code",
   "execution_count": null,
   "id": "f865327d",
   "metadata": {},
   "outputs": [],
   "source": [
    "from quick_pp.rock_physics.rpm import *\n",
    "\n",
    "fig = rpt_plot(\n",
    "    df_copy['RHOB'], vp, vs, model='stiff_sand', fluid_type='oil',\n",
    "    Cn=None, f=0, sigma=20\n",
    ")"
   ]
  }
 ],
 "metadata": {
  "kernelspec": {
   "display_name": ".venv",
   "language": "python",
   "name": "python3"
  },
  "language_info": {
   "codemirror_mode": {
    "name": "ipython",
    "version": 3
   },
   "file_extension": ".py",
   "mimetype": "text/x-python",
   "name": "python",
   "nbconvert_exporter": "python",
   "pygments_lexer": "ipython3",
   "version": "3.11.4"
  }
 },
 "nbformat": 4,
 "nbformat_minor": 5
}
