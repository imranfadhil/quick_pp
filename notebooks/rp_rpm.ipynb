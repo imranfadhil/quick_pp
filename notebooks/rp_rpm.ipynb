{
 "cells": [
  {
   "cell_type": "code",
   "execution_count": null,
   "id": "3de7360e",
   "metadata": {},
   "outputs": [],
   "source": [
    "import sys\n",
    "sys.path.append('..')\n",
    "%load_ext autoreload\n",
    "%autoreload 2"
   ]
  },
  {
   "cell_type": "code",
   "execution_count": null,
   "id": "bfe0316d",
   "metadata": {},
   "outputs": [],
   "source": [
    "import quick_pp.las_handler as las\n",
    "\n",
    "well_name = '15-9-19-SR'\n",
    "with open(rF'data\\01_raw\\VOLVE\\{well_name}.las', 'rb') as f:\n",
    "    df, header = las.read_las_files([f])"
   ]
  },
  {
   "cell_type": "code",
   "execution_count": null,
   "id": "f97b09ae",
   "metadata": {},
   "outputs": [],
   "source": [
    "df.columns"
   ]
  },
  {
   "cell_type": "code",
   "execution_count": null,
   "id": "704866a8",
   "metadata": {},
   "outputs": [],
   "source": [
    "from quick_pp.rock_physics.geomechanics import *\n",
    "\n",
    "df_copy = df.copy()\n",
    "\n",
    "df_copy['Vp'] = estimate_gardner_compressional_velocity(df_copy['RHOB'].clip(1, 3))\n",
    "df_copy['VP'] = 1 / df_copy['DT'] * ( 1e6 / 3.281)\n",
    "\n",
    "df_copy.plot(x='DEPTH', y=['Vp', 'VP'])"
   ]
  },
  {
   "cell_type": "code",
   "execution_count": null,
   "id": "722972e6",
   "metadata": {},
   "outputs": [],
   "source": [
    "df_copy['Rhob'] = estimate_gardner_density(1 / df_copy['DT'] * (1e6 / 3.281))\n",
    "\n",
    "df_copy.plot(x='DEPTH', y=['Rhob', 'RHOB'], ylim=(0, 3))"
   ]
  },
  {
   "cell_type": "code",
   "execution_count": null,
   "id": "9330b725",
   "metadata": {},
   "outputs": [],
   "source": [
    "df_copy.columns"
   ]
  },
  {
   "cell_type": "code",
   "execution_count": null,
   "id": "201df63f",
   "metadata": {},
   "outputs": [],
   "source": [
    "from quick_pp.rock_physics.rpm import *\n",
    "\n",
    "vs= 1 / df_copy['DTS'] * (1e6 / 3.281)\n",
    "vp = 1 / df_copy['DT'] * (1e6 / 3.281)\n",
    "rhob = df_copy['RHOB'].clip(1, 3)\n",
    "fig = qaqc_xplots(rhob, vp, vs)"
   ]
  },
  {
   "cell_type": "code",
   "execution_count": null,
   "id": "022f5d91",
   "metadata": {},
   "outputs": [],
   "source": []
  }
 ],
 "metadata": {
  "kernelspec": {
   "display_name": ".venv",
   "language": "python",
   "name": "python3"
  },
  "language_info": {
   "codemirror_mode": {
    "name": "ipython",
    "version": 3
   },
   "file_extension": ".py",
   "mimetype": "text/x-python",
   "name": "python",
   "nbconvert_exporter": "python",
   "pygments_lexer": "ipython3",
   "version": "3.11.0"
  }
 },
 "nbformat": 4,
 "nbformat_minor": 5
}
