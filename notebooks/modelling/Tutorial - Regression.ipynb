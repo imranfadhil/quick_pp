{
 "cells": [
  {
   "attachments": {},
   "cell_type": "markdown",
   "id": "81e0620e",
   "metadata": {},
   "source": [
    "Last updated: 15 Feb 2023\n",
    "\n",
    "# 👋 PyCaret Regression Tutorial\n",
    "\n",
    "PyCaret is an open-source, low-code machine learning library in Python that automates machine learning workflows. It is an end-to-end machine learning and model management tool that exponentially speeds up the experiment cycle and makes you more productive.\n",
    "\n",
    "Compared with the other open-source machine learning libraries, PyCaret is an alternate low-code library that can be used to replace hundreds of lines of code with a few lines only. This makes experiments exponentially fast and efficient. PyCaret is essentially a Python wrapper around several machine learning libraries and frameworks, such as scikit-learn, XGBoost, LightGBM, CatBoost, spaCy, Optuna, Hyperopt, Ray, and a few more.\n",
    "\n",
    "The design and simplicity of PyCaret are inspired by the emerging role of citizen data scientists, a term first used by Gartner. Citizen Data Scientists are power users who can perform both simple and moderately sophisticated analytical tasks that would previously have required more technical expertise.\n"
   ]
  },
  {
   "attachments": {},
   "cell_type": "markdown",
   "id": "8116e19d",
   "metadata": {},
   "source": [
    "# 💻 Installation\n",
    "\n",
    "PyCaret is tested and supported on the following 64-bit systems:\n",
    "- Python 3.7 – 3.10\n",
    "- Python 3.9 for Ubuntu only\n",
    "- Ubuntu 16.04 or later\n",
    "- Windows 7 or later\n",
    "\n",
    "You can install PyCaret with Python's pip package manager:\n",
    "\n",
    "`pip install pycaret`\n",
    "\n",
    "PyCaret's default installation will not install all the extra dependencies automatically. For that you will have to install the full version:\n",
    "\n",
    "`pip install pycaret[full]`\n",
    "\n",
    "or depending on your use-case you may install one of the following variant:\n",
    "\n",
    "- `pip install pycaret[analysis]`\n",
    "- `pip install pycaret[models]`\n",
    "- `pip install pycaret[tuner]`\n",
    "- `pip install pycaret[mlops]`\n",
    "- `pip install pycaret[parallel]`\n",
    "- `pip install pycaret[test]`"
   ]
  },
  {
   "cell_type": "code",
   "execution_count": null,
   "id": "d7142a33",
   "metadata": {},
   "outputs": [],
   "source": [
    "# check installed version (must be >3.0)\n",
    "import pycaret\n",
    "pycaret.__version__"
   ]
  },
  {
   "cell_type": "code",
   "execution_count": null,
   "id": "96f8af90",
   "metadata": {},
   "outputs": [],
   "source": [
    "# Setup working directory to the project root.\n",
    "import os\n",
    "cwd = os.getcwd()\n",
    "project_name = 'quick_pp'\n",
    "os.chdir(fr'{cwd.split(project_name)[0] + project_name}')\n",
    "print(os.getcwd())\n",
    "%load_ext autoreload\n",
    "%autoreload 2\n",
    "%matplotlib inline"
   ]
  },
  {
   "attachments": {},
   "cell_type": "markdown",
   "id": "fb66e98d",
   "metadata": {},
   "source": [
    "# 🚀 Quick start"
   ]
  },
  {
   "attachments": {},
   "cell_type": "markdown",
   "id": "00347d44",
   "metadata": {},
   "source": [
    "PyCaret's Regression Module is a supervised machine learning module that is used for estimating the relationships between a dependent variable (often called the outcome variable, or target) and one or more independent variables (often called features, predictors, or covariates). \n",
    "\n",
    "The objective of regression is to predict continuous values such as predicting sales amount, predicting quantity, predicting temperature, etc. Regression module provides several pre-processing features to preprocess the data for modeling through the setup function. \n",
    "\n",
    "PyCaret's regression module has many preprocessing capabilities and it coems with over 25 ready-to-use algorithms and several plots to analyze the performance of trained models. \n",
    "\n",
    "A typical workflow in PyCaret Regression module consist of the following 5 steps in this order:\n",
    "\n",
    "### **Setup** ➡️ **Compare Models** ➡️ **Analyze Model** ➡️ **Prediction** ➡️ **Save Model** \n",
    "<br/>"
   ]
  },
  {
   "cell_type": "code",
   "execution_count": 3,
   "id": "1b09f8df",
   "metadata": {},
   "outputs": [],
   "source": [
    "import pandas as pd\n",
    "from IPython.display import clear_output\n",
    "\n",
    "import quick_pp.las_handler as las\n",
    "\n",
    "### load sample dataset from pycaret dataset module\n",
    "with open(r'notebooks\\data\\01_raw\\COSTA\\HW-29.las', 'rb') as f:\n",
    "    data, header = las.read_las_files([f])"
   ]
  },
  {
   "cell_type": "code",
   "execution_count": null,
   "id": "9ba9192e",
   "metadata": {},
   "outputs": [],
   "source": [
    "data.columns"
   ]
  },
  {
   "cell_type": "code",
   "execution_count": null,
   "id": "21cf7011",
   "metadata": {},
   "outputs": [],
   "source": [
    "from quick_pp.modelling.config import MODELLING_CONFIG\n",
    "\n",
    "features = MODELLING_CONFIG['mock']['POROSAT']['features']\n",
    "targets = MODELLING_CONFIG['mock']['POROSAT']['targets']\n",
    "\n",
    "print(features)\n",
    "print(targets)"
   ]
  },
  {
   "attachments": {},
   "cell_type": "markdown",
   "id": "c00f6a4a",
   "metadata": {},
   "source": [
    "## Setup\n",
    "The `setup` function initializes the training environment and creates the transformation pipeline. Setup function must be called before executing any other function in PyCaret. It only has two required parameters i.e. `data` and `target`. All the other parameters are optional."
   ]
  },
  {
   "cell_type": "code",
   "execution_count": null,
   "id": "afeff96f",
   "metadata": {},
   "outputs": [],
   "source": [
    "from pycaret.regression import *\n",
    "\n",
    "for target in targets:\n",
    "    setup(\n",
    "        data=data[features + [target]].dropna(),\n",
    "        target=target,\n",
    "        session_id=42,\n",
    "        log_experiment=True,\n",
    "        experiment_name=target,\n",
    "        polynomial_features=True,\n",
    "        normalize=True,\n",
    "        normalize_method='zscore',\n",
    "        transformation=True,\n",
    "        remove_outliers=True,\n",
    "        use_gpu=True,\n",
    "        log_plots=['residuals', 'error', 'feature', 'parameter', 'pipeline', 'feature_all'],\n",
    "        profile=True,\n",
    "        log_profile=True,\n",
    "        verbose=False,\n",
    "        system_log=False\n",
    "    )\n",
    "    best_models = compare_models(n_select=3)\n",
    "    tuned_models = [tune_model(model) for model in best_models]\n",
    "    blended_model = blend_models(tuned_models)\n",
    "    stacked_model = stack_models(tuned_models)\n",
    "    final_model = finalize_model(stacked_model)\n",
    "    # break"
   ]
  },
  {
   "attachments": {},
   "cell_type": "markdown",
   "id": "3c583864",
   "metadata": {},
   "source": [
    "Once the setup has been successfully executed it shows the information grid containing experiment level information. \n",
    "\n",
    "- **Session id:**  A pseudo-random number distributed as a seed in all functions for later reproducibility. If no `session_id` is passed, a random number is automatically generated that is distributed to all functions.<br/>\n",
    "<br/>\n",
    "- **Target type:**  Binary, Multiclass, or Regression. The Target type is automatically detected. <br/>\n",
    "<br/>\n",
    "- **Original data shape:**  Shape of the original data prior to any transformations. <br/>\n",
    "<br/>\n",
    "- **Transformed train set shape :**  Shape of transformed train set <br/>\n",
    "<br/>\n",
    "- **Transformed test set shape :**  Shape of transformed test set <br/>\n",
    "<br/>\n",
    "- **Numeric features :**  The number of features considered as numerical. <br/>\n",
    "<br/>\n",
    "- **Categorical features :**  The number of features considered as categorical. <br/>"
   ]
  },
  {
   "attachments": {},
   "cell_type": "markdown",
   "id": "77213120",
   "metadata": {},
   "source": [
    "You can use any of the two method i.e. Functional or OOP and even switch back and forth between two set of API's. The choice of method will not impact the results and has been tested for consistency.\n",
    "___"
   ]
  },
  {
   "attachments": {},
   "cell_type": "markdown",
   "id": "f98dd435",
   "metadata": {},
   "source": [
    "## Compare Models\n",
    "\n",
    "The `compare_models` function trains and evaluates the performance of all the estimators available in the model library using cross-validation. The output of this function is a scoring grid with average cross-validated scores. Metrics evaluated during CV can be accessed using the `get_metrics` function. Custom metrics can be added or removed using `add_metric` and `remove_metric` function."
   ]
  },
  {
   "cell_type": "code",
   "execution_count": null,
   "id": "65a19df4",
   "metadata": {},
   "outputs": [],
   "source": [
    "# compare baseline models\n",
    "best = compare_models()"
   ]
  },
  {
   "cell_type": "code",
   "execution_count": null,
   "id": "ab899495",
   "metadata": {},
   "outputs": [],
   "source": [
    "best = create_model('rf') #choose catboost to avoid plot errors with some models"
   ]
  },
  {
   "attachments": {},
   "cell_type": "markdown",
   "id": "340de1e2",
   "metadata": {},
   "source": [
    "Notice that the output between functional and OOP API is consistent. Rest of the functions in this notebook will only be shown using functional API only. \n",
    "\n",
    "___"
   ]
  },
  {
   "attachments": {},
   "cell_type": "markdown",
   "id": "6a77ec0c",
   "metadata": {},
   "source": [
    "## Analyze Model"
   ]
  },
  {
   "attachments": {},
   "cell_type": "markdown",
   "id": "595ea108",
   "metadata": {},
   "source": [
    "The `plot_model` function is used to analyze the performance of a trained model on the test set. It may require re-training the model in certain cases."
   ]
  },
  {
   "cell_type": "code",
   "execution_count": null,
   "id": "0ec7fad6",
   "metadata": {},
   "outputs": [],
   "source": [
    "# plot residuals\n",
    "plot_model(best, plot = 'residuals')"
   ]
  },
  {
   "cell_type": "code",
   "execution_count": null,
   "id": "9fc4b9b1",
   "metadata": {},
   "outputs": [],
   "source": [
    "# plot error\n",
    "plot_model(best, plot = 'error')"
   ]
  },
  {
   "cell_type": "code",
   "execution_count": null,
   "id": "bbc790e4",
   "metadata": {},
   "outputs": [],
   "source": [
    "# plot feature importance\n",
    "plot_model(best, plot = 'feature')"
   ]
  },
  {
   "cell_type": "code",
   "execution_count": 13,
   "id": "da718984",
   "metadata": {},
   "outputs": [],
   "source": [
    "# check docstring to see available plots \n",
    "# help(plot_model)"
   ]
  },
  {
   "attachments": {},
   "cell_type": "markdown",
   "id": "6bd66179",
   "metadata": {},
   "source": [
    "An alternate to `plot_model` function is `evaluate_model`. It can only be used in Notebook since it uses `ipywidget`."
   ]
  },
  {
   "cell_type": "code",
   "execution_count": null,
   "id": "c75f07a8",
   "metadata": {},
   "outputs": [],
   "source": [
    "evaluate_model(best)"
   ]
  },
  {
   "attachments": {},
   "cell_type": "markdown",
   "id": "ab3d2f1e",
   "metadata": {},
   "source": [
    "___"
   ]
  },
  {
   "attachments": {},
   "cell_type": "markdown",
   "id": "954cbeff",
   "metadata": {},
   "source": [
    "## Prediction\n",
    "The `predict_model` function returns `prediction_label` as new column to the input dataframe. When data is `None` (default), it uses the test set (created during the setup function) for scoring."
   ]
  },
  {
   "cell_type": "code",
   "execution_count": null,
   "id": "87c1a007",
   "metadata": {},
   "outputs": [],
   "source": [
    "# predict on test set\n",
    "holdout_pred = predict_model(best)"
   ]
  },
  {
   "cell_type": "code",
   "execution_count": null,
   "id": "5c01ac77",
   "metadata": {},
   "outputs": [],
   "source": [
    "# show predictions df\n",
    "holdout_pred.head()"
   ]
  },
  {
   "attachments": {},
   "cell_type": "markdown",
   "id": "d4baf825",
   "metadata": {},
   "source": [
    "The same function works for predicting the labels on unseen dataset. Let's create a copy of original data and drop the `charges`. We can then use the new data frame without labels for scoring."
   ]
  },
  {
   "cell_type": "code",
   "execution_count": null,
   "id": "fb1cb86d",
   "metadata": {},
   "outputs": [],
   "source": [
    "# copy data and drop charges\n",
    "\n",
    "new_data = data.copy()\n",
    "new_data.drop('charges', axis=1, inplace=True)\n",
    "new_data.head()"
   ]
  },
  {
   "cell_type": "code",
   "execution_count": null,
   "id": "c5803df9",
   "metadata": {},
   "outputs": [],
   "source": [
    "# predict model on new_data\n",
    "predictions = predict_model(best, data = new_data)\n",
    "predictions.head()"
   ]
  },
  {
   "attachments": {},
   "cell_type": "markdown",
   "id": "3950252d",
   "metadata": {},
   "source": [
    "___"
   ]
  },
  {
   "attachments": {},
   "cell_type": "markdown",
   "id": "e4384735",
   "metadata": {},
   "source": [
    "## Save Model"
   ]
  },
  {
   "attachments": {},
   "cell_type": "markdown",
   "id": "cd63f053",
   "metadata": {},
   "source": [
    "Finally, you can save the entire pipeline on disk for later use, using pycaret's `save_model` function."
   ]
  },
  {
   "cell_type": "code",
   "execution_count": null,
   "id": "4181de41",
   "metadata": {},
   "outputs": [],
   "source": [
    "# save pipeline\n",
    "save_model(best, 'my_first_pipeline')"
   ]
  },
  {
   "cell_type": "code",
   "execution_count": null,
   "id": "40ed5152",
   "metadata": {},
   "outputs": [],
   "source": [
    "# load pipeline\n",
    "loaded_best_pipeline = load_model('my_first_pipeline')\n",
    "loaded_best_pipeline"
   ]
  },
  {
   "attachments": {},
   "cell_type": "markdown",
   "id": "b2c7d62e",
   "metadata": {},
   "source": [
    "# 👇 Detailed function-by-function overview"
   ]
  },
  {
   "attachments": {},
   "cell_type": "markdown",
   "id": "e05937f5",
   "metadata": {},
   "source": [
    "## ✅ Setup\n",
    "The `setup` function initializes the experiment in PyCaret and creates the transformation pipeline based on all the parameters passed in the function. Setup function must be called before executing any other function. It takes two required parameters: `data` and `target`. All the other parameters are optional and are used for configuring data preprocessing pipeline."
   ]
  },
  {
   "cell_type": "code",
   "execution_count": null,
   "id": "24e503be",
   "metadata": {},
   "outputs": [],
   "source": [
    "s = setup(data, target = 'charges', session_id = 123)"
   ]
  },
  {
   "attachments": {},
   "cell_type": "markdown",
   "id": "924d198b",
   "metadata": {},
   "source": [
    "To access all the variables created by the setup function such as transformed dataset, random_state, etc. you can use `get_config` method."
   ]
  },
  {
   "cell_type": "code",
   "execution_count": null,
   "id": "76128b08",
   "metadata": {},
   "outputs": [],
   "source": [
    "# check all available config\n",
    "get_config()"
   ]
  },
  {
   "cell_type": "code",
   "execution_count": null,
   "id": "dbc43292",
   "metadata": {},
   "outputs": [],
   "source": [
    "# lets access X_train_transformed\n",
    "get_config('X_train_transformed')"
   ]
  },
  {
   "cell_type": "code",
   "execution_count": null,
   "id": "ef9cd061",
   "metadata": {},
   "outputs": [],
   "source": [
    "# another example: let's access seed\n",
    "print(\"The current seed is: {}\".format(get_config('seed')))\n",
    "\n",
    "# now lets change it using set_config\n",
    "set_config('seed', 786)\n",
    "print(\"The new seed is: {}\".format(get_config('seed')))"
   ]
  },
  {
   "attachments": {},
   "cell_type": "markdown",
   "id": "7afbe41d",
   "metadata": {},
   "source": [
    "All the preprocessing configurations and experiment settings/parameters are passed into the `setup` function. To see all available parameters, check the docstring:"
   ]
  },
  {
   "cell_type": "code",
   "execution_count": 25,
   "id": "2885a14f",
   "metadata": {},
   "outputs": [],
   "source": [
    "# help(setup)"
   ]
  },
  {
   "cell_type": "code",
   "execution_count": null,
   "id": "34ae0fce",
   "metadata": {},
   "outputs": [],
   "source": [
    "# init setup with normalize = True\n",
    "s = setup(data, target = 'charges', session_id = 123,\n",
    "          normalize = True, normalize_method = 'minmax')"
   ]
  },
  {
   "cell_type": "code",
   "execution_count": null,
   "id": "04204ae7",
   "metadata": {},
   "outputs": [],
   "source": [
    "# lets check the X_train_transformed to see effect of params passed\n",
    "get_config('X_train_transformed')['age'].hist()"
   ]
  },
  {
   "attachments": {},
   "cell_type": "markdown",
   "id": "d28a3e4e",
   "metadata": {},
   "source": [
    "Notice that all the values are between 0 and 1 - that is because we passed `normalize=True` in the `setup` function. If you don't remember how it compares to actual data, no problem - we can also access non-transformed values using `get_config` and then compare. See below and notice the range of values on x-axis and compare it with histogram above."
   ]
  },
  {
   "cell_type": "code",
   "execution_count": null,
   "id": "68cc1c63",
   "metadata": {},
   "outputs": [],
   "source": [
    "get_config('X_train')['age'].hist()"
   ]
  },
  {
   "attachments": {},
   "cell_type": "markdown",
   "id": "b3776fbf",
   "metadata": {},
   "source": [
    "___"
   ]
  },
  {
   "attachments": {},
   "cell_type": "markdown",
   "id": "36b8b803",
   "metadata": {},
   "source": [
    "## ✅ Compare Models\n",
    "The `compare_models` function trains and evaluates the performance of all estimators available in the model library using cross-validation. The output of this function is a scoring grid with average cross-validated scores. Metrics evaluated during CV can be accessed using the `get_metrics` function. Custom metrics can be added or removed using `add_metric` and `remove_metric` function."
   ]
  },
  {
   "cell_type": "code",
   "execution_count": null,
   "id": "a3350418",
   "metadata": {},
   "outputs": [],
   "source": [
    "best = compare_models()"
   ]
  },
  {
   "attachments": {},
   "cell_type": "markdown",
   "id": "cd18dcf6",
   "metadata": {},
   "source": [
    "`compare_models` by default uses all the estimators in model library (all except models with `Turbo=False`) . To see all available models you can use the function `models()`"
   ]
  },
  {
   "cell_type": "code",
   "execution_count": null,
   "id": "432e93d7",
   "metadata": {},
   "outputs": [],
   "source": [
    "# check available models\n",
    "models()"
   ]
  },
  {
   "attachments": {},
   "cell_type": "markdown",
   "id": "f588f54b",
   "metadata": {},
   "source": [
    "You can use the `include` and `exclude` parameter in the `compare_models` to train only select model or exclude specific models from training by passing the model id's in `exclude` parameter."
   ]
  },
  {
   "cell_type": "code",
   "execution_count": null,
   "id": "f2a7e578",
   "metadata": {},
   "outputs": [],
   "source": [
    "compare_tree_models = compare_models(include = ['dt', 'rf', 'et', 'gbr', 'xgboost', 'lightgbm', 'catboost'])"
   ]
  },
  {
   "cell_type": "code",
   "execution_count": null,
   "id": "c15a467e",
   "metadata": {},
   "outputs": [],
   "source": [
    "compare_tree_models"
   ]
  },
  {
   "attachments": {},
   "cell_type": "markdown",
   "id": "af9ae6cd",
   "metadata": {},
   "source": [
    "The function above has return trained model object as an output. The scoring grid is only displayed and not returned. If you need access to the scoring grid you can use `pull` function to access the dataframe."
   ]
  },
  {
   "cell_type": "code",
   "execution_count": null,
   "id": "fc529e25",
   "metadata": {},
   "outputs": [],
   "source": [
    "compare_tree_models_results = pull()\n",
    "compare_tree_models_results"
   ]
  },
  {
   "attachments": {},
   "cell_type": "markdown",
   "id": "05a72fc2",
   "metadata": {},
   "source": [
    "By default `compare_models` return the single best performing model based on the metric defined in the `sort` parameter. Let's change our code to return 3 top models based on `MAE`."
   ]
  },
  {
   "cell_type": "code",
   "execution_count": null,
   "id": "1066dd07",
   "metadata": {},
   "outputs": [],
   "source": [
    "best_mae_models_top3 = compare_models(sort = 'MAE', n_select = 3)"
   ]
  },
  {
   "cell_type": "code",
   "execution_count": null,
   "id": "aa259708",
   "metadata": {},
   "outputs": [],
   "source": [
    "# list of top 3 models by MAE\n",
    "best_mae_models_top3"
   ]
  },
  {
   "attachments": {},
   "cell_type": "markdown",
   "id": "1d91d27e",
   "metadata": {},
   "source": [
    "Some other parameters that you might find very useful in `compare_models` are:\n",
    "\n",
    "- fold\n",
    "- cross_validation\n",
    "- budget_time\n",
    "- errors\n",
    "- probability_threshold\n",
    "- parallel\n",
    "\n",
    "You can check the docstring of the function for more info."
   ]
  },
  {
   "cell_type": "code",
   "execution_count": null,
   "id": "f0c49e0b",
   "metadata": {},
   "outputs": [],
   "source": [
    "# help(compare_models)"
   ]
  },
  {
   "attachments": {},
   "cell_type": "markdown",
   "id": "9e6c47cb",
   "metadata": {},
   "source": [
    "## ✅ Experiment Logging\n",
    "PyCaret integrates with many different type of experiment loggers (default = 'mlflow'). To turn on experiment tracking in PyCaret you can set `log_experiment` and `experiment_name` parameter. It will automatically track all the metrics, hyperparameters, and artifacts based on the defined logger."
   ]
  },
  {
   "cell_type": "code",
   "execution_count": null,
   "id": "1af63fd0",
   "metadata": {},
   "outputs": [],
   "source": [
    "# from pycaret.regression import *\n",
    "# s = setup(data, target = 'charges', log_experiment='mlflow', experiment_name='insurance_experiment')"
   ]
  },
  {
   "cell_type": "code",
   "execution_count": null,
   "id": "42cd6120",
   "metadata": {},
   "outputs": [],
   "source": [
    "# compare models\n",
    "# best = compare_models()"
   ]
  },
  {
   "cell_type": "code",
   "execution_count": null,
   "id": "adc82ce5",
   "metadata": {},
   "outputs": [],
   "source": [
    "# start mlflow server on localhost:5000\n",
    "# !mlflow ui"
   ]
  },
  {
   "attachments": {},
   "cell_type": "markdown",
   "id": "a06f9df7",
   "metadata": {},
   "source": [
    "By default PyCaret uses `MLFlow` logger that can be changed using `log_experiment` parameter. Following loggers are available:\n",
    "    \n",
    "    - mlflow\n",
    "    - wandb\n",
    "    - comet_ml\n",
    "    - dagshub\n",
    "    \n",
    "Other logging related parameters that you may find useful are:\n",
    "\n",
    "- experiment_custom_tags\n",
    "- log_plots\n",
    "- log_data\n",
    "- log_profile\n",
    "\n",
    "For more information check out the docstring of the `setup` function."
   ]
  },
  {
   "cell_type": "code",
   "execution_count": null,
   "id": "2f8b6aa1",
   "metadata": {},
   "outputs": [],
   "source": [
    "# help(setup)"
   ]
  },
  {
   "attachments": {},
   "cell_type": "markdown",
   "id": "6ce0b555",
   "metadata": {},
   "source": [
    "## ✅ Create Model\n",
    "The `create_model` function trains and evaluates the performance of a given estimator using cross-validation. The output of this function is a scoring grid with CV scores by fold. Metrics evaluated during CV can be accessed using the `get_metrics` function. Custom metrics can be added or removed using `add_metric` and `remove_metric` function. All the available models can be accessed using the `models` function."
   ]
  },
  {
   "cell_type": "code",
   "execution_count": null,
   "id": "837cebfa",
   "metadata": {},
   "outputs": [],
   "source": [
    "# check all the available models\n",
    "models()"
   ]
  },
  {
   "cell_type": "code",
   "execution_count": null,
   "id": "16641cab",
   "metadata": {},
   "outputs": [],
   "source": [
    "# train linear regression with default fold=10\n",
    "lr = create_model('lr')"
   ]
  },
  {
   "attachments": {},
   "cell_type": "markdown",
   "id": "074b4572",
   "metadata": {},
   "source": [
    "The function above has return trained model object as an output. The scoring grid is only displayed and not returned. If you need access to the scoring grid you can use `pull` function to access the dataframe."
   ]
  },
  {
   "cell_type": "code",
   "execution_count": null,
   "id": "fe277e1b",
   "metadata": {},
   "outputs": [],
   "source": [
    "lr_results = pull()\n",
    "print(type(lr_results))\n",
    "lr_results"
   ]
  },
  {
   "cell_type": "code",
   "execution_count": null,
   "id": "148a74c4",
   "metadata": {},
   "outputs": [],
   "source": [
    "# train linear regression with fold=3\n",
    "lr = create_model('lr', fold=3)"
   ]
  },
  {
   "cell_type": "code",
   "execution_count": null,
   "id": "5a8906a8",
   "metadata": {},
   "outputs": [],
   "source": [
    "# train linear regression with specific model parameters\n",
    "create_model('lr', fit_intercept = False)"
   ]
  },
  {
   "cell_type": "code",
   "execution_count": null,
   "id": "b85af29b",
   "metadata": {},
   "outputs": [],
   "source": [
    "# train lr and return train score as well alongwith CV\n",
    "create_model('lr', return_train_score=True)"
   ]
  },
  {
   "attachments": {},
   "cell_type": "markdown",
   "id": "08634e9e",
   "metadata": {},
   "source": [
    "Some other parameters that you might find very useful in `create_model` are:\n",
    "\n",
    "- cross_validation\n",
    "- engine\n",
    "- fit_kwargs\n",
    "- groups\n",
    "\n",
    "You can check the docstring of the function for more info."
   ]
  },
  {
   "cell_type": "code",
   "execution_count": null,
   "id": "3fb32c74",
   "metadata": {},
   "outputs": [],
   "source": [
    "# help(create_model)"
   ]
  },
  {
   "attachments": {},
   "cell_type": "markdown",
   "id": "d5378836",
   "metadata": {},
   "source": [
    "## ✅ Tune Model\n",
    "\n",
    "The `tune_model` function tunes the hyperparameters of the model. The output of this function is a scoring grid with cross-validated scores by fold. The best model is selected based on the metric defined in optimize parameter. Metrics evaluated during cross-validation can be accessed using the `get_metrics` function. Custom metrics can be added or removed using `add_metric` and `remove_metric` function."
   ]
  },
  {
   "cell_type": "code",
   "execution_count": null,
   "id": "402597f2",
   "metadata": {},
   "outputs": [],
   "source": [
    "# train a dt model with default params\n",
    "dt = create_model('dt')"
   ]
  },
  {
   "cell_type": "code",
   "execution_count": null,
   "id": "90dc451d",
   "metadata": {},
   "outputs": [],
   "source": [
    "# tune hyperparameters of dt\n",
    "tuned_dt = tune_model(dt)"
   ]
  },
  {
   "attachments": {},
   "cell_type": "markdown",
   "id": "805b66b9",
   "metadata": {},
   "source": [
    "Metric to optimize can be defined in `optimize` parameter (default = 'Accuracy'). Also, a custom tuned grid can be passed with `custom_grid` parameter. "
   ]
  },
  {
   "cell_type": "code",
   "execution_count": null,
   "id": "cca8e640",
   "metadata": {},
   "outputs": [],
   "source": [
    "dt"
   ]
  },
  {
   "cell_type": "code",
   "execution_count": null,
   "id": "31e050ff",
   "metadata": {},
   "outputs": [],
   "source": [
    "# define tuning grid\n",
    "dt_grid = {'max_depth' : [None, 2, 4, 6, 8, 10, 12]}\n",
    "\n",
    "# tune model with custom grid and metric = MAE\n",
    "tuned_dt = tune_model(dt, custom_grid = dt_grid, optimize = 'MAE')"
   ]
  },
  {
   "cell_type": "code",
   "execution_count": null,
   "id": "6cca514b",
   "metadata": {},
   "outputs": [],
   "source": [
    "# to access the tuner object you can set return_tuner = True\n",
    "tuned_dt, tuner = tune_model(dt, return_tuner=True)"
   ]
  },
  {
   "cell_type": "code",
   "execution_count": null,
   "id": "80cbb4a6",
   "metadata": {},
   "outputs": [],
   "source": [
    "# model object\n",
    "tuned_dt"
   ]
  },
  {
   "cell_type": "code",
   "execution_count": null,
   "id": "7d5e49ca",
   "metadata": {},
   "outputs": [],
   "source": [
    "# tuner object\n",
    "tuner"
   ]
  },
  {
   "attachments": {},
   "cell_type": "markdown",
   "id": "0a33c70b",
   "metadata": {},
   "source": [
    "The default search algorithm is `RandomizedSearchCV` from `sklearn`. This can be changed by using `search_library` and `search_algorithm` parameter."
   ]
  },
  {
   "cell_type": "code",
   "execution_count": null,
   "id": "31e33547",
   "metadata": {},
   "outputs": [],
   "source": [
    "# tune dt using optuna\n",
    "tuned_dt = tune_model(dt, search_library = 'optuna')"
   ]
  },
  {
   "attachments": {},
   "cell_type": "markdown",
   "id": "a1e2875b",
   "metadata": {},
   "source": [
    "For more details on all available `search_library` and `search_algorithm` please check the docstring. Some other parameters that you might find very useful in `tune_model` are:\n",
    "\n",
    "- choose_better\n",
    "- n_iter\n",
    "- early_stopping\n",
    "- groups\n",
    "\n",
    "You can check the docstring of the function for more info."
   ]
  },
  {
   "cell_type": "code",
   "execution_count": null,
   "id": "94f9c86e",
   "metadata": {},
   "outputs": [],
   "source": [
    "# help(tune_model)"
   ]
  },
  {
   "attachments": {},
   "cell_type": "markdown",
   "id": "2ca8ee07",
   "metadata": {},
   "source": [
    "## ✅ Ensemble Model"
   ]
  },
  {
   "attachments": {},
   "cell_type": "markdown",
   "id": "ce321d4c",
   "metadata": {},
   "source": [
    "The `ensemble_model` function ensembles a given estimator. The output of this function is a scoring grid with CV scores by fold. Metrics evaluated during CV can be accessed using the `get_metrics` function. Custom metrics can be added or removed using `add_metric` and `remove_metric` function."
   ]
  },
  {
   "cell_type": "code",
   "execution_count": null,
   "id": "c8ee936d",
   "metadata": {},
   "outputs": [],
   "source": [
    "# ensemble with bagging\n",
    "ensemble_model(dt, method = 'Bagging')"
   ]
  },
  {
   "cell_type": "code",
   "execution_count": null,
   "id": "79279394",
   "metadata": {},
   "outputs": [],
   "source": [
    "# ensemble with boosting\n",
    "ensemble_model(dt, method = 'Boosting')"
   ]
  },
  {
   "attachments": {},
   "cell_type": "markdown",
   "id": "d0fa1ce2",
   "metadata": {},
   "source": [
    "Some other parameters that you might find very useful in `ensemble_model` are:\n",
    "\n",
    "- choose_better\n",
    "- n_estimators\n",
    "- groups\n",
    "- fit_kwargs\n",
    "- return_train_score\n",
    "\n",
    "You can check the docstring of the function for more info."
   ]
  },
  {
   "cell_type": "code",
   "execution_count": null,
   "id": "78130ed1",
   "metadata": {},
   "outputs": [],
   "source": [
    "# help(ensemble_model)"
   ]
  },
  {
   "attachments": {},
   "cell_type": "markdown",
   "id": "ea8a9a4e",
   "metadata": {},
   "source": [
    "## ✅ Blend Models"
   ]
  },
  {
   "attachments": {},
   "cell_type": "markdown",
   "id": "2ede29c4",
   "metadata": {},
   "source": [
    "The `blend_models` function trains a `VotingRegressor` for select models passed in the `estimator_list` parameter. The output of this function is a scoring grid with CV scores by fold. Metrics evaluated during CV can be accessed using the `get_metrics` function. Custom metrics can be added or removed using `add_metric` and `remove_metric` function."
   ]
  },
  {
   "cell_type": "code",
   "execution_count": null,
   "id": "61a7a1c5",
   "metadata": {},
   "outputs": [],
   "source": [
    "# top 3 models based on mae\n",
    "best_mae_models_top3"
   ]
  },
  {
   "cell_type": "code",
   "execution_count": null,
   "id": "04f65f2f",
   "metadata": {},
   "outputs": [],
   "source": [
    "# blend top 3 models\n",
    "blend_models(best_mae_models_top3)"
   ]
  },
  {
   "attachments": {},
   "cell_type": "markdown",
   "id": "9e788c9c",
   "metadata": {},
   "source": [
    "Some other parameters that you might find very useful in `blend_models` are:\n",
    "\n",
    "- choose_better\n",
    "- weights\n",
    "- optimize\n",
    "- fit_kwargs\n",
    "- return_train_score\n",
    "\n",
    "You can check the docstring of the function for more info."
   ]
  },
  {
   "cell_type": "code",
   "execution_count": null,
   "id": "99b549a6",
   "metadata": {},
   "outputs": [],
   "source": [
    "# help(blend_models)"
   ]
  },
  {
   "attachments": {},
   "cell_type": "markdown",
   "id": "e76969b0",
   "metadata": {},
   "source": [
    "## ✅ Stack Models"
   ]
  },
  {
   "attachments": {},
   "cell_type": "markdown",
   "id": "55909804",
   "metadata": {},
   "source": [
    "The `stack_models` function trains a meta-model over select estimators passed in the estimator_list parameter. The output of this function is a scoring grid with CV scores by fold. Metrics evaluated during CV can be accessed using the `get_metrics` function. Custom metrics can be added or removed using `add_metric` and `remove_metric` function."
   ]
  },
  {
   "cell_type": "code",
   "execution_count": null,
   "id": "201c681e",
   "metadata": {},
   "outputs": [],
   "source": [
    "# stack models\n",
    "stack_models(best_mae_models_top3)"
   ]
  },
  {
   "attachments": {},
   "cell_type": "markdown",
   "id": "af78cda8",
   "metadata": {},
   "source": [
    "Some other parameters that you might find very useful in `stack_models` are:\n",
    "\n",
    "- choose_better\n",
    "- meta_model\n",
    "- restack\n",
    "- optimize\n",
    "- return_train_score\n",
    "\n",
    "You can check the docstring of the function for more info."
   ]
  },
  {
   "cell_type": "code",
   "execution_count": null,
   "id": "3305e597",
   "metadata": {},
   "outputs": [],
   "source": [
    "# help(stack_models)"
   ]
  },
  {
   "attachments": {},
   "cell_type": "markdown",
   "id": "279a3127",
   "metadata": {},
   "source": [
    "## ✅ Plot Model"
   ]
  },
  {
   "attachments": {},
   "cell_type": "markdown",
   "id": "862bd3e9",
   "metadata": {},
   "source": [
    "The `plot_model` function analyzes the performance of a trained model on the hold-out set. It may require re-training the model in certain cases."
   ]
  },
  {
   "cell_type": "code",
   "execution_count": null,
   "id": "9c8da9b4",
   "metadata": {},
   "outputs": [],
   "source": [
    "# plot residuals\n",
    "plot_model(best, plot = 'residuals')"
   ]
  },
  {
   "cell_type": "code",
   "execution_count": null,
   "id": "952b6f24",
   "metadata": {},
   "outputs": [],
   "source": [
    "# to control the scale of plot\n",
    "plot_model(best, plot = 'residuals', scale = 2)"
   ]
  },
  {
   "cell_type": "code",
   "execution_count": null,
   "id": "293e4d15",
   "metadata": {},
   "outputs": [],
   "source": [
    "# to save the plot\n",
    "plot_model(best, plot = 'residuals', save=True)"
   ]
  },
  {
   "attachments": {},
   "cell_type": "markdown",
   "id": "2fef279d",
   "metadata": {},
   "source": [
    "Some other parameters that you might find very useful in `plot_model` are:\n",
    "\n",
    "- fit_kwargs\n",
    "- plot_kwargs\n",
    "- groups\n",
    "- display_format\n",
    "\n",
    "You can check the docstring of the function for more info."
   ]
  },
  {
   "cell_type": "code",
   "execution_count": null,
   "id": "54b09b8e",
   "metadata": {},
   "outputs": [],
   "source": [
    "# help(plot_model)"
   ]
  },
  {
   "attachments": {},
   "cell_type": "markdown",
   "id": "b724ca46",
   "metadata": {},
   "source": [
    "## ✅ Interpret Model"
   ]
  },
  {
   "attachments": {},
   "cell_type": "markdown",
   "id": "52f8fb33",
   "metadata": {},
   "source": [
    "The `interpret_model` function analyzes the predictions generated from a trained model. Most plots in this function are implemented based on the SHAP (Shapley Additive exPlanations). For more info on this, please see https://shap.readthedocs.io/en/latest/"
   ]
  },
  {
   "cell_type": "code",
   "execution_count": null,
   "id": "6b6891b7",
   "metadata": {},
   "outputs": [],
   "source": [
    "# train lightgbm model\n",
    "lightgbm = create_model('lightgbm')"
   ]
  },
  {
   "cell_type": "code",
   "execution_count": null,
   "id": "3198b571",
   "metadata": {},
   "outputs": [],
   "source": [
    "# interpret summary model\n",
    "interpret_model(lightgbm, plot = 'summary')"
   ]
  },
  {
   "cell_type": "code",
   "execution_count": null,
   "id": "824bafdc",
   "metadata": {},
   "outputs": [],
   "source": [
    "# reason plot for test set observation 1\n",
    "interpret_model(lightgbm, plot = 'reason', observation = 1)"
   ]
  },
  {
   "attachments": {},
   "cell_type": "markdown",
   "id": "ca7ce2b4",
   "metadata": {},
   "source": [
    "Some other parameters that you might find very useful in `interpret_model` are:\n",
    "\n",
    "- plot\n",
    "- feature\n",
    "- use_train_data\n",
    "- X_new_sample\n",
    "- y_new_sample\n",
    "- save\n",
    "\n",
    "You can check the docstring of the function for more info."
   ]
  },
  {
   "cell_type": "code",
   "execution_count": null,
   "id": "42595030",
   "metadata": {},
   "outputs": [],
   "source": [
    "# help(interpret_model)"
   ]
  },
  {
   "attachments": {},
   "cell_type": "markdown",
   "id": "9f57d0c8",
   "metadata": {},
   "source": [
    "## ✅ Get Leaderboard"
   ]
  },
  {
   "attachments": {},
   "cell_type": "markdown",
   "id": "ec63b67a",
   "metadata": {},
   "source": [
    "This function returns the leaderboard of all models trained in the current setup."
   ]
  },
  {
   "cell_type": "code",
   "execution_count": null,
   "id": "307a6e3c",
   "metadata": {},
   "outputs": [],
   "source": [
    "# get leaderboard\n",
    "lb = get_leaderboard()\n",
    "lb"
   ]
  },
  {
   "cell_type": "code",
   "execution_count": null,
   "id": "f8a8b060",
   "metadata": {},
   "outputs": [],
   "source": [
    "# select the best model based on MAE\n",
    "lb.sort_values(by='MAE', ascending=True)['Model'].iloc[0]"
   ]
  },
  {
   "attachments": {},
   "cell_type": "markdown",
   "id": "9ecf0bfa",
   "metadata": {},
   "source": [
    "Some other parameters that you might find very useful in `get_leaderboard` are:\n",
    "\n",
    "- finalize_models\n",
    "- fit_kwargs\n",
    "- model_only\n",
    "- groups\n",
    "\n",
    "You can check the docstring of the function for more info."
   ]
  },
  {
   "cell_type": "code",
   "execution_count": null,
   "id": "dc76f0a5",
   "metadata": {},
   "outputs": [],
   "source": [
    "# help(get_leaderboard)"
   ]
  },
  {
   "attachments": {},
   "cell_type": "markdown",
   "id": "94669c72",
   "metadata": {},
   "source": [
    "## ✅ AutoML\n",
    "This function returns the best model out of all trained models in the current setup based on the optimize parameter. Metrics evaluated can be accessed using the `get_metrics` function."
   ]
  },
  {
   "cell_type": "code",
   "execution_count": null,
   "id": "01532054",
   "metadata": {},
   "outputs": [],
   "source": [
    "# find best model based on CV metrics\n",
    "automl()"
   ]
  },
  {
   "attachments": {},
   "cell_type": "markdown",
   "id": "726b2986",
   "metadata": {},
   "source": [
    "## ✅ Dashboard\n",
    "The dashboard function generates the interactive dashboard for a trained model. The dashboard is implemented using `ExplainerDashboard`. For more information check out [Explainer Dashboard.](explainerdashboard.readthedocs.io)"
   ]
  },
  {
   "cell_type": "code",
   "execution_count": null,
   "id": "ca75507d",
   "metadata": {},
   "outputs": [],
   "source": [
    "# dashboard function\n",
    "dashboard(dt, display_format ='inline')"
   ]
  },
  {
   "attachments": {},
   "cell_type": "markdown",
   "id": "58fd3e5a",
   "metadata": {},
   "source": [
    "## ✅Create App\n",
    "This function creates a basic gradio app for inference."
   ]
  },
  {
   "cell_type": "code",
   "execution_count": null,
   "id": "5cf989d3",
   "metadata": {},
   "outputs": [],
   "source": [
    "# create gradio app\n",
    "create_app(best)"
   ]
  },
  {
   "attachments": {},
   "cell_type": "markdown",
   "id": "a2d8e21d",
   "metadata": {},
   "source": [
    "## ✅ Create API\n",
    "This function takes an input model and creates a POST API for inference."
   ]
  },
  {
   "cell_type": "code",
   "execution_count": null,
   "id": "978413c9",
   "metadata": {},
   "outputs": [],
   "source": [
    "# create api\n",
    "create_api(best, api_name = 'my_first_api')"
   ]
  },
  {
   "cell_type": "code",
   "execution_count": null,
   "id": "68e539aa",
   "metadata": {},
   "outputs": [],
   "source": [
    "# !python my_first_api.py"
   ]
  },
  {
   "cell_type": "code",
   "execution_count": null,
   "id": "a3de3327",
   "metadata": {},
   "outputs": [],
   "source": [
    "# check out the .py file created with this magic command\n",
    "# %load my_first_api.py"
   ]
  },
  {
   "attachments": {},
   "cell_type": "markdown",
   "id": "1023f7df",
   "metadata": {},
   "source": [
    "## ✅ Create Docker\n",
    "This function creates a `Dockerfile` and `requirements.txt` for productionalizing API end-point."
   ]
  },
  {
   "cell_type": "code",
   "execution_count": null,
   "id": "452ced14",
   "metadata": {},
   "outputs": [],
   "source": [
    "create_docker('my_first_api')"
   ]
  },
  {
   "cell_type": "code",
   "execution_count": null,
   "id": "301e1fa5",
   "metadata": {},
   "outputs": [],
   "source": [
    "# check out the DockerFile file created with this magic command\n",
    "# %load DockerFile"
   ]
  },
  {
   "cell_type": "code",
   "execution_count": null,
   "id": "ca1e9ef7",
   "metadata": {},
   "outputs": [],
   "source": [
    "# check out the requirements file created with this magic command\n",
    "# %load requirements.txt"
   ]
  },
  {
   "attachments": {},
   "cell_type": "markdown",
   "id": "e27c212b",
   "metadata": {},
   "source": [
    "## ✅ Finalize Model\n",
    "This function trains a given model on the entire dataset including the hold-out set."
   ]
  },
  {
   "cell_type": "code",
   "execution_count": null,
   "id": "65225684",
   "metadata": {},
   "outputs": [],
   "source": [
    "final_best = finalize_model(best)"
   ]
  },
  {
   "cell_type": "code",
   "execution_count": null,
   "id": "80d17fec",
   "metadata": {},
   "outputs": [],
   "source": [
    "final_best"
   ]
  },
  {
   "attachments": {},
   "cell_type": "markdown",
   "id": "b4693f88",
   "metadata": {},
   "source": [
    "## ✅ Convert Model\n",
    "This function transpiles the trained machine learning model's decision function in different programming languages such as Python, C, Java, Go, C#, etc. It is very useful if you want to deploy models into environments where you can't install your normal Python stack to support model inference."
   ]
  },
  {
   "cell_type": "code",
   "execution_count": null,
   "id": "dbe0e9fe",
   "metadata": {},
   "outputs": [],
   "source": [
    "# transpiles learned function to java\n",
    "print(convert_model(dt, language = 'java'))"
   ]
  },
  {
   "attachments": {},
   "cell_type": "markdown",
   "id": "ed00202c",
   "metadata": {},
   "source": [
    "## ✅ Deploy Model\n",
    "This function deploys the entire ML pipeline on the cloud.\n",
    "\n",
    "**AWS:**  When deploying model on AWS S3, environment variables must be configured using the command-line interface. To configure AWS environment variables, type `aws configure` in terminal. The following information is required which can be generated using the Identity and Access Management (IAM) portal of your amazon console account:\n",
    "\n",
    "- AWS Access Key ID\n",
    "- AWS Secret Key Access\n",
    "- Default Region Name (can be seen under Global settings on your AWS console)\n",
    "- Default output format (must be left blank)\n",
    "\n",
    "**GCP:** To deploy a model on Google Cloud Platform ('gcp'), the project must be created using the command-line or GCP console. Once the project is created, you must create a service account and download the service account key as a JSON file to set environment variables in your local environment. Learn more about it: https://cloud.google.com/docs/authentication/production\n",
    "\n",
    "**Azure:** To deploy a model on Microsoft Azure ('azure'), environment variables for the connection string must be set in your local environment. Go to settings of storage account on Azure portal to access the connection string required.\n",
    "AZURE_STORAGE_CONNECTION_STRING (required as environment variable)\n",
    "Learn more about it: https://docs.microsoft.com/en-us/azure/storage/blobs/storage-quickstart-blobs-python?toc=%2Fpython%2Fazure%2FTOC.json"
   ]
  },
  {
   "cell_type": "code",
   "execution_count": null,
   "id": "40b20a18",
   "metadata": {},
   "outputs": [],
   "source": [
    "# deploy model on aws s3\n",
    "# deploy_model(best, model_name = 'my_first_platform_on_aws',\n",
    "#             platform = 'aws', authentication = {'bucket' : 'pycaret-test'})"
   ]
  },
  {
   "cell_type": "code",
   "execution_count": null,
   "id": "9e236516",
   "metadata": {},
   "outputs": [],
   "source": [
    "# load model from aws s3\n",
    "# loaded_from_aws = load_model(model_name = 'my_first_platform_on_aws', platform = 'aws',\n",
    "#                              authentication = {'bucket' : 'pycaret-test'})\n",
    "\n",
    "# loaded_from_aws"
   ]
  },
  {
   "attachments": {},
   "cell_type": "markdown",
   "id": "e169ae86",
   "metadata": {},
   "source": [
    "## ✅ Save / Load Model\n",
    "This function saves the transformation pipeline and a trained model object into the current working directory as a pickle file for later use."
   ]
  },
  {
   "cell_type": "code",
   "execution_count": null,
   "id": "bc5cf24a",
   "metadata": {},
   "outputs": [],
   "source": [
    "# save model\n",
    "save_model(best, 'my_first_model')"
   ]
  },
  {
   "cell_type": "code",
   "execution_count": null,
   "id": "e8478d34",
   "metadata": {},
   "outputs": [],
   "source": [
    "# load model\n",
    "loaded_from_disk = load_model('my_first_model')\n",
    "loaded_from_disk"
   ]
  },
  {
   "attachments": {},
   "cell_type": "markdown",
   "id": "de5eee8c",
   "metadata": {},
   "source": [
    "## ✅ Save / Load Experiment\n",
    "This function saves all the experiment variables on disk, allowing to later resume without rerunning the setup function."
   ]
  },
  {
   "cell_type": "code",
   "execution_count": null,
   "id": "6a3c61b6",
   "metadata": {},
   "outputs": [],
   "source": [
    "# save experiment\n",
    "save_experiment('my_experiment')"
   ]
  },
  {
   "cell_type": "code",
   "execution_count": null,
   "id": "83252c09",
   "metadata": {},
   "outputs": [],
   "source": [
    "# load experiment from disk\n",
    "exp_from_disk = load_experiment('my_experiment', data=data)"
   ]
  },
  {
   "cell_type": "code",
   "execution_count": null,
   "id": "154571c1",
   "metadata": {},
   "outputs": [],
   "source": []
  }
 ],
 "metadata": {
  "kernelspec": {
   "display_name": ".venv_pycaret",
   "language": "python",
   "name": "python3"
  },
  "language_info": {
   "codemirror_mode": {
    "name": "ipython",
    "version": 3
   },
   "file_extension": ".py",
   "mimetype": "text/x-python",
   "name": "python",
   "nbconvert_exporter": "python",
   "pygments_lexer": "ipython3",
   "version": "3.11.0"
  }
 },
 "nbformat": 4,
 "nbformat_minor": 5
}
