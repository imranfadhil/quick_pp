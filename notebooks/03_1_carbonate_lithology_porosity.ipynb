{
 "cells": [
  {
   "cell_type": "markdown",
   "metadata": {},
   "source": [
    "# quick_pp"
   ]
  },
  {
   "cell_type": "code",
   "execution_count": 1,
   "metadata": {},
   "outputs": [],
   "source": [
    "import sys\n",
    "sys.path.append('..')\n",
    "%load_ext autoreload\n",
    "%autoreload 2\n",
    "%matplotlib inline"
   ]
  },
  {
   "cell_type": "code",
   "execution_count": null,
   "metadata": {},
   "outputs": [],
   "source": [
    "from quick_pp.objects import Project\n",
    "\n",
    "# Load well from saved file\n",
    "project = \"MOCK_carbonate\"\n",
    "project_path = rf\"data\\04_project\\{project}.qppp\"\n",
    "project = Project().load(project_path)\n",
    "project.get_well_names()"
   ]
  },
  {
   "cell_type": "code",
   "execution_count": null,
   "metadata": {},
   "outputs": [],
   "source": [
    "# Load data\n",
    "well_name = 'HW-26'\n",
    "well = project.get_well(well_name)\n",
    "well_data = well.data.copy()\n",
    "well_data['CPORE'] = well_data['CORE_POR'] / 100\n",
    "well_data['CPERM'] = well_data['CORE_PERM']\n",
    "# well_data.dropna(subset=['NPHI', 'RHOB', 'RT', 'GR'], inplace=True)"
   ]
  },
  {
   "cell_type": "markdown",
   "metadata": {},
   "source": [
    "# Lithology Estimation"
   ]
  },
  {
   "cell_type": "markdown",
   "metadata": {},
   "source": [
    "Lithology refers to the physical characteristics of a rock or rock formation, including its mineral composition, grain size, texture, and color. It’s a fundamental concept in petrophysics and geology, as it helps in understanding the reservoir properties and behavior of subsurface formations.\n",
    "\n",
    "Evaluating carbonate reservoirs presents unique challenges compared to siliciclastic reservoirs (like sandstones). Here are some key difficulties:\n",
    "\n",
    "- Heterogeneity: \n",
    "    - Carbonate rocks are highly heterogeneous due to their complex depositional environments and diagenetic processes. This variability can make it difficult to predict reservoir quality and performance.\n",
    "\n",
    "- Porosity Types: \n",
    "    - Carbonates exhibit various porosity types, including interparticle, intraparticle, vuggy, and fracture porosity. Each type affects fluid flow differently, complicating the interpretation of petrophysical data.\n",
    "\n",
    "- Diagenesis: \n",
    "    - Post-depositional changes, such as dissolution, recrystallization, and cementation, can significantly alter the original rock properties. These diagenetic processes can enhance or reduce porosity and permeability, adding another layer of complexity to reservoir evaluation.\n",
    "\n",
    "- Log Interpretation: \n",
    "    - Standard logging tools and techniques often struggle to accurately characterize carbonate reservoirs. For instance, the presence of vugs and fractures can lead to misleading porosity readings on conventional logs.\n",
    "\n",
    "- Fluid Distribution: \n",
    "    - Carbonates can have complex fluid distributions due to their pore structure. This can make it challenging to differentiate between hydrocarbons and water, impacting reserve estimates and production strategies.\n",
    "\n",
    "Addressing these challenges requires a combination of advanced logging techniques, detailed core analysis, and sophisticated modeling approaches. Continuous advancements in technology and methodologies are helping petrophysicists better understand and manage carbonate reservoirs."
   ]
  },
  {
   "cell_type": "markdown",
   "metadata": {},
   "source": [
    "The `quick_pp.lithology.carbonate` module is designed to estimate lithology in carbonate reservoirs. The module uses techniques like neutron-density cross plots and hydrocarbon correction to provide lithology estimates. Key functionalities include:\n",
    "\n",
    "- Estimating lithology components (calcite, dolomite, clay) using neutron and density logs.\n",
    "- Handling hydrocarbon effects on porosity and density measurements.\n",
    "- Providing customizable parameters for different carbonate types and models.\n",
    "- Integrating with other quick_pp modules for comprehensive petrophysical analysis."
   ]
  },
  {
   "cell_type": "code",
   "execution_count": 4,
   "metadata": {},
   "outputs": [],
   "source": [
    "import matplotlib.pyplot as plt\n",
    "\n",
    "from quick_pp.lithology.carbonate import Carbonate\n",
    "from quick_pp.porosity import neu_den_xplot_poro, density_porosity, rho_matrix, normalize_volumetric\n",
    "from quick_pp.qaqc import badhole_flagging, handle_outer_limit, neu_den_xplot_hc_correction\n",
    "from quick_pp.plotter.plotter import plotly_log, neutron_density_xplot\n",
    "from quick_pp.rock_type import estimate_vsh_gr"
   ]
  },
  {
   "cell_type": "code",
   "execution_count": null,
   "metadata": {},
   "outputs": [],
   "source": [
    "carbonate_type =  'limestone'  # 'dolostone'  #\n",
    "model = 'single'  # 'double'  #\n",
    "method = 'neu_den'  # 'pef_den'  #\n",
    "\n",
    "# Clean up data\n",
    "well_data = badhole_flagging(well_data)\n",
    "# well_data = handle_outer_limit(well_data, fill=True)\n",
    "\n",
    "# Initialize lithology model\n",
    "args = {\n",
    "    'litho_model': 'carb',\n",
    "    'dry_calc_point': (.0, 2.71),\n",
    "    # 'dry_dolo_point': (.0, 2.81),\n",
    "    'dry_clay_point': (.3, 2.7),\n",
    "    'fluid_point': (1.0, 1.0),\n",
    "    'hc_corr_angle': 30,\n",
    "    'hc_buffer': 0.01,\n",
    "}\n",
    "carb_model = Carbonate(**args)\n",
    "_, _, _ = carb_model.estimate_lithology(\n",
    "    well_data['NPHI'], well_data['RHOB'],\n",
    "    model=model, method=method, carbonate_type=carbonate_type\n",
    ")\n",
    "args.update(carb_model.__dict__)\n",
    "well.update_config(args)\n",
    "\n",
    "# Choose to skip HC correction or not\n",
    "skip_hc_correction = False\n",
    "if skip_hc_correction is True:\n",
    "    nphihc, rhobhc = well_data['NPHI'], well_data['RHOB']\n",
    "else:\n",
    "    # Implement hydrocarbon correction\n",
    "    nphihc, rhobhc, hc_flag = neu_den_xplot_hc_correction(\n",
    "        well_data['NPHI'], well_data['RHOB'],\n",
    "        dry_min1_point=args['dry_calc_point'],\n",
    "        dry_clay_point=args['dry_clay_point'],\n",
    "        corr_angle=args['hc_corr_angle'], buffer=args['hc_buffer']\n",
    "    )\n",
    "\n",
    "    # Estimate lithology\n",
    "    carb_model = Carbonate(**args)\n",
    "    vclw_un, vcalc_un, vdolo_un = carb_model.estimate_lithology(\n",
    "        nphihc, rhobhc, model=model, method=method, carbonate_type=carbonate_type\n",
    "    )"
   ]
  },
  {
   "cell_type": "code",
   "execution_count": null,
   "metadata": {},
   "outputs": [],
   "source": [
    "neutron_density_xplot(well_data['NPHI'], well_data['RHOB'], dry_min1_point=args['dry_calc_point'], **args)"
   ]
  },
  {
   "cell_type": "code",
   "execution_count": null,
   "metadata": {},
   "outputs": [],
   "source": [
    "neutron_density_xplot(nphihc, rhobhc, dry_min1_point=args['dry_calc_point'], **args)"
   ]
  },
  {
   "cell_type": "markdown",
   "metadata": {},
   "source": [
    "# Porosity Estimation"
   ]
  },
  {
   "cell_type": "markdown",
   "metadata": {},
   "source": [
    "**Porosity** is a measure of the void spaces (pores) within a rock or sediment, expressed as a percentage of the total volume. It indicates how much of the rock is made up of these empty spaces, which can store fluids like oil, gas, or water. Porosity is crucial in the oil and gas industry because it helps determine the storage capacity of a reservoir.\n",
    "\n",
    "Here are the main types of porosity defined in the oil and gas industry:\n",
    "\n",
    "1. **Total Porosity**: This includes all the void spaces within the rock, regardless of whether they are interconnected or isolated. It represents the maximum potential storage capacity¹(https://www.petrosync.com/blog/what-is-porosity/).\n",
    "\n",
    "2. **Effective Porosity**: This refers to the interconnected pore spaces that contribute to fluid flow. It is a more practical measure for reservoir engineers because it indicates the volume of voids that can actually store and transmit fluids²(https://wiki.aapg.org/Porosity).\n",
    "\n",
    "3. **Primary Porosity**: Also known as depositional porosity, this is the original porosity of the rock formed during its deposition. It includes spaces between grains or crystals²(https://wiki.aapg.org/Porosity).\n",
    "\n",
    "4. **Secondary Porosity**: This type of porosity develops after the rock has formed, usually due to processes like dissolution, fracturing, or recrystallization. It can significantly enhance the storage and flow capacity of a reservoir²(https://wiki.aapg.org/Porosity).\n",
    "\n",
    "5. **Vuggy Porosity**: Characterized by large, irregular voids or cavities (vugs) formed by dissolution processes. These can greatly enhance fluid storage and flow but can also complicate reservoir characterization¹(https://www.petrosync.com/blog/what-is-porosity/).\n",
    "\n",
    "6. **Fracture Porosity**: Created by natural fractures or cracks in the rock. While often a small percentage of the total porosity, fractures can provide significant pathways for fluid flow, especially in low-permeability rocks²(https://wiki.aapg.org/Porosity).\n",
    "\n",
    "7. **Intergranular Porosity**: Found between the grains of sedimentary rocks like sandstones. It is typically the primary porosity in these rocks²(https://wiki.aapg.org/Porosity).\n",
    "\n",
    "8. **Intragranular Porosity**: Occurs within the grains themselves, often in carbonate rocks. This type of porosity can be significant in certain reservoir rocks²(https://wiki.aapg.org/Porosity).\n",
    "\n",
    "9. **Microporosity**: Consists of very small pores, often found in fine-grained rocks. While these pores can store fluids, their small size can limit fluid flow²(https://wiki.aapg.org/Porosity).\n",
    "\n",
    "Understanding these different types of porosity helps geologists and engineers better evaluate and manage hydrocarbon reservoirs, ensuring efficient extraction and production.\n",
    "\n",
    "Estimating porosity in carbonate formations is challenging due to complex pore structures, heterogeneity, diagenetic processes and limited core data.\n",
    "\n",
    "These factors collectively make porosity estimation in carbonate formations a complex and nuanced task, requiring a combination of advanced techniques and a deep understanding of the geological context.\n",
    "\n",
    "(1) What Is Porosity? Methods & Calculation Explained - PetroSync Blog. https://www.petrosync.com/blog/what-is-porosity/.\n",
    "\n",
    "(2) Porosity - AAPG Wiki. https://wiki.aapg.org/Porosity."
   ]
  },
  {
   "cell_type": "markdown",
   "metadata": {},
   "source": [
    "The `quick_pp.porosity` module provides tools for estimating porosity in subsurface formations. It includes methods for calculating porosity using neutron-density cross plots and density porosity equations. The module also supports the integration of additional data, such as compressional sonic logs, to estimate secondary porosity.\n",
    "\n",
    "With additional compressionl sonic data, secondary porosity can be estimated,\n",
    "> secondary porosity = total porosity - sonic porosity"
   ]
  },
  {
   "cell_type": "code",
   "execution_count": null,
   "metadata": {},
   "outputs": [],
   "source": [
    "from sklearn.metrics import mean_absolute_percentage_error, r2_score\n",
    "import numpy as np\n",
    "\n",
    "# Estimate porosity\n",
    "phit = neu_den_xplot_poro(\n",
    "    nphihc, rhobhc, model='carb',\n",
    "    dry_min1_point=args['dry_calc_point'],\n",
    "    dry_clay_point=args['dry_clay_point'],\n",
    ")\n",
    "\n",
    "# PHID needs unnormalized lithology\n",
    "rho_ma = rho_matrix(vclay=vclw_un, vcalc=vcalc_un, vdolo=vdolo_un)\n",
    "phid = density_porosity(rhobhc, rho_ma)\n",
    "\n",
    "# Fill missing values in phit with phid\n",
    "phit = np.where(np.isnan(phit), phid, phit)\n",
    "\n",
    "# Normalize lithology\n",
    "volumes = dict(\n",
    "    vclay=vclw_un, vcalc=vcalc_un, vdolo=vdolo_un\n",
    ")\n",
    "volumes = normalize_volumetric(phit, **volumes)\n",
    "vclay, vcalc, vdolo = volumes['vclay'], volumes['vcalc'], volumes['vdolo']\n",
    "\n",
    "plt.figure(figsize=(20, 2))\n",
    "plt.plot(well_data.DEPTH, phit, label='PHIT')\n",
    "plt.plot(well_data.DEPTH, phid, label='PHID')\n",
    "plt.scatter(well_data.DEPTH, well_data.CPORE, label='CPORE' , marker='.', color='black')\n",
    "\n",
    "plt.legend()\n",
    "\n",
    "score_df = well_data[['DEPTH', 'CPORE']].copy()\n",
    "score_df['PHIT'] = phit\n",
    "score_df.dropna(inplace=True)\n",
    "print(f\"\\n ### PHIT MAPE: {mean_absolute_percentage_error(score_df.CPORE, score_df.PHIT):.2f}\")\n",
    "print(f\" ### PHIT R2: {r2_score(score_df.CPORE, score_df.PHIT):.2f}\")"
   ]
  },
  {
   "cell_type": "markdown",
   "metadata": {},
   "source": [
    "# Plotting the result"
   ]
  },
  {
   "cell_type": "code",
   "execution_count": null,
   "metadata": {},
   "outputs": [],
   "source": [
    "well_data['NPHI_HC'] = nphihc\n",
    "well_data['RHOB_HC'] = rhobhc\n",
    "well_data['VCALC'] = vcalc\n",
    "well_data['VDOLO'] = vdolo\n",
    "well_data['VCLAY'] = well_data['VSHALE'] =vclay\n",
    "well_data['PHIT'] = phit\n",
    "well_data['PHID'] = phid\n",
    "\n",
    "# Plot the results\n",
    "well_data.drop(columns=['VOIL', 'VGAS'], errors='ignore', inplace=True)\n",
    "fig = plotly_log(well_data, depth_uom=well.depth_uom)\n",
    "fig.show(config=dict(scrollZoom=True))\n",
    "# fig.write_html(rf\"{well_name}_log.html\", config=dict(scrollZoom=True))"
   ]
  },
  {
   "cell_type": "code",
   "execution_count": null,
   "metadata": {},
   "outputs": [],
   "source": [
    "# Save the well data\n",
    "project.update_data(well_data)\n",
    "project.save()"
   ]
  }
 ],
 "metadata": {
  "kernelspec": {
   "display_name": "venv311",
   "language": "python",
   "name": "python3"
  },
  "language_info": {
   "codemirror_mode": {
    "name": "ipython",
    "version": 3
   },
   "file_extension": ".py",
   "mimetype": "text/x-python",
   "name": "python",
   "nbconvert_exporter": "python",
   "pygments_lexer": "ipython3",
   "version": "3.11.0"
  }
 },
 "nbformat": 4,
 "nbformat_minor": 2
}
