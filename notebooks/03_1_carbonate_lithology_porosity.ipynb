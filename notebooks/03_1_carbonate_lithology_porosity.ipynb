{
 "cells": [
  {
   "cell_type": "code",
   "execution_count": 1,
   "metadata": {},
   "outputs": [],
   "source": [
    "import sys\n",
    "sys.path.append('..')\n",
    "%load_ext autoreload\n",
    "%autoreload 2\n",
    "%matplotlib inline"
   ]
  },
  {
   "cell_type": "code",
   "execution_count": null,
   "metadata": {},
   "outputs": [],
   "source": [
    "from quick_pp.objects import Project\n",
    "\n",
    "# Load well from saved file\n",
    "project = \"MOCK_carbonate\"\n",
    "project_path = rf\"data\\04_project\\{project}.qppp\"\n",
    "project = Project().load(project_path)\n",
    "project.get_well_names()"
   ]
  },
  {
   "cell_type": "code",
   "execution_count": 21,
   "metadata": {},
   "outputs": [],
   "source": [
    "# Load data\n",
    "well_name = 'HW-29'\n",
    "well = project.get_well(well_name)\n",
    "well_data = well.data.copy()\n",
    "well_data['CPORE'] = well_data['CORE_POR'] / 100\n",
    "well_data['CPERM'] = well_data['CORE_PERM']\n",
    "well_data.dropna(subset=['NPHI', 'RHOB', 'RT', 'GR'], inplace=True)"
   ]
  },
  {
   "cell_type": "markdown",
   "metadata": {},
   "source": [
    "# Quick PP Interpretation"
   ]
  },
  {
   "cell_type": "code",
   "execution_count": 22,
   "metadata": {},
   "outputs": [],
   "source": [
    "from quick_pp.lithology.carbonate import Carbonate\n",
    "from quick_pp.porosity import neu_den_xplot_poro, density_porosity, rho_matrix\n",
    "from quick_pp.qaqc import badhole_flagging, mask_outside_threshold, neu_den_xplot_hc_correction\n",
    "from quick_pp.saturation import *\n",
    "from quick_pp.plotter import *\n",
    "from quick_pp.permeability import *\n",
    "from quick_pp.ressum import *\n",
    "from quick_pp.rock_type import rock_typing, estimate_vsh_gr\n",
    "from quick_pp.plotter import plotly_log\n",
    "from quick_pp.utils import zone_flagging, min_max_line"
   ]
  },
  {
   "cell_type": "markdown",
   "metadata": {},
   "source": [
    "## Estimate Litholoy"
   ]
  },
  {
   "cell_type": "code",
   "execution_count": 23,
   "metadata": {},
   "outputs": [],
   "source": [
    "carbonate_type =  'limestone'  # 'dolostone'  #\n",
    "model = 'single'  # 'double'  #\n",
    "method = 'neu_den'  # 'pef_den'  #\n",
    "\n",
    "# Clean up data\n",
    "well_data = badhole_flagging(well_data)\n",
    "# well_data = mask_outside_threshold(well_data, fill=True)\n",
    "\n",
    "# Initialize lithology model\n",
    "args = {\n",
    "    'litho_model': 'carb',\n",
    "    'dry_calc_point': (.0, 2.71),\n",
    "    # 'dry_dolo_point': (.0, 2.81),\n",
    "    'dry_clay_point': (.3, 2.7),\n",
    "    'silt_line_angle': 116,\n",
    "    'wet_clay_point': (0.43, 2.6),\n",
    "    'sw_water_salinity': 5000,\n",
    "    'sw_m': 1.8,\n",
    "    'sw_n': 2,\n",
    "    'hc_corr_angle': 50,\n",
    "    'hc_buffer': 0.1,\n",
    "    'ressum_cutoffs': dict(\n",
    "        VSHALE=.5,\n",
    "        PHIT=0,\n",
    "        SWT=1\n",
    "    ),\n",
    "}\n",
    "vsh_gr = estimate_vsh_gr(well_data['GR'], min_gr=0, max_gr=150)\n",
    "carb_model = Carbonate(**args)\n",
    "vclw, vcalc, vdolo = carb_model.estimate_lithology(\n",
    "    well_data['NPHI'], well_data['RHOB'], gr=well_data['GR'], vsh_gr=vsh_gr,  # pef=well_data['PEF'],\n",
    "    model=model, method=method, normalize= True, carbonate_type=carbonate_type\n",
    ")\n",
    "args.update(carb_model.__dict__)\n",
    "well.update_config(args)  # Save lithology model to well\n",
    "\n",
    "# # Implement hydrocarbon correction\n",
    "# nphihc, rhobhc, hc_flag = neu_den_xplot_hc_correction(\n",
    "#     well_data['NPHI'], well_data['RHOB'], gr=well_data['GR'], vsh_gr=vsh_gr,\n",
    "#     dry_min1_point=args['dry_calc_point'],\n",
    "#     dry_clay_point=args['dry_clay_point'],\n",
    "#     corr_angle=args['hc_corr_angle'], buffer=args['hc_buffer']\n",
    "# )\n",
    "\n",
    "# # Estimate lithology\n",
    "# carb_model = Carbonate(**args)\n",
    "# vclw, vcalc, vdolo = carb_model.estimate_lithology(\n",
    "#     nphihc, rhobhc,  gr=well_data['GR'], vsh_gr=vsh_gr,  # pef=well_data['PEF'], \n",
    "#     model=model, method=method, normalize= True, carbonate_type=carbonate_type\n",
    "# )\n",
    "\n",
    "# Skip HC correction\n",
    "nphihc, rhobhc = well_data['NPHI'], well_data['RHOB']\n",
    "\n",
    "# Update ZONES\n",
    "well_data = zone_flagging(well_data)\n",
    "zones = well_data.ZONES"
   ]
  },
  {
   "cell_type": "code",
   "execution_count": null,
   "metadata": {},
   "outputs": [],
   "source": [
    "neutron_density_xplot(well_data['NPHI'], well_data['RHOB'], dry_min1_point=args['dry_calc_point'], **args)"
   ]
  },
  {
   "cell_type": "code",
   "execution_count": 25,
   "metadata": {},
   "outputs": [],
   "source": [
    "# neutron_density_xplot(nphihc, rhobhc, dry_min1_point=args['dry_calc_point'], **args)"
   ]
  },
  {
   "cell_type": "code",
   "execution_count": null,
   "metadata": {},
   "outputs": [],
   "source": [
    "from quick_pp.rock_type import estimate_vsh_gr\n",
    "\n",
    "vsh_gr1 = estimate_vsh_gr(well_data['GR'], alpha=0.1)\n",
    "vsh_gr2 = estimate_vsh_gr(well_data['GR'], min_gr=0, max_gr=150)\n",
    "\n",
    "fig, axs = plt.subplots(2, 1, figsize=(20, 3), sharex=True)\n",
    "\n",
    "axs[0].plot(well_data.DEPTH, vsh_gr1, label='vsh_gr1')\n",
    "axs[0].plot(well_data.DEPTH, vsh_gr2, label='vsh_gr2')\n",
    "axs[0].set_ylim(0, 1)\n",
    "axs[0].legend()\n",
    "\n",
    "axs[1].plot(well_data.DEPTH, well_data['GR'], label='GR')\n",
    "axs[1].legend()"
   ]
  },
  {
   "cell_type": "code",
   "execution_count": 27,
   "metadata": {},
   "outputs": [],
   "source": [
    "# Specify depth of interest\n",
    "min_depth = well_data.DEPTH.min()\n",
    "max_depth = well_data.DEPTH.max()"
   ]
  },
  {
   "cell_type": "markdown",
   "metadata": {},
   "source": [
    "## Estimate Porosity"
   ]
  },
  {
   "cell_type": "code",
   "execution_count": null,
   "metadata": {},
   "outputs": [],
   "source": [
    "# Estimate porosity\n",
    "phit = neu_den_xplot_poro(\n",
    "    nphihc, rhobhc, model='carb',\n",
    "    dry_min1_point=args['dry_calc_point'],\n",
    "    dry_clay_point=args['dry_clay_point'],\n",
    ")\n",
    "\n",
    "# PHID needs unnormalized lithology\n",
    "vclw_un, vcalc_un, vdolo_un = Carbonate(**args).estimate_lithology(\n",
    "    nphihc, rhobhc, gr=well_data['GR'], vsh_gr=vsh_gr,  # pef=well_data['PEF'],\n",
    "    model=model, method=method, normalize= False, carbonate_type=carbonate_type\n",
    ")\n",
    "rho_ma = rho_matrix(vclay=vclw_un, vcalc=vcalc_un, vdolo=vdolo_un)\n",
    "phid = density_porosity(rhobhc, rho_ma)\n",
    "\n",
    "plt.figure(figsize=(20, 2))\n",
    "plt.plot(phit, label='PHIT')\n",
    "plt.plot(phid, label='PHID')\n",
    "plt.legend()"
   ]
  },
  {
   "cell_type": "markdown",
   "metadata": {},
   "source": [
    "## Update Data"
   ]
  },
  {
   "cell_type": "code",
   "execution_count": 31,
   "metadata": {},
   "outputs": [],
   "source": [
    "# Update data in the project\n",
    "well_data['NPHI_HC'] = nphihc\n",
    "well_data['RHOB_HC'] = rhobhc\n",
    "well_data['VCALC'] = vcalc\n",
    "well_data['VDOLO'] = vdolo\n",
    "well_data['VCLW'] = vclw\n",
    "well_data['PHIT'] = phit\n",
    "well_data['PHID'] = phid"
   ]
  },
  {
   "cell_type": "code",
   "execution_count": null,
   "metadata": {},
   "outputs": [],
   "source": [
    "# Plot the results\n",
    "well_data.drop(columns=['VOIL', 'VGAS'], errors='ignore', inplace=True)\n",
    "fig = plotly_log(well_data, depth_uom=well.depth_uom)\n",
    "fig.show(config=dict(scrollZoom=True))\n",
    "# fig.write_html(rf\"{well_name}_log.html\", config=dict(scrollZoom=True))"
   ]
  }
 ],
 "metadata": {
  "kernelspec": {
   "display_name": "venv310",
   "language": "python",
   "name": "python3"
  },
  "language_info": {
   "codemirror_mode": {
    "name": "ipython",
    "version": 3
   },
   "file_extension": ".py",
   "mimetype": "text/x-python",
   "name": "python",
   "nbconvert_exporter": "python",
   "pygments_lexer": "ipython3",
   "version": "3.10.9"
  }
 },
 "nbformat": 4,
 "nbformat_minor": 2
}
