{
 "cells": [
  {
   "cell_type": "code",
   "execution_count": null,
   "metadata": {},
   "outputs": [],
   "source": [
    "import sys\n",
    "sys.path.append('..')\n",
    "%load_ext autoreload\n",
    "%autoreload 2\n",
    "%matplotlib inline"
   ]
  },
  {
   "cell_type": "code",
   "execution_count": null,
   "metadata": {},
   "outputs": [],
   "source": [
    "from IPython.display import clear_output\n",
    "from tkinter import Tk, filedialog\n",
    "import matplotlib.pyplot as plt\n",
    "import pandas as pd\n",
    "import numpy as np\n",
    "\n",
    "from quick_pp.objects import Project\n",
    "import quick_pp.las_handler as las\n",
    "from quick_pp.core_calibration import fit_poroperm_curve, poroperm_xplot\n",
    "from quick_pp.rock_type import rock_typing, rqi, fzi, vsh_gr\n",
    "from quick_pp.plotter import plotly_log"
   ]
  },
  {
   "cell_type": "markdown",
   "metadata": {},
   "source": [
    "## Load and merge well data and core data"
   ]
  },
  {
   "cell_type": "code",
   "execution_count": null,
   "metadata": {},
   "outputs": [],
   "source": [
    "# Load well from saved file\n",
    "project = \"M3\"\n",
    "project_path = rf\"data\\04_project\\{project}.qppp\"\n",
    "project = Project().load(project_path)\n",
    "project.get_well_names()"
   ]
  },
  {
   "cell_type": "code",
   "execution_count": null,
   "metadata": {},
   "outputs": [],
   "source": [
    "col_rename = {\n",
    "    'NEUT': 'NPHI',\n",
    "    'NEUTHC': 'NPHI_HC',\n",
    "    'DENB': 'RHOB',\n",
    "    'DENBHC': 'RHOB_HC',\n",
    "}"
   ]
  },
  {
   "cell_type": "code",
   "execution_count": null,
   "metadata": {},
   "outputs": [],
   "source": [
    "# Load data\n",
    "well_name = 'M03-2'  # 'M01-3'\n",
    "well = project.get_well(well_name)\n",
    "well_data = well.data\n",
    "well_data = well_data.rename(columns=col_rename)\n",
    "\n",
    "min_depth = well_data.DEPTH.min()\n",
    "max_depth = well_data.DEPTH.max()\n",
    "well_data = well_data[(well_data.DEPTH >= min_depth) & (well_data.DEPTH <= max_depth)].copy()"
   ]
  },
  {
   "cell_type": "code",
   "execution_count": null,
   "metadata": {},
   "outputs": [],
   "source": [
    "core_df = pd.read_csv(r\"C:\\Users\\imran\\OneDrive\\Desktop\\Petrophysics\\Data\\Core\\M1_M3_RAW_SCAL.csv\")\n",
    "core_df = core_df[core_df.WELL_NAME == well_name].sort_values('DEPTH')"
   ]
  },
  {
   "cell_type": "code",
   "execution_count": null,
   "metadata": {},
   "outputs": [],
   "source": [
    "well_data = pd.merge_asof(well_data, core_df[['DEPTH', 'CPORE', 'CPERM']], on='DEPTH',\n",
    "                          direction='nearest', tolerance=1)"
   ]
  },
  {
   "cell_type": "markdown",
   "metadata": {},
   "source": [
    "## Rock Typing"
   ]
  },
  {
   "cell_type": "code",
   "execution_count": null,
   "metadata": {},
   "outputs": [],
   "source": [
    "a, b = fit_poroperm_curve(core_df['CPORE'], core_df['CPERM'])\n",
    "for i, data in core_df.groupby('SAMPLE_NO'):\n",
    "    poroperm_xplot(data['CPORE'], data['CPERM'], a, b, label=f'RT {i} - a: {a}, b: {b}')"
   ]
  },
  {
   "cell_type": "code",
   "execution_count": null,
   "metadata": {},
   "outputs": [],
   "source": [
    "core_df['RQI'] = rqi(core_df['CPERM'], core_df['CPORE'])\n",
    "core_df['FZI'] = fzi(core_df['CPERM'], core_df['CPORE'])\n",
    "\n",
    "for rt, data in core_df.groupby('FZI'):\n",
    "    a, b = fit_poroperm_curve(data['CPORE'], data['CPERM'])\n",
    "    poroperm_xplot(data['CPORE'], data['CPERM'], a, b, log_log=True,\n",
    "                   label=f'RT {rt} - a: {a}, b: {b}')\n"
   ]
  },
  {
   "cell_type": "code",
   "execution_count": null,
   "metadata": {},
   "outputs": [],
   "source": [
    "poroperm_constants = {\n",
    "    17: {'a': 1.5e3, 'b': 2.8},\n",
    "    48: {'a': 3.5e3, 'b': 2.8},\n",
    "    139: {'a': 3.3e1, 'b': 2.8},\n",
    "    166: {'a': 9e2, 'b': 2.8},\n",
    "    238: {'a': 7.5e2, 'b': 2.8},\n",
    "    240: {'a': 1.5e1, 'b': 2.8},\n",
    "    245: {'a': 5.5e1, 'b': 2.8}\n",
    "}\n",
    "for i, rt_data in core_df.groupby('SAMPLE_NO'):\n",
    "    a = poroperm_constants[i]['a']\n",
    "    b = poroperm_constants[i]['b']    \n",
    "    poroperm_xplot(rt_data['CPORE'], rt_data['CPERM'], a, b, log_log=True,\n",
    "                   label=f'SAMPLE #{i} - a: {a}, b: {b}')"
   ]
  },
  {
   "cell_type": "code",
   "execution_count": null,
   "metadata": {},
   "outputs": [],
   "source": [
    "well_data['FZI'] = fzi(well_data['PERM'], well_data['PHIT'])\n",
    "well_data['ROCK_FLAG'] = rock_typing(well_data['FZI'], [.5, 1.3, 1.7], higher_is_better=True)\n",
    "fig = plotly_log(well_data)\n",
    "fig.show(config=dict(scrollZoom=True))\n",
    "# fig.write_html(rf\"{well_name}_log.html\", config=dict(scrollZoom=True))"
   ]
  },
  {
   "cell_type": "code",
   "execution_count": null,
   "metadata": {},
   "outputs": [],
   "source": [
    "core_df = pd.merge_asof(core_df, well_data[['DEPTH', 'ROCK_FLAG']], on='DEPTH', direction='nearest')"
   ]
  },
  {
   "cell_type": "markdown",
   "metadata": {},
   "source": [
    "## PORO-PERM"
   ]
  },
  {
   "cell_type": "code",
   "execution_count": null,
   "metadata": {},
   "outputs": [],
   "source": [
    "poroperm_constants = {}\n",
    "for rt, rt_data in core_df.groupby('ROCK_FLAG'):\n",
    "    a, b = fit_poroperm_curve(rt_data['CPORE'], rt_data['CPERM'])\n",
    "    poroperm_constants[rt] = {'a': a, 'b': b}\n",
    "    poroperm_xplot(rt_data['CPORE'], rt_data['CPERM'], a, b, label=f'RT {rt} - a: {a}, b: {b}')\n",
    "    # plt.show()\n"
   ]
  },
  {
   "cell_type": "code",
   "execution_count": null,
   "metadata": {},
   "outputs": [],
   "source": [
    "poroperm_constants"
   ]
  },
  {
   "cell_type": "code",
   "execution_count": null,
   "metadata": {},
   "outputs": [],
   "source": [
    "from quick_pp.core_calibration import fit_poroperm_curve, poroperm_xplot\n",
    "\n",
    "poroperm_constants = {\n",
    "    1.0: {'a': 624556, 'b': 4.325},\n",
    "    2.0: {'a': 100029, 'b': 3.832},\n",
    "    3.0: {'a': 131015, 'b': 4.666},\n",
    "    4.0: {'a': 26971, 'b': 4.308}\n",
    "}\n",
    "for rt, rt_data in df.groupby('ROCK_FLAG'):\n",
    "    a = poroperm_constants[rt]['a']\n",
    "    b = poroperm_constants[rt]['b']    \n",
    "    poroperm_xplot(rt_data['CPORE'], rt_data['CPERM'], a, b, label=f'RT {rt} - a: {a}, b: {b}')\n",
    "    # plt.show()\n"
   ]
  },
  {
   "cell_type": "code",
   "execution_count": null,
   "metadata": {},
   "outputs": [],
   "source": [
    "from quick_pp.core_calibration import fit_j_curve, j_xplot\n",
    "\n",
    "well_name = 'BA-H010'\n",
    "well_df = df[df['WELL_NAME'] == well_name]\n",
    "well_df.dropna(axis=1, how='all', inplace=True)\n",
    "\n",
    "j_constants = {}\n",
    "for rt, well_data in well_df.groupby('RT_V2_2023'):\n",
    "    temp_df = pd.DataFrame()\n",
    "    for i, data in well_data.iterrows():\n",
    "        t_df = data[[c for c in well_data.columns if 'SW[' in c]].reset_index(drop=True).T.reset_index(name='SW')\n",
    "        # t_df = pd.concat([t_df, data[[c for c in well_data.columns if 'PC' in c]].reset_index(drop=True).T.reset_index(name='PC')], axis=1)\n",
    "        # t_df = pd.concat([t_df, data[[c for c in well_data.columns if 'SWN' in c]].reset_index(drop=True).T.reset_index(name='SWN')], axis=1)\n",
    "        t_df = pd.concat([t_df, data[[c for c in well_data.columns if 'J' in c]].reset_index(drop=True).T.reset_index(name='J')], axis=1)\n",
    "        t_df.drop(columns='index', inplace=True)\n",
    "        temp_df = pd.concat([temp_df, t_df])\n",
    "    temp_df.dropna(inplace=True)\n",
    "    temp_df = temp_df[(temp_df > 0) & (temp_df != np.inf)]\n",
    "    temp_df = temp_df.sort_values(by='SW').reset_index(drop=True)\n",
    "    a, b = fit_j_curve(temp_df['SW'], temp_df['J'])\n",
    "    j_constants[rt] = {'a': a, 'b': b}\n",
    "    j_xplot(temp_df['SW'], temp_df['J'], a, b, label=f\"RT {rt} - a: {a}, b: {b}\")\n",
    "    # plt.show()\n"
   ]
  },
  {
   "cell_type": "code",
   "execution_count": null,
   "metadata": {},
   "outputs": [],
   "source": [
    "j_constants"
   ]
  },
  {
   "cell_type": "code",
   "execution_count": null,
   "metadata": {},
   "outputs": [],
   "source": [
    "from quick_pp.core_calibration import fit_j_curve, j_xplot\n",
    "\n",
    "well_name = 'BA-H010'\n",
    "well_df = df[df['WELL_NAME'] == well_name]\n",
    "well_df.dropna(axis=1, how='all', inplace=True)\n",
    "\n",
    "j_constants = {\n",
    "    # 3.0: {'a': 0.507, 'b': -2.445}, \n",
    "    # 4.0: {'a': 0.583, 'b': -1.969}\n",
    "    3.0: {'a': 0.0271, 'b': -2.653}, \n",
    "    4.0: {'a': 0.0363, 'b': -3.483}\n",
    "}\n",
    "for rt, well_data in well_df.groupby('RT_V2_2023'):\n",
    "    temp_df = pd.DataFrame()\n",
    "    for i, data in well_data.iterrows():\n",
    "        t_df = data[[c for c in well_data.columns if 'SW[' in c]].reset_index(drop=True).T.reset_index(name='SW')\n",
    "        # t_df = pd.concat([t_df, data[[c for c in well_data.columns if 'PC' in c]].reset_index(drop=True).T.reset_index(name='PC')], axis=1)\n",
    "        # t_df = pd.concat([t_df, data[[c for c in well_data.columns if 'SWN' in c]].reset_index(drop=True).T.reset_index(name='SWN')], axis=1)\n",
    "        t_df = pd.concat([t_df, data[[c for c in well_data.columns if 'J' in c]].reset_index(drop=True).T.reset_index(name='J')], axis=1)\n",
    "        t_df.drop(columns='index', inplace=True)\n",
    "        temp_df = pd.concat([temp_df, t_df])\n",
    "    temp_df.dropna(inplace=True)\n",
    "    temp_df = temp_df[(temp_df > 0) & (temp_df != np.inf)]\n",
    "    temp_df = temp_df.sort_values(by='SW').reset_index(drop=True)\n",
    "    a = j_constants[rt]['a']\n",
    "    b = j_constants[rt]['b']\n",
    "    j_xplot(temp_df['SW'], temp_df['J'], a, b, label=f\"RT {rt} - a: {a}, b: {b}\")\n",
    "    # plt.show()\n"
   ]
  },
  {
   "cell_type": "code",
   "execution_count": null,
   "metadata": {},
   "outputs": [],
   "source": [
    "# Merge core data with well data\n",
    "well_df_core = well_df.dropna(subset=['CPORE', 'CPERM']).sort_values(by='DEPTH')\n",
    "filtered_df = pd.merge_asof(barm_h010, well_df_core[['DEPTH', 'CPERM', 'CPORE']], on='DEPTH', direction='nearest', tolerance=0.5)"
   ]
  },
  {
   "cell_type": "code",
   "execution_count": null,
   "metadata": {},
   "outputs": [],
   "source": [
    "# filtered_df.to_csv('barm_h010_core.csv', index=False)\n",
    "filtered_df = pd.read_csv('barm_h010_core.csv')"
   ]
  },
  {
   "cell_type": "code",
   "execution_count": null,
   "metadata": {},
   "outputs": [],
   "source": [
    "min_depth = 4650\n",
    "max_depth = 4745\n",
    "test = filtered_df[(filtered_df.DEPTH > min_depth) & (filtered_df.DEPTH < max_depth)][['DEPTH', 'PHIT', 'CPORE']]\n",
    "plt.figure(figsize=(20, 3))\n",
    "plt.plot(test.DEPTH, test.PHIT, label='PHIT')\n",
    "plt.scatter(x=test.DEPTH, y=test.CPORE, label='CPORE')"
   ]
  },
  {
   "cell_type": "code",
   "execution_count": null,
   "metadata": {},
   "outputs": [],
   "source": [
    "min_depth = 4650\n",
    "max_depth = 4745\n",
    "test = filtered_df[(filtered_df.DEPTH > min_depth) & (filtered_df.DEPTH < max_depth)][['DEPTH', 'PERM', 'CPERM']]\n",
    "plt.figure(figsize=(20, 3))\n",
    "plt.plot(test.DEPTH, test.PERM, label='PERM')\n",
    "plt.scatter(x=test.DEPTH, y=test.CPERM, label='CPERM')\n",
    "plt.yscale('log')"
   ]
  },
  {
   "cell_type": "code",
   "execution_count": null,
   "metadata": {},
   "outputs": [],
   "source": [
    "from quick_pp.core_calibration import sw_shf_leverett_j\n",
    "min_depth = 4600\n",
    "max_depth = 4745\n",
    "test = filtered_df[(filtered_df.DEPTH > min_depth) & (filtered_df.DEPTH < max_depth)].copy()\n",
    "# TODO: groupby RT and use\n",
    "test['SW_SHF'] = sw_shf_leverett_j(\n",
    "    test['PERM'], test['PHIT'], test['DEPTH'], \n",
    "    fwl=4680,\n",
    "    ift=26,\n",
    "    gw=0.433,\n",
    "    ghc=0.35,\n",
    "    a=.038271,\n",
    "    b=-5.33\n",
    ")\n",
    "plt.figure(figsize=(20, 3))\n",
    "plt.plot(test.DEPTH, test.SWT, label='SWT')\n",
    "plt.plot(test.DEPTH, test.SW_SHF, label='SW_SHF')\n",
    "plt.legend()"
   ]
  },
  {
   "cell_type": "code",
   "execution_count": null,
   "metadata": {},
   "outputs": [],
   "source": [
    "from quick_pp.core_calibration import fit_j_curve, bvw_xplot\n",
    "\n",
    "well_name = 'BA-H010'\n",
    "well_df = df[df['WELL_NAME'] == well_name]\n",
    "well_df.dropna(axis=1, how='all', inplace=True)\n",
    "\n",
    "for rt, well_data in well_df.groupby('RT_V2_2023'):\n",
    "    temp_df = pd.DataFrame()\n",
    "    for i, data in well_data.iterrows():\n",
    "        cpore = data['CPORE']\n",
    "        t_df = data[[c for c in well_data.columns if 'SW[' in c]].reset_index(drop=True).T.reset_index(name='SW')\n",
    "        t_df['BVW'] = t_df['SW'] * cpore\n",
    "        t_df = pd.concat([t_df, data[[c for c in well_data.columns if 'PC' in c]].reset_index(drop=True).T.reset_index(name='PC')], axis=1)\n",
    "        # t_df = pd.concat([t_df, data[[c for c in well_data.columns if 'SWN' in c]].reset_index(drop=True).T.reset_index(name='SWN')], axis=1)\n",
    "        # t_df = pd.concat([t_df, data[[c for c in well_data.columns if 'J' in c]].reset_index(drop=True).T.reset_index(name='J')], axis=1)\n",
    "        t_df.drop(columns='index', inplace=True)\n",
    "        temp_df = pd.concat([temp_df, t_df])\n",
    "    temp_df.dropna(inplace=True)\n",
    "    temp_df = temp_df[(temp_df > 0) & (temp_df != np.inf)]\n",
    "    temp_df = temp_df.sort_values(by='SW').reset_index(drop=True)\n",
    "    a, b = fit_j_curve(temp_df['BVW'], temp_df['PC'])\n",
    "    bvw_xplot(temp_df['BVW'], temp_df['PC'], a, b, label=f\"RT {rt} - a: {a}, b: {b}\")\n",
    "    # plt.show()\n"
   ]
  },
  {
   "cell_type": "code",
   "execution_count": null,
   "metadata": {},
   "outputs": [],
   "source": [
    "from quick_pp.core_calibration import sw_shf_cuddy\n",
    "min_depth = 4600\n",
    "max_depth = 4745\n",
    "test = filtered_df[(filtered_df.DEPTH > min_depth) & (filtered_df.DEPTH < max_depth)].copy()\n",
    "\n",
    "test['SHF'] = sw_shf_cuddy(test['PHIT'], test['DEPTH'],\n",
    "                            fwl=4750, \n",
    "                            gw=0.433, ghc=0.35, a=0.27, b=-2.0124)\n",
    "\n",
    "plt.figure(figsize=(20, 3))\n",
    "plt.plot(test.DEPTH, test.SWT, label='SWT')\n",
    "plt.plot(test.DEPTH, test.SHF, label='SHF')\n",
    "plt.legend()"
   ]
  },
  {
   "cell_type": "code",
   "execution_count": null,
   "metadata": {},
   "outputs": [],
   "source": [
    "from quick_pp.core_calibration import sw_shf_cuddy\n",
    "filtered_df['SHF'] = sw_shf_cuddy(filtered_df['PHIT'], filtered_df['DEPTH'], fwl=4750, gw=0.433, ghc=0.35, a=0.27, b=-2.0124)"
   ]
  },
  {
   "cell_type": "code",
   "execution_count": null,
   "metadata": {},
   "outputs": [],
   "source": [
    "from quick_pp.core_calibration import sw_shf_choo\n",
    "min_depth = 4600\n",
    "max_depth = 4745\n",
    "test = filtered_df[(filtered_df.DEPTH > min_depth) & (filtered_df.DEPTH < max_depth)].copy()\n",
    "\n",
    "test['SHF'] = sw_shf_choo(test['PERM'], test['PHIT'], test['PHIE'], test['DEPTH'],\n",
    "                            fwl=4680, ift=26,\n",
    "                            gw=0.433, ghc=0.35, b0=0.4)\n",
    "\n",
    "plt.figure(figsize=(20, 3))\n",
    "plt.plot(test.DEPTH, test.SWT, label='SWT')\n",
    "plt.plot(test.DEPTH, test.SHF, label='SHF')\n",
    "plt.legend()"
   ]
  },
  {
   "cell_type": "code",
   "execution_count": null,
   "metadata": {},
   "outputs": [],
   "source": [
    "from quick_pp.core_calibration import sw_shf_choo\n",
    "filtered_df['SHF'] = sw_shf_choo(filtered_df['PERM'], filtered_df['PHIT'], filtered_df['PHIE'], filtered_df['DEPTH'], fwl=4680, ift=26, gw=0.433, ghc=0.35, b0=0.4)"
   ]
  },
  {
   "cell_type": "code",
   "execution_count": null,
   "metadata": {},
   "outputs": [],
   "source": [
    "from quick_pp.core_calibration import sw_shf_leverett_j\n",
    "\n",
    "j_constants = {\n",
    "    1: {'a': 0.0271, 'b': -2.653},\n",
    "    2: {'a': 0.0363, 'b': -3.483},\n",
    "    3: {'a': 0.0382, 'b': -5.330}, \n",
    "    4: {'a': 0.0563, 'b': -8.483}\n",
    "}\n",
    "for rt, well_data in filtered_df.groupby('ROCK_FLAG'):\n",
    "    a = j_constants[rt]['a']\n",
    "    b = j_constants[rt]['b']\n",
    "    filtered_df.loc[filtered_df['ROCK_FLAG'] == rt, 'SHF'] = sw_shf_leverett_j(\n",
    "        well_data['PERM'], well_data['PHIT'], well_data['DEPTH'], \n",
    "        fwl=4680,\n",
    "        ift=26,\n",
    "        gw=0.433,\n",
    "        ghc=0.35,\n",
    "        a=a,\n",
    "        b=b\n",
    "    )"
   ]
  },
  {
   "cell_type": "code",
   "execution_count": null,
   "metadata": {},
   "outputs": [],
   "source": [
    "from quick_pp.plotter import plotly_log\n",
    "\n",
    "fig = plotly_log(filtered_df)\n",
    "fig.show(config=dict(scrollZoom=True))\n",
    "# fig.write_html(rf\"{well_name}_log.html\", config=dict(scrollZoom=True))"
   ]
  },
  {
   "cell_type": "code",
   "execution_count": null,
   "metadata": {},
   "outputs": [],
   "source": [
    "from quick_pp.core_calibration import estimate_hafwl\n",
    "\n",
    "hafwl = estimate_hafwl(\n",
    "    sw=well_df['SW[0]'],\n",
    "    poro=well_df['CPORE'],\n",
    "    perm=well_df['CPERM'],\n",
    "    ift=26,\n",
    "    gw=1.0,\n",
    "    ghc=0.7,\n",
    "    a=0.507,\n",
    "    b=2.455\n",
    ")\n",
    "hafwl"
   ]
  },
  {
   "cell_type": "code",
   "execution_count": null,
   "metadata": {},
   "outputs": [],
   "source": [
    "# # Need HAFWL to plot \n",
    "# df.plot(x='BVW', y='DEPTH_SHIFTED', kind='scatter', logy=False, xlim=(0, 0.5))"
   ]
  },
  {
   "cell_type": "code",
   "execution_count": null,
   "metadata": {},
   "outputs": [],
   "source": [
    "# df[[c for c in df.columns if 'PC' in c]].describe()"
   ]
  },
  {
   "cell_type": "code",
   "execution_count": null,
   "metadata": {},
   "outputs": [],
   "source": [
    "# for i in range(8):\n",
    "#     df.plot(x=f'SW[{i}]', y=f'PC[{i}]', kind='scatter', logy=False, xlim=(0, 1))\n",
    "# plt.show()"
   ]
  }
 ],
 "metadata": {
  "kernelspec": {
   "display_name": "venv310",
   "language": "python",
   "name": "python3"
  },
  "language_info": {
   "codemirror_mode": {
    "name": "ipython",
    "version": 3
   },
   "file_extension": ".py",
   "mimetype": "text/x-python",
   "name": "python",
   "nbconvert_exporter": "python",
   "pygments_lexer": "ipython3",
   "version": "3.10.9"
  }
 },
 "nbformat": 4,
 "nbformat_minor": 2
}
