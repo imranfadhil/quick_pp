{
 "cells": [
  {
   "cell_type": "markdown",
   "metadata": {
    "jp-MarkdownHeadingCollapsed": true
   },
   "source": [
    "## quick_pp"
   ]
  },
  {
   "cell_type": "code",
   "execution_count": null,
   "metadata": {},
   "outputs": [],
   "source": [
    "import sys\n",
    "sys.path.append('..')\n",
    "%load_ext autoreload\n",
    "%autoreload 2\n",
    "%matplotlib inline"
   ]
  },
  {
   "cell_type": "code",
   "execution_count": null,
   "metadata": {},
   "outputs": [],
   "source": [
    "import numpy as np\n",
    "import pandas as pd\n",
    "import pickle\n",
    "import matplotlib.pyplot as plt\n",
    "\n",
    "from quick_pp.objects import Project\n",
    "\n",
    "# Load well from saved file\n",
    "project = \"MOCK_carbonate\"\n",
    "project_path = rf\"data\\04_project\\{project}.qppp\"\n",
    "project = Project().load(project_path)\n",
    "project.get_well_names()\n",
    "all_data = project.get_all_data()"
   ]
  },
  {
   "cell_type": "markdown",
   "metadata": {},
   "source": [
    "# Rock Typing"
   ]
  },
  {
   "cell_type": "markdown",
   "metadata": {},
   "source": [
    "The process of rock typing is a multidisciplinary effort that involves close collaboration between geologists, petrophysicists, and reservoir engineers. Each discipline plays a specific role, and the rock typing workflow involves a seamless transition of data, models, and insights across these domains to build a robust understanding of the reservoir. Below is the high-level workflow detailing the steps, key tasks, and handoffs between these professionals\n",
    "\n",
    "Petrophysicists take geological inputs and combine them with well log data and core analysis to define rock types based on petrophysical properties such as porosity, permeability, fluid saturation, and pore geometry.\n",
    "\n",
    "Tasks:\n",
    "- Core Data Integration:\n",
    "    - Perform routine and special core analyses (RCAL, SCAL) to measure porosity, permeability, capillary pressure, and wettability.\n",
    "\n",
    "- Log Interpretation:\n",
    "    - Interpret wireline logs (e.g., density, neutron, resistivity, NMR) to generate continuous petrophysical properties along the wellbore.\n",
    "\n",
    "- Rock Typing Methods:\n",
    "    - Use statistical tools like Flow Zone Indicator (FZI), Pickett plots, and cluster analysis to group rocks with similar flow behavior into petrophysical rock types.\n",
    "\n",
    "- Electrofacies Analysis:\n",
    "    - Identify electrofacies by clustering log responses, especially where core data is limited.\n",
    "\n",
    "The rock typing workflow is a collaborative process where geologists, petrophysicists, and reservoir engineers work together to ensure the reservoir is accurately characterized and modeled. This interdisciplinary approach ensures that both geological and petrophysical complexities are accounted for, resulting in more efficient production strategies and better field development plans"
   ]
  },
  {
   "cell_type": "markdown",
   "metadata": {},
   "source": [
    "## Winland R35 Rock Typing"
   ]
  },
  {
   "cell_type": "code",
   "execution_count": null,
   "metadata": {},
   "outputs": [],
   "source": [
    "from quick_pp.rock_type import plot_fzi, plot_rfn, plot_winland, rock_typing\n",
    "from quick_pp.rock_type import calc_r35, rock_typing, plot_winland\n",
    "\n",
    "all_data['CPERM'] = all_data.CORE_PERM\n",
    "all_data['CPORE'] = all_data.CORE_POR / 100\n",
    "# all_data['CPERM'] = np.where(all_data.CPERM < .01, np.nan, all_data.CPERM)\n",
    "# all_data['CPORE'] = np.where(all_data.CPORE < .01, np.nan, all_data.CPORE)\n",
    "\n",
    "# Estimate rock types\n",
    "r35 = calc_r35(all_data['CPORE'], all_data['CPERM'])\n",
    "all_data['R35'] = r35\n",
    "r35_cut_offs = [\n",
    "    .1, .15, .2, .25, .3, .35, .4, .5, .6, .7, .8, .9, 1, 1.25, 1.5, 2, 2.5, 3, 4, 5, 7, 10,\n",
    "]\n",
    "r35_rock_flag = rock_typing(r35, r35_cut_offs, higher_is_better=True)\n",
    "all_data['ROCK_FLAG'] = r35_rock_flag\n",
    "\n",
    "plot_winland(all_data['CPORE'], all_data['CPERM'], rock_type=r35_rock_flag, cut_offs=r35_cut_offs)\n",
    "print('The data has been classified into the following rock types:')\n",
    "print(all_data['ROCK_FLAG'].value_counts())"
   ]
  },
  {
   "cell_type": "markdown",
   "metadata": {},
   "source": [
    "### Develop Machine Learning models to predict ROCK_FLAG and R35"
   ]
  },
  {
   "cell_type": "code",
   "execution_count": null,
   "metadata": {},
   "outputs": [],
   "source": [
    "from quick_pp.rock_type import train_classification_model, train_regression_model\n",
    "\n",
    "train_data = all_data.copy()  # Filter out low porosity data\n",
    "# train_data = train_data[train_data.CPORE >= .02].copy()  # Filter out low porosity data\n",
    "# train_data = train_data[train_data.CPERM > .1]  # Filter out low permeability data\n",
    "# train_data = train_data[train_data.ROCK_FLAG < 5]  # Filter out non-reservoir data\n",
    "\n",
    "train_data['LOG_RT'] = np.log10(train_data['RT'])\n",
    "train_data['NDI_V2'] = np.log10(((2.85 - train_data['RHOB']) / 1.85) - train_data['NPHI'])\n",
    "input_features = ['GR', 'NPHI', 'RHOB', 'LOG_RT', 'NDI_V2']  \n",
    "train_data = train_data.dropna(subset=input_features + ['ROCK_FLAG', 'R35'])\n",
    "\n",
    "r35_rt_model = train_classification_model(\n",
    "    train_data, input_features=input_features, target_feature='ROCK_FLAG')\n",
    "with open(r'data\\04_project\\MOCK_carbonate\\outputs\\r35_rt_model.qppm', 'wb') as file:\n",
    "    pickle.dump(r35_rt_model, file)\n",
    "\n",
    "train_data['LOG_R35'] = np.log10(train_data['R35'])\n",
    "r35_model = train_regression_model(\n",
    "    train_data, input_features=input_features, target_feature='LOG_R35', stratifier=train_data['ROCK_FLAG'])\n",
    "with open(r'data\\04_project\\MOCK_carbonate\\outputs\\r35_model.qppm', 'wb') as file:\n",
    "    pickle.dump(r35_model, file)"
   ]
  },
  {
   "cell_type": "markdown",
   "metadata": {},
   "source": [
    "### Determining the perm transform parameter for each rock type."
   ]
  },
  {
   "cell_type": "code",
   "execution_count": null,
   "metadata": {},
   "outputs": [],
   "source": [
    "from ipywidgets import interact, widgets\n",
    "from quick_pp.core_calibration import poroperm_xplot, fit_poroperm_curve\n",
    "\n",
    "rt = widgets.Dropdown(\n",
    "    options=all_data['ROCK_FLAG'].dropna().unique(),\n",
    "    value=1,\n",
    "    description='Rock Type:'\n",
    ")\n",
    "\n",
    "@interact(rt=rt)\n",
    "def param(rt):\n",
    "    data = all_data[all_data['ROCK_FLAG'] == rt]\n",
    "    a, b = fit_poroperm_curve(data['CPORE'], data['CPERM'])\n",
    "    poroperm_xplot(data['CPORE'], data['CPERM'], a=a, b=b, label=rt, log_log=False)"
   ]
  },
  {
   "cell_type": "code",
   "execution_count": null,
   "metadata": {},
   "outputs": [],
   "source": [
    "import pprint\n",
    "\n",
    "poroperm_params = {}\n",
    "\n",
    "for rt, data in all_data.groupby('ROCK_FLAG'):\n",
    "    a, b = fit_poroperm_curve(data['CPORE'], data['CPERM'])\n",
    "    poroperm_params[rt] = (a, b)\n",
    "\n",
    "pp = pprint.PrettyPrinter(indent=4)\n",
    "pp.pprint(poroperm_params)"
   ]
  },
  {
   "cell_type": "code",
   "execution_count": null,
   "metadata": {},
   "outputs": [],
   "source": [
    "for rt, data in all_data.groupby('ROCK_FLAG'):\n",
    "    a, b = poroperm_params[rt]\n",
    "    poroperm_xplot(data['CPORE'], data['CPERM'], a=a, b=b, label=f'RT{rt}: a={a:1d}, b={b:.2f}')"
   ]
  },
  {
   "cell_type": "markdown",
   "metadata": {},
   "source": [
    "### Compare different PERM estimations at well level"
   ]
  },
  {
   "cell_type": "code",
   "execution_count": null,
   "metadata": {},
   "outputs": [],
   "source": [
    "from sklearn.metrics import mean_absolute_percentage_error, r2_score\n",
    "\n",
    "from quick_pp.core_calibration import perm_transform\n",
    "from quick_pp.rock_type import calc_r35_perm\n",
    "\n",
    "focus_well = 'HW-26'\n",
    "well_data = all_data[all_data.WELL_NAME == focus_well].copy()\n",
    "\n",
    "# Permeability estimation based on core data perm transform\n",
    "well_data['perm_a'] = well_data['ROCK_FLAG'].map(poroperm_params).apply(lambda x: x[0] if type(x) == tuple else np.nan)\n",
    "well_data['perm_b'] = well_data['ROCK_FLAG'].map(poroperm_params).apply(lambda x: x[1] if type(x) == tuple else np.nan)\n",
    "perm_trans = perm_transform(well_data['PHIT'], well_data['perm_a'], well_data['perm_b'])\n",
    "perm_r35 = calc_r35_perm(well_data['R35'], well_data['PHIT'])\n",
    "\n",
    "# Permeability prediction based on ROCK_FLAG ML model followed by perm transform\n",
    "with open(r'data\\04_project\\MOCK_carbonate\\outputs\\r35_rt_model.qppm', 'rb') as file:\n",
    "    r35_rt_model = pickle.load(file)\n",
    "rock_flag_ml = r35_rt_model.predict(well_data[input_features])\n",
    "perm_a_ml = pd.Series(rock_flag_ml).map(poroperm_params).apply(lambda x: x[0] if type(x) == tuple else np.nan)\n",
    "perm_b_ml = pd.Series(rock_flag_ml).map(poroperm_params).apply(lambda x: x[1] if type(x) == tuple else np.nan)\n",
    "perm_ml = perm_transform(well_data['PHIT'], perm_a_ml, perm_b_ml)\n",
    "\n",
    "# Permeability prediction based on R35 ML model followed by back calculate from R35\n",
    "with open(r'data\\04_project\\MOCK_carbonate\\outputs\\r35_model.qppm', 'rb') as file:\n",
    "    r35_model = pickle.load(file)\n",
    "r35_ml = 10**(r35_model.predict(well_data[input_features]))\n",
    "perm_r35_ml = calc_r35_perm(r35_ml, well_data['PHIT'])\n",
    "\n",
    "# Plot to compare\n",
    "plt.figure(figsize=(20, 2))\n",
    "plt.plot(well_data.DEPTH, perm_trans, label='Perm Transform')\n",
    "plt.plot(well_data.DEPTH, perm_r35, label='Perm R35')\n",
    "plt.plot(well_data.DEPTH, perm_ml, label='Perm ML')\n",
    "plt.plot(well_data.DEPTH, perm_r35_ml, label='Perm R35 ML')\n",
    "plt.scatter(well_data.DEPTH, well_data.CPERM, label='Core Perm', marker='.', c='black')\n",
    "plt.yscale('log')\n",
    "plt.legend()\n",
    "\n",
    "# Print scores\n",
    "score_df = well_data[['DEPTH', 'CPERM']].copy()\n",
    "score_df['PERM'] = perm_r35_ml\n",
    "score_df.dropna(inplace=True)\n",
    "print(f\"\\n ### PERM MAPE: {mean_absolute_percentage_error(score_df.CPERM, score_df.PERM):.2f}\")\n",
    "print(f\" ### PERM R2: {r2_score(score_df.CPERM, score_df.PERM):.2f}\")"
   ]
  },
  {
   "cell_type": "markdown",
   "metadata": {},
   "source": [
    "### Compare different ROCK_FLAG at well level"
   ]
  },
  {
   "cell_type": "code",
   "execution_count": null,
   "metadata": {},
   "outputs": [],
   "source": [
    "# Compare rock types predicted from rt_model with applied cut-offs on predicted r35\n",
    "rock_flag_r35_ml = rock_typing(r35_ml, r35_cut_offs, higher_is_better=True)\n",
    "\n",
    "plt.figure(figsize=(20, 2))\n",
    "plt.plot(well_data.DEPTH, well_data.ROCK_FLAG, label='Rock Flag Core')\n",
    "plt.plot(well_data.DEPTH, rock_flag_ml, label='Rock Flag ML')\n",
    "plt.plot(well_data.DEPTH, rock_flag_r35_ml, label='Rock Flag R35 ML')\n",
    "plt.legend()\n"
   ]
  },
  {
   "cell_type": "markdown",
   "metadata": {},
   "source": [
    "## Plotting the Rock Types"
   ]
  },
  {
   "cell_type": "markdown",
   "metadata": {},
   "source": [
    "As a comparison, the rock types being identified using FZI is plotted on Winland R35 and Lucia Rock Fabric Number (RFN) methods.\n",
    "\n",
    "- The plot demonstrates Winland R35 resulted in a more flat permeability estimation while\n",
    "- Lower porosity - high permeability datapoints.\n",
    "    - These points might be indicating fracture kind of rock types\n",
    "    - Both Winland R35 and Lucia RFN does not model the datapoints\n",
    "    - FZI is able to model but indicates too high of a value"
   ]
  },
  {
   "cell_type": "code",
   "execution_count": null,
   "metadata": {},
   "outputs": [],
   "source": [
    "plot_fzi(all_data['CPORE'], all_data['CPERM'], rock_type=r35_rock_flag)\n",
    "plot_winland(all_data['CPORE'], all_data['CPERM'], rock_type=r35_rock_flag)\n",
    "plot_rfn(all_data['CPORE'], all_data['CPERM'], rock_type=r35_rock_flag)"
   ]
  },
  {
   "cell_type": "markdown",
   "metadata": {},
   "source": [
    "# Plotting the result"
   ]
  },
  {
   "cell_type": "code",
   "execution_count": null,
   "metadata": {},
   "outputs": [],
   "source": [
    "from quick_pp.plotter import plotly_log\n",
    "\n",
    "# Plot individual results\n",
    "well_data['PERM'] = perm_r35_ml\n",
    "fig = plotly_log(well_data, 'ft')\n",
    "fig.show(config=dict(scrollZoom=True))"
   ]
  },
  {
   "cell_type": "code",
   "execution_count": null,
   "metadata": {},
   "outputs": [],
   "source": [
    "# # Save the well data\n",
    "# project.update_data(well_data)\n",
    "# project.save()"
   ]
  }
 ],
 "metadata": {
  "kernelspec": {
   "display_name": "venv310",
   "language": "python",
   "name": "python3"
  },
  "language_info": {
   "codemirror_mode": {
    "name": "ipython",
    "version": 3
   },
   "file_extension": ".py",
   "mimetype": "text/x-python",
   "name": "python",
   "nbconvert_exporter": "python",
   "pygments_lexer": "ipython3",
   "version": "3.10.9"
  }
 },
 "nbformat": 4,
 "nbformat_minor": 4
}
