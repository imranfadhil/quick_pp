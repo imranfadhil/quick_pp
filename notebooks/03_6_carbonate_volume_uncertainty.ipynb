{
 "cells": [
  {
   "cell_type": "code",
   "execution_count": 2,
   "metadata": {},
   "outputs": [],
   "source": [
    "import sys\n",
    "sys.path.append('..')\n",
    "%load_ext autoreload\n",
    "%autoreload 2\n",
    "%matplotlib inline"
   ]
  },
  {
   "cell_type": "markdown",
   "metadata": {},
   "source": [
    "# Volume Estimation and Uncertainty Analysis"
   ]
  },
  {
   "cell_type": "code",
   "execution_count": null,
   "metadata": {},
   "outputs": [],
   "source": [
    "from quick_pp.ressum import mc_volumetric_method\n",
    "\n",
    "n_try = 10000\n",
    "reserves = mc_volumetric_method(\n",
    "    area_bound=(120, 840, 660, 160),\n",
    "    thickness_bound=(3, 9, 6, 3), \n",
    "    porosity_bound=(.2, .3, .1, .05),\n",
    "    water_saturation_bound=(.2, .35, .3),\n",
    "    volume_factor_bound=(1.2, 1.4),\n",
    "    recovery_factor_bound=(.1, .5, .3, .075),\n",
    "    n_try=n_try, percentile=[5, 30, 50, 70, 95]\n",
    ")\n"
   ]
  }
 ],
 "metadata": {
  "kernelspec": {
   "display_name": "venv310",
   "language": "python",
   "name": "python3"
  },
  "language_info": {
   "codemirror_mode": {
    "name": "ipython",
    "version": 3
   },
   "file_extension": ".py",
   "mimetype": "text/x-python",
   "name": "python",
   "nbconvert_exporter": "python",
   "pygments_lexer": "ipython3",
   "version": "3.10.9"
  }
 },
 "nbformat": 4,
 "nbformat_minor": 2
}
