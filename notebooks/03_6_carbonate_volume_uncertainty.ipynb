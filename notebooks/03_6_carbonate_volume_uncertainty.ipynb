{
 "cells": [
  {
   "cell_type": "code",
   "execution_count": null,
   "metadata": {},
   "outputs": [],
   "source": [
    "import sys\n",
    "sys.path.append('..')\n",
    "%load_ext autoreload\n",
    "%autoreload 2\n",
    "%matplotlib inline"
   ]
  },
  {
   "cell_type": "markdown",
   "metadata": {},
   "source": [
    "# Volume Estimation and Uncertainty Analysis"
   ]
  },
  {
   "cell_type": "markdown",
   "metadata": {},
   "source": [
    "### 2D Volume Estimation\n",
    "\n",
    "In petrophysics, 2D volume estimation is used to calculate the volume of hydrocarbons in a reservoir using two-dimensional data, typically from seismic surveys or well logs. Here's a simplified process:\n",
    "\n",
    "1. **Data Collection**: Gather 2D seismic data and well log data. Seismic data provides a cross-sectional view of the subsurface, while well logs give detailed information about the rock and fluid properties at specific locations.\n",
    "\n",
    "2. **Structural Mapping**: Create structural maps of the reservoir. This involves interpreting seismic data to delineate the boundaries and structure of the reservoir.\n",
    "\n",
    "3. **Reservoir Zoning**: Divide the reservoir into zones based on geological and petrophysical properties. Each zone may have different characteristics affecting hydrocarbon volume.\n",
    "\n",
    "4. **Property Assignment**: Assign petrophysical properties (e.g., porosity, water saturation) to each zone. These properties are derived from well logs and core samples.\n",
    "\n",
    "5. **Volume Calculation**: Calculate the volume of each zone using the formula:\n",
    "   $$\n",
    "   V = A \\times h \\times \\phi \\times (1 - S_w)\n",
    "   $$\n",
    "   where:\n",
    "   - \\( V \\) is the hydrocarbon volume.\n",
    "   - \\( A \\) is the area of the zone.\n",
    "   - \\( h \\) is the thickness of the zone.\n",
    "   - \\( \\phi \\) is the porosity.\n",
    "   - \\( S_w \\) is the water saturation.\n",
    "\n",
    "### Uncertainty Analysis\n",
    "\n",
    "Uncertainty analysis is crucial because it helps quantify the confidence in the volume estimates. Here are the key steps:\n",
    "\n",
    "1. **Identify Uncertainties**: Determine the sources of uncertainty, such as data quality, interpretation errors, and variability in petrophysical properties.\n",
    "\n",
    "2. **Quantify Uncertainties**: Use statistical methods to quantify the uncertainties. This can involve:\n",
    "   - **Monte Carlo Simulation**: Generate multiple realizations of the reservoir model by varying the input parameters within their uncertainty ranges.\n",
    "   - **Sensitivity Analysis**: Assess how changes in each parameter affect the volume estimate.\n",
    "\n",
    "3. **Probabilistic Volume Estimation**: Combine the results from the simulations to create a probabilistic distribution of the hydrocarbon volume. This provides a range of possible volumes with associated probabilities.\n",
    "\n",
    "4. **Risk Assessment**: Evaluate the risk associated with different volume estimates. This helps in making informed decisions about reservoir development and management."
   ]
  },
  {
   "cell_type": "markdown",
   "metadata": {},
   "source": [
    "quick_pp estimates the volume by considering the distribution of each parameter. Smaller range and smaller standard deviation indicates less uncertainty and vice versa applies.\n",
    "\n",
    "Monte Carlo simulation is implemented ..."
   ]
  },
  {
   "cell_type": "code",
   "execution_count": null,
   "metadata": {},
   "outputs": [],
   "source": [
    "import pandas as pd\n",
    "\n",
    "from quick_pp.objects import Project\n",
    "\n",
    "# Load well from saved file\n",
    "project = \"MOCK_carbonate\"\n",
    "project_path = rf\"data\\04_project\\{project}.qppp\"\n",
    "project = Project().load(project_path)\n",
    "project.get_well_names()"
   ]
  },
  {
   "cell_type": "code",
   "execution_count": 39,
   "metadata": {},
   "outputs": [],
   "source": [
    "df = project.get_all_data()"
   ]
  },
  {
   "cell_type": "markdown",
   "metadata": {},
   "source": [
    "### Fluid Contact Analysis"
   ]
  },
  {
   "cell_type": "code",
   "execution_count": null,
   "metadata": {},
   "outputs": [],
   "source": [
    "import pprint\n",
    "from quick_pp.plotter.plotter import stick_plot, generate_well_config, generate_zone_config\n",
    "\n",
    "zone_config = generate_zone_config()\n",
    "\n",
    "pp = pprint.PrettyPrinter(indent=4)\n",
    "pp.pprint(zone_config)"
   ]
  },
  {
   "cell_type": "code",
   "execution_count": null,
   "metadata": {},
   "outputs": [],
   "source": [
    "well_names = project.get_well_names()\n",
    "well_config = generate_well_config(well_names)\n",
    "\n",
    "pp.pprint(well_config)"
   ]
  },
  {
   "cell_type": "code",
   "execution_count": 42,
   "metadata": {},
   "outputs": [],
   "source": [
    "from quick_pp.plotter.plotter import update_well_config\n",
    "\n",
    "WATER_CONTACT = {\n",
    "    'HW-3': 8559,\n",
    "    'HW-4': 8559,\n",
    "    'HW-5': 8559,\n",
    "    'HW-6': 8559,\n",
    "    'HW-7': 8545,\n",
    "    'HW-8': 8545,\n",
    "    'HW-9': 8567,\n",
    "    'HW-10': 8567,\n",
    "    'HW-24': 8559,\n",
    "    'HW-25': 8559,\n",
    "    'HW-26': 8559,\n",
    "    'HW-27': 8567,\n",
    "    'HW-28': 8567,\n",
    "    'HW-29': 8567,\n",
    "    'HW-30': 8567,\n",
    "    'HW-31': 8545,\n",
    "    'HW-32': 8545,\n",
    "}\n",
    "\n",
    "for well in well_names:\n",
    "    fwl = WATER_CONTACT[well]\n",
    "    fluid_dict = {\n",
    "        'OUT': 7929,\n",
    "        'OWC': fwl,\n",
    "        'ODT': fwl,\n",
    "        'WUT': fwl,\n",
    "    }\n",
    "    well_config = update_well_config(well_config, well, \"ALL\", fluid_dict)"
   ]
  },
  {
   "cell_type": "code",
   "execution_count": null,
   "metadata": {},
   "outputs": [],
   "source": [
    "# 9, 27, 10, 30, 28, 29, 8, 31, 32, 7, 3, 24, 25, 6, 26, 4, 5\n",
    "sorting_dict = { \n",
    "    'HW-10': 3,\n",
    "    'HW-24': 12,\n",
    "    'HW-25': 13,\n",
    "    'HW-26': 15,\n",
    "    'HW-27': 2,\n",
    "    'HW-28': 5,\n",
    "    'HW-29': 6,\n",
    "    'HW-3': 11,\n",
    "    'HW-30': 4,\n",
    "    'HW-31': 8,\n",
    "    'HW-32': 9,\n",
    "    'HW-4': 16,\n",
    "    'HW-5': 17,\n",
    "    'HW-6': 14,\n",
    "    'HW-7': 10,\n",
    "    'HW-8': 7,\n",
    "    'HW-9': 1\n",
    "}\n",
    "\n",
    "for well, sorting in sorting_dict.items():\n",
    "    well_config = update_well_config(well_config, well, sorting=sorting)\n",
    "\n",
    "pp.pprint(well_config)"
   ]
  },
  {
   "cell_type": "code",
   "execution_count": null,
   "metadata": {},
   "outputs": [],
   "source": [
    "stick_plot(df, well_config)"
   ]
  },
  {
   "cell_type": "markdown",
   "metadata": {},
   "source": [
    "### Statistical Summary"
   ]
  },
  {
   "cell_type": "code",
   "execution_count": null,
   "metadata": {},
   "outputs": [],
   "source": [
    "from quick_pp.qaqc import quick_compare\n",
    "from quick_pp.utils import zone_flagging\n",
    "\n",
    "# df = project.get_all_data()\n",
    "\n",
    "df = df[~(df.WELL_NAME == 'HW-3')]\n",
    "df['VSHALE'] = df['VCLW']\n",
    "df['SWT'] = df['SWT'].where(df['SWT'] <= 1, 1)\n",
    "df = zone_flagging(df)\n",
    "compare_df, fig = quick_compare(df, return_fig=True)"
   ]
  },
  {
   "cell_type": "code",
   "execution_count": null,
   "metadata": {},
   "outputs": [],
   "source": [
    "from quick_pp.qaqc import extract_quick_stats\n",
    "\n",
    "extract_quick_stats(compare_df, flag='pay')"
   ]
  },
  {
   "cell_type": "markdown",
   "metadata": {},
   "source": [
    "### Volume Estimation"
   ]
  },
  {
   "cell_type": "code",
   "execution_count": null,
   "metadata": {},
   "outputs": [],
   "source": [
    "from quick_pp.ressum import mc_volumetric_method\n",
    "\n",
    "area_bound = (500, 2500, 1560, 400)\n",
    "thickness_bound = (0, 216, 89, 74)\n",
    "porosity_bound = (.066, .261, .177, .05)\n",
    "water_saturation_bound = (.228, 1, .732, .297)\n",
    "volume_factor_bound = (1.2, 1.4)\n",
    "\n",
    "n_try = 10000\n",
    "reserves = mc_volumetric_method(\n",
    "    area_bound=area_bound,\n",
    "    thickness_bound=thickness_bound,\n",
    "    porosity_bound=porosity_bound,\n",
    "    water_saturation_bound=water_saturation_bound,\n",
    "    volume_factor_bound=volume_factor_bound,\n",
    "    n_try=n_try, percentile=[10, 50, 90]\n",
    ")"
   ]
  },
  {
   "cell_type": "markdown",
   "metadata": {},
   "source": [
    "### Sensitivity Analysis"
   ]
  },
  {
   "cell_type": "code",
   "execution_count": null,
   "metadata": {},
   "outputs": [],
   "source": [
    "from quick_pp.ressum import sensitivity_analysis\n",
    "\n",
    "sensitivity_analysis(\n",
    "    area_bound=area_bound,\n",
    "    thickness_bound=thickness_bound,\n",
    "    porosity_bound=porosity_bound,\n",
    "    water_saturation_bound=water_saturation_bound,\n",
    "    volume_factor_bound=volume_factor_bound\n",
    ")"
   ]
  }
 ],
 "metadata": {
  "kernelspec": {
   "display_name": "venv310",
   "language": "python",
   "name": "python3"
  },
  "language_info": {
   "codemirror_mode": {
    "name": "ipython",
    "version": 3
   },
   "file_extension": ".py",
   "mimetype": "text/x-python",
   "name": "python",
   "nbconvert_exporter": "python",
   "pygments_lexer": "ipython3",
   "version": "3.10.9"
  }
 },
 "nbformat": 4,
 "nbformat_minor": 2
}
