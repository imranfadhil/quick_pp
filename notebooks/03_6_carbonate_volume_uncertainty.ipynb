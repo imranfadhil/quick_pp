{
 "cells": [
  {
   "cell_type": "code",
   "execution_count": null,
   "metadata": {},
   "outputs": [],
   "source": [
    "import sys\n",
    "sys.path.append('..')\n",
    "%load_ext autoreload\n",
    "%autoreload 2\n",
    "%matplotlib inline"
   ]
  },
  {
   "cell_type": "markdown",
   "metadata": {},
   "source": [
    "# Volume Estimation and Uncertainty Analysis"
   ]
  },
  {
   "cell_type": "markdown",
   "metadata": {},
   "source": [
    "### 2D Volume Estimation\n",
    "\n",
    "In petrophysics, 2D volume estimation is used to calculate the volume of hydrocarbons in a reservoir using two-dimensional data, typically from seismic surveys or well logs. Here's a simplified process:\n",
    "\n",
    "1. **Data Collection**: Gather 2D seismic data and well log data. Seismic data provides a cross-sectional view of the subsurface, while well logs give detailed information about the rock and fluid properties at specific locations.\n",
    "\n",
    "2. **Structural Mapping**: Create structural maps of the reservoir. This involves interpreting seismic data to delineate the boundaries and structure of the reservoir.\n",
    "\n",
    "3. **Reservoir Zoning**: Divide the reservoir into zones based on geological and petrophysical properties. Each zone may have different characteristics affecting hydrocarbon volume.\n",
    "\n",
    "4. **Property Assignment**: Assign petrophysical properties (e.g., porosity, water saturation) to each zone. These properties are derived from well logs and core samples.\n",
    "\n",
    "5. **Volume Calculation**: Calculate the volume of each zone using the formula:\n",
    "   $$\n",
    "   V = A \\times h \\times \\phi \\times (1 - S_w)\n",
    "   $$\n",
    "   where:\n",
    "   - \\( V \\) is the hydrocarbon volume.\n",
    "   - \\( A \\) is the area of the zone.\n",
    "   - \\( h \\) is the thickness of the zone.\n",
    "   - \\( \\phi \\) is the porosity.\n",
    "   - \\( S_w \\) is the water saturation.\n",
    "\n",
    "### Uncertainty Analysis\n",
    "\n",
    "Uncertainty analysis is crucial because it helps quantify the confidence in the volume estimates. Here are the key steps:\n",
    "\n",
    "1. **Identify Uncertainties**: Determine the sources of uncertainty, such as data quality, interpretation errors, and variability in petrophysical properties.\n",
    "\n",
    "2. **Quantify Uncertainties**: Use statistical methods to quantify the uncertainties. This can involve:\n",
    "   - **Monte Carlo Simulation**: Generate multiple realizations of the reservoir model by varying the input parameters within their uncertainty ranges.\n",
    "   - **Sensitivity Analysis**: Assess how changes in each parameter affect the volume estimate.\n",
    "\n",
    "3. **Probabilistic Volume Estimation**: Combine the results from the simulations to create a probabilistic distribution of the hydrocarbon volume. This provides a range of possible volumes with associated probabilities.\n",
    "\n",
    "4. **Risk Assessment**: Evaluate the risk associated with different volume estimates. This helps in making informed decisions about reservoir development and management."
   ]
  },
  {
   "cell_type": "markdown",
   "metadata": {},
   "source": [
    "quick_pp estimates the volume by considering the distribution of each parameter. Smaller range and smaller standard deviation indicates less uncertainty and vice versa applies.\n",
    "\n",
    "Monte Carlo simulation is implemented ..."
   ]
  },
  {
   "cell_type": "code",
   "execution_count": null,
   "metadata": {},
   "outputs": [],
   "source": [
    "import pandas as pd\n",
    "\n",
    "from quick_pp.objects import Project\n",
    "\n",
    "# Load well from saved file\n",
    "project = \"MOCK_carbonate\"\n",
    "project_path = rf\"data\\04_project\\{project}.qppp\"\n",
    "project = Project().load(project_path)\n",
    "project.get_well_names()"
   ]
  },
  {
   "cell_type": "code",
   "execution_count": null,
   "metadata": {},
   "outputs": [],
   "source": [
    "df = project.get_all_data()"
   ]
  },
  {
   "cell_type": "markdown",
   "metadata": {},
   "source": [
    "### Fluid Contact Analysis"
   ]
  },
  {
   "cell_type": "code",
   "execution_count": null,
   "metadata": {},
   "outputs": [],
   "source": [
    "from quick_pp.plotter import stick_plot, generate_well_config, generate_zone_config\n",
    "\n",
    "zone_config = generate_zone_config()\n",
    "print(zone_config)"
   ]
  },
  {
   "cell_type": "code",
   "execution_count": null,
   "metadata": {},
   "outputs": [],
   "source": [
    "well_names = project.get_well_names()\n",
    "well_config = generate_well_config(well_names)\n",
    "print(well_config)"
   ]
  },
  {
   "cell_type": "code",
   "execution_count": null,
   "metadata": {},
   "outputs": [],
   "source": [
    "from quick_pp.plotter import update_well_config\n",
    "\n",
    "for well in well_names:\n",
    "    fluid_dict = {\n",
    "        'GUT': 7900,\n",
    "        'GDT': 8300,\n",
    "        'GOC': 8300,\n",
    "        'OUT': 8300,\n",
    "        'OWC': 8600,\n",
    "        'ODT': 8600,\n",
    "        'WUT': 8600,\n",
    "    }\n",
    "    well_config = update_well_config(well_config, well, \"ALL\", fluid_dict)"
   ]
  },
  {
   "cell_type": "code",
   "execution_count": null,
   "metadata": {},
   "outputs": [],
   "source": [
    "sorting_dict = {\n",
    "    'HW-10': 8,\n",
    "    'HW-24': 9,\n",
    "    'HW-25': 10,\n",
    "    'HW-26': 11,\n",
    "    'HW-27': 12,\n",
    "    'HW-28': 13,\n",
    "    'HW-29': 14,\n",
    "    'HW-3': 1,\n",
    "    'HW-30': 15,\n",
    "    'HW-31': 16,\n",
    "    'HW-32': 17,\n",
    "    'HW-4': 2,\n",
    "    'HW-5': 3,\n",
    "    'HW-6': 4,\n",
    "    'HW-7': 5,\n",
    "    'HW-8': 6,\n",
    "    'HW-9': 7\n",
    "}\n",
    "\n",
    "for well, sorting in sorting_dict.items():\n",
    "    well_config = update_well_config(well_config, well, sorting=sorting)"
   ]
  },
  {
   "cell_type": "code",
   "execution_count": null,
   "metadata": {},
   "outputs": [],
   "source": [
    "stick_plot(df, well_config)"
   ]
  },
  {
   "cell_type": "markdown",
   "metadata": {},
   "source": [
    "### Statistical Summary"
   ]
  },
  {
   "cell_type": "code",
   "execution_count": null,
   "metadata": {},
   "outputs": [],
   "source": [
    "import matplotlib.pyplot as plt\n",
    "\n",
    "for well, data in df.groupby('WELL_NAME'):\n",
    "    plt.figure(figsize=(15, 2))\n",
    "    plt.title(well)\n",
    "    plt.plot(data['DEPTH'], data['SWT'], label='SWT')\n",
    "    plt.plot(data['DEPTH'], data['SW'], label='SW')\n",
    "    plt.legend()\n",
    "    plt.ylim(0, 1)"
   ]
  },
  {
   "cell_type": "code",
   "execution_count": null,
   "metadata": {},
   "outputs": [],
   "source": [
    "from quick_pp.qaqc import quick_compare\n",
    "from quick_pp.utils import zone_flagging\n",
    "\n",
    "# df = project.get_all_data()\n",
    "\n",
    "df['VSHALE'] = df['VCLW']\n",
    "df['SWT'] = df['SWT'].where(df['SWT'] <= 1, 1)\n",
    "df = zone_flagging(df)\n",
    "compare_df, fig = quick_compare(df, return_fig=True)"
   ]
  },
  {
   "cell_type": "code",
   "execution_count": null,
   "metadata": {},
   "outputs": [],
   "source": [
    "from quick_pp.qaqc import extract_quick_stats\n",
    "\n",
    "extract_quick_stats(compare_df)"
   ]
  },
  {
   "cell_type": "markdown",
   "metadata": {},
   "source": [
    "### Volume Estimation"
   ]
  },
  {
   "cell_type": "code",
   "execution_count": null,
   "metadata": {},
   "outputs": [],
   "source": [
    "from quick_pp.ressum import mc_volumetric_method\n",
    "\n",
    "area_bound = (120, 840, 660, 160)\n",
    "thickness_bound = (3, 9, 6, 3)\n",
    "porosity_bound = (.065, .255, .175, .085)\n",
    "water_saturation_bound = (.230, 1, .186)\n",
    "volume_factor_bound = (1.2, 1.4)\n",
    "recovery_factor_bound = (.1, .5, .3, .075)\n",
    "\n",
    "n_try = 10000\n",
    "reserves = mc_volumetric_method(\n",
    "    area_bound=area_bound,\n",
    "    thickness_bound=thickness_bound,\n",
    "    porosity_bound=porosity_bound,\n",
    "    water_saturation_bound=water_saturation_bound,\n",
    "    volume_factor_bound=volume_factor_bound,\n",
    "    recovery_factor_bound=recovery_factor_bound,\n",
    "    n_try=n_try, percentile=[10, 50, 90]\n",
    ")"
   ]
  },
  {
   "cell_type": "markdown",
   "metadata": {},
   "source": [
    "### Sensitivity Analysis"
   ]
  },
  {
   "cell_type": "code",
   "execution_count": null,
   "metadata": {},
   "outputs": [],
   "source": [
    "from quick_pp.ressum import sensitivity_analysis\n",
    "\n",
    "sensitivity_analysis(\n",
    "    area_bound=area_bound,\n",
    "    thickness_bound=thickness_bound,\n",
    "    porosity_bound=porosity_bound,\n",
    "    water_saturation_bound=water_saturation_bound,\n",
    "    volume_factor_bound=volume_factor_bound,\n",
    "    recovery_factor_bound=recovery_factor_bound\n",
    ")"
   ]
  }
 ],
 "metadata": {
  "kernelspec": {
   "display_name": "venv310",
   "language": "python",
   "name": "python3"
  },
  "language_info": {
   "codemirror_mode": {
    "name": "ipython",
    "version": 3
   },
   "file_extension": ".py",
   "mimetype": "text/x-python",
   "name": "python",
   "nbconvert_exporter": "python",
   "pygments_lexer": "ipython3",
   "version": "3.10.9"
  }
 },
 "nbformat": 4,
 "nbformat_minor": 2
}
