{
 "cells": [
  {
   "cell_type": "code",
   "execution_count": 2,
   "metadata": {},
   "outputs": [],
   "source": [
    "import sys\n",
    "sys.path.append('..')\n",
    "%load_ext autoreload\n",
    "%autoreload 2\n",
    "%matplotlib inline"
   ]
  },
  {
   "cell_type": "markdown",
   "metadata": {},
   "source": [
    "# Volume Estimation and Uncertainty Analysis"
   ]
  },
  {
   "cell_type": "markdown",
   "metadata": {},
   "source": [
    "### 2D Volume Estimation\n",
    "\n",
    "In petrophysics, 2D volume estimation is used to calculate the volume of hydrocarbons in a reservoir using two-dimensional data, typically from seismic surveys or well logs. Here's a simplified process:\n",
    "\n",
    "1. **Data Collection**: Gather 2D seismic data and well log data. Seismic data provides a cross-sectional view of the subsurface, while well logs give detailed information about the rock and fluid properties at specific locations.\n",
    "\n",
    "2. **Structural Mapping**: Create structural maps of the reservoir. This involves interpreting seismic data to delineate the boundaries and structure of the reservoir.\n",
    "\n",
    "3. **Reservoir Zoning**: Divide the reservoir into zones based on geological and petrophysical properties. Each zone may have different characteristics affecting hydrocarbon volume.\n",
    "\n",
    "4. **Property Assignment**: Assign petrophysical properties (e.g., porosity, water saturation) to each zone. These properties are derived from well logs and core samples.\n",
    "\n",
    "5. **Volume Calculation**: Calculate the volume of each zone using the formula:\n",
    "   $$\n",
    "   V = A \\times h \\times \\phi \\times (1 - S_w)\n",
    "   $$\n",
    "   where:\n",
    "   - \\( V \\) is the hydrocarbon volume.\n",
    "   - \\( A \\) is the area of the zone.\n",
    "   - \\( h \\) is the thickness of the zone.\n",
    "   - \\( \\phi \\) is the porosity.\n",
    "   - \\( S_w \\) is the water saturation.\n",
    "\n",
    "### Uncertainty Analysis\n",
    "\n",
    "Uncertainty analysis is crucial because it helps quantify the confidence in the volume estimates. Here are the key steps:\n",
    "\n",
    "1. **Identify Uncertainties**: Determine the sources of uncertainty, such as data quality, interpretation errors, and variability in petrophysical properties.\n",
    "\n",
    "2. **Quantify Uncertainties**: Use statistical methods to quantify the uncertainties. This can involve:\n",
    "   - **Monte Carlo Simulation**: Generate multiple realizations of the reservoir model by varying the input parameters within their uncertainty ranges.\n",
    "   - **Sensitivity Analysis**: Assess how changes in each parameter affect the volume estimate.\n",
    "\n",
    "3. **Probabilistic Volume Estimation**: Combine the results from the simulations to create a probabilistic distribution of the hydrocarbon volume. This provides a range of possible volumes with associated probabilities.\n",
    "\n",
    "4. **Risk Assessment**: Evaluate the risk associated with different volume estimates. This helps in making informed decisions about reservoir development and management."
   ]
  },
  {
   "cell_type": "markdown",
   "metadata": {},
   "source": [
    "quick_pp estimates the volume by considering the distribution of each parameter. Smaller range and smaller standard deviation indicates less uncertainty and vice versa applies.\n",
    "\n",
    "Monte Carlo simulation is implemented ..."
   ]
  },
  {
   "cell_type": "code",
   "execution_count": null,
   "metadata": {},
   "outputs": [],
   "source": [
    "from quick_pp.ressum import mc_volumetric_method\n",
    "\n",
    "n_try = 10000\n",
    "reserves = mc_volumetric_method(\n",
    "    area_bound=(120, 840, 660, 160),\n",
    "    thickness_bound=(3, 9, 6, 3), \n",
    "    porosity_bound=(.2, .3, .1, .05),\n",
    "    water_saturation_bound=(.2, .35, .3),\n",
    "    volume_factor_bound=(1.2, 1.4),\n",
    "    recovery_factor_bound=(.1, .5, .3, .075),\n",
    "    n_try=n_try, percentile=[5, 30, 50, 70, 95]\n",
    ")\n"
   ]
  }
 ],
 "metadata": {
  "kernelspec": {
   "display_name": "venv310",
   "language": "python",
   "name": "python3"
  },
  "language_info": {
   "codemirror_mode": {
    "name": "ipython",
    "version": 3
   },
   "file_extension": ".py",
   "mimetype": "text/x-python",
   "name": "python",
   "nbconvert_exporter": "python",
   "pygments_lexer": "ipython3",
   "version": "3.10.9"
  }
 },
 "nbformat": 4,
 "nbformat_minor": 2
}
