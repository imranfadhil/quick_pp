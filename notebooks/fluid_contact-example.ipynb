{
 "cells": [
  {
   "cell_type": "code",
   "execution_count": null,
   "metadata": {},
   "outputs": [],
   "source": [
    "import sys\n",
    "sys.path.append('..')\n",
    "%load_ext autoreload\n",
    "%autoreload 2\n",
    "%matplotlib inline"
   ]
  },
  {
   "cell_type": "code",
   "execution_count": null,
   "metadata": {},
   "outputs": [],
   "source": [
    "import pandas as pd\n",
    "import matplotlib.pyplot as plt\n",
    "import numpy as np\n",
    "\n",
    "from quick_pp.utils import line_intersection\n",
    "from quick_pp.fluid_type import fit_pressure_gradient, fluid_contact_plot, func"
   ]
  },
  {
   "cell_type": "code",
   "execution_count": null,
   "metadata": {},
   "outputs": [],
   "source": [
    "pres = pd.read_csv(r\"data\\01_raw\\formation_pressure_data.csv\")"
   ]
  },
  {
   "cell_type": "code",
   "execution_count": null,
   "metadata": {},
   "outputs": [],
   "source": [
    "plt.figure(figsize=(6, 7))\n",
    "pres['HYDRO_STATIC_PRESSURE'] = pres['TVDSS'] * 0.433 + 14.7\n",
    "fluid_contact_plot(pres['TVDSS'], pres['HYDRO_STATIC_PRESSURE'], 0.433, 14.7, 'HYDROSTATIC')\n",
    "for fluid_type, data in pres.groupby('FLUID_TYPE'):\n",
    "    m, c = fit_pressure_gradient(data['TVDSS'], data['FORMATION_PRESSURE'])\n",
    "    fluid_contact_plot(data['TVDSS'], data['FORMATION_PRESSURE'], m, c, fluid_type,\n",
    "                       ylim=(5300, 4600), xlim=(3400, 3600))\n",
    "    print(m, c)\n"
   ]
  },
  {
   "cell_type": "code",
   "execution_count": null,
   "metadata": {},
   "outputs": [],
   "source": [
    "line_constants = {\n",
    "    'GAS': (0.085, 3031),\n",
    "    'OIL': (0.342, 1760),\n",
    "    'WATER': (0.431, 1315),\n",
    "}\n",
    "plt.figure(figsize=(6, 7))\n",
    "pres['HYDRO_STATIC_PRESSURE'] = pres['TVDSS'] * 0.433 + 14.7\n",
    "fluid_contact_plot(pres['TVDSS'], pres['HYDRO_STATIC_PRESSURE'], 0.433, 14.7, 'HYDROSTATIC')\n",
    "for fluid_type, data in pres.groupby('FLUID_TYPE'):\n",
    "    m = line_constants[fluid_type.upper()][0]\n",
    "    c = line_constants[fluid_type.upper()][1]\n",
    "    fluid_contact_plot(data['TVDSS'], data['FORMATION_PRESSURE'], m, c, fluid_type,\n",
    "                       ylim=(5300, 4600), xlim=(3400, 3575))\n",
    "\n",
    "# Identify fluid contacts\n",
    "tvd_pts = np.linspace(pres.TVDSS.min(), pres.TVDSS.max(), 100)\n",
    "gas_gradient_line = list(zip(func(tvd_pts, *line_constants['GAS']), tvd_pts))\n",
    "oil_gradient_line = list(zip(func(tvd_pts, *line_constants['OIL']), tvd_pts))\n",
    "water_gradient_line = list(zip(func(tvd_pts, *line_constants['WATER']), tvd_pts))\n",
    "\n",
    "fp_goc, goc = line_intersection(\n",
    "    (gas_gradient_line[1], gas_gradient_line[-1]),\n",
    "    (oil_gradient_line[1], oil_gradient_line[-1])\n",
    ")\n",
    "fp_owc, owc = line_intersection(\n",
    "    (oil_gradient_line[1], oil_gradient_line[-1]),\n",
    "    (water_gradient_line[1], water_gradient_line[-1])\n",
    ")\n",
    "\n",
    "print(f'GOC: {goc:.2f} ft, FPGOC: {fp_goc:.2f} psi/ft')\n",
    "print(f'OWC: {owc:.2f} ft, FPOWC: {fp_owc:.2f} psi/ft')"
   ]
  }
 ],
 "metadata": {
  "kernelspec": {
   "display_name": "venv310",
   "language": "python",
   "name": "python3"
  },
  "language_info": {
   "codemirror_mode": {
    "name": "ipython",
    "version": 3
   },
   "file_extension": ".py",
   "mimetype": "text/x-python",
   "name": "python",
   "nbconvert_exporter": "python",
   "pygments_lexer": "ipython3",
   "version": "3.10.9"
  }
 },
 "nbformat": 4,
 "nbformat_minor": 2
}
