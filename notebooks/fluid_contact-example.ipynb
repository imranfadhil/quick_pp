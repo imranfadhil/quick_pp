{
 "cells": [
  {
   "cell_type": "code",
   "execution_count": null,
   "metadata": {},
   "outputs": [],
   "source": [
    "import sys\n",
    "sys.path.append('..')\n",
    "%load_ext autoreload\n",
    "%autoreload 2\n",
    "%matplotlib inline"
   ]
  },
  {
   "cell_type": "code",
   "execution_count": null,
   "metadata": {},
   "outputs": [],
   "source": [
    "import pandas as pd\n",
    "import matplotlib.pyplot as plt\n",
    "from quick_pp.plotter import fit_pressure_gradient, fluid_contact_plot"
   ]
  },
  {
   "cell_type": "code",
   "execution_count": null,
   "metadata": {},
   "outputs": [],
   "source": [
    "pres = pd.read_csv(r\"C:\\Users\\imran\\OneDrive\\Desktop\\Petrophysics\\Data\\Book1.csv\")"
   ]
  },
  {
   "cell_type": "code",
   "execution_count": null,
   "metadata": {},
   "outputs": [],
   "source": [
    "plt.figure(figsize=(6, 7))\n",
    "for fluid_type, data in pres.groupby('FLUID_TYPE'):\n",
    "    m, c = fit_pressure_gradient(data['TVDSS'], data['FORMATION_PRESSURE'])\n",
    "    fluid_contact_plot(data['TVDSS'], data['FORMATION_PRESSURE'], m, c, fluid_type,\n",
    "                       ylim=(5300, 4600), xlim=(3400, 3600))\n",
    "    print(m, c)\n"
   ]
  },
  {
   "cell_type": "code",
   "execution_count": null,
   "metadata": {},
   "outputs": [],
   "source": [
    "line_constants = {\n",
    "    'GAS': (0.085, 3031),\n",
    "    'OIL': (0.342, 1760),\n",
    "    'WATER': (0.431, 1315),\n",
    "\n",
    "}\n",
    "plt.figure(figsize=(6, 7))\n",
    "for fluid_type, data in pres.groupby('FLUID_TYPE'):\n",
    "    m = line_constants[fluid_type.upper()][0]\n",
    "    c = line_constants[fluid_type.upper()][1]\n",
    "    fluid_contact_plot(data['TVDSS'], data['FORMATION_PRESSURE'], m, c, fluid_type,\n",
    "                       ylim=(5300, 4600), xlim=(3400, 3575))\n",
    "    print(m, c)"
   ]
  }
 ],
 "metadata": {
  "kernelspec": {
   "display_name": "venv310",
   "language": "python",
   "name": "python3"
  },
  "language_info": {
   "codemirror_mode": {
    "name": "ipython",
    "version": 3
   },
   "file_extension": ".py",
   "mimetype": "text/x-python",
   "name": "python",
   "nbconvert_exporter": "python",
   "pygments_lexer": "ipython3",
   "version": "3.10.9"
  }
 },
 "nbformat": 4,
 "nbformat_minor": 2
}
