{
 "cells": [
  {
   "cell_type": "code",
   "execution_count": null,
   "metadata": {},
   "outputs": [],
   "source": [
    "import sys\n",
    "sys.path.append('..')\n",
    "%load_ext autoreload\n",
    "%autoreload 2\n",
    "%matplotlib inline"
   ]
  },
  {
   "cell_type": "code",
   "execution_count": null,
   "metadata": {},
   "outputs": [],
   "source": [
    "import pandas as pd\n",
    "from IPython.display import clear_output\n",
    "\n",
    "import quick_pp.utils.las_handler as las\n",
    "from quick_pp.lithology import multi_mineral_model\n",
    "from quick_pp.plotter.well_plots import plotly_log\n",
    "from quick_pp.qaqc.qaqc import badhole_flag, mask_outside_threshold\n",
    "\n",
    "from quick_pp.config import Config"
   ]
  },
  {
   "cell_type": "code",
   "execution_count": null,
   "metadata": {},
   "outputs": [],
   "source": [
    "with open('X10_raw.las', 'rb') as f:\n",
    "    df, header, _ = las.read_las_file(f)\n",
    "\n",
    "# Mask outside threshold\n",
    "df = mask_outside_threshold(df, True)\n",
    "\n",
    "# Flag bad hole\n",
    "df = badhole_flag(df) if 'CALI' in df.columns else df\n",
    "clear_output()"
   ]
  },
  {
   "cell_type": "code",
   "execution_count": null,
   "metadata": {},
   "outputs": [],
   "source": [
    "neu_den_df = df[['DEPTH', 'GR', 'NPHI', 'RHOB']].dropna()\n",
    "vol_quartz, vol_calcite, vol_dolomite, vol_shale, vol_mud = multi_mineral_model(\n",
    "    neu_den_df['GR'], neu_den_df['NPHI'], neu_den_df['RHOB'])\n",
    "df_ssc_model = pd.DataFrame(\n",
    "    {'VSAND': vol_quartz, 'VCLW': vol_shale},\n",
    "    index=neu_den_df.DEPTH\n",
    ")\n",
    "df_ssc = df.merge(df_ssc_model, how='left', on='DEPTH', suffixes=('_ORI', ''))"
   ]
  },
  {
   "cell_type": "code",
   "execution_count": null,
   "metadata": {},
   "outputs": [],
   "source": [
    "fig = plotly_log(df_ssc)\n",
    "fig.show()\n",
    "# fig.write_html('plot.html')"
   ]
  }
 ],
 "metadata": {
  "kernelspec": {
   "display_name": "venv310",
   "language": "python",
   "name": "python3"
  },
  "language_info": {
   "codemirror_mode": {
    "name": "ipython",
    "version": 3
   },
   "file_extension": ".py",
   "mimetype": "text/x-python",
   "name": "python",
   "nbconvert_exporter": "python",
   "pygments_lexer": "ipython3",
   "version": "3.10.9"
  }
 },
 "nbformat": 4,
 "nbformat_minor": 2
}
