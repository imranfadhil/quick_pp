{
 "cells": [
  {
   "cell_type": "code",
   "execution_count": null,
   "id": "c2bc3f7c",
   "metadata": {},
   "outputs": [],
   "source": [
    "import sys\n",
    "sys.path.append('..')\n",
    "%load_ext autoreload\n",
    "%autoreload 2"
   ]
  },
  {
   "cell_type": "code",
   "execution_count": null,
   "id": "bff0fc27",
   "metadata": {},
   "outputs": [],
   "source": [
    "import numpy as np\n",
    "from segysak.segy import (\n",
    "    get_segy_texthead,\n",
    "    segy_header_scan,\n",
    "    segy_header_scrape,\n",
    ")\n",
    "import xarray as xr\n",
    "\n",
    "import matplotlib.pyplot as plt\n",
    "%matplotlib inline"
   ]
  },
  {
   "cell_type": "code",
   "execution_count": null,
   "id": "1e57e2d5",
   "metadata": {},
   "outputs": [],
   "source": [
    "from dask.distributed import Client\n",
    "\n",
    "client = Client()\n",
    "client"
   ]
  },
  {
   "cell_type": "code",
   "execution_count": null,
   "id": "00fcffe6",
   "metadata": {},
   "outputs": [],
   "source": [
    "import pathlib\n",
    "\n",
    "V3D_path = pathlib.Path(r\"data\\01_raw\\VOLVE\\seismic\\ST10010\\Stacks\\ST10010ZC11_PZ_PSDM_KIRCH_FULL_T.MIG_FIN.POST_STACK.3D.JS-017536.segy\")\n",
    "seisnc = xr.open_dataset(\n",
    "    V3D_path,\n",
    "    # engine=\"netcdf4\",\n",
    "    dim_byte_fields={\"iline\": 189, \"xline\": 193},\n",
    "    extra_byte_fields={\"cdp_x\": 181, \"cdp_y\": 185},\n",
    ")\n",
    "\n",
    "seisnc.segysak.scale_coords()\n",
    "\n",
    "print(seisnc.seis.humanbytes)\n",
    "print(seisnc.chunks)"
   ]
  },
  {
   "cell_type": "code",
   "execution_count": null,
   "id": "d6244466",
   "metadata": {},
   "outputs": [],
   "source": [
    "get_segy_texthead(V3D_path)"
   ]
  },
  {
   "cell_type": "code",
   "execution_count": null,
   "id": "2d294418",
   "metadata": {},
   "outputs": [],
   "source": [
    "import pandas as pd\n",
    "\n",
    "well_survey = pd.read_csv(r\"data\\01_raw\\VOLVE\\VOLVE_15-9_Surveys.csv\")\n",
    "\n",
    "well_survey.head()"
   ]
  },
  {
   "cell_type": "code",
   "execution_count": null,
   "id": "db10db53",
   "metadata": {},
   "outputs": [],
   "source": [
    "from quick_pp.geophysics.seismic import extract_seismic_along_well\n",
    "\n",
    "# Extract seismic along well trajectory\n",
    "# First prepare well coordinates dataframe\n",
    "well_name = '15-9-19-BT2'\n",
    "well_coords = well_survey[well_survey['WELL_NAME'] == well_name][\n",
    "    ['MD (m RKB)', 'Inc (deg)', 'Azim (deg)', 'UTM E/W (m)', 'UTM N/S (m)', 'TVD (m RKB)']\n",
    "]\n",
    "well_coords.columns = ['md', 'incl', 'azim', 'x', 'y', 'z']"
   ]
  },
  {
   "cell_type": "code",
   "execution_count": null,
   "id": "513b3d23",
   "metadata": {},
   "outputs": [],
   "source": [
    "well_coords.tail()"
   ]
  },
  {
   "cell_type": "code",
   "execution_count": null,
   "id": "54e15e0c",
   "metadata": {},
   "outputs": [],
   "source": [
    "from quick_pp.rock_physics.geophysics import *\n",
    "\n",
    "fig = plot_well_trajectory(seisnc, well_coords)"
   ]
  },
  {
   "cell_type": "code",
   "execution_count": null,
   "id": "89f42ae1",
   "metadata": {},
   "outputs": [],
   "source": [
    "fig = plot_seismic_along_well(seisnc, well_coords)"
   ]
  },
  {
   "cell_type": "code",
   "execution_count": null,
   "id": "bbd3efad",
   "metadata": {},
   "outputs": [],
   "source": [
    "import quick_pp.las_handler as las\n",
    "\n",
    "with open(rF'data\\01_raw\\VOLVE\\{well_name}.las', 'rb') as f:\n",
    "    df, header = las.read_las_files([f])"
   ]
  },
  {
   "cell_type": "code",
   "execution_count": null,
   "id": "5b4a2c6e",
   "metadata": {},
   "outputs": [],
   "source": [
    "clean_df = df.copy()\n",
    "clean_df['GR'] = clean_df.GR.clip(0, 200)\n",
    "\n",
    "well_seismic = extract_seismic_along_well(seisnc, well_coords)\n",
    "well_trace_df = well_seismic.to_dataframe().reset_index(names='DEPTH')\n",
    "well_trace_df['TRACE'] = well_trace_df['data']\n",
    "ref = pd.merge_asof(clean_df, well_trace_df, on='DEPTH', tolerance=0.1, direction='nearest')\n",
    "\n",
    "layers = auto_identify_layers_from_seismic_trace(ref, 'zero_crossings')\n",
    "# ref = calculate_reflectivity_from_layers(ref)\n",
    "ref = calculate_reflectivity_each_step(ref)\n",
    "ref.plot(x='DEPTH', y='REFLECTIVITY')"
   ]
  },
  {
   "cell_type": "code",
   "execution_count": null,
   "id": "386ff3c9",
   "metadata": {},
   "outputs": [],
   "source": [
    "ref.REFLECTIVITY.describe()"
   ]
  },
  {
   "cell_type": "code",
   "execution_count": null,
   "id": "518d0e68",
   "metadata": {},
   "outputs": [],
   "source": [
    "fig, axs = plt.subplots(5, 1, figsize=(15, 5), sharex=True)\n",
    "axs[0].plot(ref.DEPTH, ref.TRACE, label='TRACE')\n",
    "axs[1].plot(ref.DEPTH, ref.LAYERS)\n",
    "axs[2].plot(ref.DEPTH, ref.AI, label='AI')\n",
    "# axs[2].plot(ref.AVG_AI, label='AVG_AI')\n",
    "axs[2].legend()\n",
    "axs[3].plot(ref.DEPTH, ref.AI.rolling(100).mean().diff().clip(lower=-5000, upper=5000), label='AI Diff')\n",
    "axs[4].plot(ref.DEPTH, ref.REFLECTIVITY, label='Reflectivity')\n",
    "axs[4].legend()"
   ]
  },
  {
   "cell_type": "code",
   "execution_count": null,
   "id": "bde81892",
   "metadata": {},
   "outputs": [],
   "source": [
    "ref.tail()"
   ]
  },
  {
   "cell_type": "code",
   "execution_count": null,
   "id": "575b7e73",
   "metadata": {},
   "outputs": [],
   "source": [
    "well_trace_df.tail()"
   ]
  },
  {
   "cell_type": "code",
   "execution_count": null,
   "id": "c2f5c56b",
   "metadata": {},
   "outputs": [],
   "source": [
    "well_trace_df.TRACE.plot()"
   ]
  },
  {
   "cell_type": "code",
   "execution_count": null,
   "id": "9ac5c90c",
   "metadata": {},
   "outputs": [],
   "source": [
    "W = optimize_wavelet(ref.TRACE, ref.REFLECTIVITY.fillna(0))\n",
    "\n",
    "plt.plot(W[0], label='Wavelet')\n",
    "plt.legend()\n",
    "\n",
    "fig, axs = plt.subplots(2, 1, figsize=(15, 5), sharex=True)\n",
    "axs[0].plot(ref.TRACE, label='Seismic')\n",
    "axs[0].plot(W[2], label='Synthetic Seismic')\n",
    "axs[0].legend()\n",
    "axs[1].plot(ref.REFLECTIVITY, label='Reflectivity')\n",
    "axs[1].legend()"
   ]
  },
  {
   "cell_type": "code",
   "execution_count": null,
   "id": "3ac5a9bb",
   "metadata": {},
   "outputs": [],
   "source": [
    "from scipy.signal import convolve, hilbert\n",
    "\n",
    "def ricker_wavelet(length, f0=30, amplitude=1.0, phase=0.0, asymmetry=3):\n",
    "    \"\"\"Generate a Ricker wavelet with specified parameters.\n",
    "    \n",
    "    Args:\n",
    "        length (int): Length of wavelet in samples\n",
    "        f0 (float): Peak frequency in Hz\n",
    "        amplitude (float): Maximum amplitude of wavelet\n",
    "        phase (float): Phase rotation in degrees\n",
    "        asymmetry (float): Asymmetry factor (-1 to 1) to skew the wavelet\n",
    "    \n",
    "    Returns:\n",
    "        numpy.ndarray: Ricker wavelet\n",
    "    \"\"\"\n",
    "    t = np.linspace(-length/2, length/2, length) / 1000  # Convert to seconds\n",
    "    pi2 = np.pi * np.pi\n",
    "    \n",
    "    # Generate zero-phase Ricker wavelet\n",
    "    w = (1 - 2*pi2*f0**2*t**2) * np.exp(-pi2*f0**2*t**2)\n",
    "    w = w / np.max(np.abs(w))  # Normalize\n",
    "    \n",
    "    # Add asymmetry by warping the time axis\n",
    "    if asymmetry != 0:\n",
    "        t_warped = t + asymmetry * t**2\n",
    "        w = np.interp(t, t_warped, w)\n",
    "    \n",
    "    # Apply phase rotation\n",
    "    phase_rad = np.deg2rad(phase)\n",
    "    w = w * np.cos(phase_rad) + np.imag(hilbert(w)) * np.sin(phase_rad)\n",
    "    \n",
    "    # Apply amplitude scaling\n",
    "    w = w * amplitude\n",
    "    \n",
    "    # Apply tapering to reduce edge effects\n",
    "    taper = np.hanning(len(w))\n",
    "\n",
    "    return w * taper\n",
    "\n",
    "rw = ricker_wavelet(\n",
    "    length=31,\n",
    "    f0=.25,\n",
    "    amplitude=1,\n",
    "    phase=0\n",
    ")\n",
    "\n",
    "plt.plot(rw, label='Ricker Wavelet')\n",
    "plt.legend()\n",
    "\n",
    "fig, axs = plt.subplots(2, 1, figsize=(15, 5), sharex=True)\n",
    "axs[0].plot(ref.TRACE, label='Seismic')\n",
    "# axs[0].plot(W[2], label='Synthetic Seismic')\n",
    "axs[0].plot(convolve(ref.REFLECTIVITY, rw, mode='same'), label='Synthetic Seismic Convolved')\n",
    "axs[0].legend()\n",
    "axs[1].plot(ref.REFLECTIVITY, label='Reflectivity')\n",
    "axs[1].legend()"
   ]
  }
 ],
 "metadata": {
  "kernelspec": {
   "display_name": ".venv_geophysics",
   "language": "python",
   "name": "python3"
  },
  "language_info": {
   "codemirror_mode": {
    "name": "ipython",
    "version": 3
   },
   "file_extension": ".py",
   "mimetype": "text/x-python",
   "name": "python",
   "nbconvert_exporter": "python",
   "pygments_lexer": "ipython3",
   "version": "3.11.9"
  }
 },
 "nbformat": 4,
 "nbformat_minor": 5
}
