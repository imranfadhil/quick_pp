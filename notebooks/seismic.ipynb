{
 "cells": [
  {
   "cell_type": "code",
   "execution_count": null,
   "id": "c2bc3f7c",
   "metadata": {},
   "outputs": [],
   "source": [
    "import sys\n",
    "sys.path.append('..')\n",
    "%load_ext autoreload\n",
    "%autoreload 2"
   ]
  },
  {
   "cell_type": "code",
   "execution_count": null,
   "id": "f49696b8",
   "metadata": {},
   "outputs": [],
   "source": [
    "import pandas as pd\n",
    "\n",
    "# Set pandas display options to show all rows\n",
    "pd.set_option('display.max_rows', None)\n",
    "pd.set_option('display.max_columns', None)\n",
    "pd.set_option('display.width', None)\n"
   ]
  },
  {
   "cell_type": "code",
   "execution_count": null,
   "id": "bff0fc27",
   "metadata": {},
   "outputs": [],
   "source": [
    "import numpy as np\n",
    "from segysak.segy import (\n",
    "    get_segy_texthead,\n",
    "    segy_header_scan,\n",
    "    segy_header_scrape,\n",
    ")\n",
    "import xarray as xr\n",
    "\n",
    "import matplotlib.pyplot as plt\n",
    "%matplotlib inline"
   ]
  },
  {
   "cell_type": "code",
   "execution_count": null,
   "id": "1e57e2d5",
   "metadata": {},
   "outputs": [],
   "source": [
    "from dask.distributed import Client\n",
    "\n",
    "client = Client()\n",
    "client"
   ]
  },
  {
   "cell_type": "code",
   "execution_count": null,
   "id": "00fcffe6",
   "metadata": {},
   "outputs": [],
   "source": [
    "import pathlib\n",
    "\n",
    "V3D_path = pathlib.Path(r\"data\\01_raw\\VOLVE\\seismic\\ST10010\\Stacks\\ST10010ZC11_PZ_PSDM_RAW_FULL_T.MIG_RAW.POST_STACK.3D.JS-017536.segy\")\n",
    "seisnc = xr.open_dataset(\n",
    "    V3D_path,\n",
    "    # engine=\"netcdf4\",\n",
    "    dim_byte_fields={\"iline\": 189, \"xline\": 193},\n",
    "    extra_byte_fields={\"cdp_x\": 181, \"cdp_y\": 185},\n",
    ")\n",
    "\n",
    "seisnc.segysak.scale_coords()\n",
    "\n",
    "print(seisnc.seis.humanbytes)\n",
    "print(seisnc.chunks)"
   ]
  },
  {
   "cell_type": "code",
   "execution_count": null,
   "id": "d6244466",
   "metadata": {},
   "outputs": [],
   "source": [
    "get_segy_texthead(V3D_path)"
   ]
  },
  {
   "cell_type": "code",
   "execution_count": null,
   "id": "2d294418",
   "metadata": {},
   "outputs": [],
   "source": [
    "import pandas as pd\n",
    "\n",
    "well_survey = pd.read_csv(r\"C:\\projects\\quick_pp\\notebooks\\data\\01_raw\\VOLVE\\VOLVE_15-9_Surveys.csv\")\n",
    "\n",
    "well_survey.head()"
   ]
  },
  {
   "cell_type": "code",
   "execution_count": null,
   "id": "db10db53",
   "metadata": {},
   "outputs": [],
   "source": [
    "from quick_pp.geophysics.seismic import extract_seismic_along_well\n",
    "\n",
    "# Extract seismic along well trajectory\n",
    "# First prepare well coordinates dataframe\n",
    "well_coords = well_survey[well_survey['WELL_NAME'] == '15-9-19-A'][['MD (m RKB)', 'UTM E/W (m)', 'UTM N/S (m)', 'TVD (m RKB)']]\n",
    "well_coords.columns = ['md', 'x', 'y', 'z']"
   ]
  },
  {
   "cell_type": "code",
   "execution_count": null,
   "id": "54e15e0c",
   "metadata": {},
   "outputs": [],
   "source": [
    "from quick_pp.geophysics.seismic import plot_well_trajectory\n",
    "\n",
    "fig = plot_well_trajectory(seisnc, well_coords)"
   ]
  },
  {
   "cell_type": "code",
   "execution_count": null,
   "id": "89f42ae1",
   "metadata": {},
   "outputs": [],
   "source": [
    "from quick_pp.geophysics.seismic import plot_seismic_along_well\n",
    "\n",
    "fig = plot_seismic_along_well(seisnc, well_coords)"
   ]
  },
  {
   "cell_type": "code",
   "execution_count": null,
   "id": "bbd3efad",
   "metadata": {},
   "outputs": [],
   "source": [
    "import quick_pp.las_handler as las\n",
    "\n",
    "with open(r'data\\01_raw\\VOLVE\\15-9-19-A.las', 'rb') as f:\n",
    "    df, header = las.read_las_files([f])"
   ]
  },
  {
   "cell_type": "code",
   "execution_count": null,
   "id": "dcb8ccc1",
   "metadata": {},
   "outputs": [],
   "source": [
    "from quick_pp.geophysics.seismic import *\n",
    "layers = auto_identify_layers(df.GR, df.RHOB, df.DT, df.DEPTH)\n",
    "plt.figure(figsize=(15, 3))\n",
    "plt.plot(layers)\n"
   ]
  },
  {
   "cell_type": "code",
   "execution_count": null,
   "id": "69326f49",
   "metadata": {},
   "outputs": [],
   "source": [
    "ref = calculate_reflectivity(df[['DEPTH', 'GR', 'RHOB', 'DT']])\n",
    "ref.plot(x='DEPTH', y='REFLECTIVITY')"
   ]
  },
  {
   "cell_type": "code",
   "execution_count": null,
   "id": "5b4a2c6e",
   "metadata": {},
   "outputs": [],
   "source": [
    "well_seismic = extract_seismic_along_well(seisnc, well_coords)\n",
    "well_trace_df = well_seismic.to_dataframe().reset_index()\n",
    "well_trace_df['TRACE'] = well_trace_df['data']\n",
    "ref2 = pd.merge_asof(ref, well_trace_df, on='DEPTH')\n",
    "W = optimize_wavelet(ref2.TRACE, ref2.REFLECTIVITY.fillna(0))"
   ]
  },
  {
   "cell_type": "code",
   "execution_count": null,
   "id": "327f08aa",
   "metadata": {},
   "outputs": [],
   "source": [
    "ref2.head()"
   ]
  },
  {
   "cell_type": "code",
   "execution_count": null,
   "id": "9ac5c90c",
   "metadata": {},
   "outputs": [],
   "source": [
    "fig, axs = plt.subplots(3, 1, figsize=(15, 5), sharex=True)\n",
    "axs[0].plot(W[0], label='Wavelet')\n",
    "axs[0].legend()\n",
    "axs[1].plot(ref2.TRACE, label='Seismic')\n",
    "axs[1].legend()\n",
    "axs[2].plot(ref2.REFLECTIVITY, label='Reflectivity')\n",
    "axs[2].legend()"
   ]
  }
 ],
 "metadata": {
  "kernelspec": {
   "display_name": ".venv_geophysics",
   "language": "python",
   "name": "python3"
  },
  "language_info": {
   "codemirror_mode": {
    "name": "ipython",
    "version": 3
   },
   "file_extension": ".py",
   "mimetype": "text/x-python",
   "name": "python",
   "nbconvert_exporter": "python",
   "pygments_lexer": "ipython3",
   "version": "3.11.0"
  }
 },
 "nbformat": 4,
 "nbformat_minor": 5
}
