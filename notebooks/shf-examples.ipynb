{
 "cells": [
  {
   "cell_type": "code",
   "execution_count": null,
   "metadata": {},
   "outputs": [],
   "source": [
    "import sys\n",
    "sys.path.append('..')\n",
    "%load_ext autoreload\n",
    "%autoreload 2\n",
    "%matplotlib inline"
   ]
  },
  {
   "cell_type": "code",
   "execution_count": null,
   "metadata": {},
   "outputs": [],
   "source": [
    "from IPython.display import clear_output\n",
    "from tkinter import Tk, filedialog\n",
    "import matplotlib.pyplot as plt\n",
    "import pandas as pd\n",
    "import numpy as np\n",
    "\n",
    "from quick_pp.objects import Project\n",
    "import quick_pp.las_handler as las\n",
    "from quick_pp.core_calibration import fit_poroperm_curve, poroperm_xplot, j_xplot, bvw_xplot\n",
    "from quick_pp.rock_type import rock_typing, rqi, fzi, vsh_gr\n",
    "from quick_pp.plotter import plotly_log\n",
    "from quick_pp.core_calibration import sw_shf_leverett_j, sw_shf_cuddy, sw_shf_choo\n"
   ]
  },
  {
   "cell_type": "markdown",
   "metadata": {},
   "source": [
    "## Load and merge well data and core data"
   ]
  },
  {
   "cell_type": "code",
   "execution_count": null,
   "metadata": {},
   "outputs": [],
   "source": [
    "# Load well from saved file\n",
    "project = \"M3\"\n",
    "project_path = rf\"data\\04_project\\{project}.qppp\"\n",
    "project = Project().load(project_path)\n",
    "project.get_well_names()"
   ]
  },
  {
   "cell_type": "code",
   "execution_count": null,
   "metadata": {},
   "outputs": [],
   "source": [
    "col_rename = {\n",
    "    'NEUT': 'NPHI',\n",
    "    'NEUTHC': 'NPHI_HC',\n",
    "    'DENB': 'RHOB',\n",
    "    'DENBHC': 'RHOB_HC',\n",
    "}"
   ]
  },
  {
   "cell_type": "code",
   "execution_count": null,
   "metadata": {},
   "outputs": [],
   "source": [
    "# Load data\n",
    "well_name = 'M03-2'  # 'M01-3'\n",
    "well = project.get_well(well_name)\n",
    "well_data = well.data\n",
    "well_data = well_data.rename(columns=col_rename)\n",
    "\n",
    "min_depth = well_data.DEPTH.min()\n",
    "max_depth = well_data.DEPTH.max()\n",
    "well_data = well_data[(well_data.DEPTH >= min_depth) & (well_data.DEPTH <= max_depth)].copy()"
   ]
  },
  {
   "cell_type": "code",
   "execution_count": null,
   "metadata": {},
   "outputs": [],
   "source": [
    "core_df = pd.read_csv(r\"C:\\Users\\imran\\OneDrive\\Desktop\\Petrophysics\\Data\\Core\\M1_M3_RAW_SCAL.csv\")\n",
    "core_df = core_df[core_df.WELL_NAME == well_name].sort_values('DEPTH')"
   ]
  },
  {
   "cell_type": "code",
   "execution_count": null,
   "metadata": {},
   "outputs": [],
   "source": [
    "well_data = pd.merge_asof(well_data, core_df[['DEPTH', 'CPORE', 'CPERM']], on='DEPTH',\n",
    "                          direction='nearest', tolerance=1)"
   ]
  },
  {
   "cell_type": "markdown",
   "metadata": {},
   "source": [
    "## Rock Typing"
   ]
  },
  {
   "cell_type": "code",
   "execution_count": null,
   "metadata": {},
   "outputs": [],
   "source": [
    "a, b = fit_poroperm_curve(core_df['CPORE'], core_df['CPERM'])\n",
    "for i, data in core_df.groupby('SAMPLE_NO'):\n",
    "    poroperm_xplot(data['CPORE'], data['CPERM'], a, b, label=f'RT {i} - a: {a}, b: {b}')"
   ]
  },
  {
   "cell_type": "code",
   "execution_count": null,
   "metadata": {},
   "outputs": [],
   "source": [
    "# # Using FZI\n",
    "# well_data['FZI'] = fzi(well_data['PERM'], well_data['PHIT'])\n",
    "# well_data['ROCK_FLAG'] = rock_typing(well_data['FZI'], [.5, .7, 1.3], higher_is_better=True)\n",
    "\n",
    "# Using VSH_GR\n",
    "well_data['VSH_GR'] = vsh_gr(well_data['GR'])\n",
    "well_data['ROCK_FLAG'] = rock_typing(well_data['VSH_GR'], [.07, .12, .2], higher_is_better=False)\n",
    "\n",
    "fig = plotly_log(well_data)\n",
    "fig.show(config=dict(scrollZoom=True))\n",
    "# fig.write_html(rf\"{well_name}_log.html\", config=dict(scrollZoom=True))\n",
    "\n",
    "core_df = pd.merge_asof(core_df.drop(columns='ROCK_FLAG'), well_data[['DEPTH', 'ROCK_FLAG']], on='DEPTH', direction='nearest')"
   ]
  },
  {
   "cell_type": "markdown",
   "metadata": {},
   "source": [
    "## SHF"
   ]
  },
  {
   "cell_type": "code",
   "execution_count": null,
   "metadata": {},
   "outputs": [],
   "source": [
    "core_df.ROCK_FLAG"
   ]
  },
  {
   "cell_type": "code",
   "execution_count": null,
   "metadata": {},
   "outputs": [],
   "source": [
    "for rock, rock_data in core_df.groupby('SAMPLE_NO'):\n",
    "    temp_df = pd.DataFrame()\n",
    "    for i, data in rock_data.iterrows():\n",
    "        t_df = data[[c for c in rock_data.columns if 'SW' in c]].reset_index(drop=True).T.reset_index(name='SW')\n",
    "        # t_df = pd.concat([t_df, data[[c for c in well_data.columns if 'PC' in c]].reset_index(drop=True).T.reset_index(name='PC')], axis=1)\n",
    "        # t_df = pd.concat([t_df, data[[c for c in well_data.columns if 'SWN' in c]].reset_index(drop=True).T.reset_index(name='SWN')], axis=1)\n",
    "        t_df = pd.concat([t_df, data[[c for c in rock_data.columns if 'J' in c]].reset_index(drop=True).T.reset_index(name='J')], axis=1)\n",
    "        t_df.drop(columns='index', inplace=True)\n",
    "        temp_df = pd.concat([temp_df, t_df])\n",
    "    temp_df.dropna(inplace=True)\n",
    "    temp_df = temp_df[(temp_df > 0) & (temp_df != np.inf)]\n",
    "    temp_df = temp_df.sort_values(by='J').reset_index(drop=True)\n",
    "    j_xplot(temp_df['SW'], temp_df['J'], log_log=False,\n",
    "            label=f\"#{rock}\")\n",
    "        # plt.show()\n",
    "\n",
    "j_constants = {\n",
    "    'RT1': {'a': 0.02, 'b': -2.5},\n",
    "    'RT2': {'a': 0.03, 'b': -2.7},\n",
    "    'RT3': {'a': 0.07, 'b': -3.2},\n",
    "}\n",
    "for rock, param in j_constants.items():\n",
    "    a = param['a']\n",
    "    b = param['b']\n",
    "    j_xplot(sw=0, j=0, a=a, b=b, log_log=False, ylim=(0.01, 10),\n",
    "            label=f\"#{rock} - a: {a}, b: {b}\")"
   ]
  },
  {
   "cell_type": "code",
   "execution_count": null,
   "metadata": {},
   "outputs": [],
   "source": [
    "for rock, rock_data in core_df.groupby('SAMPLE_NO'):\n",
    "    temp_df = pd.DataFrame()\n",
    "    for i, data in rock_data.iterrows():\n",
    "        cpore = data['CPORE']\n",
    "        t_df = data[[c for c in rock_data.columns if 'SW' in c]].reset_index(drop=True).T.reset_index(name='SW')\n",
    "        t_df['BVW'] = t_df['SW'] * cpore\n",
    "        t_df = pd.concat([t_df, data[[c for c in rock_data.columns if 'PC' in c]].reset_index(drop=True).T.reset_index(name='PC')], axis=1)\n",
    "        # t_df = pd.concat([t_df, data[[c for c in well_data.columns if 'SWN' in c]].reset_index(drop=True).T.reset_index(name='SWN')], axis=1)\n",
    "        # t_df = pd.concat([t_df, data[[c for c in well_data.columns if 'J' in c]].reset_index(drop=True).T.reset_index(name='J')], axis=1)\n",
    "        t_df.drop(columns='index', inplace=True)\n",
    "        temp_df = pd.concat([temp_df, t_df])\n",
    "    temp_df.dropna(inplace=True)\n",
    "    temp_df = temp_df[(temp_df > 0) & (temp_df != np.inf)]\n",
    "    temp_df = temp_df.sort_values(by='PC').reset_index(drop=True)\n",
    "    bvw_xplot(temp_df['BVW'], temp_df['PC'], label=f\"RT {rock}\")\n",
    "\n",
    "cuddy_constants = {\n",
    "    1: {'a': 0.01, 'b': -2.0},\n",
    "    2: {'a': 0.02, 'b': -2.3},\n",
    "    3: {'a': 0.03, 'b': -3.2},\n",
    "}\n",
    "for rock, param in cuddy_constants.items():\n",
    "    a = param['a']\n",
    "    b = param['b']\n",
    "    bvw_xplot(0, 0, a, b, label=f\"RT {rock} - a: {a}, b: {b}\", ylim=(0.01, 200), log_log=True)"
   ]
  },
  {
   "cell_type": "code",
   "execution_count": null,
   "metadata": {},
   "outputs": [],
   "source": [
    "FWL = 6000  # 5967\n",
    "\n",
    "j_constants = {\n",
    "    1: {'a': 0.02, 'b': -2.5},\n",
    "    2: {'a': 0.03, 'b': -2.7},\n",
    "    3: {'a': 0.07, 'b': -3.2},\n",
    "}\n",
    "cuddy_constants = {\n",
    "    1: {'a': 0.01, 'b': -2.0},\n",
    "    2: {'a': 0.02, 'b': -2.3},\n",
    "    3: {'a': 0.03, 'b': -3.2},\n",
    "}\n",
    "for rock, rock_data in well_data.groupby('ROCK_FLAG'):\n",
    "    if rock == 4:\n",
    "         well_data.loc[well_data['ROCK_FLAG'] == rock, ['SHF_J', 'SHF_Choo', 'SHF_Cuddy']] = 1\n",
    "    else:\n",
    "        a = j_constants[rock]['a']\n",
    "        b = j_constants[rock]['b']\n",
    "        well_data.loc[well_data['ROCK_FLAG'] == rock, 'SHF_J'] = sw_shf_leverett_j(\n",
    "            rock_data['PERM'], rock_data['PHIT'], rock_data['DEPTH'], \n",
    "            fwl=FWL, ift=26, gw=0.433, ghc=0.35, a=a, b=b\n",
    "        )\n",
    "\n",
    "        well_data.loc[well_data['ROCK_FLAG'] == rock, 'SHF_Choo'] = sw_shf_choo(\n",
    "            well_data['PERM'], well_data['PHIT'], well_data['PHIE'], well_data['DEPTH'],\n",
    "            fwl=FWL, ift=26, gw=0.433, ghc=0.35, b0=0.4\n",
    "        )\n",
    "\n",
    "        a = cuddy_constants[rock]['a']\n",
    "        b = cuddy_constants[rock]['b']\n",
    "        well_data.loc[well_data['ROCK_FLAG'] == rock, 'SHF_Cuddy'] = sw_shf_cuddy(\n",
    "            well_data['PHIT'], well_data['DEPTH'],\n",
    "            fwl=FWL, gw=0.433, ghc=0.35, a=0.27, b=-2.0124)\n",
    "\n",
    "well_data[['DEPTH', 'SWT', 'SHF_J', 'SHF_Choo', 'SHF_Cuddy']].plot(x='DEPTH', figsize=(10, 3))\n",
    "plt.ylim(0, 1.1)\n",
    "plt.xlim(5600, 6200)"
   ]
  },
  {
   "cell_type": "code",
   "execution_count": null,
   "metadata": {},
   "outputs": [],
   "source": [
    "well_data['SHF'] = well_data['SHF_Cuddy']\n",
    "\n",
    "fig = plotly_log(well_data)\n",
    "fig.show(config=dict(scrollZoom=True))\n",
    "# fig.write_html(rf\"{well_name}_log.html\", config=dict(scrollZoom=True))"
   ]
  },
  {
   "cell_type": "code",
   "execution_count": null,
   "metadata": {},
   "outputs": [],
   "source": [
    "# from quick_pp.core_calibration import estimate_hafwl\n",
    "\n",
    "# hafwl = estimate_hafwl(\n",
    "#     sw=well_df['SW[0]'],\n",
    "#     poro=well_df['CPORE'],\n",
    "#     perm=well_df['CPERM'],\n",
    "#     ift=26,\n",
    "#     gw=1.0,\n",
    "#     ghc=0.7,\n",
    "#     a=0.507,\n",
    "#     b=2.455\n",
    "# )\n",
    "# hafwl"
   ]
  },
  {
   "cell_type": "code",
   "execution_count": null,
   "metadata": {},
   "outputs": [],
   "source": [
    "# # Need HAFWL to plot \n",
    "# df.plot(x='BVW', y='DEPTH_SHIFTED', kind='scatter', logy=False, xlim=(0, 0.5))"
   ]
  },
  {
   "cell_type": "code",
   "execution_count": null,
   "metadata": {},
   "outputs": [],
   "source": [
    "# df[[c for c in df.columns if 'PC' in c]].describe()"
   ]
  },
  {
   "cell_type": "code",
   "execution_count": null,
   "metadata": {},
   "outputs": [],
   "source": [
    "# for i in range(8):\n",
    "#     df.plot(x=f'SW[{i}]', y=f'PC[{i}]', kind='scatter', logy=False, xlim=(0, 1))\n",
    "# plt.show()"
   ]
  }
 ],
 "metadata": {
  "kernelspec": {
   "display_name": "venv310",
   "language": "python",
   "name": "python3"
  },
  "language_info": {
   "codemirror_mode": {
    "name": "ipython",
    "version": 3
   },
   "file_extension": ".py",
   "mimetype": "text/x-python",
   "name": "python",
   "nbconvert_exporter": "python",
   "pygments_lexer": "ipython3",
   "version": "3.10.9"
  }
 },
 "nbformat": 4,
 "nbformat_minor": 2
}
