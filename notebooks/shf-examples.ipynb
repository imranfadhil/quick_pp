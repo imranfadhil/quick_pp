{
 "cells": [
  {
   "cell_type": "code",
   "execution_count": null,
   "metadata": {},
   "outputs": [],
   "source": [
    "import sys\n",
    "sys.path.append('..')\n",
    "%load_ext autoreload\n",
    "%autoreload 2\n",
    "%matplotlib inline"
   ]
  },
  {
   "cell_type": "code",
   "execution_count": null,
   "metadata": {},
   "outputs": [],
   "source": [
    "from IPython.display import clear_output\n",
    "from tkinter import Tk, filedialog\n",
    "import matplotlib.pyplot as plt\n",
    "import pandas as pd\n",
    "import numpy as np\n",
    "\n",
    "import quick_pp.las_handler as las"
   ]
  },
  {
   "cell_type": "code",
   "execution_count": null,
   "metadata": {},
   "outputs": [],
   "source": [
    "# Loading a dataframe\n",
    "\n",
    "root = Tk()\n",
    "file_objects = filedialog.askopenfiles(title='Choose well Log ASCII Standard (LAS) files to be combined',\n",
    "                                        filetype=(('LAS Files', '*.LAS *.las'), ('All Files', '*.*')),\n",
    "                                        multiple=True,\n",
    "                                        mode='rb')\n",
    "root.destroy()\n",
    "df, _ = las.read_las_files(file_objects)"
   ]
  },
  {
   "cell_type": "code",
   "execution_count": null,
   "metadata": {},
   "outputs": [],
   "source": [
    "print([c for c in df.columns if 'RT' in c])"
   ]
  },
  {
   "cell_type": "code",
   "execution_count": null,
   "metadata": {},
   "outputs": [],
   "source": [
    "df.WELL_NAME.unique()"
   ]
  },
  {
   "cell_type": "code",
   "execution_count": null,
   "metadata": {},
   "outputs": [],
   "source": [
    "from quick_pp.core_calibration import fit_poroperm_curve, poroperm_xplot\n",
    "\n",
    "poroperm_constants = {}\n",
    "for rt, rt_data in df.groupby('RT_V2_2023'):\n",
    "    a, b = fit_poroperm_curve(rt_data['CPORE'], rt_data['CPERM'])\n",
    "    poroperm_constants[rt] = {'a': a, 'b': b}\n",
    "    poroperm_xplot(rt_data['CPORE'], rt_data['CPERM'], a, b, label=f'RT {rt} - a: {a}, b: {b}')\n",
    "    # plt.show()\n"
   ]
  },
  {
   "cell_type": "code",
   "execution_count": null,
   "metadata": {},
   "outputs": [],
   "source": [
    "poroperm_constants"
   ]
  },
  {
   "cell_type": "code",
   "execution_count": null,
   "metadata": {},
   "outputs": [],
   "source": [
    "from quick_pp.core_calibration import fit_poroperm_curve, poroperm_xplot\n",
    "\n",
    "poroperm_constants = {\n",
    "    1.0: {'a': 624556, 'b': 4.325},\n",
    "    2.0: {'a': 100029, 'b': 3.832},\n",
    "    3.0: {'a': 131015, 'b': 4.666},\n",
    "    4.0: {'a': 26971, 'b': 4.308}\n",
    "}\n",
    "for rt, rt_data in df.groupby('RT_V2_2023'):\n",
    "    a = poroperm_constants[rt]['a']\n",
    "    b = poroperm_constants[rt]['b']    \n",
    "    poroperm_xplot(rt_data['CPORE'], rt_data['CPERM'], a, b, label=f'RT {rt} - a: {a}, b: {b}')\n",
    "    # plt.show()\n"
   ]
  },
  {
   "cell_type": "code",
   "execution_count": null,
   "metadata": {},
   "outputs": [],
   "source": [
    "from quick_pp.core_calibration import fit_j_curve, j_xplot\n",
    "\n",
    "well_name = 'BA-H010'\n",
    "well_df = df[df['WELL_NAME'] == well_name]\n",
    "well_df.dropna(axis=1, how='all', inplace=True)\n",
    "\n",
    "j_constants = {}\n",
    "for rt, well_data in well_df.groupby('RT_V2_2023'):\n",
    "    temp_df = pd.DataFrame()\n",
    "    for i, data in well_data.iterrows():\n",
    "        t_df = data[[c for c in well_data.columns if 'SW[' in c]].reset_index(drop=True).T.reset_index(name='SW')\n",
    "        # t_df = pd.concat([t_df, data[[c for c in well_data.columns if 'PC' in c]].reset_index(drop=True).T.reset_index(name='PC')], axis=1)\n",
    "        # t_df = pd.concat([t_df, data[[c for c in well_data.columns if 'SWN' in c]].reset_index(drop=True).T.reset_index(name='SWN')], axis=1)\n",
    "        t_df = pd.concat([t_df, data[[c for c in well_data.columns if 'J' in c]].reset_index(drop=True).T.reset_index(name='J')], axis=1)\n",
    "        t_df.drop(columns='index', inplace=True)\n",
    "        temp_df = pd.concat([temp_df, t_df])\n",
    "    temp_df.dropna(inplace=True)\n",
    "    temp_df = temp_df[(temp_df > 0) & (temp_df != np.inf)]\n",
    "    temp_df = temp_df.sort_values(by='SW').reset_index(drop=True)\n",
    "    a, b = fit_j_curve(temp_df['SW'], temp_df['J'])\n",
    "    j_constants[rt] = {'a': a, 'b': b}\n",
    "    j_xplot(temp_df['SW'], temp_df['J'], a, b, label=f\"RT {rt} - a: {a}, b: {b}\")\n",
    "    # plt.show()\n"
   ]
  },
  {
   "cell_type": "code",
   "execution_count": null,
   "metadata": {},
   "outputs": [],
   "source": [
    "j_constants"
   ]
  },
  {
   "cell_type": "code",
   "execution_count": null,
   "metadata": {},
   "outputs": [],
   "source": [
    "from quick_pp.core_calibration import fit_j_curve, j_xplot\n",
    "\n",
    "well_name = 'BA-H010'\n",
    "well_df = df[df['WELL_NAME'] == well_name]\n",
    "well_df.dropna(axis=1, how='all', inplace=True)\n",
    "\n",
    "j_constants = {\n",
    "    # 3.0: {'a': 0.507, 'b': -2.445}, \n",
    "    # 4.0: {'a': 0.583, 'b': -1.969}\n",
    "    3.0: {'a': 0.0271, 'b': -2.653}, \n",
    "    4.0: {'a': 0.0363, 'b': -3.483}\n",
    "}\n",
    "for rt, well_data in well_df.groupby('RT_V2_2023'):\n",
    "    temp_df = pd.DataFrame()\n",
    "    for i, data in well_data.iterrows():\n",
    "        t_df = data[[c for c in well_data.columns if 'SW[' in c]].reset_index(drop=True).T.reset_index(name='SW')\n",
    "        # t_df = pd.concat([t_df, data[[c for c in well_data.columns if 'PC' in c]].reset_index(drop=True).T.reset_index(name='PC')], axis=1)\n",
    "        # t_df = pd.concat([t_df, data[[c for c in well_data.columns if 'SWN' in c]].reset_index(drop=True).T.reset_index(name='SWN')], axis=1)\n",
    "        t_df = pd.concat([t_df, data[[c for c in well_data.columns if 'J' in c]].reset_index(drop=True).T.reset_index(name='J')], axis=1)\n",
    "        t_df.drop(columns='index', inplace=True)\n",
    "        temp_df = pd.concat([temp_df, t_df])\n",
    "    temp_df.dropna(inplace=True)\n",
    "    temp_df = temp_df[(temp_df > 0) & (temp_df != np.inf)]\n",
    "    temp_df = temp_df.sort_values(by='SW').reset_index(drop=True)\n",
    "    a = j_constants[rt]['a']\n",
    "    b = j_constants[rt]['b']\n",
    "    j_xplot(temp_df['SW'], temp_df['J'], a, b, label=f\"RT {rt} - a: {a}, b: {b}\")\n",
    "    # plt.show()\n"
   ]
  },
  {
   "cell_type": "code",
   "execution_count": null,
   "metadata": {},
   "outputs": [],
   "source": [
    "# Merge core data with well data\n",
    "well_df_core = well_df.dropna(subset=['CPORE', 'CPERM']).sort_values(by='DEPTH')\n",
    "filtered_df = pd.merge_asof(barm_h010, well_df_core[['DEPTH', 'CPERM', 'CPORE']], on='DEPTH', direction='nearest', tolerance=0.5)"
   ]
  },
  {
   "cell_type": "code",
   "execution_count": null,
   "metadata": {},
   "outputs": [],
   "source": [
    "# filtered_df.to_csv('barm_h010_core.csv', index=False)\n",
    "filtered_df = pd.read_csv('barm_h010_core.csv')"
   ]
  },
  {
   "cell_type": "code",
   "execution_count": null,
   "metadata": {},
   "outputs": [],
   "source": [
    "min_depth = 4650\n",
    "max_depth = 4745\n",
    "test = filtered_df[(filtered_df.DEPTH > min_depth) & (filtered_df.DEPTH < max_depth)][['DEPTH', 'PHIT', 'CPORE']]\n",
    "plt.figure(figsize=(20, 3))\n",
    "plt.plot(test.DEPTH, test.PHIT, label='PHIT')\n",
    "plt.scatter(x=test.DEPTH, y=test.CPORE, label='CPORE')"
   ]
  },
  {
   "cell_type": "code",
   "execution_count": null,
   "metadata": {},
   "outputs": [],
   "source": [
    "min_depth = 4650\n",
    "max_depth = 4745\n",
    "test = filtered_df[(filtered_df.DEPTH > min_depth) & (filtered_df.DEPTH < max_depth)][['DEPTH', 'PERM', 'CPERM']]\n",
    "plt.figure(figsize=(20, 3))\n",
    "plt.plot(test.DEPTH, test.PERM, label='PERM')\n",
    "plt.scatter(x=test.DEPTH, y=test.CPERM, label='CPERM')\n",
    "plt.yscale('log')"
   ]
  },
  {
   "cell_type": "code",
   "execution_count": null,
   "metadata": {},
   "outputs": [],
   "source": [
    "from quick_pp.core_calibration import sw_shf_leverett_j\n",
    "min_depth = 4600\n",
    "max_depth = 4745\n",
    "test = filtered_df[(filtered_df.DEPTH > min_depth) & (filtered_df.DEPTH < max_depth)].copy()\n",
    "# TODO: groupby RT and use\n",
    "test['SW_SHF'] = sw_shf_leverett_j(\n",
    "    test['PERM'], test['PHIT'], test['DEPTH'], \n",
    "    fwl=4680,\n",
    "    ift=26,\n",
    "    gw=0.433,\n",
    "    ghc=0.35,\n",
    "    a=.038271,\n",
    "    b=-5.33\n",
    ")\n",
    "plt.figure(figsize=(20, 3))\n",
    "plt.plot(test.DEPTH, test.SWT, label='SWT')\n",
    "plt.plot(test.DEPTH, test.SW_SHF, label='SW_SHF')\n",
    "plt.legend()"
   ]
  },
  {
   "cell_type": "code",
   "execution_count": null,
   "metadata": {},
   "outputs": [],
   "source": [
    "from quick_pp.rock_type import rock_typing, rqi, fzi, vsh_gr\n",
    "filtered_df['RQI'] = rqi(filtered_df['PERM'], filtered_df['PHIT'])\n",
    "filtered_df['FZI'] = fzi(filtered_df['PERM'], filtered_df['PHIT'])\n",
    "filtered_df['VSH_GR'] = vsh_gr(filtered_df['GR'])\n",
    "filtered_df['ROCK_FLAG'] = rock_typing(filtered_df['FZI'], [2.3, 4.1, 6.0], False)\n",
    "# filtered_df['ROCK_FLAG'] = rock_typing(filtered_df['VSH_GR'])\n",
    "\n",
    "\n",
    "for rt, data in filtered_df.groupby('ROCK_FLAG'):\n",
    "    a, b = fit_poroperm_curve(data['PHIT'], data['PERM'])\n",
    "    poroperm_xplot(data['PHIT'], data['PERM'], a, b, label=f'RT {rt} - a: {a}, b: {b}')\n"
   ]
  },
  {
   "cell_type": "code",
   "execution_count": null,
   "metadata": {},
   "outputs": [],
   "source": [
    "from quick_pp.core_calibration import fit_j_curve, bvw_xplot\n",
    "\n",
    "well_name = 'BA-H010'\n",
    "well_df = df[df['WELL_NAME'] == well_name]\n",
    "well_df.dropna(axis=1, how='all', inplace=True)\n",
    "\n",
    "for rt, well_data in well_df.groupby('RT_V2_2023'):\n",
    "    temp_df = pd.DataFrame()\n",
    "    for i, data in well_data.iterrows():\n",
    "        cpore = data['CPORE']\n",
    "        t_df = data[[c for c in well_data.columns if 'SW[' in c]].reset_index(drop=True).T.reset_index(name='SW')\n",
    "        t_df['BVW'] = t_df['SW'] * cpore\n",
    "        t_df = pd.concat([t_df, data[[c for c in well_data.columns if 'PC' in c]].reset_index(drop=True).T.reset_index(name='PC')], axis=1)\n",
    "        # t_df = pd.concat([t_df, data[[c for c in well_data.columns if 'SWN' in c]].reset_index(drop=True).T.reset_index(name='SWN')], axis=1)\n",
    "        # t_df = pd.concat([t_df, data[[c for c in well_data.columns if 'J' in c]].reset_index(drop=True).T.reset_index(name='J')], axis=1)\n",
    "        t_df.drop(columns='index', inplace=True)\n",
    "        temp_df = pd.concat([temp_df, t_df])\n",
    "    temp_df.dropna(inplace=True)\n",
    "    temp_df = temp_df[(temp_df > 0) & (temp_df != np.inf)]\n",
    "    temp_df = temp_df.sort_values(by='SW').reset_index(drop=True)\n",
    "    a, b = fit_j_curve(temp_df['BVW'], temp_df['PC'])\n",
    "    bvw_xplot(temp_df['BVW'], temp_df['PC'], a, b, label=f\"RT {rt} - a: {a}, b: {b}\")\n",
    "    # plt.show()\n"
   ]
  },
  {
   "cell_type": "code",
   "execution_count": null,
   "metadata": {},
   "outputs": [],
   "source": [
    "from quick_pp.core_calibration import sw_shf_cuddy\n",
    "min_depth = 4600\n",
    "max_depth = 4745\n",
    "test = filtered_df[(filtered_df.DEPTH > min_depth) & (filtered_df.DEPTH < max_depth)].copy()\n",
    "\n",
    "test['SHF'] = sw_shf_cuddy(test['PHIT'], test['DEPTH'],\n",
    "                            fwl=4750, \n",
    "                            gw=0.433, ghc=0.35, a=0.27, b=-2.0124)\n",
    "\n",
    "plt.figure(figsize=(20, 3))\n",
    "plt.plot(test.DEPTH, test.SWT, label='SWT')\n",
    "plt.plot(test.DEPTH, test.SHF, label='SHF')\n",
    "plt.legend()"
   ]
  },
  {
   "cell_type": "code",
   "execution_count": null,
   "metadata": {},
   "outputs": [],
   "source": [
    "from quick_pp.core_calibration import sw_shf_cuddy\n",
    "filtered_df['SHF'] = sw_shf_cuddy(filtered_df['PHIT'], filtered_df['DEPTH'], fwl=4750, gw=0.433, ghc=0.35, a=0.27, b=-2.0124)"
   ]
  },
  {
   "cell_type": "code",
   "execution_count": null,
   "metadata": {},
   "outputs": [],
   "source": [
    "from quick_pp.core_calibration import sw_shf_leverett_j\n",
    "\n",
    "j_constants = {\n",
    "    1: {'a': 0.0271, 'b': -2.653},\n",
    "    2: {'a': 0.0363, 'b': -3.483},\n",
    "    3: {'a': 0.0382, 'b': -5.330}, \n",
    "    4: {'a': 0.0563, 'b': -8.483}\n",
    "}\n",
    "for rt, well_data in filtered_df.groupby('ROCK_FLAG'):\n",
    "    a = j_constants[rt]['a']\n",
    "    b = j_constants[rt]['b']\n",
    "    filtered_df.loc[filtered_df['ROCK_FLAG'] == rt, 'SHF'] = sw_shf_leverett_j(\n",
    "        well_data['PERM'], well_data['PHIT'], well_data['DEPTH'], \n",
    "        fwl=4680,\n",
    "        ift=26,\n",
    "        gw=0.433,\n",
    "        ghc=0.35,\n",
    "        a=a,\n",
    "        b=b\n",
    "    )"
   ]
  },
  {
   "cell_type": "code",
   "execution_count": null,
   "metadata": {},
   "outputs": [],
   "source": [
    "from quick_pp.plotter import plotly_log\n",
    "\n",
    "plotly_log(filtered_df)"
   ]
  },
  {
   "cell_type": "code",
   "execution_count": null,
   "metadata": {},
   "outputs": [],
   "source": [
    "from quick_pp.core_calibration import estimate_hafwl\n",
    "\n",
    "hafwl = estimate_hafwl(\n",
    "    sw=well_df['SW[0]'],\n",
    "    poro=well_df['CPORE'],\n",
    "    perm=well_df['CPERM'],\n",
    "    ift=26,\n",
    "    gw=1.0,\n",
    "    ghc=0.7,\n",
    "    a=0.507,\n",
    "    b=2.455\n",
    ")\n",
    "hafwl"
   ]
  },
  {
   "cell_type": "code",
   "execution_count": null,
   "metadata": {},
   "outputs": [],
   "source": [
    "# # Need HAFWL to plot \n",
    "# df.plot(x='BVW', y='DEPTH_SHIFTED', kind='scatter', logy=False, xlim=(0, 0.5))"
   ]
  },
  {
   "cell_type": "code",
   "execution_count": null,
   "metadata": {},
   "outputs": [],
   "source": [
    "# df[[c for c in df.columns if 'PC' in c]].describe()"
   ]
  },
  {
   "cell_type": "code",
   "execution_count": null,
   "metadata": {},
   "outputs": [],
   "source": [
    "# for i in range(8):\n",
    "#     df.plot(x=f'SW[{i}]', y=f'PC[{i}]', kind='scatter', logy=False, xlim=(0, 1))\n",
    "# plt.show()"
   ]
  }
 ],
 "metadata": {
  "kernelspec": {
   "display_name": "venv310",
   "language": "python",
   "name": "python3"
  },
  "language_info": {
   "codemirror_mode": {
    "name": "ipython",
    "version": 3
   },
   "file_extension": ".py",
   "mimetype": "text/x-python",
   "name": "python",
   "nbconvert_exporter": "python",
   "pygments_lexer": "ipython3",
   "version": "3.10.9"
  }
 },
 "nbformat": 4,
 "nbformat_minor": 2
}
