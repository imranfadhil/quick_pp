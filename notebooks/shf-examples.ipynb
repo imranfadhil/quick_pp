{
 "cells": [
  {
   "cell_type": "code",
   "execution_count": null,
   "metadata": {},
   "outputs": [],
   "source": [
    "import sys\n",
    "sys.path.append('..')\n",
    "%load_ext autoreload\n",
    "%autoreload 2\n",
    "%matplotlib inline"
   ]
  },
  {
   "cell_type": "code",
   "execution_count": null,
   "metadata": {},
   "outputs": [],
   "source": [
    "from IPython.display import clear_output\n",
    "from tkinter import Tk, filedialog\n",
    "import matplotlib.pyplot as plt\n",
    "import pandas as pd\n",
    "\n",
    "import quick_pp.las_handler as las"
   ]
  },
  {
   "cell_type": "code",
   "execution_count": null,
   "metadata": {},
   "outputs": [],
   "source": [
    "# Loading a dataframe\n",
    "\n",
    "root = Tk()\n",
    "file_objects = filedialog.askopenfiles(title='Choose well Log ASCII Standard (LAS) files to be combined',\n",
    "                                        filetype=(('LAS Files', '*.LAS *.las'), ('All Files', '*.*')),\n",
    "                                        multiple=True,\n",
    "                                        mode='rb')\n",
    "root.destroy()\n",
    "df, _ = las.read_las_files(file_objects)"
   ]
  },
  {
   "cell_type": "code",
   "execution_count": null,
   "metadata": {},
   "outputs": [],
   "source": [
    "print([c for c in df.columns if 'RT' in c])"
   ]
  },
  {
   "cell_type": "code",
   "execution_count": null,
   "metadata": {},
   "outputs": [],
   "source": [
    "from quick_pp.core_calibration import poroperm_func, fit_poroperm_curve, poroperm_xplot\n",
    "\n",
    "for rt, rt_data in df.groupby('RT_V2_2023'):\n",
    "    a, b = fit_poroperm_curve(rt_data['CPORE'], rt_data['CPERM'])\n",
    "    cpore = np.linspace(0.05, 0.5, 50)\n",
    "    poroperm_xplot(rt_data['CPORE'], rt_data['CPERM'], a, b, label=f'RT {rt} - a: {a}, b: {b}')\n",
    "    # plt.show()\n"
   ]
  },
  {
   "cell_type": "code",
   "execution_count": null,
   "metadata": {},
   "outputs": [],
   "source": [
    "from quick_pp.core_calibration import j_func, fit_j_curve, j_xplot\n",
    "\n",
    "well_name = 'BA-H010'\n",
    "well_df = df[df['WELL_NAME'] == well_name]\n",
    "\n",
    "for well, well_data in well_df.groupby('RT_V3_2023'):\n",
    "    temp_df = pd.DataFrame()\n",
    "    for i, data in well_data.iterrows():\n",
    "        t_df = data[[c for c in test.columns if 'SW[' in c]].reset_index(drop=True).T.reset_index(name='SW')\n",
    "        # t_df = pd.concat([t_df, data[[c for c in test.columns if 'PC' in c]].reset_index(drop=True).T.reset_index(name='PC')], axis=1)\n",
    "        # t_df = pd.concat([t_df, data[[c for c in test.columns if 'SWN' in c]].reset_index(drop=True).T.reset_index(name='SWN')], axis=1)\n",
    "        t_df = pd.concat([t_df, data[[c for c in test.columns if 'J' in c]].reset_index(drop=True).T.reset_index(name='J')], axis=1)\n",
    "        t_df.drop(columns='index', inplace=True)\n",
    "        temp_df = pd.concat([temp_df, t_df])\n",
    "    temp_df.dropna(inplace=True)\n",
    "    temp_df.reset_index(drop=True, inplace=True)\n",
    "    a, b = fit_j_curve(temp_df['SW'], temp_df['J'])\n",
    "    j_xplot(temp_df['SW'], temp_df['J'], a, b, label=f\"RT {data['RT_V3_2023']} - a: {a}, b: {b}\")\n",
    "    plt.show()\n"
   ]
  },
  {
   "cell_type": "code",
   "execution_count": null,
   "metadata": {},
   "outputs": [],
   "source": [
    "# Need HAFWL to plot \n",
    "df.plot(x='BVW', y='DEPTH_SHIFTED', kind='scatter', logy=False, xlim=(0, 0.5))"
   ]
  },
  {
   "cell_type": "code",
   "execution_count": null,
   "metadata": {},
   "outputs": [],
   "source": [
    "# df[[c for c in df.columns if 'PC' in c]].describe()"
   ]
  },
  {
   "cell_type": "code",
   "execution_count": null,
   "metadata": {},
   "outputs": [],
   "source": [
    "# for i in range(8):\n",
    "#     df.plot(x=f'SW[{i}]', y=f'PC[{i}]', kind='scatter', logy=False, xlim=(0, 1))\n",
    "# plt.show()"
   ]
  }
 ],
 "metadata": {
  "kernelspec": {
   "display_name": "venv310",
   "language": "python",
   "name": "python3"
  },
  "language_info": {
   "codemirror_mode": {
    "name": "ipython",
    "version": 3
   },
   "file_extension": ".py",
   "mimetype": "text/x-python",
   "name": "python",
   "nbconvert_exporter": "python",
   "pygments_lexer": "ipython3",
   "version": "3.10.9"
  }
 },
 "nbformat": 4,
 "nbformat_minor": 2
}
