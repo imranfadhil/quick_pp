{
 "cells": [
  {
   "cell_type": "code",
   "execution_count": null,
   "metadata": {},
   "outputs": [],
   "source": [
    "import sys\n",
    "sys.path.append('..')\n",
    "%load_ext autoreload\n",
    "%autoreload 2\n",
    "%matplotlib inline"
   ]
  },
  {
   "cell_type": "code",
   "execution_count": null,
   "metadata": {},
   "outputs": [],
   "source": [
    "import quick_pp.las_handler as las\n",
    "\n",
    "with open(r'data\\01_raw\\36_7-3.las', 'rb') as f:\n",
    "    df, header = las.read_las_files([f])\n",
    "df['RT'] = df['RDEP']"
   ]
  },
  {
   "cell_type": "code",
   "execution_count": null,
   "metadata": {},
   "outputs": [],
   "source": [
    "from quick_pp.plotter.well_log import plotly_log\n",
    "from collections import OrderedDict\n",
    "import numpy as np\n",
    "from quick_pp.plotter.well_log_config import COLOR_DICT\n",
    "\n",
    "TRACE_DEFS = OrderedDict(\n",
    "    GR=dict(\n",
    "        track=1,\n",
    "        secondary_y=False,\n",
    "        hide_xaxis=False,\n",
    "        style={'line_width': 1, 'line_color': COLOR_DICT['GR']}\n",
    "    ),\n",
    "    RT=dict(\n",
    "        track=2,\n",
    "        secondary_y=False,\n",
    "        hide_xaxis=False,\n",
    "        style={'line_dash': 'dot', 'line_width': 1, 'line_color': COLOR_DICT['RT']}\n",
    "    ),\n",
    "    RHOB=dict(\n",
    "        track=3,\n",
    "        secondary_y=False,\n",
    "        hide_xaxis=False,\n",
    "        style={'line_width': 1, 'line_color': COLOR_DICT['RHOB']}\n",
    "    ),\n",
    "    NPHI=dict(\n",
    "        track=3,\n",
    "        secondary_y=True,\n",
    "        hide_xaxis=False,\n",
    "        style={'line_dash': 'dot', 'line_width': 1, 'line_color': COLOR_DICT['NPHI']}\n",
    "    ),\n",
    ")\n",
    "\n",
    "font_size = 8\n",
    "XAXIS_DEFS = {\n",
    "    'GR': {\n",
    "        'title': {'text': 'GR', 'font': {'color': COLOR_DICT['GR'], 'size': font_size}},\n",
    "        'tickfont': {'color': COLOR_DICT['GR'], 'size': font_size},\n",
    "        'side': 'top', 'anchor': 'free', 'position': .85,\n",
    "        'title_standoff': .1, 'dtick': 40, 'range': [0, 200], 'type': 'linear', 'zeroline': False\n",
    "    },\n",
    "    'RT': {\n",
    "        'title': {'text': 'RT', 'font': {'color': COLOR_DICT['RT'], 'size': font_size}},\n",
    "        'tickfont': {'color': COLOR_DICT['RT'], 'size': font_size},\n",
    "        'side': 'top', 'anchor': 'free', 'position': .85,\n",
    "        'title_standoff': .1, 'range': [np.log10(.2), np.log10(2000)], 'type': 'log',\n",
    "        'tickmode': 'array', 'tickvals': np.geomspace(0.2, 2000, 5), 'tickangle': -90, 'minor_showgrid': True\n",
    "    },\n",
    "    'RHOB': {\n",
    "        'title': {'text': 'RHOB', 'font': {'color': COLOR_DICT['RHOB'], 'size': font_size}},\n",
    "        'tickformat': \".2f\", 'tick0': 1.95, 'dtick': 0.2, 'tickangle': -90,\n",
    "        'tickfont': {'color': COLOR_DICT['RHOB'], 'size': font_size},\n",
    "        'side': 'top', 'anchor': 'free', 'position': .85,\n",
    "        'title_standoff': .1, 'range': [1.95, 2.95], 'type': 'linear', 'zeroline': False\n",
    "    },\n",
    "    'NPHI': {\n",
    "        'title': {'text': 'NPHI', 'font': {'color': COLOR_DICT['NPHI'], 'size': font_size}},\n",
    "        'tickfont': {'color': COLOR_DICT['NPHI'], 'size': font_size}, 'zeroline': False,\n",
    "        'side': 'top', 'anchor': 'free', 'position': .89, 'title_standoff': .1, 'overlaying': 'x3',\n",
    "        'tickformat': \".2f\", 'tick0': -.15, 'dtick': 0.12, 'range': [.45, -.15], 'type': 'linear', 'tickangle': -90\n",
    "    },\n",
    "}\n",
    "\n",
    "for well, well_data in df.groupby(\"WELL_NAME\"):\n",
    "    # Plot the results\n",
    "    fig = plotly_log(well_data, depth_uom='ft', trace_defs=TRACE_DEFS, xaxis_defs=XAXIS_DEFS)\n",
    "    fig.show(config=dict(scrollZoom=True))\n",
    "    # fig.write_html(rf\"{folder}\\{well}_log.html\", config=dict(scrollZoom=True))\n",
    "    break\n"
   ]
  }
 ],
 "metadata": {
  "kernelspec": {
   "display_name": ".venv",
   "language": "python",
   "name": "python3"
  },
  "language_info": {
   "codemirror_mode": {
    "name": "ipython",
    "version": 3
   },
   "file_extension": ".py",
   "mimetype": "text/x-python",
   "name": "python",
   "nbconvert_exporter": "python",
   "pygments_lexer": "ipython3",
   "version": "3.11.0"
  }
 },
 "nbformat": 4,
 "nbformat_minor": 2
}
