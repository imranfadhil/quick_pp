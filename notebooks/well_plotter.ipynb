{
 "cells": [
  {
   "cell_type": "code",
   "execution_count": null,
   "metadata": {},
   "outputs": [],
   "source": [
    "import sys\n",
    "sys.path.append('..')\n",
    "%load_ext autoreload\n",
    "%autoreload 2\n",
    "%matplotlib inline"
   ]
  },
  {
   "cell_type": "code",
   "execution_count": null,
   "metadata": {},
   "outputs": [],
   "source": [
    "from quick_pp.objects import Project\n",
    "\n",
    "# Load well from saved file\n",
    "project = \"MOCK_carbonate\"\n",
    "project_path = rf\"data\\04_project\\{project}.qppp\"\n",
    "project = Project().load(project_path)\n",
    "project.get_well_names()"
   ]
  },
  {
   "cell_type": "code",
   "execution_count": null,
   "metadata": {},
   "outputs": [],
   "source": [
    "from collections import OrderedDict\n",
    "import numpy as np\n",
    "from quick_pp.plotter_well_log_config import COLOR_DICT\n",
    "\n",
    "TRACE_DEFS = OrderedDict(\n",
    "    GR=dict(\n",
    "        track=1,\n",
    "        secondary_y=False,\n",
    "        hide_xaxis=False,\n",
    "        style={'line_width': 1, 'line_color': COLOR_DICT['GR']}\n",
    "    ),\n",
    "    RT=dict(\n",
    "        track=2,\n",
    "        secondary_y=False,\n",
    "        hide_xaxis=False,\n",
    "        style={'line_dash': 'dot', 'line_width': 1, 'line_color': COLOR_DICT['RT']}\n",
    "    ),\n",
    "    RHOB=dict(\n",
    "        track=3,\n",
    "        secondary_y=False,\n",
    "        hide_xaxis=False,\n",
    "        style={'line_width': 1, 'line_color': COLOR_DICT['RHOB']}\n",
    "    ),\n",
    "    PHIT=dict(\n",
    "        track=4,\n",
    "        secondary_y=False,\n",
    "        hide_xaxis=False,\n",
    "        style={'line_width': 1, 'line_color': COLOR_DICT['PHIT']}\n",
    "    ),\n",
    "    NPHI=dict(\n",
    "        track=3,\n",
    "        secondary_y=True,\n",
    "        hide_xaxis=False,\n",
    "        style={'line_dash': 'dot', 'line_width': 1, 'line_color': COLOR_DICT['NPHI']}\n",
    "    ),\n",
    ")"
   ]
  },
  {
   "cell_type": "code",
   "execution_count": null,
   "metadata": {},
   "outputs": [],
   "source": [
    "from quick_pp.plotter import plotly_log\n",
    "\n",
    "df = project.get_all_data()\n",
    "for well, well_data in df.groupby(\"WELL_NAME\"):\n",
    "    # Plot the results\n",
    "    fig = plotly_log(well_data, depth_uom='ft', trace_defs=TRACE_DEFS)\n",
    "    fig.show(config=dict(scrollZoom=True))\n",
    "    # fig.write_html(rf\"{folder}\\{well}_log.html\", config=dict(scrollZoom=True))\n",
    "    break\n"
   ]
  }
 ],
 "metadata": {
  "kernelspec": {
   "display_name": "venv310",
   "language": "python",
   "name": "python3"
  },
  "language_info": {
   "codemirror_mode": {
    "name": "ipython",
    "version": 3
   },
   "file_extension": ".py",
   "mimetype": "text/x-python",
   "name": "python",
   "nbconvert_exporter": "python",
   "pygments_lexer": "ipython3",
   "version": "3.10.9"
  }
 },
 "nbformat": 4,
 "nbformat_minor": 2
}
