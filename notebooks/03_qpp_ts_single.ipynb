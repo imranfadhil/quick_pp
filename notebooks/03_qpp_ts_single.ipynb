{
 "cells": [
  {
   "cell_type": "code",
   "execution_count": null,
   "metadata": {},
   "outputs": [],
   "source": [
    "import sys\n",
    "sys.path.append('..')\n",
    "%load_ext autoreload\n",
    "%autoreload 2\n",
    "%matplotlib inline"
   ]
  },
  {
   "cell_type": "code",
   "execution_count": null,
   "metadata": {},
   "outputs": [],
   "source": [
    "from quick_pp.objects import Project\n",
    "\n",
    "# Load well from saved file\n",
    "project = \"MOCK_clastic\"\n",
    "project_path = rf\"data\\04_project\\{project}.qppp\"\n",
    "project = Project().load(project_path)\n",
    "project.get_well_names()"
   ]
  },
  {
   "cell_type": "code",
   "execution_count": null,
   "metadata": {},
   "outputs": [],
   "source": [
    "# Load data\n",
    "well_name = 'NO_15-9-19_A'\n",
    "well = project.get_well(well_name)\n",
    "well_data = well.data.copy()\n",
    "well_data.columns = [col.replace('LFP_', '') for col in well_data.columns]\n",
    "well_data.columns"
   ]
  },
  {
   "cell_type": "markdown",
   "metadata": {},
   "source": [
    "# Quick PP Interpretation"
   ]
  },
  {
   "cell_type": "code",
   "execution_count": null,
   "metadata": {},
   "outputs": [],
   "source": [
    "from quick_pp.lithology.thin_beds import ThinBeds\n",
    "from quick_pp.porosity import neu_den_xplot_poro, density_porosity, rho_matrix, normalize_volumetric, clay_porosity\n",
    "from quick_pp.qaqc import badhole_flagging, mask_outside_threshold, neu_den_xplot_hc_correction, den_correction\n",
    "from quick_pp.saturation import *\n",
    "from quick_pp.plotter import *\n",
    "from quick_pp.permeability import *\n",
    "from quick_pp.ressum import *\n",
    "from quick_pp.rock_type import rock_typing, estimate_vsh_gr\n",
    "from quick_pp.plotter import plotly_log\n",
    "from quick_pp.utils import zone_flagging, min_max_line"
   ]
  },
  {
   "cell_type": "markdown",
   "metadata": {},
   "source": [
    "## Estimate Litholoy"
   ]
  },
  {
   "cell_type": "code",
   "execution_count": null,
   "metadata": {},
   "outputs": [],
   "source": [
    "tb_model = ThinBeds()\n",
    "\n",
    "vsand, vshale, phit, vsh_lam, vsh_dis, vsand_dis, phit_sand = tb_model.estimate_litho_poro(well_data.NPHI, well_data.RHOB)"
   ]
  },
  {
   "cell_type": "code",
   "execution_count": null,
   "metadata": {},
   "outputs": [],
   "source": [
    "from quick_pp.lithology.thin_beds import vsh_phit_xplot\n",
    "\n",
    "vsh_phit_xplot(vshale, phit, .27, .17)"
   ]
  },
  {
   "cell_type": "code",
   "execution_count": null,
   "metadata": {},
   "outputs": [],
   "source": [
    "import matplotlib.pyplot as plt\n",
    "\n",
    "# Plotting\n",
    "plt.figure(figsize=(20, 2))\n",
    "plt.plot(well_data.DEPTH.values, vshale, label='VSHale', color='brown')\n",
    "plt.plot(well_data.DEPTH.values, vsh_lam, label='VSH_Lam', color='blue')\n",
    "plt.plot(well_data.DEPTH.values, vsh_dis, label='VSH_Dis', color='green')\n",
    "\n",
    "plt.xlabel('Depth')\n",
    "plt.ylabel('Volume')\n",
    "plt.ylim(0, 1)\n",
    "plt.title('Comparison of VSHale, VSH_Lam, and VSH_Dis Across Depth')\n",
    "plt.legend()\n",
    "plt.grid()\n",
    "plt.show()"
   ]
  },
  {
   "cell_type": "code",
   "execution_count": null,
   "metadata": {},
   "outputs": [],
   "source": [
    "# Plotting\n",
    "plt.figure(figsize=(20, 2))\n",
    "plt.plot(well_data.DEPTH.values, vsand, label='VSand', color='gold')\n",
    "plt.plot(well_data.DEPTH.values, vsand_dis, label='VSand_Dis', color='orange')\n",
    "\n",
    "plt.xlabel('Depth')\n",
    "plt.ylabel('Volume')\n",
    "plt.ylim(0, 1)\n",
    "plt.title('Comparison of VSand and VSand_Dis Across Depth')\n",
    "plt.legend()\n",
    "plt.grid()\n",
    "plt.show()"
   ]
  },
  {
   "cell_type": "code",
   "execution_count": null,
   "metadata": {},
   "outputs": [],
   "source": [
    "# Plotting\n",
    "plt.figure(figsize=(20, 2))\n",
    "plt.plot(well_data.DEPTH.values, phit, label='PHIT', color='blue')\n",
    "plt.plot(well_data.DEPTH.values, phit_sand, label='PHIT_Sand', color='orange')\n",
    "\n",
    "plt.xlabel('Depth')\n",
    "plt.ylabel('Porosity')\n",
    "plt.ylim(0, 0.5)\n",
    "plt.title('Comparison of PHIT and PHIT_Sand Across Depth')\n",
    "plt.legend()\n",
    "plt.grid()\n",
    "plt.show()"
   ]
  },
  {
   "cell_type": "code",
   "execution_count": null,
   "metadata": {},
   "outputs": [],
   "source": [
    "fig, (ax2, ax1) = plt.subplots(nrows=2, figsize=(20, 3), sharex=True)\n",
    "\n",
    "ax1.plot(well_data.DEPTH, well_data.NPHI, label='NPHI')\n",
    "ax1.plot(well_data.DEPTH, nphi_max_line, label='NPHI_line')\n",
    "ax1.set_ylim(.45, -.15)\n",
    "ax1.legend()\n",
    "\n",
    "ax2.plot(well_data.DEPTH, well_data.RHOB, label='RHOB')\n",
    "ax2.plot(well_data.DEPTH, rhob_max_line, label='RHOB_line')\n",
    "ax2.set_ylim(1.85, 2.85)\n",
    "ax2.legend()"
   ]
  },
  {
   "cell_type": "code",
   "execution_count": null,
   "metadata": {},
   "outputs": [],
   "source": [
    "neutron_density_xplot(well_data['NPHI'], well_data['RHOB'], dry_min1_point=args['dry_sand_point'], **args)"
   ]
  },
  {
   "cell_type": "code",
   "execution_count": null,
   "metadata": {},
   "outputs": [],
   "source": [
    "neutron_density_xplot(nphihc, rhobhc, dry_min1_point=args['dry_sand_point'], **args)"
   ]
  },
  {
   "cell_type": "code",
   "execution_count": null,
   "metadata": {},
   "outputs": [],
   "source": [
    "from quick_pp.rock_type import estimate_vsh_gr\n",
    "vsh_gr_1 = estimate_vsh_gr(well_data['GR'], alpha=0.1)\n",
    "vsh_gr_2 = estimate_vsh_gr(well_data['GR'], min_gr=0, max_gr=140)\n",
    "\n",
    "fig, axs = plt.subplots(2, 1, figsize=(20, 3), sharex=True)\n",
    "\n",
    "axs[0].plot(well_data.DEPTH, vsh_gr_1, label='vsh_gr_1')\n",
    "axs[0].plot(well_data.DEPTH, vsh_gr_2, label='vsh_gr_2')\n",
    "axs[0].legend()\n",
    "\n",
    "axs[1].plot(well_data.DEPTH, well_data['GR'], label='GR')\n",
    "axs[1].legend()"
   ]
  },
  {
   "cell_type": "code",
   "execution_count": null,
   "metadata": {},
   "outputs": [],
   "source": [
    "# Specify depth of interest\n",
    "min_depth = well_data.DEPTH.min()\n",
    "max_depth = well_data.DEPTH.max()"
   ]
  },
  {
   "cell_type": "code",
   "execution_count": null,
   "metadata": {},
   "outputs": [],
   "source": [
    "# Density correction based on VSH_GR\n",
    "\n",
    "plt.figure(figsize=(20, 2))\n",
    "plt.plot(well_data.DEPTH, rhob_corr, label='rhob_corr')\n",
    "plt.plot(well_data.DEPTH, well_data['RHOB'], label='RHOB')\n",
    "plt.plot(well_data.DEPTH, rhobhc, label='RHOB_HC')\n",
    "plt.legend(bbox_to_anchor=(1.04, 1), loc=\"upper left\")\n",
    "plt.xlim(min_depth, max_depth)\n",
    "\n",
    "plt.figure(figsize=(20, 2))\n",
    "plt.plot(well_data.DEPTH, well_data['NPHI'], label='NPHI')\n",
    "plt.plot(well_data.DEPTH, nphihc, label='NPHI_HC')\n",
    "plt.legend(bbox_to_anchor=(1.04, 1), loc=\"upper left\")\n",
    "plt.xlim(min_depth, max_depth)\n",
    "\n",
    "plt.figure(figsize=(20, 2))\n",
    "plt.plot(well_data.DEPTH, badhole_flag, label='badhole_flag')\n",
    "plt.legend(bbox_to_anchor=(1.04, 1), loc=\"upper left\")\n",
    "plt.xlim(min_depth, max_depth)"
   ]
  },
  {
   "cell_type": "markdown",
   "metadata": {},
   "source": [
    "## Estimate Porosity"
   ]
  },
  {
   "cell_type": "code",
   "execution_count": null,
   "metadata": {},
   "outputs": [],
   "source": [
    "args"
   ]
  },
  {
   "cell_type": "code",
   "execution_count": null,
   "metadata": {},
   "outputs": [],
   "source": [
    "# Estimate porosity\n",
    "phit = neu_den_xplot_poro(\n",
    "    nphihc, rhob_corr, model='ssc',\n",
    "    dry_min1_point=args['dry_sand_point'],\n",
    "    dry_silt_point=args['dry_silt_point'],\n",
    "    dry_clay_point=args['dry_clay_point'],\n",
    ")\n",
    "\n",
    "rho_ma = rho_matrix(vsand, vsilt, vcld)\n",
    "phid = density_porosity(rhob_corr, rho_ma)\n",
    "\n",
    "# Normalize lithology\n",
    "vsand, vsilt, vcld = normalize_volumetric(vsand, vsilt, vcld, phit)\n",
    "\n",
    "# Calculate vclb: volume of clay bound water and phie\n",
    "clay_phit = clay_porosity(rhob_corr, args['dry_clay_point'][1])\n",
    "vclb = vcld * clay_phit\n",
    "vclw = vcld + vclb\n",
    "\n",
    "phie = phit - vclb\n",
    "\n",
    "# Estimate rock types\n",
    "rock_flag = rock_typing(vclw, higher_is_better=False)"
   ]
  },
  {
   "cell_type": "code",
   "execution_count": null,
   "metadata": {},
   "outputs": [],
   "source": [
    "phit = neu_den_xplot_poro(\n",
    "    nphihc, rhob_corr, model='ssc',\n",
    "    dry_min1_point=args['dry_sand_point'],\n",
    "    dry_silt_point=args['dry_silt_point'],\n",
    "    dry_clay_point=args['dry_clay_point'],\n",
    ")\n",
    "\n",
    "plt.figure(figsize=(20, 2))\n",
    "plt.plot(well_data.DEPTH, phit, label='PHIT')\n",
    "plt.plot(well_data.DEPTH, phid, label='PHID')\n",
    "plt.plot(well_data.DEPTH, phie, label='PHIE')\n",
    "plt.legend(bbox_to_anchor=(1.04, 1), loc=\"upper left\")\n",
    "plt.xlim(min_depth, max_depth)\n",
    "plt.ylim(0, 0.5)"
   ]
  },
  {
   "cell_type": "markdown",
   "metadata": {},
   "source": [
    "## Estimate Permeability"
   ]
  },
  {
   "cell_type": "code",
   "execution_count": null,
   "metadata": {},
   "outputs": [],
   "source": [
    "import matplotlib.ticker as ticker\n",
    "\n",
    "# Estimate permeability\n",
    "perm = choo_permeability(vclw, vsilt, phit,  B=6, A=5e6)\n",
    "Swirr = np.where(\n",
    "    rock_flag == 1, 0.005, np.where(\n",
    "        rock_flag == 2, 0.2, np.where(\n",
    "            rock_flag == 3, 0.3, 1\n",
    "        )\n",
    "    )\n",
    ")\n",
    "perm_kc = kozeny_carman_permeability(phit, S=.5)\n",
    "perm_t = timur_permeability(phit, Swirr)\n",
    "perm_c = coates_permeability(phit, Swirr, a=.5)\n",
    "perm_tx = tixier_permeability(phit, Swirr)\n",
    "\n",
    "# Plotting\n",
    "fig, ax = plt.subplots(figsize=(20, 3))\n",
    "ax.plot(well_data.DEPTH, perm, label='Choo')\n",
    "ax.plot(well_data.DEPTH, perm_kc, label='KC')\n",
    "ax.plot(well_data.DEPTH, perm_t, label='Timur')\n",
    "ax.plot(well_data.DEPTH, perm_c, label='Coates')\n",
    "ax.plot(well_data.DEPTH, perm_tx, label='Tixier')\n",
    "ax.set_frame_on(False)\n",
    "ax.set_yscale('log')\n",
    "ax.set_ylim(1e-2, 1e5)\n",
    "ax.yaxis.set_major_formatter(ticker.FuncFormatter(\n",
    "    lambda x, pos: ('{{:.{:1d}f}}'.format(int(np.maximum(-np.log10(x), 0)))).format(x)))\n",
    "ax.set_xlim(min_depth, max_depth)\n",
    "ax.legend(bbox_to_anchor=(1.04, 1), loc=\"upper left\")"
   ]
  },
  {
   "cell_type": "markdown",
   "metadata": {},
   "source": [
    "## Estimate Water Saturation"
   ]
  },
  {
   "cell_type": "code",
   "execution_count": null,
   "metadata": {},
   "outputs": [],
   "source": [
    "# Debug water saturation\n",
    "water_salinity = 15000\n",
    "m = args['sw_m']\n",
    "\n",
    "temp_grad = estimate_temperature_gradient(well_data['DEPTH'], 'metric')\n",
    "rw_archie = estimate_rw_archie(phit, well_data['RT'], m=m)\n",
    "rw_shale = estimate_rw_from_shale_trend(well_data['RT'], phit, m=1.2)\n",
    "rw = estimate_rw_temperature_salinity(temp_grad, water_salinity)\n",
    "\n",
    "b_archie = estimate_b_waxman_smits(temp_grad, rw_archie)\n",
    "b = estimate_b_waxman_smits(temp_grad, rw)\n",
    "\n",
    "qv = estimate_qv(vcld, phit, cec_clay=.1)\n",
    "\n",
    "swt_sal = waxman_smits_saturation(well_data['RT'], rw, phit, qv, m=m)\n",
    "swt_ws_pickett = waxman_smits_saturation(well_data['RT'], .3, phit, qv)\n",
    "swt = waxman_smits_saturation(well_data['RT'], rw_shale, phit, qv)\n",
    "\n",
    "# Plotting\n",
    "fig, (ax1, ax2, ax3, ax4) = plt.subplots(nrows=4, sharex=True, figsize=(20, 7))\n",
    "\n",
    "ax1.plot(well_data.DEPTH, qv, label='Qv')\n",
    "ax1.set_ylim(0, 10)\n",
    "ax1.legend()\n",
    "\n",
    "ax2.plot(well_data.DEPTH, b, label='b')\n",
    "ax2.plot(well_data.DEPTH, b_archie, label='b_archie')\n",
    "ax2.legend()\n",
    "\n",
    "ax3.plot(well_data.DEPTH, well_data['RT'], label='RT')\n",
    "ax3.plot(well_data.DEPTH, rw, label='rw')\n",
    "ax3.plot(well_data.DEPTH, rw_archie, label='rw_archie')\n",
    "ax3.plot(well_data.DEPTH, rw_shale, label='rw_shale')\n",
    "ax3.set_yscale('log')\n",
    "ax3.legend()\n",
    "\n",
    "ax4.plot(well_data.DEPTH, swt_sal, label='SWT_salinity')\n",
    "ax4.plot(well_data.DEPTH, swt, label='SWT')\n",
    "ax4.plot(well_data.DEPTH, swt_ws_pickett, label='SWT_ws_pickett')\n",
    "ax4.legend()\n",
    "\n",
    "ax4.set_xlim(min_depth, max_depth)\n",
    "fig.tight_layout()"
   ]
  },
  {
   "cell_type": "code",
   "execution_count": null,
   "metadata": {},
   "outputs": [],
   "source": [
    "from quick_pp.saturation import pickett_plot\n",
    "\n",
    "# Pickett plot\n",
    "water_zone = well_data.copy()\n",
    "water_zone['PHIT'] = phit\n",
    "water_zone = water_zone[(water_zone.DEPTH > 3995) & (water_zone.DEPTH < 4010)]\n",
    "fig = pickett_plot(water_zone.RT, water_zone.PHIT, m=1.85, min_rw=.1)"
   ]
  },
  {
   "cell_type": "markdown",
   "metadata": {},
   "source": [
    "## QAQC Result"
   ]
  },
  {
   "cell_type": "code",
   "execution_count": null,
   "metadata": {},
   "outputs": [],
   "source": [
    "# Update data in the project\n",
    "well_data['NPHI_HC'] = nphihc\n",
    "well_data['RHOB_HC'] = rhobhc\n",
    "well_data['RHOB_CORR'] = rhob_corr\n",
    "well_data['HC_FLAG'] = hc_flag\n",
    "well_data['VSAND'] = vsand\n",
    "well_data['VSILT'] = vsilt\n",
    "well_data['VCLB'] = vclb\n",
    "well_data['VCLD'] = vcld\n",
    "well_data['VCLW'] = vclw\n",
    "well_data['PHIT'] = phit\n",
    "well_data['PHIE'] = phie\n",
    "well_data['PHID'] = phid\n",
    "well_data['RW'] = rw\n",
    "well_data['B'] = b\n",
    "well_data['Qv'] = qv\n",
    "well_data['M'] = args['sw_m']\n",
    "well_data['SWT'] = swt\n",
    "# well_data['SWE'] = swe\n",
    "well_data['BVW'] = swt * phie\n",
    "well_data['PERM'] = perm\n",
    "# well_data['CPERM'] = perm\n",
    "well_data['ROCK_FLAG'] = rock_flag\n",
    "well_data['VHC'] = phit * (1 - swt)\n",
    "well_data['BADHOLE'] = badhole_flag\n",
    "well_data['VSH_GR'] = vsh_gr"
   ]
  },
  {
   "cell_type": "code",
   "execution_count": null,
   "metadata": {},
   "outputs": [],
   "source": [
    "# Estimate reservoir summary\n",
    "ressum_df = calc_reservoir_summary(well_data.DEPTH, vclw, phit, swt, perm, zones, cutoffs=args['ressum_cutoffs'])"
   ]
  },
  {
   "cell_type": "code",
   "execution_count": null,
   "metadata": {},
   "outputs": [],
   "source": [
    "from quick_pp.qaqc import quick_qc\n",
    "\n",
    "test, summary_df, dist_fig, depth_fig = quick_qc(well_data, return_fig=True)\n",
    "\n",
    "dist_fig.show()\n",
    "depth_fig.show()"
   ]
  },
  {
   "cell_type": "markdown",
   "metadata": {},
   "source": [
    "## Final Result"
   ]
  },
  {
   "cell_type": "code",
   "execution_count": null,
   "metadata": {},
   "outputs": [],
   "source": [
    "# Plot the results\n",
    "well_data.drop(columns=['VOIL', 'VGAS'], errors='ignore', inplace=True)\n",
    "fig = plotly_log(well_data, depth_uom=well.depth_uom)\n",
    "fig.show(config=dict(scrollZoom=True))\n",
    "# fig.write_html(rf\"{well_name}_log.html\", config=dict(scrollZoom=True))"
   ]
  },
  {
   "cell_type": "code",
   "execution_count": null,
   "metadata": {},
   "outputs": [],
   "source": [
    "# # Save the results to the well\n",
    "# well.update_data(well_data)\n",
    "# well.update_ressum(ressum_df)\n",
    "# project.save_well(well)"
   ]
  },
  {
   "cell_type": "code",
   "execution_count": null,
   "metadata": {},
   "outputs": [],
   "source": [
    "# project.save()"
   ]
  }
 ],
 "metadata": {
  "kernelspec": {
   "display_name": "venv310",
   "language": "python",
   "name": "python3"
  },
  "language_info": {
   "codemirror_mode": {
    "name": "ipython",
    "version": 3
   },
   "file_extension": ".py",
   "mimetype": "text/x-python",
   "name": "python",
   "nbconvert_exporter": "python",
   "pygments_lexer": "ipython3",
   "version": "3.10.9"
  }
 },
 "nbformat": 4,
 "nbformat_minor": 2
}
