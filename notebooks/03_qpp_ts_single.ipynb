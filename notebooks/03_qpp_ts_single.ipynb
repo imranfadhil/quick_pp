{
 "cells": [
  {
   "cell_type": "code",
   "execution_count": null,
   "metadata": {},
   "outputs": [],
   "source": [
    "import sys\n",
    "sys.path.append('..')\n",
    "%load_ext autoreload\n",
    "%autoreload 2\n",
    "%matplotlib inline"
   ]
  },
  {
   "cell_type": "code",
   "execution_count": null,
   "metadata": {},
   "outputs": [],
   "source": [
    "from quick_pp.objects import Project\n",
    "\n",
    "# Load well from saved file\n",
    "project = \"TS\"\n",
    "project_path = rf\"data\\04_project\\{project}.qppp\"\n",
    "project = Project().load(project_path)\n",
    "project.get_well_names()"
   ]
  },
  {
   "cell_type": "code",
   "execution_count": null,
   "metadata": {},
   "outputs": [],
   "source": [
    "# Load data\n",
    "well_name = 'xxx'\n",
    "well = project.get_well(well_name)\n",
    "well_data = well.data.copy()\n",
    "well_data.columns = [col.replace('LFP_', '') for col in well_data.columns]\n",
    "replace_cols = {\n",
    "    'NEU': 'NPHI',\n",
    "    'DEN': 'RHOB',\n",
    "    'NEUT_HC': 'NPHI_HC',\n",
    "    'DEN_HC': 'RHOB_HC',\n",
    "    'VSH': 'VSHALE'\n",
    "}\n",
    "well_data.rename(columns=replace_cols, inplace=True)\n",
    "well_data.columns"
   ]
  },
  {
   "cell_type": "markdown",
   "metadata": {},
   "source": [
    "# Quick PP Interpretation"
   ]
  },
  {
   "cell_type": "code",
   "execution_count": null,
   "metadata": {},
   "outputs": [],
   "source": [
    "from quick_pp.lithology.thin_beds import ThinBeds\n",
    "from quick_pp.porosity import neu_den_xplot_poro, density_porosity, rho_matrix, normalize_volumetric, clay_porosity\n",
    "from quick_pp.qaqc import badhole_flagging, mask_outside_threshold, neu_den_xplot_hc_correction, den_correction\n",
    "from quick_pp.saturation import *\n",
    "from quick_pp.permeability import *\n",
    "from quick_pp.ressum import *\n",
    "from quick_pp.rock_type import rock_typing, estimate_vsh_gr\n",
    "from quick_pp.plotter.plotter import plotly_log, neutron_density_xplot\n",
    "from quick_pp.utils import zone_flagging, min_max_line"
   ]
  },
  {
   "cell_type": "markdown",
   "metadata": {},
   "source": [
    "## Estimate Litholoy"
   ]
  },
  {
   "cell_type": "code",
   "execution_count": null,
   "metadata": {},
   "outputs": [],
   "source": [
    "args = {\n",
    "    'fluid_point': (1, 1),\n",
    "    'dry_min1_point': (-.02, 2.65),\n",
    "    'dry_clay_point': (.4, 2.75),\n",
    "    'dry_sand_poro': 0.38,\n",
    "    'dry_shale_poro': 0.18,\n",
    "}\n",
    "tb_model = ThinBeds(**args)\n",
    "\n",
    "# filtered_df = well_data[(well_data.DEPTH > 3800) & (well_data.DEPTH < 3900)].copy()\n",
    "filtered_df = well_data.copy()\n",
    "filtered_df['DEPTH'] = filtered_df.DEPTH * 3.28084  # Convert to feet\n",
    "vsand, vshale, phit, vsh_lam, vsh_dis, vsand_dis, phit_sand = tb_model.estimate_litho_poro(filtered_df.NPHI, filtered_df.RHOB)"
   ]
  },
  {
   "cell_type": "code",
   "execution_count": null,
   "metadata": {},
   "outputs": [],
   "source": [
    "from quick_pp.lithology.thin_beds import vsh_phit_xplot\n",
    "\n",
    "vsh_phit_xplot(vshale, phit, **args)"
   ]
  },
  {
   "cell_type": "code",
   "execution_count": null,
   "metadata": {},
   "outputs": [],
   "source": [
    "neutron_density_xplot(filtered_df['NPHI'], filtered_df['RHOB'], **args)"
   ]
  },
  {
   "cell_type": "code",
   "execution_count": null,
   "metadata": {},
   "outputs": [],
   "source": [
    "import matplotlib.pyplot as plt\n",
    "\n",
    "# Plotting\n",
    "plt.figure(figsize=(20, 2))\n",
    "plt.plot(filtered_df.DEPTH.values, vshale, label='VSH', color='brown')\n",
    "plt.plot(filtered_df.DEPTH.values, vsh_lam, label='VSH_Lam', color='blue')\n",
    "plt.plot(filtered_df.DEPTH.values, filtered_df.VLAM_TS, label='VSH_Lam_TS', color='orange')\n",
    "# plt.plot(filtered_df.DEPTH.values, filtered_df.VLAMT, label='VSH_Lam_T', color='red')\n",
    "plt.plot(filtered_df.DEPTH.values, vsh_dis, label='VSH_Dis', color='green')\n",
    "\n",
    "plt.xlabel('Depth')\n",
    "plt.ylabel('Volume')\n",
    "plt.ylim(0, 1)\n",
    "plt.title('Comparison of VSH, VSH_Lam, and VSH_Dis Across Depth')\n",
    "plt.legend()\n",
    "plt.grid()\n",
    "plt.show()"
   ]
  },
  {
   "cell_type": "code",
   "execution_count": null,
   "metadata": {},
   "outputs": [],
   "source": [
    "# Plotting\n",
    "plt.figure(figsize=(20, 2))\n",
    "plt.plot(filtered_df.DEPTH.values, phit, label='PHIT', color='brown')\n",
    "plt.plot(filtered_df.DEPTH.values, phit_sand, label='PHIT_Sand', color='blue')\n",
    "plt.plot(filtered_df.DEPTH.values, filtered_df.PHISAND_TS, label='PHIT_Sand_TS', color='red')\n",
    "\n",
    "plt.xlabel('Depth')\n",
    "plt.ylabel('Porosity')\n",
    "plt.ylim(0, 0.5)\n",
    "plt.title('Comparison of PHIT and PHIT_Sand Across Depth')\n",
    "plt.legend()\n",
    "plt.grid()\n",
    "plt.show()"
   ]
  },
  {
   "cell_type": "code",
   "execution_count": null,
   "metadata": {},
   "outputs": [],
   "source": [
    "# Plotting\n",
    "plt.figure(figsize=(20, 2))\n",
    "plt.plot(filtered_df.DEPTH.values, vsand, label='VSand', color='gold')\n",
    "plt.plot(filtered_df.DEPTH.values, vsand_dis, label='VSand_Dis', color='orange')\n",
    "\n",
    "plt.xlabel('Depth')\n",
    "plt.ylabel('Volume')\n",
    "plt.ylim(0, 1)\n",
    "plt.title('Comparison of VSand and VSand_Dis Across Depth')\n",
    "plt.legend()\n",
    "plt.grid()\n",
    "plt.show()"
   ]
  },
  {
   "cell_type": "code",
   "execution_count": null,
   "metadata": {},
   "outputs": [],
   "source": [
    "args.update({\n",
    "    'hc_corr_angle': 50,\n",
    "    'hc_buffer': 0.01,\n",
    "})\n",
    "vsh_gr = estimate_vsh_gr(filtered_df['GR'], min_gr=0, max_gr=140)\n",
    "nphihc, rhobhc, hc_flag = neu_den_xplot_hc_correction(\n",
    "    filtered_df['NPHI'], filtered_df['RHOB'], vsh_gr=vsh_gr,\n",
    "    dry_min1_point=args['dry_min1_point'],\n",
    "    dry_clay_point=args['dry_clay_point'],\n",
    "    corr_angle=args['hc_corr_angle'], buffer=args['hc_buffer']\n",
    ")\n",
    "\n",
    "# Correct density log\n",
    "rhob_corr = den_correction(nphihc, filtered_df['GR'], vsh_gr=vsh_gr, alpha=0.1)"
   ]
  },
  {
   "cell_type": "code",
   "execution_count": null,
   "metadata": {},
   "outputs": [],
   "source": [
    "args = {\n",
    "    'fluid_point': (1, 1),\n",
    "    'dry_min1_point': (-.02, 2.65),\n",
    "    'dry_clay_point': (.4, 2.75),\n",
    "    'dry_sand_poro': 0.38,\n",
    "    'dry_shale_poro': 0.18,\n",
    "}\n",
    "tb_model = ThinBeds(**args)\n",
    "\n",
    "vsand, vshale, phit, vsh_lam, vsh_dis, vsand_dis, phit_sand = tb_model.estimate_litho_poro(nphihc, rhob_corr)"
   ]
  },
  {
   "cell_type": "code",
   "execution_count": null,
   "metadata": {},
   "outputs": [],
   "source": [
    "from quick_pp.lithology.thin_beds import vsh_phit_xplot\n",
    "\n",
    "vsh_phit_xplot(vshale, phit, **args)"
   ]
  },
  {
   "cell_type": "code",
   "execution_count": null,
   "metadata": {},
   "outputs": [],
   "source": [
    "neutron_density_xplot(nphihc, rhobhc, **args)"
   ]
  },
  {
   "cell_type": "code",
   "execution_count": null,
   "metadata": {},
   "outputs": [],
   "source": [
    "import matplotlib.pyplot as plt\n",
    "\n",
    "# Plotting\n",
    "plt.figure(figsize=(20, 2))\n",
    "plt.plot(filtered_df.DEPTH.values, vshale, label='VSHale', color='brown')\n",
    "plt.plot(filtered_df.DEPTH.values, vsh_lam, label='VSH_Lam', color='blue')\n",
    "plt.plot(filtered_df.DEPTH.values, filtered_df.VLAM_TS, label='VSH_Lam_TS', color='orange')\n",
    "plt.plot(filtered_df.DEPTH.values, vsh_dis, label='VSH_Dis', color='green')\n",
    "\n",
    "plt.xlabel('Depth')\n",
    "plt.ylabel('Volume')\n",
    "plt.ylim(0, 1)\n",
    "plt.title('Comparison of VSHale, VSH_Lam, and VSH_Dis Across Depth')\n",
    "plt.legend()\n",
    "plt.grid()\n",
    "plt.show()"
   ]
  },
  {
   "cell_type": "code",
   "execution_count": null,
   "metadata": {},
   "outputs": [],
   "source": [
    "# Plotting\n",
    "plt.figure(figsize=(20, 2))\n",
    "plt.plot(filtered_df.DEPTH.values, phit, label='PHIT', color='brown')\n",
    "plt.plot(filtered_df.DEPTH.values, phit_sand, label='PHIT_Sand', color='blue')\n",
    "plt.plot(filtered_df.DEPTH.values, filtered_df.PHISAND_TS, label='PHIT_Sand_TS', color='red')\n",
    "\n",
    "plt.xlabel('Depth')\n",
    "plt.ylabel('Porosity')\n",
    "plt.ylim(0, 0.5)\n",
    "plt.title('Comparison of PHIT and PHIT_Sand Across Depth')\n",
    "plt.legend()\n",
    "plt.grid()\n",
    "plt.show()"
   ]
  },
  {
   "cell_type": "code",
   "execution_count": null,
   "metadata": {},
   "outputs": [],
   "source": [
    "# Plotting\n",
    "plt.figure(figsize=(20, 2))\n",
    "plt.plot(filtered_df.DEPTH.values, vsand, label='VSand', color='gold')\n",
    "plt.plot(filtered_df.DEPTH.values, vsand_dis, label='VSand_Dis', color='orange')\n",
    "\n",
    "plt.xlabel('Depth')\n",
    "plt.ylabel('Volume')\n",
    "plt.ylim(0, 1)\n",
    "plt.title('Comparison of VSand and VSand_Dis Across Depth')\n",
    "plt.legend()\n",
    "plt.grid()\n",
    "plt.show()"
   ]
  },
  {
   "cell_type": "markdown",
   "metadata": {},
   "source": [
    "## Resistivity Modelling"
   ]
  },
  {
   "cell_type": "code",
   "execution_count": null,
   "metadata": {},
   "outputs": [],
   "source": [
    "args"
   ]
  },
  {
   "cell_type": "code",
   "execution_count": null,
   "metadata": {},
   "outputs": [],
   "source": [
    "filtered_df.columns"
   ]
  },
  {
   "cell_type": "code",
   "execution_count": null,
   "metadata": {},
   "outputs": [],
   "source": [
    "rmodel = tb_model.resistivity_modelling(vsh_lam, 30, 2, 50)\n",
    "rapparent = tb_model.apparent_resistivity(filtered_df.RT * 5, filtered_df.RT, 50)\n",
    "\n",
    "plt.figure(figsize=(20, 2))\n",
    "plt.plot(filtered_df.DEPTH, rmodel, label='R model', color='blue')\n",
    "plt.plot(filtered_df.DEPTH, rapparent, label='R apparent', color='orange')\n",
    "plt.plot(filtered_df.DEPTH, filtered_df.RT, label='RT')\n",
    "plt.plot(filtered_df.DEPTH, filtered_df.RSAND, label='RSAND', color='red')\n",
    "\n",
    "\n",
    "plt.legend(bbox_to_anchor=(1.04, 1), loc=\"upper left\")\n",
    "plt.yscale('log')\n",
    "plt.ylim(0.2, 200)\n"
   ]
  }
 ],
 "metadata": {
  "kernelspec": {
   "display_name": "venv311",
   "language": "python",
   "name": "python3"
  },
  "language_info": {
   "codemirror_mode": {
    "name": "ipython",
    "version": 3
   },
   "file_extension": ".py",
   "mimetype": "text/x-python",
   "name": "python",
   "nbconvert_exporter": "python",
   "pygments_lexer": "ipython3",
   "version": "3.11.0"
  }
 },
 "nbformat": 4,
 "nbformat_minor": 2
}
