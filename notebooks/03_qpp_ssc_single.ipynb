{
 "cells": [
  {
   "cell_type": "code",
   "execution_count": null,
   "metadata": {},
   "outputs": [],
   "source": [
    "import sys\n",
    "sys.path.append('..')\n",
    "%load_ext autoreload\n",
    "%autoreload 2\n",
    "%matplotlib inline"
   ]
  },
  {
   "cell_type": "code",
   "execution_count": null,
   "metadata": {},
   "outputs": [],
   "source": [
    "from quick_pp.objects import Project\n",
    "\n",
    "# Load well from saved file\n",
    "project = \"BESR\"\n",
    "project_path = rf\"data\\04_project\\{project}.qppp\"\n",
    "project = Project().load(project_path)\n",
    "project.get_well_names()"
   ]
  },
  {
   "cell_type": "markdown",
   "metadata": {},
   "source": [
    "# Quick PP Interpretation"
   ]
  },
  {
   "cell_type": "code",
   "execution_count": null,
   "metadata": {},
   "outputs": [],
   "source": [
    "from quick_pp.lithology.sand_silt_clay import SandSiltClay\n",
    "from quick_pp.porosity import neu_den_xplot_poro, density_porosity, rho_matrix\n",
    "from quick_pp.qaqc import badhole_flag, mask_outside_threshold, neu_den_xplot_hc_correction\n",
    "from quick_pp.saturation import *\n",
    "from quick_pp.plotter import *\n",
    "from quick_pp.permeability import *\n",
    "from quick_pp.ressum import *\n",
    "from quick_pp.rock_type import rock_typing\n",
    "from quick_pp.plotter import plotly_log\n",
    "from quick_pp.utils import sand_flagging, min_max_line"
   ]
  },
  {
   "cell_type": "code",
   "execution_count": null,
   "metadata": {},
   "outputs": [],
   "source": [
    "# Load data\n",
    "well_name = 'BESAR-4'\n",
    "well = project.get_well(well_name)\n",
    "well_data = well.data\n",
    "\n",
    "min_depth = 2390\n",
    "max_depth = 4255\n",
    "well_data = well_data[(well_data.DEPTH >= min_depth) & (well_data.DEPTH <= max_depth)].copy()\n",
    "\n",
    "# Clean up data\n",
    "well_data = badhole_flag(well_data)\n",
    "well_data = mask_outside_threshold(well_data, fill=True)\n",
    "\n",
    "# Initialize lithology model\n",
    "args = {\n",
    "    'litho_model': 'ssc',\n",
    "    # 'dry_clay_point': (.3, 2.7),\n",
    "    'silt_line_angle': 116,\n",
    "    # 'wet_clay_point': (0.45, 2.45),\n",
    "    'sw_water_salinity': 60000,\n",
    "    'hc_corr_angle': 50,\n",
    "    'hc_buffer': 0.1,\n",
    "    'ressum_cutoffs': dict(\n",
    "        VSHALE=.5,\n",
    "        PHIT=0,\n",
    "        SWT=1\n",
    "    ),\n",
    "}\n",
    "ssc_model = SandSiltClay(**args)\n",
    "vsand, vsilt, vcld, vclb, (nphi_max_line, rhob_max_line) = ssc_model.estimate_lithology(\n",
    "    well_data['NPHI'], well_data['RHOB'], model='kuttan_modified', normalize= True\n",
    ")\n",
    "args.update(ssc_model.__dict__)\n",
    "well.update_config(args)  # Save lithology model to well\n",
    "\n",
    "# Implement hydrocarbon correction\n",
    "nphihc, rhobhc, hc_flag = neu_den_xplot_hc_correction(\n",
    "    well_data['NPHI'], well_data['RHOB'], gr=well_data['GR'],\n",
    "    dry_sand_point=args['dry_sand_point'],\n",
    "    dry_clay_point=args['dry_clay_point'],\n",
    "    corr_angle=args['hc_corr_angle'], buffer=args['hc_buffer']\n",
    ")\n",
    "\n",
    "# Estimate lithology\n",
    "ssc_model = SandSiltClay(**args)\n",
    "vsand, vsilt, vcld, vclb, (nphi_max_line, rhob_max_line) = ssc_model.estimate_lithology(\n",
    "    nphihc, rhobhc, model='kuttan_modified', normalize= True\n",
    ")\n",
    "vclw = vcld + vclb\n",
    "\n",
    "# Estimate porosity\n",
    "phit = neu_den_xplot_poro(\n",
    "    nphihc, rhobhc, model='ssc', reservoir=True,\n",
    "    dry_sand_point=args['dry_sand_point'],\n",
    "    dry_silt_point=args['dry_silt_point'],\n",
    "    dry_clay_point=args['dry_clay_point'],\n",
    ")\n",
    "\n",
    "# PHID needs unnormalized lithology\n",
    "vsand_un, vsilt_un, vcld_un, vclb_un, (nphi_max_line, rhob_max_line) = SandSiltClay(**args).estimate_lithology(\n",
    "    nphihc, rhobhc, model='kuttan_modified', normalize= False\n",
    ")\n",
    "rho_ma = rho_matrix(vsand_un, vsilt_un, vcld_un)\n",
    "phid = density_porosity(rhobhc, rho_ma)\n",
    "phie = phit - vclb\n",
    "\n",
    "# Estimate water saturation\n",
    "temp_grad = estimate_temperature_gradient(well_data['DEPTH'], 'metric')  # Arbitrarily use MD instead of TVD\n",
    "water_salinity = args['sw_water_salinity']\n",
    "rw_salinity = estimate_rw_temperature_salinity(temp_grad, water_salinity)\n",
    "b = estimate_b_waxman_smits(temp_grad, rw_salinity)\n",
    "qv = estimate_qv(vcld, phit, cec_clay=.1)\n",
    "\n",
    "rt_water = estimate_rt_water_trend(well_data['RT'])\n",
    "# rw = estimate_rw_archie(phit, rt_water)\n",
    "rw = estimate_rw_waxman_smits(phit, rt_water, B=b, Qv=qv)\n",
    "\n",
    "# TODO: Implement m estimation/ based on zonation\n",
    "m = 1.85\n",
    "\n",
    "swt = waxman_smits_saturation(well_data['RT'], rw, phit, qv)\n",
    "swt_a = archie_saturation(well_data['RT'], rw, phit, 1, 2, 2)\n",
    "\n",
    "# Estimate permeability\n",
    "constant = vclb**1.75\n",
    "Swirr = constant / phit\n",
    "perm = choo_permeability(vclw, vsilt, phit)\n",
    "# perm_kc = kozeny_carman_permeability(phit, Swirr)\n",
    "# perm_t = timur_permeability(phit, Swirr)\n",
    "# perm_c = coates_permeability(phit, Swirr)\n",
    "# perm_tx = tixier_permeability(phit, Swirr)\n",
    "\n",
    "# Estimate rock types\n",
    "rock_flag = rock_typing(vclw)\n",
    "\n",
    "# Update ZONES\n",
    "well_data = sand_flagging(well_data)\n",
    "zones = well_data.ZONES\n",
    "\n",
    "# Estimate reservoir summary\n",
    "ressum_df = calc_reservoir_summary(well_data.DEPTH, vclw, phit, swt, perm, zones, cutoffs=args['ressum_cutoffs'])\n",
    "\n",
    "\n",
    "# Update data in the project\n",
    "well_data['NPHI_HC'] = nphihc\n",
    "well_data['RHOB_HC'] = rhobhc\n",
    "well_data['HC_FLAG'] = hc_flag\n",
    "well_data['VSAND'] = vsand\n",
    "well_data['VSILT'] = vsilt\n",
    "well_data['VCLB'] = vclb\n",
    "well_data['VCLD'] = vcld\n",
    "well_data['VCLW'] = vclw\n",
    "well_data['PHIT'] = phit\n",
    "well_data['PHIE'] = phie  # Temporary\n",
    "well_data['PHID'] = phid\n",
    "well_data['RW'] = rw\n",
    "well_data['B'] = b\n",
    "well_data['Qv'] = qv\n",
    "well_data['M'] = m\n",
    "well_data['SWT'] = swt\n",
    "# well_data['SWE'] = swe\n",
    "well_data['PERM'] = perm\n",
    "well_data['ROCK_FLAG'] = rock_flag\n"
   ]
  },
  {
   "cell_type": "code",
   "execution_count": null,
   "metadata": {},
   "outputs": [],
   "source": [
    "well_data['NPHI_line'] = nphi_max_line\n",
    "well_data[['NPHI', 'NPHI_line']].plot(figsize=(15, 3))"
   ]
  },
  {
   "cell_type": "code",
   "execution_count": null,
   "metadata": {},
   "outputs": [],
   "source": [
    "well_data['RHOB_line'] = rhob_max_line\n",
    "well_data[['RHOB', 'RHOB_line']].plot(figsize=(15, 3))"
   ]
  },
  {
   "cell_type": "code",
   "execution_count": null,
   "metadata": {},
   "outputs": [],
   "source": [
    "copy_args = args.copy()\n",
    "copy_args.pop('silt_line_angle')\n",
    "print(copy_args)\n",
    "neutron_density_xplot(well_data['NPHI'], well_data['RHOB'], **copy_args)"
   ]
  },
  {
   "cell_type": "code",
   "execution_count": null,
   "metadata": {},
   "outputs": [],
   "source": [
    "copy_args = args.copy()\n",
    "copy_args.pop('silt_line_angle')\n",
    "print(copy_args)\n",
    "neutron_density_xplot(nphihc, rhobhc, **copy_args)"
   ]
  },
  {
   "cell_type": "code",
   "execution_count": null,
   "metadata": {},
   "outputs": [],
   "source": [
    "test = well_data.copy()\n",
    "\n",
    "test['RT_trend'] = estimate_rt_water_trend(test['RT'], alpha=0.05)\n",
    "test['RW_archie'] = estimate_rw_archie(test['PHIT'], test['RT_trend'], m=2)\n",
    "test['RW_salinity'] = estimate_rw_temperature_salinity(temp_grad, water_salinity)\n",
    "test['RW_WS'] = estimate_rw_waxman_smits(test['PHIT'], test['RT_trend'], B=test['B'], Qv=test['Qv'])\n",
    "\n",
    "test[['RT', 'RT_trend', 'RW_salinity', 'RW_archie', 'RW_WS']].plot(figsize=(20, 3), logy=True)"
   ]
  },
  {
   "cell_type": "code",
   "execution_count": null,
   "metadata": {},
   "outputs": [],
   "source": [
    "# Plot the results\n",
    "fig = plotly_log(well_data, depth_uom=well.depth_uom)\n",
    "fig.show()"
   ]
  },
  {
   "cell_type": "code",
   "execution_count": null,
   "metadata": {},
   "outputs": [],
   "source": [
    "from quick_pp.qaqc import quick_qc\n",
    "\n",
    "test = quick_qc(well_data)\n",
    "\n",
    "plt.figure(figsize=(15,2))\n",
    "plt.plot(test['DEPTH'], test['QC_FLAG'])\n",
    "plt.show()\n",
    "\n",
    "plt.figure(figsize=(15,3))\n",
    "plt.plot(test['DEPTH'], test.SWT, label='SWT')\n",
    "plt.plot(test['DEPTH'], test.SAND_FLAG, label='SAND_FLAG')\n",
    "plt.legend()\n",
    "plt.show()\n",
    "\n",
    "plt.figure(figsize=(15,3))\n",
    "plt.plot(test['DEPTH'], test.PHIT, label='PHIT')\n",
    "# plt.plot(test['DEPTH'], test.PHID, label='PHID')\n",
    "plt.legend()\n",
    "plt.show()\n",
    "\n",
    "plt.figure(figsize=(15,3))\n",
    "plt.plot(test['DEPTH'], test.VCLW, label='VSHALE')\n",
    "plt.plot(test['DEPTH'], test.VSH_GR, label='VSH_GR')\n",
    "plt.legend()\n",
    "plt.show()"
   ]
  },
  {
   "cell_type": "code",
   "execution_count": null,
   "metadata": {},
   "outputs": [],
   "source": [
    "well = project.get_well(well_name)\n",
    "well_data = well.data\n",
    "\n",
    "min_depth = 2390\n",
    "max_depth = 4255\n",
    "well_data = well_data[(well_data.DEPTH >= min_depth) & (well_data.DEPTH <= max_depth)].copy()\n",
    "\n",
    "# Update ZONES\n",
    "test = sand_flagging(well_data)\n",
    "\n",
    "min = 2800\n",
    "max = 3150\n",
    "flag_df = test[(test.DEPTH > min) & (test.DEPTH < max)].copy()\n",
    "plt.figure(figsize=(15,2))\n",
    "plt.plot(flag_df['DEPTH'], flag_df['ZONES'])\n",
    "plt.plot(flag_df['DEPTH'], flag_df['SAND_FLAG'], label='final')\n",
    "plt.plot(flag_df['DEPTH'], flag_df['VCLW'])\n",
    "plt.legend()"
   ]
  },
  {
   "cell_type": "code",
   "execution_count": null,
   "metadata": {},
   "outputs": [],
   "source": [
    "# # Save the results to the well\n",
    "# well.update_data(well_data)\n",
    "# well.update_ressum(ressum_df)\n",
    "# project.save_well(well)"
   ]
  },
  {
   "cell_type": "code",
   "execution_count": null,
   "metadata": {},
   "outputs": [],
   "source": [
    "# project.save()"
   ]
  }
 ],
 "metadata": {
  "kernelspec": {
   "display_name": "venv310",
   "language": "python",
   "name": "python3"
  },
  "language_info": {
   "codemirror_mode": {
    "name": "ipython",
    "version": 3
   },
   "file_extension": ".py",
   "mimetype": "text/x-python",
   "name": "python",
   "nbconvert_exporter": "python",
   "pygments_lexer": "ipython3",
   "version": "3.10.9"
  }
 },
 "nbformat": 4,
 "nbformat_minor": 2
}
