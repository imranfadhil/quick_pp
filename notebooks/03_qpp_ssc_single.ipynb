{
 "cells": [
  {
   "cell_type": "code",
   "execution_count": null,
   "metadata": {},
   "outputs": [],
   "source": [
    "import sys\n",
    "sys.path.append('..')\n",
    "%load_ext autoreload\n",
    "%autoreload 2\n",
    "%matplotlib inline"
   ]
  },
  {
   "cell_type": "code",
   "execution_count": null,
   "metadata": {},
   "outputs": [],
   "source": [
    "from quick_pp.objects import Project\n",
    "\n",
    "# Load well from saved file\n",
    "project = \"MOCK_clastic\"\n",
    "project_path = rf\"data\\04_project\\{project}.qppp\"\n",
    "project = Project().load(project_path)\n",
    "project.get_well_names()"
   ]
  },
  {
   "cell_type": "code",
   "execution_count": null,
   "metadata": {},
   "outputs": [],
   "source": [
    "# Load data\n",
    "well_name = '15-9-F-11-A'\n",
    "well = project.get_well(well_name)\n",
    "well_data = well.data.copy()\n",
    "well_data.columns = well_data.columns.str.replace('LFP_', '')"
   ]
  },
  {
   "cell_type": "markdown",
   "metadata": {},
   "source": [
    "# Quick PP Interpretation"
   ]
  },
  {
   "cell_type": "code",
   "execution_count": null,
   "metadata": {},
   "outputs": [],
   "source": [
    "from quick_pp.lithology.sand_silt_clay import SandSiltClay\n",
    "from quick_pp.porosity import neu_den_xplot_poro, density_porosity, rho_matrix, normalize_volumetric, clay_porosity\n",
    "from quick_pp.qaqc import *\n",
    "from quick_pp.saturation import *\n",
    "from quick_pp.plotter.plotter import *\n",
    "from quick_pp.permeability import *\n",
    "from quick_pp.ressum import *\n",
    "from quick_pp.rock_type import rock_typing, estimate_vsh_gr\n",
    "from quick_pp.plotter.plotter import plotly_log\n",
    "from quick_pp.utils import zone_flagging, min_max_line"
   ]
  },
  {
   "cell_type": "markdown",
   "metadata": {},
   "source": [
    "## Estimate Litholoy"
   ]
  },
  {
   "cell_type": "code",
   "execution_count": null,
   "metadata": {},
   "outputs": [],
   "source": [
    "# Clean up data\n",
    "well_data = badhole_flagging(well_data)\n",
    "well_data = mask_outside_threshold(well_data, fill=True)\n",
    "\n",
    "# Initialize lithology model\n",
    "args = {\n",
    "    'litho_model': 'ssc',\n",
    "    # 'dry_clay_point': (.3, 2.7),\n",
    "    'silt_line_angle': 116,\n",
    "    'wet_clay_point': (0.45, 2.45),\n",
    "    'sw_water_salinity': 15000,\n",
    "    'sw_m': 1.85,\n",
    "    'sw_n': 1.85,\n",
    "    'hc_corr_angle': 50,\n",
    "    'hc_buffer': 0.01,\n",
    "    'ressum_cutoffs': dict(\n",
    "        VSHALE=.5,\n",
    "        PHIT=0,\n",
    "        SWT=1\n",
    "    ),\n",
    "}\n",
    "ssc_model = SandSiltClay(**args)\n",
    "vsand, vsilt, vcld, (nphi_max_line, rhob_max_line) = ssc_model.estimate_lithology(\n",
    "    nphi=well_data['NPHI'], rhob=well_data['RHOB']\n",
    ")\n",
    "args.update(ssc_model.__dict__)\n",
    "well.update_config(args)  # Save lithology model to well\n",
    "\n",
    "# Implement hydrocarbon correction\n",
    "vsh_gr = estimate_vsh_gr(well_data['GR'], min_gr=0, max_gr=140)\n",
    "nphihc, rhobhc, hc_flag = neu_den_xplot_hc_correction(\n",
    "    well_data['NPHI'], well_data['RHOB'], vsh_gr=vsh_gr,\n",
    "    dry_min1_point=args['dry_sand_point'],\n",
    "    dry_clay_point=args['dry_clay_point'],\n",
    "    corr_angle=args['hc_corr_angle'], buffer=args['hc_buffer']\n",
    ")\n",
    "\n",
    "# Correct density log\n",
    "rhob_corr = den_correction(nphihc, well_data['GR'], vsh_gr=vsh_gr, alpha=0.1)\n",
    "badhole_flag =  np.where(abs(well_data['RHOB'] - rhob_corr) > 0.2, 1, 0)\n",
    "rhob_corr = np.where((badhole_flag == 1) & (hc_flag == 0), rhob_corr, rhobhc)\n",
    "\n",
    "# Estimate lithology\n",
    "ssc_model = SandSiltClay(**args)\n",
    "vsand, vsilt, vcld, (nphi_max_line, rhob_max_line) = ssc_model.estimate_lithology(\n",
    "    nphi=nphihc, rhob=rhob_corr,\n",
    ")\n",
    "\n",
    "# Update ZONES\n",
    "well_data = zone_flagging(well_data)\n",
    "zones = well_data.ZONES"
   ]
  },
  {
   "cell_type": "code",
   "execution_count": null,
   "metadata": {},
   "outputs": [],
   "source": [
    "corr_angle = neu_den_xplot_hc_correction_angle(rho_water=1.0, rho_hc=0.8, HI_hc=0.9)\n",
    "corr_angle"
   ]
  },
  {
   "cell_type": "code",
   "execution_count": null,
   "metadata": {},
   "outputs": [],
   "source": [
    "neutron_density_xplot(well_data['NPHI'], well_data['RHOB'], dry_min1_point=args['dry_sand_point'], **args)"
   ]
  },
  {
   "cell_type": "code",
   "execution_count": null,
   "metadata": {},
   "outputs": [],
   "source": [
    "neutron_density_xplot(nphihc, rhobhc, dry_min1_point=args['dry_sand_point'], **args)"
   ]
  },
  {
   "cell_type": "code",
   "execution_count": null,
   "metadata": {},
   "outputs": [],
   "source": [
    "from quick_pp.rock_type import estimate_vsh_gr\n",
    "vsh_gr_1 = estimate_vsh_gr(well_data['GR'], alpha=0.1)\n",
    "vsh_gr_2 = estimate_vsh_gr(well_data['GR'], min_gr=0, max_gr=140)\n",
    "\n",
    "fig, axs = plt.subplots(2, 1, figsize=(20, 3), sharex=True)\n",
    "\n",
    "axs[0].plot(well_data.DEPTH, vsh_gr_1, label='vsh_gr_1')\n",
    "axs[0].plot(well_data.DEPTH, vsh_gr_2, label='vsh_gr_2')\n",
    "axs[0].legend()\n",
    "\n",
    "axs[1].plot(well_data.DEPTH, well_data['GR'], label='GR')\n",
    "axs[1].legend()"
   ]
  },
  {
   "cell_type": "code",
   "execution_count": null,
   "metadata": {},
   "outputs": [],
   "source": [
    "# Specify depth of interest\n",
    "min_depth = well_data.DEPTH.min()\n",
    "max_depth = well_data.DEPTH.max()"
   ]
  },
  {
   "cell_type": "code",
   "execution_count": null,
   "metadata": {},
   "outputs": [],
   "source": [
    "# Density correction based on VSH_GR\n",
    "\n",
    "plt.figure(figsize=(20, 2))\n",
    "plt.plot(well_data.DEPTH, rhob_corr, label='rhob_corr')\n",
    "plt.plot(well_data.DEPTH, well_data['RHOB'], label='RHOB')\n",
    "plt.plot(well_data.DEPTH, rhobhc, label='RHOB_HC')\n",
    "plt.legend(bbox_to_anchor=(1.04, 1), loc=\"upper left\")\n",
    "plt.xlim(min_depth, max_depth)\n",
    "\n",
    "plt.figure(figsize=(20, 2))\n",
    "plt.plot(well_data.DEPTH, well_data['NPHI'], label='NPHI')\n",
    "plt.plot(well_data.DEPTH, nphihc, label='NPHI_HC')\n",
    "plt.legend(bbox_to_anchor=(1.04, 1), loc=\"upper left\")\n",
    "plt.xlim(min_depth, max_depth)\n",
    "\n",
    "plt.figure(figsize=(20, 2))\n",
    "plt.plot(well_data.DEPTH, badhole_flag, label='badhole_flag')\n",
    "plt.legend(bbox_to_anchor=(1.04, 1), loc=\"upper left\")\n",
    "plt.xlim(min_depth, max_depth)"
   ]
  },
  {
   "cell_type": "markdown",
   "metadata": {},
   "source": [
    "## Estimate Porosity"
   ]
  },
  {
   "cell_type": "code",
   "execution_count": null,
   "metadata": {},
   "outputs": [],
   "source": [
    "args"
   ]
  },
  {
   "cell_type": "code",
   "execution_count": null,
   "metadata": {},
   "outputs": [],
   "source": [
    "# Estimate porosity\n",
    "phit = neu_den_xplot_poro(\n",
    "    nphihc, rhob_corr, model='ssc',\n",
    "    dry_min1_point=args['dry_sand_point'],\n",
    "    dry_silt_point=args['dry_silt_point'],\n",
    "    dry_clay_point=args['dry_clay_point'],\n",
    ")\n",
    "\n",
    "rho_ma = rho_matrix(vsand, vsilt, vcld)\n",
    "phid = density_porosity(rhob_corr, rho_ma)\n",
    "\n",
    "# Normalize lithology\n",
    "volumes = dict(\n",
    "    vcld=vcld, vsand=vsand, vsilt=vsilt\n",
    ")\n",
    "volumes = normalize_volumetric(phit, **volumes)\n",
    "vcld, vsand, vsilt = volumes['vcld'], volumes['vsand'], volumes['vsilt']\n",
    "\n",
    "# Calculate vclb: volume of clay bound water and phie\n",
    "clay_phit = clay_porosity(rhob_corr, args['dry_clay_point'][1])\n",
    "vclb = vcld * clay_phit\n",
    "vclw = vcld + vclb\n",
    "\n",
    "phie = phit - vclb\n",
    "\n",
    "# Estimate rock types\n",
    "rock_flag = rock_typing(vclw, higher_is_better=False)"
   ]
  },
  {
   "cell_type": "code",
   "execution_count": null,
   "metadata": {},
   "outputs": [],
   "source": [
    "phit = neu_den_xplot_poro(\n",
    "    nphihc, rhob_corr, model='ssc',\n",
    "    dry_min1_point=args['dry_sand_point'],\n",
    "    dry_silt_point=args['dry_silt_point'],\n",
    "    dry_clay_point=args['dry_clay_point'],\n",
    ")\n",
    "\n",
    "plt.figure(figsize=(20, 2))\n",
    "plt.plot(well_data.DEPTH, phit, label='PHIT')\n",
    "plt.plot(well_data.DEPTH, phid, label='PHID')\n",
    "plt.plot(well_data.DEPTH, phie, label='PHIE')\n",
    "plt.legend(bbox_to_anchor=(1.04, 1), loc=\"upper left\")\n",
    "plt.xlim(min_depth, max_depth)\n",
    "plt.ylim(0, 0.5)"
   ]
  },
  {
   "cell_type": "markdown",
   "metadata": {},
   "source": [
    "## Estimate Permeability"
   ]
  },
  {
   "cell_type": "code",
   "execution_count": null,
   "metadata": {},
   "outputs": [],
   "source": [
    "import matplotlib.ticker as ticker\n",
    "\n",
    "# Estimate permeability\n",
    "perm = choo_permeability(vclw, vsilt, phit,  B=6, A=5e6)\n",
    "Swirr = np.where(\n",
    "    rock_flag == 1, 0.005, np.where(\n",
    "        rock_flag == 2, 0.2, np.where(\n",
    "            rock_flag == 3, 0.3, 1\n",
    "        )\n",
    "    )\n",
    ")\n",
    "perm_kc = kozeny_carman_permeability(phit, S=.5)\n",
    "perm_t = timur_permeability(phit, Swirr)\n",
    "perm_c = coates_permeability(phit, Swirr, a=.5)\n",
    "perm_tx = tixier_permeability(phit, Swirr)\n",
    "\n",
    "# Plotting\n",
    "fig, ax = plt.subplots(figsize=(20, 3))\n",
    "ax.plot(well_data.DEPTH, perm, label='Choo')\n",
    "ax.plot(well_data.DEPTH, perm_kc, label='KC')\n",
    "ax.plot(well_data.DEPTH, perm_t, label='Timur')\n",
    "ax.plot(well_data.DEPTH, perm_c, label='Coates')\n",
    "ax.plot(well_data.DEPTH, perm_tx, label='Tixier')\n",
    "ax.set_frame_on(False)\n",
    "ax.set_yscale('log')\n",
    "ax.set_ylim(1e-2, 1e5)\n",
    "ax.yaxis.set_major_formatter(ticker.FuncFormatter(\n",
    "    lambda x, pos: ('{{:.{:1d}f}}'.format(int(np.maximum(-np.log10(x), 0)))).format(x)))\n",
    "ax.set_xlim(min_depth, max_depth)\n",
    "ax.legend(bbox_to_anchor=(1.04, 1), loc=\"upper left\")"
   ]
  },
  {
   "cell_type": "markdown",
   "metadata": {},
   "source": [
    "## Estimate Water Saturation"
   ]
  },
  {
   "cell_type": "code",
   "execution_count": null,
   "metadata": {},
   "outputs": [],
   "source": [
    "# Debug water saturation\n",
    "water_salinity = 15000\n",
    "m = args['sw_m']\n",
    "\n",
    "temp_grad = estimate_temperature_gradient(well_data['DEPTH'], 'metric')\n",
    "rw_archie = estimate_rw_archie(phit, well_data['RT'], m=m)\n",
    "rw_shale = estimate_rw_from_shale_trend(well_data['RT'], phit, m=1.2)\n",
    "rw = estimate_rw_temperature_salinity(temp_grad, water_salinity)\n",
    "\n",
    "b_archie = estimate_b_waxman_smits(temp_grad, rw_archie)\n",
    "b = estimate_b_waxman_smits(temp_grad, rw)\n",
    "\n",
    "qv = estimate_qv(vcld, phit, cec_clay=.1)\n",
    "\n",
    "swt_sal = waxman_smits_saturation(well_data['RT'], rw, phit, qv, m=m)\n",
    "swt_ws_pickett = waxman_smits_saturation(well_data['RT'], .3, phit, qv)\n",
    "swt_ws = waxman_smits_saturation(well_data['RT'], rw_shale, phit, qv)\n",
    "sw_connectivity = connectivity_saturation(well_data['RT'], rw, phit, mu=1.6, chi_w=0.02).clip(0, 2.0)\n",
    "\n",
    "swb = .005\n",
    "rwb = .005\n",
    "sw_dual = dual_water_saturation(well_data['RT'], rw, phit, 1, m, 2, swb, rwb)\n",
    "\n",
    "# Plotting\n",
    "fig, (ax1, ax2, ax3, ax4) = plt.subplots(nrows=4, sharex=True, figsize=(20, 7))\n",
    "\n",
    "ax1.plot(well_data.DEPTH, qv, label='Qv')\n",
    "ax1.set_ylim(0, 10)\n",
    "ax1.legend()\n",
    "\n",
    "ax2.plot(well_data.DEPTH, b, label='b')\n",
    "ax2.plot(well_data.DEPTH, b_archie, label='b_archie')\n",
    "ax2.legend()\n",
    "\n",
    "ax3.plot(well_data.DEPTH, well_data['RT'], label='RT')\n",
    "ax3.plot(well_data.DEPTH, rw, label='rw')\n",
    "# ax3.plot(well_data.DEPTH, rw_archie, label='rw_archie')\n",
    "ax3.plot(well_data.DEPTH, rw_shale, label='rw_shale')\n",
    "ax3.set_yscale('log')\n",
    "ax3.legend()\n",
    "\n",
    "ax4.plot(well_data.DEPTH, swt_sal, label='SWT_salinity')\n",
    "ax4.plot(well_data.DEPTH, swt_ws, label='SWT')\n",
    "ax4.plot(well_data.DEPTH, swt_ws_pickett, label='SWT_ws_pickett')\n",
    "ax4.plot(well_data.DEPTH, sw_connectivity, label='SW_connectivity')\n",
    "ax4.plot(well_data.DEPTH, sw_dual, label='SW_dual_water_model')\n",
    "ax4.set_ylim(0, 1.5)\n",
    "ax4.legend()\n",
    "\n",
    "ax4.set_xlim(min_depth, max_depth)\n",
    "fig.tight_layout()"
   ]
  },
  {
   "cell_type": "code",
   "execution_count": null,
   "metadata": {},
   "outputs": [],
   "source": [
    "from quick_pp.saturation import pickett_plot\n",
    "\n",
    "# Pickett plot\n",
    "water_zone = well_data.copy()\n",
    "water_zone['PHIT'] = phit\n",
    "water_zone = water_zone[(water_zone.DEPTH > 3995) & (water_zone.DEPTH < 4010)]\n",
    "fig = pickett_plot(water_zone.RT, water_zone.PHIT, m=1.85, min_rw=.1)"
   ]
  },
  {
   "cell_type": "markdown",
   "metadata": {},
   "source": [
    "## QAQC Result"
   ]
  },
  {
   "cell_type": "code",
   "execution_count": null,
   "metadata": {},
   "outputs": [],
   "source": [
    "# Update data in the project\n",
    "well_data['NPHI_HC'] = nphihc\n",
    "well_data['RHOB_HC'] = rhobhc\n",
    "well_data['RHOB_CORR'] = rhob_corr\n",
    "well_data['HC_FLAG'] = hc_flag\n",
    "well_data['VSAND'] = vsand\n",
    "well_data['VSILT'] = vsilt\n",
    "well_data['VCLB'] = vclb\n",
    "well_data['VCLD'] = vcld\n",
    "well_data['VCLW'] = vclw\n",
    "well_data['PHIT'] = phit\n",
    "well_data['PHIE'] = phie\n",
    "well_data['PHID'] = phid\n",
    "well_data['RW'] = rw\n",
    "well_data['B'] = b\n",
    "well_data['Qv'] = qv\n",
    "well_data['M'] = args['sw_m']\n",
    "well_data['SWT'] = swt_sal.clip(0, 1)\n",
    "# well_data['SWE'] = swe\n",
    "well_data['BVW'] = swt_sal.clip(0, 1) * phie\n",
    "well_data['PERM'] = perm\n",
    "# well_data['CPERM'] = perm\n",
    "well_data['ROCK_FLAG'] = rock_flag\n",
    "well_data['VHC'] = (phit * (1 - swt_sal)).clip(0, 1)\n",
    "well_data['BADHOLE'] = badhole_flag\n",
    "well_data['VSH_GR'] = vsh_gr"
   ]
  },
  {
   "cell_type": "code",
   "execution_count": null,
   "metadata": {},
   "outputs": [],
   "source": [
    "# Estimate reservoir summary\n",
    "ressum_df = calc_reservoir_summary(well_data.DEPTH, vclw, phit, swt_sal, perm, zones, cutoffs=args['ressum_cutoffs'])"
   ]
  },
  {
   "cell_type": "code",
   "execution_count": null,
   "metadata": {},
   "outputs": [],
   "source": [
    "from quick_pp.qaqc import quick_qc\n",
    "\n",
    "test, summary_df, dist_fig, depth_fig = quick_qc(well_data, return_fig=True)\n",
    "\n",
    "dist_fig.show()\n",
    "depth_fig.show()"
   ]
  },
  {
   "cell_type": "markdown",
   "metadata": {},
   "source": [
    "## Final Result"
   ]
  },
  {
   "cell_type": "code",
   "execution_count": null,
   "metadata": {},
   "outputs": [],
   "source": [
    "# Plot the results\n",
    "# well_data.drop(columns=['VOIL', 'VGAS'], errors='ignore', inplace=True)\n",
    "fig = plotly_log(well_data, well_name=well_name, depth_uom=well.depth_uom)\n",
    "fig.show(config=dict(scrollZoom=True))\n",
    "# fig.write_html(rf\"{well_name}_log.html\", config=dict(scrollZoom=True))"
   ]
  },
  {
   "cell_type": "code",
   "execution_count": null,
   "metadata": {},
   "outputs": [],
   "source": [
    "# # Save the results to the well\n",
    "# well.update_data(well_data)\n",
    "# well.update_ressum(ressum_df)\n",
    "# project.save_well(well)"
   ]
  },
  {
   "cell_type": "code",
   "execution_count": null,
   "metadata": {},
   "outputs": [],
   "source": [
    "# project.save()"
   ]
  }
 ],
 "metadata": {
  "kernelspec": {
   "display_name": ".venv",
   "language": "python",
   "name": "python3"
  },
  "language_info": {
   "codemirror_mode": {
    "name": "ipython",
    "version": 3
   },
   "file_extension": ".py",
   "mimetype": "text/x-python",
   "name": "python",
   "nbconvert_exporter": "python",
   "pygments_lexer": "ipython3",
   "version": "3.11.0"
  }
 },
 "nbformat": 4,
 "nbformat_minor": 2
}
